{
 "cells": [
  {
   "cell_type": "code",
   "execution_count": 7,
   "id": "6ed22d4b-52e9-49fe-b012-057b9a7e654f",
   "metadata": {},
   "outputs": [],
   "source": [
    "import csv"
   ]
  },
  {
   "cell_type": "code",
   "execution_count": 2,
   "id": "efc1ce37-dd9c-4f14-96f0-4de12b7d3bd7",
   "metadata": {},
   "outputs": [],
   "source": [
    "fileName = './csv_files/Arquin_Subjects_Export.csv'\n",
    "output_file = './csv_files/arquin_separated_subjects.csv'"
   ]
  },
  {
   "cell_type": "code",
   "execution_count": 3,
   "id": "24fba8d1-08ad-4bf3-b63e-a494951d85e6",
   "metadata": {},
   "outputs": [],
   "source": [
    "#read in the file\n",
    "\n",
    "with open(fileName, 'r') as f:\n",
    "    next(f)\n",
    "    data = csv.reader(f)\n",
    "    dataList = list(data)   \n"
   ]
  },
  {
   "cell_type": "code",
   "execution_count": 4,
   "id": "88d12910-e11b-471e-bf0d-ebd47f67af23",
   "metadata": {},
   "outputs": [],
   "source": [
    "subjects_separated = []"
   ]
  },
  {
   "cell_type": "code",
   "execution_count": 5,
   "id": "e819cc99-53a5-4524-9364-79ea48a384e2",
   "metadata": {},
   "outputs": [],
   "source": [
    "for i, v in enumerate(dataList):\n",
    "    for sub_index, subject in enumerate(v[1].split(',')):\n",
    "        subjects_separated.append([v[0], sub_index, subject.strip()]) \n"
   ]
  },
  {
   "cell_type": "code",
   "execution_count": 6,
   "id": "6647be60-1036-4c0e-b115-c579c85ac2e7",
   "metadata": {},
   "outputs": [],
   "source": [
    "with open(output_file, 'w') as f:  \n",
    "    writer = csv.writer(f)\n",
    "    writer.writerows(subjects_separated)"
   ]
  }
 ],
 "metadata": {
  "kernelspec": {
   "name": "python3",
   "language": "python",
   "display_name": "Python 3"
  },
  "language_info": {
   "codemirror_mode": {
    "name": "ipython",
    "version": 3
   },
   "file_extension": ".py",
   "mimetype": "text/x-python",
   "name": "python",
   "nbconvert_exporter": "python",
   "pygments_lexer": "ipython3",
   "version": "3.7.12"
  }
 },
 "nbformat": 4,
 "nbformat_minor": 5
}