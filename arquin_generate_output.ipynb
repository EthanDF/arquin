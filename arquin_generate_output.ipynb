{
 "cells": [
  {
   "cell_type": "markdown",
   "id": "2c8e00c2",
   "metadata": {
    "pycharm": {
     "name": "#%% md\n"
    }
   },
   "source": [
    "# Generate Output\n",
    "This notebook will read in the metadata from the [Arquin Spreadsheet](https://docs.google.com/spreadsheets/d/1LRbios7yQRo3aqCh0Es2Wiae_dicg_OtL-_yqP-Tb8I/edit#gid=1718343431) and product an output for ingestion into Omeka "
   ]
  },
  {
   "cell_type": "code",
   "execution_count": 2,
   "id": "00635c77",
   "metadata": {
    "pycharm": {
     "name": "#%%\n"
    }
   },
   "outputs": [],
   "source": [
    "url = 'https://docs.google.com/spreadsheets/d/1LRbios7yQRo3aqCh0Es2Wiae_dicg_OtL-_yqP-Tb8I/edit#gid=1718343431'"
   ]
  },
  {
   "cell_type": "markdown",
   "id": "8eb162bb",
   "metadata": {
    "pycharm": {
     "name": "#%% md\n"
    }
   },
   "source": [
    "## import libraries"
   ]
  },
  {
   "cell_type": "code",
   "execution_count": 3,
   "id": "54fa3b79",
   "metadata": {
    "pycharm": {
     "name": "#%%\n"
    }
   },
   "outputs": [],
   "source": [
    "from IPython.display import clear_output\n",
    "import pandas as pd\n",
    "from pandas import Series\n",
    "import numpy as np\n",
    "import re\n",
    "import csv\n",
    "from gsheets import Sheets\n",
    "from datetime import datetime"
   ]
  },
  {
   "cell_type": "code",
   "execution_count": 4,
   "id": "3b6dd4b8",
   "metadata": {
    "pycharm": {
     "name": "#%%\n"
    }
   },
   "outputs": [],
   "source": [
    "%run functions.ipynb"
   ]
  },
  {
   "cell_type": "markdown",
   "id": "543b0831",
   "metadata": {
    "pycharm": {
     "name": "#%% md\n"
    }
   },
   "source": [
    "## Load the spreadsheet information"
   ]
  },
  {
   "cell_type": "code",
   "execution_count": 5,
   "id": "65026ed0",
   "metadata": {
    "pycharm": {
     "name": "#%%\n"
    }
   },
   "outputs": [],
   "source": [
    "# if HttpAccessTokenRefreshError, close everything and start over\n",
    "sheets = Sheets.from_files('~/client_secrets.json', '~/storage.json')\n",
    "s = sheets.get(url)"
   ]
  },
  {
   "cell_type": "markdown",
   "id": "ec9e2b8d",
   "metadata": {
    "pycharm": {
     "name": "#%% md\n"
    }
   },
   "source": [
    "## This is testing to figure out how to get all the data where it needs to go!"
   ]
  },
  {
   "cell_type": "markdown",
   "id": "eb3be5bb",
   "metadata": {
    "pycharm": {
     "name": "#%% md\n"
    }
   },
   "source": [
    "### Get the list of Identifiers by Box Number"
   ]
  },
  {
   "cell_type": "code",
   "execution_count": 6,
   "id": "3967436f",
   "metadata": {
    "pycharm": {
     "name": "#%%\n"
    }
   },
   "outputs": [],
   "source": [
    "# get the list of boxes containing metadata\n",
    "\n",
    "box_list = []\n",
    "box_list_sheets = s.sheets.titles()\n",
    "\n",
    "for b in box_list_sheets:\n",
    "    if 'Box' in b:\n",
    "        box_list.append(int(b[4:]))"
   ]
  },
  {
   "cell_type": "code",
   "execution_count": null,
   "id": "e48d903e",
   "metadata": {
    "pycharm": {
     "name": "#%%\n"
    }
   },
   "outputs": [],
   "source": [
    "box_list"
   ]
  },
  {
   "cell_type": "code",
   "execution_count": 8,
   "id": "3e0ecc72",
   "metadata": {
    "pycharm": {
     "name": "#%%\n"
    }
   },
   "outputs": [],
   "source": [
    "x = return_box(box_list[0])"
   ]
  },
  {
   "cell_type": "code",
   "execution_count": null,
   "outputs": [],
   "source": [
    "# concepts[concepts['join_concept'].notna()]\n",
    "'''strip leading and trailing space'''\n",
    " \n",
    "x['title'] = x['title'].str.strip()"
   ],
   "metadata": {
    "collapsed": false,
    "pycharm": {
     "name": "#%%\n"
    }
   }
  },
  {
   "cell_type": "markdown",
   "source": [
    "### Get the title translations\n",
    "from Box 'unique_titles'"
   ],
   "metadata": {
    "collapsed": false,
    "pycharm": {
     "name": "#%% md\n"
    }
   }
  },
  {
   "cell_type": "code",
   "execution_count": null,
   "outputs": [],
   "source": [
    "title_translations = s.find('unique_titles').to_frame()"
   ],
   "metadata": {
    "collapsed": false,
    "pycharm": {
     "name": "#%%\n"
    }
   }
  },
  {
   "cell_type": "code",
   "execution_count": null,
   "outputs": [],
   "source": [
    "title_translations"
   ],
   "metadata": {
    "collapsed": false,
    "pycharm": {
     "name": "#%%\n"
    }
   }
  },
  {
   "cell_type": "code",
   "execution_count": null,
   "outputs": [],
   "source": [
    "box_with_trans = x.merge(title_translations, how='left', left_on='title', right_on='Title', indicator=True)"
   ],
   "metadata": {
    "collapsed": false,
    "pycharm": {
     "name": "#%%\n"
    }
   }
  },
  {
   "cell_type": "code",
   "execution_count": null,
   "outputs": [],
   "source": [
    "box_with_trans[['identifier', 'media', 'title'\n",
    "    ,'Spanish (from Google)' \n",
    "    ,'Translation ES', 'Portuguese(from Google)', 'Translation PT', '_merge'\n",
    "]]"
   ],
   "metadata": {
    "collapsed": false,
    "pycharm": {
     "name": "#%%\n"
    }
   }
  },
  {
   "cell_type": "code",
   "execution_count": null,
   "outputs": [],
   "source": [
    "%run arquin_metadata_subjects_review_final.ipynb"
   ],
   "metadata": {
    "collapsed": false,
    "pycharm": {
     "name": "#%%\n"
    }
   }
  },
  {
   "cell_type": "code",
   "execution_count": null,
   "outputs": [],
   "source": [
    "box_with_trans[box_with_trans['identifier']=='A-1 02'][['identifier', 'media', 'title'\n",
    "    ,'Spanish (from Google)' \n",
    "    ,'Translation ES', 'Portuguese(from Google)', 'Translation PT'\n",
    "                                                        ,\n",
    "]]"
   ],
   "metadata": {
    "collapsed": false,
    "pycharm": {
     "name": "#%%\n"
    }
   }
  },
  {
   "cell_type": "code",
   "execution_count": null,
   "outputs": [],
   "source": [
    "x[x['identifier']=='A-1 02'][['title']]"
   ],
   "metadata": {
    "collapsed": false,
    "pycharm": {
     "name": "#%%\n"
    }
   }
  },
  {
   "cell_type": "code",
   "execution_count": null,
   "outputs": [],
   "source": [
    "df[df['identifier']== 'A-1 02']"
   ],
   "metadata": {
    "collapsed": false,
    "pycharm": {
     "name": "#%%\n"
    }
   }
  },
  {
   "cell_type": "code",
   "execution_count": null,
   "outputs": [],
   "source": [
    "box_with_trans[box_with_trans['identifier']=='A-1 02']"
   ],
   "metadata": {
    "collapsed": false,
    "pycharm": {
     "name": "#%%\n"
    }
   }
  },
  {
   "cell_type": "code",
   "execution_count": null,
   "outputs": [],
   "source": [
    "box_with_trans_and_subjects = box_with_trans.merge(df, on=['media'])"
   ],
   "metadata": {
    "collapsed": false,
    "pycharm": {
     "name": "#%%\n"
    }
   }
  },
  {
   "cell_type": "code",
   "execution_count": null,
   "outputs": [],
   "source": [
    "box_with_trans_and_subjects[box_with_trans_and_subjects['identifier_x']=='A-1 02']"
   ],
   "metadata": {
    "collapsed": false,
    "pycharm": {
     "name": "#%%\n"
    }
   }
  },
  {
   "cell_type": "code",
   "execution_count": 85,
   "id": "b25523ae",
   "metadata": {},
   "outputs": [
    {
     "name": "stdout",
     "output_type": "stream",
     "text": [
      "16221 of 16222: search_media = Arquin_069_0217.jpg\n"
     ]
    }
   ],
   "source": [
    "%run arquin_metadata_subjects_review_final.ipynb"
   ]
  },
  {
   "cell_type": "code",
   "execution_count": 97,
   "id": "26f1e12e",
   "metadata": {},
   "outputs": [
    {
     "data": {
      "text/html": [
       "<div>\n",
       "<style scoped>\n",
       "    .dataframe tbody tr th:only-of-type {\n",
       "        vertical-align: middle;\n",
       "    }\n",
       "\n",
       "    .dataframe tbody tr th {\n",
       "        vertical-align: top;\n",
       "    }\n",
       "\n",
       "    .dataframe thead th {\n",
       "        text-align: right;\n",
       "    }\n",
       "</style>\n",
       "<table border=\"1\" class=\"dataframe\">\n",
       "  <thead>\n",
       "    <tr style=\"text-align: right;\">\n",
       "      <th></th>\n",
       "      <th>identifier</th>\n",
       "      <th>media</th>\n",
       "      <th>title</th>\n",
       "      <th>Spanish (from Google)</th>\n",
       "      <th>Translation ES</th>\n",
       "      <th>Portuguese(from Google)</th>\n",
       "      <th>Translation PT</th>\n",
       "    </tr>\n",
       "  </thead>\n",
       "  <tbody>\n",
       "    <tr>\n",
       "      <th>0</th>\n",
       "      <td>A-1 02</td>\n",
       "      <td>A-1_Arquin_001_0002.jpg</td>\n",
       "      <td>Ostend Gate, The Ezelpoort</td>\n",
       "      <td>Ostend Gate, el Ezelpoort</td>\n",
       "      <td>NaN</td>\n",
       "      <td>OSTEND GATE, O EZELPOORT</td>\n",
       "      <td>NaN</td>\n",
       "    </tr>\n",
       "  </tbody>\n",
       "</table>\n",
       "</div>"
      ],
      "text/plain": [
       "  identifier                    media                       title  \\\n",
       "0     A-1 02  A-1_Arquin_001_0002.jpg  Ostend Gate, The Ezelpoort   \n",
       "\n",
       "       Spanish (from Google)  Translation ES   Portuguese(from Google)  \\\n",
       "0  Ostend Gate, el Ezelpoort             NaN  OSTEND GATE, O EZELPOORT   \n",
       "\n",
       "   Translation PT  \n",
       "0             NaN  "
      ]
     },
     "execution_count": 97,
     "metadata": {},
     "output_type": "execute_result"
    }
   ],
   "source": [
    "box_with_trans[box_with_trans['identifier']=='A-1 02'][['identifier', 'media', 'title'\n",
    "    ,'Spanish (from Google)' \n",
    "    ,'Translation ES', 'Portuguese(from Google)', 'Translation PT'\n",
    "                                                        ,\n",
    "]]"
   ]
  },
  {
   "cell_type": "code",
   "execution_count": 88,
   "id": "c7853318",
   "metadata": {},
   "outputs": [
    {
     "data": {
      "text/html": [
       "<div>\n",
       "<style scoped>\n",
       "    .dataframe tbody tr th:only-of-type {\n",
       "        vertical-align: middle;\n",
       "    }\n",
       "\n",
       "    .dataframe tbody tr th {\n",
       "        vertical-align: top;\n",
       "    }\n",
       "\n",
       "    .dataframe thead th {\n",
       "        text-align: right;\n",
       "    }\n",
       "</style>\n",
       "<table border=\"1\" class=\"dataframe\">\n",
       "  <thead>\n",
       "    <tr style=\"text-align: right;\">\n",
       "      <th></th>\n",
       "      <th>title</th>\n",
       "    </tr>\n",
       "  </thead>\n",
       "  <tbody>\n",
       "    <tr>\n",
       "      <th>0</th>\n",
       "      <td>Ostend Gate, The Ezelpoort</td>\n",
       "    </tr>\n",
       "  </tbody>\n",
       "</table>\n",
       "</div>"
      ],
      "text/plain": [
       "                        title\n",
       "0  Ostend Gate, The Ezelpoort"
      ]
     },
     "execution_count": 88,
     "metadata": {},
     "output_type": "execute_result"
    }
   ],
   "source": [
    "x[x['identifier']=='A-1 02'][['title']]"
   ]
  },
  {
   "cell_type": "code",
   "execution_count": 98,
   "id": "301dbb9c",
   "metadata": {},
   "outputs": [
    {
     "data": {
      "text/html": [
       "<div>\n",
       "<style scoped>\n",
       "    .dataframe tbody tr th:only-of-type {\n",
       "        vertical-align: middle;\n",
       "    }\n",
       "\n",
       "    .dataframe tbody tr th {\n",
       "        vertical-align: top;\n",
       "    }\n",
       "\n",
       "    .dataframe thead th {\n",
       "        text-align: right;\n",
       "    }\n",
       "</style>\n",
       "<table border=\"1\" class=\"dataframe\">\n",
       "  <thead>\n",
       "    <tr style=\"text-align: right;\">\n",
       "      <th></th>\n",
       "      <th>identifier</th>\n",
       "      <th>media</th>\n",
       "      <th>title</th>\n",
       "      <th>subject</th>\n",
       "      <th>description</th>\n",
       "      <th>creator</th>\n",
       "      <th>publisher</th>\n",
       "      <th>date</th>\n",
       "      <th>rights</th>\n",
       "      <th>language</th>\n",
       "      <th>...</th>\n",
       "      <th>QUALIFIER</th>\n",
       "      <th>TERM_TYPE</th>\n",
       "      <th>PART_OF_SPEECH</th>\n",
       "      <th>LANG_STAT</th>\n",
       "      <th>full_concept</th>\n",
       "      <th>use_concept</th>\n",
       "      <th>BoxId</th>\n",
       "      <th>Unnamed: 0</th>\n",
       "      <th>color</th>\n",
       "      <th>RGB</th>\n",
       "    </tr>\n",
       "  </thead>\n",
       "  <tbody>\n",
       "    <tr>\n",
       "      <th>0</th>\n",
       "      <td>A-1 02</td>\n",
       "      <td>A-1_Arquin_001_0002.jpg</td>\n",
       "      <td>Ostend Gate, The Ezelpoort</td>\n",
       "      <td>water gates, arch bridges, canals (waterways)</td>\n",
       "      <td>Ostend Gate (Donkey's Gate) - 13th Century.</td>\n",
       "      <td>Florence Arquin, photographer</td>\n",
       "      <td>Florida Atlantic University</td>\n",
       "      <td>NaN</td>\n",
       "      <td>NaN</td>\n",
       "      <td>NaN</td>\n",
       "      <td>...</td>\n",
       "      <td>NaN</td>\n",
       "      <td>D</td>\n",
       "      <td>PN</td>\n",
       "      <td>U</td>\n",
       "      <td>NaN</td>\n",
       "      <td>water gates</td>\n",
       "      <td>Box 1</td>\n",
       "      <td>64</td>\n",
       "      <td>orange</td>\n",
       "      <td>(100, 60, 0)</td>\n",
       "    </tr>\n",
       "    <tr>\n",
       "      <th>1</th>\n",
       "      <td>A-1 02</td>\n",
       "      <td>A-1_Arquin_001_0002.jpg</td>\n",
       "      <td>Ostend Gate, The Ezelpoort</td>\n",
       "      <td>water gates, arch bridges, canals (waterways)</td>\n",
       "      <td>Ostend Gate (Donkey's Gate) - 13th Century.</td>\n",
       "      <td>Florence Arquin, photographer</td>\n",
       "      <td>Florida Atlantic University</td>\n",
       "      <td>NaN</td>\n",
       "      <td>NaN</td>\n",
       "      <td>NaN</td>\n",
       "      <td>...</td>\n",
       "      <td>NaN</td>\n",
       "      <td>D</td>\n",
       "      <td>PN</td>\n",
       "      <td>U</td>\n",
       "      <td>NaN</td>\n",
       "      <td>water gates</td>\n",
       "      <td>Box 1</td>\n",
       "      <td>64</td>\n",
       "      <td>orange</td>\n",
       "      <td>(100, 60, 0)</td>\n",
       "    </tr>\n",
       "    <tr>\n",
       "      <th>2</th>\n",
       "      <td>A-1 02</td>\n",
       "      <td>A-1_Arquin_001_0002.jpg</td>\n",
       "      <td>Ostend Gate, The Ezelpoort</td>\n",
       "      <td>water gates, arch bridges, canals (waterways)</td>\n",
       "      <td>Ostend Gate (Donkey's Gate) - 13th Century.</td>\n",
       "      <td>Florence Arquin, photographer</td>\n",
       "      <td>Florida Atlantic University</td>\n",
       "      <td>NaN</td>\n",
       "      <td>NaN</td>\n",
       "      <td>NaN</td>\n",
       "      <td>...</td>\n",
       "      <td>NaN</td>\n",
       "      <td>D</td>\n",
       "      <td>PN</td>\n",
       "      <td>U</td>\n",
       "      <td>NaN</td>\n",
       "      <td>arch bridges</td>\n",
       "      <td>Box 1</td>\n",
       "      <td>64</td>\n",
       "      <td>orange</td>\n",
       "      <td>(100, 60, 0)</td>\n",
       "    </tr>\n",
       "    <tr>\n",
       "      <th>3</th>\n",
       "      <td>A-1 02</td>\n",
       "      <td>A-1_Arquin_001_0002.jpg</td>\n",
       "      <td>Ostend Gate, The Ezelpoort</td>\n",
       "      <td>water gates, arch bridges, canals (waterways)</td>\n",
       "      <td>Ostend Gate (Donkey's Gate) - 13th Century.</td>\n",
       "      <td>Florence Arquin, photographer</td>\n",
       "      <td>Florida Atlantic University</td>\n",
       "      <td>NaN</td>\n",
       "      <td>NaN</td>\n",
       "      <td>NaN</td>\n",
       "      <td>...</td>\n",
       "      <td>waterways</td>\n",
       "      <td>D</td>\n",
       "      <td>PN</td>\n",
       "      <td>U</td>\n",
       "      <td>canals (waterways)</td>\n",
       "      <td>canals (waterways)</td>\n",
       "      <td>Box 1</td>\n",
       "      <td>64</td>\n",
       "      <td>orange</td>\n",
       "      <td>(100, 60, 0)</td>\n",
       "    </tr>\n",
       "  </tbody>\n",
       "</table>\n",
       "<p>4 rows × 47 columns</p>\n",
       "</div>"
      ],
      "text/plain": [
       "  identifier                    media                        title  \\\n",
       "0     A-1 02  A-1_Arquin_001_0002.jpg  Ostend Gate, The Ezelpoort    \n",
       "1     A-1 02  A-1_Arquin_001_0002.jpg  Ostend Gate, The Ezelpoort    \n",
       "2     A-1 02  A-1_Arquin_001_0002.jpg  Ostend Gate, The Ezelpoort    \n",
       "3     A-1 02  A-1_Arquin_001_0002.jpg  Ostend Gate, The Ezelpoort    \n",
       "\n",
       "                                         subject  \\\n",
       "0  water gates, arch bridges, canals (waterways)   \n",
       "1  water gates, arch bridges, canals (waterways)   \n",
       "2  water gates, arch bridges, canals (waterways)   \n",
       "3  water gates, arch bridges, canals (waterways)   \n",
       "\n",
       "                                   description                        creator  \\\n",
       "0  Ostend Gate (Donkey's Gate) - 13th Century.  Florence Arquin, photographer   \n",
       "1  Ostend Gate (Donkey's Gate) - 13th Century.  Florence Arquin, photographer   \n",
       "2  Ostend Gate (Donkey's Gate) - 13th Century.  Florence Arquin, photographer   \n",
       "3  Ostend Gate (Donkey's Gate) - 13th Century.  Florence Arquin, photographer   \n",
       "\n",
       "                     publisher date rights  language  ...  QUALIFIER  \\\n",
       "0  Florida Atlantic University  NaN    NaN       NaN  ...        NaN   \n",
       "1  Florida Atlantic University  NaN    NaN       NaN  ...        NaN   \n",
       "2  Florida Atlantic University  NaN    NaN       NaN  ...        NaN   \n",
       "3  Florida Atlantic University  NaN    NaN       NaN  ...  waterways   \n",
       "\n",
       "  TERM_TYPE PART_OF_SPEECH LANG_STAT        full_concept         use_concept  \\\n",
       "0         D             PN         U                 NaN         water gates   \n",
       "1         D             PN         U                 NaN         water gates   \n",
       "2         D             PN         U                 NaN        arch bridges   \n",
       "3         D             PN         U  canals (waterways)  canals (waterways)   \n",
       "\n",
       "   BoxId Unnamed: 0   color           RGB  \n",
       "0  Box 1         64  orange  (100, 60, 0)  \n",
       "1  Box 1         64  orange  (100, 60, 0)  \n",
       "2  Box 1         64  orange  (100, 60, 0)  \n",
       "3  Box 1         64  orange  (100, 60, 0)  \n",
       "\n",
       "[4 rows x 47 columns]"
      ]
     },
     "execution_count": 98,
     "metadata": {},
     "output_type": "execute_result"
    }
   ],
   "source": [
    "df[df['identifier']== 'A-1 02']"
   ]
  },
  {
   "cell_type": "code",
   "execution_count": 96,
   "id": "ea663331",
   "metadata": {},
   "outputs": [
    {
     "data": {
      "text/html": [
       "<div>\n",
       "<style scoped>\n",
       "    .dataframe tbody tr th:only-of-type {\n",
       "        vertical-align: middle;\n",
       "    }\n",
       "\n",
       "    .dataframe tbody tr th {\n",
       "        vertical-align: top;\n",
       "    }\n",
       "\n",
       "    .dataframe thead th {\n",
       "        text-align: right;\n",
       "    }\n",
       "</style>\n",
       "<table border=\"1\" class=\"dataframe\">\n",
       "  <thead>\n",
       "    <tr style=\"text-align: right;\">\n",
       "      <th></th>\n",
       "      <th>identifier</th>\n",
       "      <th>media</th>\n",
       "      <th>title</th>\n",
       "      <th>subject</th>\n",
       "      <th>description</th>\n",
       "      <th>creator</th>\n",
       "      <th>publisher</th>\n",
       "      <th>date</th>\n",
       "      <th>rights</th>\n",
       "      <th>language</th>\n",
       "      <th>...</th>\n",
       "      <th>coverage</th>\n",
       "      <th>spatial</th>\n",
       "      <th>Index</th>\n",
       "      <th>Title</th>\n",
       "      <th>Spanish (from Google)</th>\n",
       "      <th>Translation ES</th>\n",
       "      <th>EmptyColumn</th>\n",
       "      <th>Portuguese(from Google)</th>\n",
       "      <th>Translation PT</th>\n",
       "      <th>_merge</th>\n",
       "    </tr>\n",
       "  </thead>\n",
       "  <tbody>\n",
       "    <tr>\n",
       "      <th>0</th>\n",
       "      <td>A-1 02</td>\n",
       "      <td>A-1_Arquin_001_0002.jpg</td>\n",
       "      <td>Ostend Gate, The Ezelpoort</td>\n",
       "      <td>water gates, arch bridges, canals (waterways)</td>\n",
       "      <td>Ostend Gate (Donkey's Gate) - 13th Century.</td>\n",
       "      <td>Florence Arquin, photographer</td>\n",
       "      <td>Florida Atlantic University</td>\n",
       "      <td>NaN</td>\n",
       "      <td>NaN</td>\n",
       "      <td>NaN</td>\n",
       "      <td>...</td>\n",
       "      <td>51.2093/ 3.2247</td>\n",
       "      <td>Bruges (inhabited place), West Flanders (provi...</td>\n",
       "      <td>1</td>\n",
       "      <td>Ostend Gate, The Ezelpoort</td>\n",
       "      <td>Ostend Gate, el Ezelpoort</td>\n",
       "      <td>NaN</td>\n",
       "      <td>NaN</td>\n",
       "      <td>OSTEND GATE, O EZELPOORT</td>\n",
       "      <td>NaN</td>\n",
       "      <td>both</td>\n",
       "    </tr>\n",
       "  </tbody>\n",
       "</table>\n",
       "<p>1 rows × 23 columns</p>\n",
       "</div>"
      ],
      "text/plain": [
       "  identifier                    media                       title  \\\n",
       "0     A-1 02  A-1_Arquin_001_0002.jpg  Ostend Gate, The Ezelpoort   \n",
       "\n",
       "                                         subject  \\\n",
       "0  water gates, arch bridges, canals (waterways)   \n",
       "\n",
       "                                   description                        creator  \\\n",
       "0  Ostend Gate (Donkey's Gate) - 13th Century.  Florence Arquin, photographer   \n",
       "\n",
       "                     publisher  date  rights  language  ...         coverage  \\\n",
       "0  Florida Atlantic University   NaN     NaN       NaN  ...  51.2093/ 3.2247   \n",
       "\n",
       "                                             spatial Index  \\\n",
       "0  Bruges (inhabited place), West Flanders (provi...     1   \n",
       "\n",
       "                        Title      Spanish (from Google)  Translation ES  \\\n",
       "0  Ostend Gate, The Ezelpoort  Ostend Gate, el Ezelpoort             NaN   \n",
       "\n",
       "  EmptyColumn   Portuguese(from Google)  Translation PT  _merge  \n",
       "0         NaN  OSTEND GATE, O EZELPOORT             NaN    both  \n",
       "\n",
       "[1 rows x 23 columns]"
      ]
     },
     "execution_count": 96,
     "metadata": {},
     "output_type": "execute_result"
    }
   ],
   "source": [
    "box_with_trans[box_with_trans['identifier']=='A-1 02']"
   ]
  },
  {
   "cell_type": "code",
   "execution_count": 99,
   "id": "48a85a56",
   "metadata": {},
   "outputs": [],
   "source": [
    "box_with_trans_and_subjects = box_with_trans.merge(df, on=['media'])"
   ]
  },
  {
   "cell_type": "code",
   "execution_count": 101,
   "id": "e2a85084",
   "metadata": {},
   "outputs": [
    {
     "data": {
      "text/html": [
       "<div>\n",
       "<style scoped>\n",
       "    .dataframe tbody tr th:only-of-type {\n",
       "        vertical-align: middle;\n",
       "    }\n",
       "\n",
       "    .dataframe tbody tr th {\n",
       "        vertical-align: top;\n",
       "    }\n",
       "\n",
       "    .dataframe thead th {\n",
       "        text-align: right;\n",
       "    }\n",
       "</style>\n",
       "<table border=\"1\" class=\"dataframe\">\n",
       "  <thead>\n",
       "    <tr style=\"text-align: right;\">\n",
       "      <th></th>\n",
       "      <th>identifier_x</th>\n",
       "      <th>media</th>\n",
       "      <th>title_x</th>\n",
       "      <th>subject_x</th>\n",
       "      <th>description_x</th>\n",
       "      <th>creator_x</th>\n",
       "      <th>publisher_x</th>\n",
       "      <th>date_x</th>\n",
       "      <th>rights_x</th>\n",
       "      <th>language_x</th>\n",
       "      <th>...</th>\n",
       "      <th>QUALIFIER</th>\n",
       "      <th>TERM_TYPE</th>\n",
       "      <th>PART_OF_SPEECH</th>\n",
       "      <th>LANG_STAT</th>\n",
       "      <th>full_concept</th>\n",
       "      <th>use_concept</th>\n",
       "      <th>BoxId</th>\n",
       "      <th>Unnamed: 0</th>\n",
       "      <th>color</th>\n",
       "      <th>RGB</th>\n",
       "    </tr>\n",
       "  </thead>\n",
       "  <tbody>\n",
       "    <tr>\n",
       "      <th>0</th>\n",
       "      <td>A-1 02</td>\n",
       "      <td>A-1_Arquin_001_0002.jpg</td>\n",
       "      <td>Ostend Gate, The Ezelpoort</td>\n",
       "      <td>water gates, arch bridges, canals (waterways)</td>\n",
       "      <td>Ostend Gate (Donkey's Gate) - 13th Century.</td>\n",
       "      <td>Florence Arquin, photographer</td>\n",
       "      <td>Florida Atlantic University</td>\n",
       "      <td>NaN</td>\n",
       "      <td>NaN</td>\n",
       "      <td>NaN</td>\n",
       "      <td>...</td>\n",
       "      <td>NaN</td>\n",
       "      <td>D</td>\n",
       "      <td>PN</td>\n",
       "      <td>U</td>\n",
       "      <td>NaN</td>\n",
       "      <td>water gates</td>\n",
       "      <td>Box 1</td>\n",
       "      <td>64</td>\n",
       "      <td>orange</td>\n",
       "      <td>(100, 60, 0)</td>\n",
       "    </tr>\n",
       "    <tr>\n",
       "      <th>1</th>\n",
       "      <td>A-1 02</td>\n",
       "      <td>A-1_Arquin_001_0002.jpg</td>\n",
       "      <td>Ostend Gate, The Ezelpoort</td>\n",
       "      <td>water gates, arch bridges, canals (waterways)</td>\n",
       "      <td>Ostend Gate (Donkey's Gate) - 13th Century.</td>\n",
       "      <td>Florence Arquin, photographer</td>\n",
       "      <td>Florida Atlantic University</td>\n",
       "      <td>NaN</td>\n",
       "      <td>NaN</td>\n",
       "      <td>NaN</td>\n",
       "      <td>...</td>\n",
       "      <td>NaN</td>\n",
       "      <td>D</td>\n",
       "      <td>PN</td>\n",
       "      <td>U</td>\n",
       "      <td>NaN</td>\n",
       "      <td>water gates</td>\n",
       "      <td>Box 1</td>\n",
       "      <td>64</td>\n",
       "      <td>orange</td>\n",
       "      <td>(100, 60, 0)</td>\n",
       "    </tr>\n",
       "    <tr>\n",
       "      <th>2</th>\n",
       "      <td>A-1 02</td>\n",
       "      <td>A-1_Arquin_001_0002.jpg</td>\n",
       "      <td>Ostend Gate, The Ezelpoort</td>\n",
       "      <td>water gates, arch bridges, canals (waterways)</td>\n",
       "      <td>Ostend Gate (Donkey's Gate) - 13th Century.</td>\n",
       "      <td>Florence Arquin, photographer</td>\n",
       "      <td>Florida Atlantic University</td>\n",
       "      <td>NaN</td>\n",
       "      <td>NaN</td>\n",
       "      <td>NaN</td>\n",
       "      <td>...</td>\n",
       "      <td>NaN</td>\n",
       "      <td>D</td>\n",
       "      <td>PN</td>\n",
       "      <td>U</td>\n",
       "      <td>NaN</td>\n",
       "      <td>arch bridges</td>\n",
       "      <td>Box 1</td>\n",
       "      <td>64</td>\n",
       "      <td>orange</td>\n",
       "      <td>(100, 60, 0)</td>\n",
       "    </tr>\n",
       "    <tr>\n",
       "      <th>3</th>\n",
       "      <td>A-1 02</td>\n",
       "      <td>A-1_Arquin_001_0002.jpg</td>\n",
       "      <td>Ostend Gate, The Ezelpoort</td>\n",
       "      <td>water gates, arch bridges, canals (waterways)</td>\n",
       "      <td>Ostend Gate (Donkey's Gate) - 13th Century.</td>\n",
       "      <td>Florence Arquin, photographer</td>\n",
       "      <td>Florida Atlantic University</td>\n",
       "      <td>NaN</td>\n",
       "      <td>NaN</td>\n",
       "      <td>NaN</td>\n",
       "      <td>...</td>\n",
       "      <td>waterways</td>\n",
       "      <td>D</td>\n",
       "      <td>PN</td>\n",
       "      <td>U</td>\n",
       "      <td>canals (waterways)</td>\n",
       "      <td>canals (waterways)</td>\n",
       "      <td>Box 1</td>\n",
       "      <td>64</td>\n",
       "      <td>orange</td>\n",
       "      <td>(100, 60, 0)</td>\n",
       "    </tr>\n",
       "  </tbody>\n",
       "</table>\n",
       "<p>4 rows × 69 columns</p>\n",
       "</div>"
      ],
      "text/plain": [
       "  identifier_x                    media                     title_x  \\\n",
       "0       A-1 02  A-1_Arquin_001_0002.jpg  Ostend Gate, The Ezelpoort   \n",
       "1       A-1 02  A-1_Arquin_001_0002.jpg  Ostend Gate, The Ezelpoort   \n",
       "2       A-1 02  A-1_Arquin_001_0002.jpg  Ostend Gate, The Ezelpoort   \n",
       "3       A-1 02  A-1_Arquin_001_0002.jpg  Ostend Gate, The Ezelpoort   \n",
       "\n",
       "                                       subject_x  \\\n",
       "0  water gates, arch bridges, canals (waterways)   \n",
       "1  water gates, arch bridges, canals (waterways)   \n",
       "2  water gates, arch bridges, canals (waterways)   \n",
       "3  water gates, arch bridges, canals (waterways)   \n",
       "\n",
       "                                 description_x                      creator_x  \\\n",
       "0  Ostend Gate (Donkey's Gate) - 13th Century.  Florence Arquin, photographer   \n",
       "1  Ostend Gate (Donkey's Gate) - 13th Century.  Florence Arquin, photographer   \n",
       "2  Ostend Gate (Donkey's Gate) - 13th Century.  Florence Arquin, photographer   \n",
       "3  Ostend Gate (Donkey's Gate) - 13th Century.  Florence Arquin, photographer   \n",
       "\n",
       "                   publisher_x  date_x  rights_x  language_x  ...  QUALIFIER  \\\n",
       "0  Florida Atlantic University     NaN       NaN         NaN  ...        NaN   \n",
       "1  Florida Atlantic University     NaN       NaN         NaN  ...        NaN   \n",
       "2  Florida Atlantic University     NaN       NaN         NaN  ...        NaN   \n",
       "3  Florida Atlantic University     NaN       NaN         NaN  ...  waterways   \n",
       "\n",
       "  TERM_TYPE PART_OF_SPEECH LANG_STAT        full_concept         use_concept  \\\n",
       "0         D             PN         U                 NaN         water gates   \n",
       "1         D             PN         U                 NaN         water gates   \n",
       "2         D             PN         U                 NaN        arch bridges   \n",
       "3         D             PN         U  canals (waterways)  canals (waterways)   \n",
       "\n",
       "   BoxId Unnamed: 0   color           RGB  \n",
       "0  Box 1         64  orange  (100, 60, 0)  \n",
       "1  Box 1         64  orange  (100, 60, 0)  \n",
       "2  Box 1         64  orange  (100, 60, 0)  \n",
       "3  Box 1         64  orange  (100, 60, 0)  \n",
       "\n",
       "[4 rows x 69 columns]"
      ]
     },
     "execution_count": 101,
     "metadata": {},
     "output_type": "execute_result"
    }
   ],
   "source": [
    "box_with_trans_and_subjects[box_with_trans_and_subjects['identifier_x']=='A-1 02']"
   ]
  }
 ],
 "metadata": {
  "kernelspec": {
   "display_name": "Python 3",
   "language": "python",
   "name": "python3"
  },
  "language_info": {
   "codemirror_mode": {
    "name": "ipython",
    "version": 3
   },
   "file_extension": ".py",
   "mimetype": "text/x-python",
   "name": "python",
   "nbconvert_exporter": "python",
   "pygments_lexer": "ipython3",
   "version": "3.8.8"
  }
 },
 "nbformat": 4,
 "nbformat_minor": 5
}