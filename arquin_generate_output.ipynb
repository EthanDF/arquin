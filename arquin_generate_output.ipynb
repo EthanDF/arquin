{
 "cells": [
  {
   "cell_type": "markdown",
   "id": "2c8e00c2",
   "metadata": {
    "pycharm": {
     "name": "#%% md\n"
    }
   },
   "source": [
    "# Generate Output\n",
    "This notebook will read in the metadata from the [Arquin Spreadsheet](https://docs.google.com/spreadsheets/d/1LRbios7yQRo3aqCh0Es2Wiae_dicg_OtL-_yqP-Tb8I/edit#gid=1718343431) and product an output for ingestion into Omeka "
   ]
  },
  {
   "cell_type": "code",
   "execution_count": 1,
   "id": "00635c77",
   "metadata": {
    "pycharm": {
     "name": "#%%\n"
    }
   },
   "outputs": [],
   "source": [
    "url = 'https://docs.google.com/spreadsheets/d/1LRbios7yQRo3aqCh0Es2Wiae_dicg_OtL-_yqP-Tb8I/edit#gid=1718343431'"
   ]
  },
  {
   "cell_type": "markdown",
   "id": "8eb162bb",
   "metadata": {
    "pycharm": {
     "name": "#%% md\n"
    }
   },
   "source": [
    "## import libraries"
   ]
  },
  {
   "cell_type": "code",
   "execution_count": 2,
   "id": "54fa3b79",
   "metadata": {
    "pycharm": {
     "name": "#%%\n"
    }
   },
   "outputs": [],
   "source": [
    "from IPython.display import clear_output\n",
    "import pandas as pd\n",
    "from pandas import Series\n",
    "import numpy as np\n",
    "import re\n",
    "import csv\n",
    "from gsheets import Sheets\n",
    "from datetime import datetime"
   ]
  },
  {
   "cell_type": "code",
   "execution_count": 3,
   "id": "3b6dd4b8",
   "metadata": {
    "pycharm": {
     "name": "#%%\n"
    }
   },
   "outputs": [],
   "source": [
    "%run functions.ipynb"
   ]
  },
  {
   "cell_type": "markdown",
   "id": "543b0831",
   "metadata": {
    "pycharm": {
     "name": "#%% md\n"
    }
   },
   "source": [
    "## Load the spreadsheet information"
   ]
  },
  {
   "cell_type": "code",
   "execution_count": 5,
   "id": "65026ed0",
   "metadata": {
    "pycharm": {
     "name": "#%%\n"
    }
   },
   "outputs": [],
   "source": [
    "# if HttpAccessTokenRefreshError, close everything and start over\n",
    "sheets = Sheets.from_files('~/client_secrets.json', '~/storage.json')\n",
    "s = sheets.get(url)"
   ]
  },
  {
   "cell_type": "markdown",
   "id": "ec9e2b8d",
   "metadata": {
    "pycharm": {
     "name": "#%% md\n"
    }
   },
   "source": [
    "## This is testing to figure out how to get all the data where it needs to go!"
   ]
  },
  {
   "cell_type": "markdown",
   "id": "eb3be5bb",
   "metadata": {
    "pycharm": {
     "name": "#%% md\n"
    }
   },
   "source": [
    "### Get the list of Identifiers by Box Number"
   ]
  },
  {
   "cell_type": "code",
   "execution_count": 6,
   "id": "3967436f",
   "metadata": {
    "pycharm": {
     "name": "#%%\n"
    }
   },
   "outputs": [],
   "source": [
    "# get the list of boxes containing metadata\n",
    "\n",
    "box_list = []\n",
    "box_list_sheets = s.sheets.titles()\n",
    "\n",
    "for b in box_list_sheets:\n",
    "    if 'Box' in b:\n",
    "        box_list.append(int(b[4:]))"
   ]
  },
  {
   "cell_type": "code",
   "execution_count": null,
   "outputs": [],
   "source": [
    "x = return_box(box_list[1])"
   ],
   "metadata": {
    "collapsed": false,
    "pycharm": {
     "name": "#%%\n"
    }
   }
  },
  {
   "cell_type": "code",
   "execution_count": null,
   "outputs": [],
   "source": [
    "# concepts[concepts['join_concept'].notna()]\n",
    "'''strip leading and trailing space'''\n",
    " \n",
    "x['title'] = x['title'].str.strip()"
   ],
   "metadata": {
    "collapsed": false,
    "pycharm": {
     "name": "#%%\n"
    }
   }
  },
  {
   "cell_type": "markdown",
   "source": [
    "### Get the title translations\n",
    "from Box 'unique_titles_06142022'"
   ],
   "metadata": {
    "collapsed": false,
    "pycharm": {
     "name": "#%% md\n"
    }
   }
  },
  {
   "cell_type": "code",
   "execution_count": null,
   "outputs": [],
   "source": [
    "title_translations = s.find('unique_titles_06142022').to_frame()"
   ],
   "metadata": {
    "collapsed": false,
    "pycharm": {
     "name": "#%%\n"
    }
   }
  },
  {
   "cell_type": "code",
   "execution_count": null,
   "outputs": [],
   "source": [
    "FIELDS_TO_RETURN = ['identifier', 'media', 'title', 'subject', 'description', 'publisher', \n",
    "                 'date', 'rights', 'language', 'relation', 'format', 'type', 'coverage', 'spatial']"
   ],
   "metadata": {
    "collapsed": false,
    "pycharm": {
     "name": "#%%\n"
    }
   }
  },
  {
   "cell_type": "code",
   "execution_count": null,
   "outputs": [],
   "source": [
    "x[x['identifier'] == 'A-2 091'][FIELDS_TO_RETURN]"
   ],
   "metadata": {
    "collapsed": false,
    "pycharm": {
     "name": "#%%\n"
    }
   }
  },
  {
   "cell_type": "code",
   "execution_count": null,
   "outputs": [],
   "source": [
    "box_with_trans = x.merge(title_translations, how='left', left_on='title', right_on='Title', indicator=True)"
   ],
   "metadata": {
    "collapsed": false,
    "pycharm": {
     "name": "#%%\n"
    }
   }
  },
  {
   "cell_type": "code",
   "execution_count": null,
   "outputs": [],
   "source": [
    "box_with_trans.columns"
   ],
   "metadata": {
    "collapsed": false,
    "pycharm": {
     "name": "#%%\n"
    }
   }
  },
  {
   "cell_type": "code",
   "execution_count": null,
   "outputs": [],
   "source": [
    "FIELDS_PLUS_TITLES = ['title_ES', 'title_PT', '_merge']"
   ],
   "metadata": {
    "collapsed": false,
    "pycharm": {
     "name": "#%%\n"
    }
   }
  },
  {
   "cell_type": "code",
   "execution_count": null,
   "outputs": [],
   "source": [
    "FIELDS_PLUS_TITLES + FIELDS_TO_RETURN"
   ],
   "metadata": {
    "collapsed": false,
    "pycharm": {
     "name": "#%%\n"
    }
   }
  },
  {
   "cell_type": "code",
   "execution_count": null,
   "outputs": [],
   "source": [
    "box_with_trans[box_with_trans['identifier'] == 'A-2 091'][FIELDS_TO_RETURN + FIELDS_PLUS_TITLES]"
   ],
   "metadata": {
    "collapsed": false,
    "pycharm": {
     "name": "#%%\n"
    }
   }
  },
  {
   "cell_type": "markdown",
   "source": [
    "## Load Arquin Metadata with validated Subjects for parsing subjects"
   ],
   "metadata": {
    "collapsed": false,
    "pycharm": {
     "name": "#%% md\n"
    }
   }
  },
  {
   "cell_type": "code",
   "execution_count": null,
   "outputs": [],
   "source": [
    "%run arquin_metadata_subjects_review_final.ipynb"
   ],
   "metadata": {
    "collapsed": false,
    "pycharm": {
     "name": "#%%\n"
    }
   }
  },
  {
   "cell_type": "code",
   "execution_count": null,
   "outputs": [],
   "source": [
    "box_with_trans_and_subjects = box_with_trans.merge(df, on=['media'])"
   ],
   "metadata": {
    "collapsed": false,
    "pycharm": {
     "name": "#%%\n"
    }
   }
  },
  {
   "cell_type": "code",
   "execution_count": null,
   "outputs": [],
   "source": [
    "SUBJECT_TERMS = ['SUBJECT_ID', 'TERM_ID', 'LANGUAGE_CODE', 'use_concept', 'BoxId', 'color']"
   ],
   "metadata": {
    "collapsed": false,
    "pycharm": {
     "name": "#%%\n"
    }
   }
  },
  {
   "cell_type": "markdown",
   "source": [
    "## Rename the columns post join "
   ],
   "metadata": {
    "collapsed": false,
    "pycharm": {
     "name": "#%% md\n"
    }
   }
  },
  {
   "cell_type": "code",
   "execution_count": null,
   "outputs": [],
   "source": [
    "box_with_trans_and_subjects = box_with_trans_and_subjects.rename(columns={'identifier_x': 'identifier', \n",
    "'media': 'media', \n",
    "'title_x': 'title', \n",
    "'subject_x': 'subject', \n",
    "'description_x': 'description', \n",
    "'creator_x': 'creator', \n",
    "'publisher_x': 'publisher', \n",
    "'date_x': 'date', \n",
    "'rights_x': 'rights', \n",
    "'language_x': 'language', \n",
    "'relation_x': 'relation', \n",
    "'format_x': 'format', \n",
    "'type_x': 'type', \n",
    "'coverage_x': 'coverage', \n",
    "'spatial_x': 'spatial', \n",
    "'Index': 'Index', \n",
    "'Title': 'Title', \n",
    "'Translation ES': 'title_ES', \n",
    "'Translation PT': 'title_PT', \n",
    "'_merge': '_merge', \n",
    "'identifier_y': 'identifier_y', \n",
    "'title_y': 'title_y', \n",
    "'subject_y': 'subject_y', \n",
    "'description_y': 'description_y', \n",
    "'creator_y': 'creator_y', \n",
    "'publisher_y': 'publisher_y', \n",
    "'date_y': 'date_y', \n",
    "'rights_y': 'rights_y', \n",
    "'language_y': 'language_y', \n",
    "'relation_y': 'relation_y', \n",
    "'format_y': 'format_y', \n",
    "'type_y': 'type_y', \n",
    "'coverage_y': 'coverage_y', \n",
    "'spatial_y': 'spatial_y', \n",
    "'subjects': 'subjects', \n",
    "'join_concept': 'join_concept', \n",
    "'extra_notes': 'extra_notes', \n",
    "'unnamed: 2': 'unnamed: 2', \n",
    "'unnamed: 4': 'unnamed: 4', \n",
    "'AACR2_FLAG': 'AACR2_FLAG', \n",
    "'DISPLAY_DATE': 'DISPLAY_DATE', \n",
    "'DISPLAY_NAME': 'DISPLAY_NAME', \n",
    "'DISPLAY_ORDER': 'DISPLAY_ORDER', \n",
    "'END_DATE': 'END_DATE', \n",
    "'HISTORIC_FLAG': 'HISTORIC_FLAG', \n",
    "'OTHER_FLAGS': 'OTHER_FLAGS', \n",
    "'PREFERRED_x': 'PREFERRED', \n",
    "'START_DATE': 'START_DATE', \n",
    "'SUBJECT_ID_x': 'SUBJECT_ID', \n",
    "'TERM': 'TERM', \n",
    "'TERM_ID': 'TERM_ID', \n",
    "'VERNACULAR': 'VERNACULAR', \n",
    "'LANGUAGE_CODE': 'LANGUAGE_CODE', \n",
    "'PREFERRED_y': 'PREFERRED_y', \n",
    "'SUBJECT_ID_y': 'SUBJECT_ID_y', \n",
    "'QUALIFIER': 'QUALIFIER', \n",
    "'TERM_TYPE': 'TERM_TYPE', \n",
    "'PART_OF_SPEECH': 'PART_OF_SPEECH', \n",
    "'LANG_STAT': 'LANG_STAT', \n",
    "'full_concept': 'full_concept', \n",
    "'use_concept': 'use_concept', \n",
    "'BoxId': 'BoxId', \n",
    "'Unnamed: 0': 'Unnamed: 0', \n",
    "'color': 'color', \n",
    "'RGB': 'RGB'})"
   ],
   "metadata": {
    "collapsed": false,
    "pycharm": {
     "name": "#%%\n"
    }
   }
  },
  {
   "cell_type": "code",
   "execution_count": null,
   "outputs": [],
   "source": [
    "# show all the columns up to 500\n",
    "pd.set_option('display.max_columns', 500)"
   ],
   "metadata": {
    "collapsed": false,
    "pycharm": {
     "name": "#%%\n"
    }
   }
  },
  {
   "cell_type": "code",
   "execution_count": null,
   "outputs": [],
   "source": [
    "box_with_trans_and_subjects[box_with_trans_and_subjects['identifier'] == 'A-2 091'][FIELDS_TO_RETURN + FIELDS_PLUS_TITLES+ SUBJECT_TERMS]"
   ],
   "metadata": {
    "collapsed": false,
    "pycharm": {
     "name": "#%%\n"
    }
   }
  },
  {
   "cell_type": "markdown",
   "source": [
    "## Generate a distinct list of subjects for the box"
   ],
   "metadata": {
    "collapsed": false,
    "pycharm": {
     "name": "#%% md\n"
    }
   }
  },
  {
   "cell_type": "code",
   "execution_count": null,
   "outputs": [],
   "source": [
    "box_with_trans_and_subjects[['SUBJECT_ID', 'TERM_ID', 'use_concept']].drop_duplicates()"
   ],
   "metadata": {
    "collapsed": false,
    "pycharm": {
     "name": "#%%\n"
    }
   }
  },
  {
   "cell_type": "markdown",
   "source": [
    "## Define the Output Columns and labels"
   ],
   "metadata": {
    "collapsed": false,
    "pycharm": {
     "name": "#%% md\n"
    }
   }
  },
  {
   "cell_type": "code",
   "execution_count": null,
   "outputs": [],
   "source": [
    "output = ['identifier', 'media', 'title', 'subject','description', 'creator', 'publisher', 'date', 'rights', 'language', 'relation', 'format', 'type', 'coverage', 'spatial']"
   ],
   "metadata": {
    "collapsed": false,
    "pycharm": {
     "name": "#%%\n"
    }
   }
  },
  {
   "cell_type": "code",
   "execution_count": null,
   "outputs": [],
   "source": [
    "dc_output = ['dcterms:identifier',\n",
    "'dcterms:media',\n",
    "'dcterms:title',\n",
    "'dcterms:subject',\n",
    "'dcterms:description',\n",
    "'dcterms:creator',\n",
    "'dcterms:publisher',\n",
    "'dcterms:date',\n",
    "'dcterms:rights',\n",
    "'dcterms:language',\n",
    "'dcterms:relation',\n",
    "'dcterms:format',\n",
    "'dcterms:type',\n",
    "'dcterms:coverage',\n",
    "'dcterms:spatial']"
   ],
   "metadata": {
    "collapsed": false,
    "pycharm": {
     "name": "#%%\n"
    }
   }
  },
  {
   "cell_type": "markdown",
   "source": [
    "## Create the Combination Columns for Title and Translations"
   ],
   "metadata": {
    "collapsed": false,
    "pycharm": {
     "name": "#%% md\n"
    }
   }
  },
  {
   "cell_type": "code",
   "execution_count": null,
   "outputs": [],
   "source": [
    "title_cols = ['title', 'title_ES', 'title_PT']"
   ],
   "metadata": {
    "collapsed": false,
    "pycharm": {
     "name": "#%%\n"
    }
   }
  },
  {
   "cell_type": "code",
   "execution_count": null,
   "outputs": [],
   "source": [
    "box_with_trans_and_subjects['title_trans'] = box_with_trans_and_subjects[title_cols].apply(lambda title_cols: ', '.join(title_cols.dropna()), axis=1)"
   ],
   "metadata": {
    "collapsed": false,
    "pycharm": {
     "name": "#%%\n"
    }
   }
  },
  {
   "cell_type": "markdown",
   "source": [
    "## Rename the columns post join "
   ],
   "metadata": {
    "collapsed": false,
    "pycharm": {
     "name": "#%% md\n"
    }
   }
  },
  {
   "cell_type": "code",
   "execution_count": null,
   "outputs": [],
   "source": [
    "box_with_trans_and_subjects = box_with_trans_and_subjects.rename(columns={'identifier_x': 'identifier', \n",
    "'media': 'media', \n",
    "'title_x': 'title', \n",
    "'subject_x': 'subject', \n",
    "'description_x': 'description', \n",
    "'creator_x': 'creator', \n",
    "'publisher_x': 'publisher', \n",
    "'date_x': 'date', \n",
    "'rights_x': 'rights', \n",
    "'language_x': 'language', \n",
    "'relation_x': 'relation', \n",
    "'format_x': 'format', \n",
    "'type_x': 'type', \n",
    "'coverage_x': 'coverage', \n",
    "'spatial_x': 'spatial', \n",
    "'Index': 'Index', \n",
    "'Title': 'Title', \n",
    "'Translation ES': 'title_ES', \n",
    "'Translation PT': 'title_PT', \n",
    "'_merge': '_merge', \n",
    "'identifier_y': 'identifier_y', \n",
    "'title_y': 'title_y', \n",
    "'subject_y': 'subject_y', \n",
    "'description_y': 'description_y', \n",
    "'creator_y': 'creator_y', \n",
    "'publisher_y': 'publisher_y', \n",
    "'date_y': 'date_y', \n",
    "'rights_y': 'rights_y', \n",
    "'language_y': 'language_y', \n",
    "'relation_y': 'relation_y', \n",
    "'format_y': 'format_y', \n",
    "'type_y': 'type_y', \n",
    "'coverage_y': 'coverage_y', \n",
    "'spatial_y': 'spatial_y', \n",
    "'subjects': 'subjects', \n",
    "'join_concept': 'join_concept', \n",
    "'extra_notes': 'extra_notes', \n",
    "'unnamed: 2': 'unnamed: 2', \n",
    "'unnamed: 4': 'unnamed: 4', \n",
    "'AACR2_FLAG': 'AACR2_FLAG', \n",
    "'DISPLAY_DATE': 'DISPLAY_DATE', \n",
    "'DISPLAY_NAME': 'DISPLAY_NAME', \n",
    "'DISPLAY_ORDER': 'DISPLAY_ORDER', \n",
    "'END_DATE': 'END_DATE', \n",
    "'HISTORIC_FLAG': 'HISTORIC_FLAG', \n",
    "'OTHER_FLAGS': 'OTHER_FLAGS', \n",
    "'PREFERRED_x': 'PREFERRED', \n",
    "'START_DATE': 'START_DATE', \n",
    "'SUBJECT_ID_x': 'SUBJECT_ID', \n",
    "'TERM': 'TERM', \n",
    "'TERM_ID': 'TERM_ID', \n",
    "'VERNACULAR': 'VERNACULAR', \n",
    "'LANGUAGE_CODE': 'LANGUAGE_CODE', \n",
    "'PREFERRED_y': 'PREFERRED_y', \n",
    "'SUBJECT_ID_y': 'SUBJECT_ID_y', \n",
    "'QUALIFIER': 'QUALIFIER', \n",
    "'TERM_TYPE': 'TERM_TYPE', \n",
    "'PART_OF_SPEECH': 'PART_OF_SPEECH', \n",
    "'LANG_STAT': 'LANG_STAT', \n",
    "'full_concept': 'full_concept', \n",
    "'use_concept': 'use_concept', \n",
    "'BoxId': 'BoxId', \n",
    "'Unnamed: 0': 'Unnamed: 0', \n",
    "'color': 'color', \n",
    "'RGB': 'RGB'})"
   ],
   "metadata": {
    "collapsed": false,
    "pycharm": {
     "name": "#%%\n"
    }
   }
  },
  {
   "cell_type": "code",
   "execution_count": null,
   "outputs": [],
   "source": [
    "# show all the columns up to 500\n",
    "pd.set_option('display.max_columns', 500)"
   ],
   "metadata": {
    "collapsed": false,
    "pycharm": {
     "name": "#%%\n"
    }
   }
  },
  {
   "cell_type": "code",
   "execution_count": null,
   "outputs": [],
   "source": [
    "box_with_trans_and_subjects[FIELDS_TO_RETURN + FIELDS_PLUS_TITLES+ SUBJECT_TERMS]"
   ],
   "metadata": {
    "collapsed": false,
    "pycharm": {
     "name": "#%%\n"
    }
   }
  },
  {
   "cell_type": "markdown",
   "source": [
    "## Generate a distinct list of subjects for the box"
   ],
   "metadata": {
    "collapsed": false,
    "pycharm": {
     "name": "#%% md\n"
    }
   }
  },
  {
   "cell_type": "code",
   "execution_count": null,
   "outputs": [],
   "source": [
    "box_with_trans_and_subjects[['SUBJECT_ID', 'TERM_ID', 'use_concept']].drop_duplicates()"
   ],
   "metadata": {
    "collapsed": false,
    "pycharm": {
     "name": "#%%\n"
    }
   }
  },
  {
   "cell_type": "markdown",
   "source": [
    "## This will be the script for outputting the file to the CSV"
   ],
   "metadata": {
    "collapsed": false,
    "pycharm": {
     "name": "#%% md\n"
    }
   }
  },
  {
   "cell_type": "code",
   "execution_count": null,
   "outputs": [],
   "source": [
    "box_with_trans_and_subjects[output].to_csv(\n",
    "    path_or_buf='./csv_files/output_file_box2.csv',\n",
    "    index=False, header=dc_output,\n",
    "    quoting=csv.QUOTE_NONNUMERIC\n",
    ")"
   ],
   "metadata": {
    "collapsed": false,
    "pycharm": {
     "name": "#%%\n"
    }
   }
  },
  {
   "cell_type": "code",
   "execution_count": null,
   "outputs": [],
   "source": [
    "box_with_trans_and_subjects[box_with_trans_and_subjects['identifier'] == 'A-2 091'][output]"
   ],
   "metadata": {
    "collapsed": false,
    "pycharm": {
     "name": "#%%\n"
    }
   }
  },
  {
   "cell_type": "markdown",
   "source": [
    "## Define the Output Columns and labels"
   ],
   "metadata": {
    "collapsed": false,
    "pycharm": {
     "name": "#%% md\n"
    }
   }
  },
  {
   "cell_type": "code",
   "execution_count": null,
   "outputs": [],
   "source": [
    "output = ['identifier', 'media', 'title_trans', 'use_concept_x','description', 'creator', 'publisher', 'date', 'rights', 'language', 'relation', 'format', 'type', 'coverage', 'spatial']"
   ],
   "metadata": {
    "collapsed": false,
    "pycharm": {
     "name": "#%%\n"
    }
   }
  },
  {
   "cell_type": "code",
   "execution_count": null,
   "outputs": [],
   "source": [
    "dc_output = ['dcterms:identifier',\n",
    "'dcterms:media',\n",
    "'dcterms:title',\n",
    "'dcterms:subject',\n",
    "'dcterms:description',\n",
    "'dcterms:creator',\n",
    "'dcterms:publisher',\n",
    "'dcterms:date',\n",
    "'dcterms:rights',\n",
    "'dcterms:language',\n",
    "'dcterms:relation',\n",
    "'dcterms:format',\n",
    "'dcterms:type',\n",
    "'dcterms:coverage',\n",
    "'dcterms:spatial']"
   ],
   "metadata": {
    "collapsed": false,
    "pycharm": {
     "name": "#%%\n"
    }
   }
  },
  {
   "cell_type": "markdown",
   "source": [
    "## Create the Combination Columns for Title and Translations"
   ],
   "metadata": {
    "collapsed": false,
    "pycharm": {
     "name": "#%% md\n"
    }
   }
  },
  {
   "cell_type": "code",
   "execution_count": null,
   "outputs": [],
   "source": [
    "title_cols = ['title', 'title_ES', 'title_PT']"
   ],
   "metadata": {
    "collapsed": false,
    "pycharm": {
     "name": "#%%\n"
    }
   }
  },
  {
   "cell_type": "code",
   "execution_count": null,
   "outputs": [],
   "source": [
    "box_with_trans_and_subjects['title_trans'] = box_with_trans_and_subjects[title_cols].apply(lambda title_cols: '; '.join(title_cols.dropna()), axis=1)"
   ],
   "metadata": {
    "collapsed": false,
    "pycharm": {
     "name": "#%%\n"
    }
   }
  },
  {
   "cell_type": "code",
   "execution_count": null,
   "outputs": [],
   "source": [
    "box_with_trans_and_subjects[box_with_trans_and_subjects['identifier'] == 'A-2 091'][FIELDS_TO_RETURN + FIELDS_PLUS_TITLES+ SUBJECT_TERMS+['title_trans']].to_clipboard()"
   ],
   "metadata": {
    "collapsed": false,
    "pycharm": {
     "name": "#%%\n"
    }
   }
  },
  {
   "cell_type": "markdown",
   "source": [
    "## Create the Combination Columns for Subjects (eventually also translations)"
   ],
   "metadata": {
    "collapsed": false,
    "pycharm": {
     "name": "#%% md\n"
    }
   }
  },
  {
   "cell_type": "markdown",
   "source": [
    "### example with  a single record"
   ],
   "metadata": {
    "collapsed": false,
    "pycharm": {
     "name": "#%% md\n"
    }
   }
  },
  {
   "cell_type": "code",
   "execution_count": null,
   "outputs": [],
   "source": [
    "bts_ss = box_with_trans_and_subjects[box_with_trans_and_subjects['identifier'] == 'A-2 091'][['identifier', 'subject', 'use_concept']]"
   ],
   "metadata": {
    "collapsed": false,
    "pycharm": {
     "name": "#%%\n"
    }
   }
  },
  {
   "cell_type": "code",
   "execution_count": null,
   "outputs": [],
   "source": [
    "bts_comb =  bts_ss.groupby(['identifier', 'subject'])['use_concept'].apply(lambda x: '; '.join(x)).reset_index()"
   ],
   "metadata": {
    "collapsed": false,
    "pycharm": {
     "name": "#%%\n"
    }
   }
  },
  {
   "cell_type": "code",
   "execution_count": null,
   "outputs": [],
   "source": [
    "bts_comb"
   ],
   "metadata": {
    "collapsed": false,
    "pycharm": {
     "name": "#%%\n"
    }
   }
  },
  {
   "cell_type": "markdown",
   "source": [
    "### remove any use_concept records that are NaN"
   ],
   "metadata": {
    "collapsed": false,
    "pycharm": {
     "name": "#%% md\n"
    }
   }
  },
  {
   "cell_type": "code",
   "execution_count": null,
   "outputs": [],
   "source": [
    "box_with_trans_and_subjects[box_with_trans_and_subjects['use_concept'].isna()]"
   ],
   "metadata": {
    "collapsed": false,
    "pycharm": {
     "name": "#%%\n"
    }
   }
  },
  {
   "cell_type": "code",
   "execution_count": null,
   "outputs": [],
   "source": [
    "bts = box_with_trans_and_subjects.dropna(subset=['use_concept'])"
   ],
   "metadata": {
    "collapsed": false,
    "pycharm": {
     "name": "#%%\n"
    }
   }
  },
  {
   "cell_type": "code",
   "execution_count": null,
   "outputs": [],
   "source": [
    "box_with_trans_and_subjects[box_with_trans_and_subjects['identifier']=='A-2 049'][['identifier','subject', 'use_concept']]"
   ],
   "metadata": {
    "collapsed": false,
    "pycharm": {
     "name": "#%%\n"
    }
   }
  },
  {
   "cell_type": "code",
   "execution_count": null,
   "outputs": [],
   "source": [
    "bts[bts['identifier'] == 'A-2 049'][['identifier','subject', 'use_concept']]"
   ],
   "metadata": {
    "collapsed": false,
    "pycharm": {
     "name": "#%%\n"
    }
   }
  },
  {
   "cell_type": "markdown",
   "source": [
    "### having dropped NaN use_concepts, create the DF with the combined subjects\n",
    "schema is identifier, use_concepts (combined)"
   ],
   "metadata": {
    "collapsed": false,
    "pycharm": {
     "name": "#%% md\n"
    }
   }
  },
  {
   "cell_type": "code",
   "execution_count": null,
   "outputs": [],
   "source": [
    "bts_combined_subjects = bts.groupby(['identifier'])['use_concept'].apply(lambda x: '; '.join(x)).reset_index()"
   ],
   "metadata": {
    "collapsed": false,
    "pycharm": {
     "name": "#%%\n"
    }
   }
  },
  {
   "cell_type": "code",
   "execution_count": null,
   "outputs": [],
   "source": [
    "output_test = bts_combined_subjects.merge(box_with_trans_and_subjects, on='identifier')\n",
    "# x.merge(title_translations, how='left', left_on='title', right_on='Title', indicator=True)"
   ],
   "metadata": {
    "collapsed": false,
    "pycharm": {
     "name": "#%%\n"
    }
   }
  },
  {
   "cell_type": "code",
   "execution_count": null,
   "outputs": [],
   "source": [
    "output_test[output].drop_duplicates()"
   ],
   "metadata": {
    "collapsed": false,
    "pycharm": {
     "name": "#%%\n"
    }
   }
  },
  {
   "cell_type": "markdown",
   "source": [
    "## This will be the script for outputting the file to the CSV"
   ],
   "metadata": {
    "collapsed": false,
    "pycharm": {
     "name": "#%% md\n"
    }
   }
  },
  {
   "cell_type": "code",
   "execution_count": null,
   "outputs": [],
   "source": [
    "output_test[output].to_csv(\n",
    "    path_or_buf='./csv_files/output_file.csv',\n",
    "    index=False, header=dc_output,\n",
    "    quoting=csv.QUOTE_NONNUMERIC\n",
    ")"
   ],
   "metadata": {
    "collapsed": false,
    "pycharm": {
     "name": "#%%\n"
    }
   }
  },
  {
   "cell_type": "code",
   "execution_count": 239,
   "id": "d3b93c7c",
   "metadata": {},
   "outputs": [],
   "source": [
    "bts_comb =  bts_ss.groupby(['identifier', 'subject'])['use_concept'].apply(lambda x: '; '.join(x)).reset_index()"
   ]
  },
  {
   "cell_type": "code",
   "execution_count": 240,
   "id": "ad50fcec",
   "metadata": {},
   "outputs": [
    {
     "data": {
      "text/html": [
       "<div>\n",
       "<style scoped>\n",
       "    .dataframe tbody tr th:only-of-type {\n",
       "        vertical-align: middle;\n",
       "    }\n",
       "\n",
       "    .dataframe tbody tr th {\n",
       "        vertical-align: top;\n",
       "    }\n",
       "\n",
       "    .dataframe thead th {\n",
       "        text-align: right;\n",
       "    }\n",
       "</style>\n",
       "<table border=\"1\" class=\"dataframe\">\n",
       "  <thead>\n",
       "    <tr style=\"text-align: right;\">\n",
       "      <th></th>\n",
       "      <th>identifier</th>\n",
       "      <th>subject</th>\n",
       "      <th>use_concept</th>\n",
       "    </tr>\n",
       "  </thead>\n",
       "  <tbody>\n",
       "    <tr>\n",
       "      <th>0</th>\n",
       "      <td>A-2 091</td>\n",
       "      <td>buildings (structures), streets, flags</td>\n",
       "      <td>buildings (structures); streets; flags</td>\n",
       "    </tr>\n",
       "  </tbody>\n",
       "</table>\n",
       "</div>"
      ],
      "text/plain": [
       "  identifier                                 subject  \\\n",
       "0    A-2 091  buildings (structures), streets, flags   \n",
       "\n",
       "                              use_concept  \n",
       "0  buildings (structures); streets; flags  "
      ]
     },
     "execution_count": 240,
     "metadata": {},
     "output_type": "execute_result"
    }
   ],
   "source": [
    "bts_comb"
   ]
  },
  {
   "cell_type": "markdown",
   "id": "333a933b",
   "metadata": {},
   "source": [
    "### remove any use_concept records that are NaN"
   ]
  },
  {
   "cell_type": "code",
   "execution_count": 238,
   "id": "385046d0",
   "metadata": {},
   "outputs": [
    {
     "data": {
      "text/html": [
       "<div>\n",
       "<style scoped>\n",
       "    .dataframe tbody tr th:only-of-type {\n",
       "        vertical-align: middle;\n",
       "    }\n",
       "\n",
       "    .dataframe tbody tr th {\n",
       "        vertical-align: top;\n",
       "    }\n",
       "\n",
       "    .dataframe thead th {\n",
       "        text-align: right;\n",
       "    }\n",
       "</style>\n",
       "<table border=\"1\" class=\"dataframe\">\n",
       "  <thead>\n",
       "    <tr style=\"text-align: right;\">\n",
       "      <th></th>\n",
       "      <th>identifier</th>\n",
       "      <th>media</th>\n",
       "      <th>title</th>\n",
       "      <th>subject</th>\n",
       "      <th>description</th>\n",
       "      <th>creator</th>\n",
       "      <th>publisher</th>\n",
       "      <th>date</th>\n",
       "      <th>rights</th>\n",
       "      <th>language</th>\n",
       "      <th>relation</th>\n",
       "      <th>format</th>\n",
       "      <th>type</th>\n",
       "      <th>coverage</th>\n",
       "      <th>spatial</th>\n",
       "      <th>extra_notes_x</th>\n",
       "      <th>Index</th>\n",
       "      <th>Title</th>\n",
       "      <th>Spanish (from Google)</th>\n",
       "      <th>title_ES</th>\n",
       "      <th>Unnamed: 4</th>\n",
       "      <th>Portuguese(from Google)</th>\n",
       "      <th>title_PT</th>\n",
       "      <th>_merge</th>\n",
       "      <th>identifier_y</th>\n",
       "      <th>title_y</th>\n",
       "      <th>subject_y</th>\n",
       "      <th>description_y</th>\n",
       "      <th>creator_y</th>\n",
       "      <th>publisher_y</th>\n",
       "      <th>date_y</th>\n",
       "      <th>rights_y</th>\n",
       "      <th>language_y</th>\n",
       "      <th>relation_y</th>\n",
       "      <th>format_y</th>\n",
       "      <th>type_y</th>\n",
       "      <th>coverage_y</th>\n",
       "      <th>spatial_y</th>\n",
       "      <th>subjects</th>\n",
       "      <th>join_concept</th>\n",
       "      <th>extra_notes_y</th>\n",
       "      <th>unnamed: 2</th>\n",
       "      <th>\\</th>\n",
       "      <th>unnamed: 4</th>\n",
       "      <th>AACR2_FLAG</th>\n",
       "      <th>DISPLAY_DATE</th>\n",
       "      <th>DISPLAY_NAME</th>\n",
       "      <th>DISPLAY_ORDER</th>\n",
       "      <th>END_DATE</th>\n",
       "      <th>HISTORIC_FLAG</th>\n",
       "      <th>OTHER_FLAGS</th>\n",
       "      <th>PREFERRED</th>\n",
       "      <th>START_DATE</th>\n",
       "      <th>SUBJECT_ID</th>\n",
       "      <th>TERM</th>\n",
       "      <th>TERM_ID</th>\n",
       "      <th>VERNACULAR</th>\n",
       "      <th>LANGUAGE_CODE</th>\n",
       "      <th>PREFERRED_y</th>\n",
       "      <th>SUBJECT_ID_y</th>\n",
       "      <th>QUALIFIER</th>\n",
       "      <th>TERM_TYPE</th>\n",
       "      <th>PART_OF_SPEECH</th>\n",
       "      <th>LANG_STAT</th>\n",
       "      <th>full_concept</th>\n",
       "      <th>use_concept</th>\n",
       "      <th>BoxId</th>\n",
       "      <th>Unnamed: 0</th>\n",
       "      <th>color</th>\n",
       "      <th>RGB</th>\n",
       "      <th>title_trans</th>\n",
       "    </tr>\n",
       "  </thead>\n",
       "  <tbody>\n",
       "    <tr>\n",
       "      <th>419</th>\n",
       "      <td>A-2 049</td>\n",
       "      <td>A-2_Arquin_002_049.jpg</td>\n",
       "      <td>Llamas in La Paz</td>\n",
       "      <td>llamas, cities</td>\n",
       "      <td>La Paz - Llamas</td>\n",
       "      <td>Florence Arquin, photographer</td>\n",
       "      <td>Florida Atlantic University</td>\n",
       "      <td>NaN</td>\n",
       "      <td>The copyright and related rights status of thi...</td>\n",
       "      <td>NaN</td>\n",
       "      <td>NaN</td>\n",
       "      <td>35 mm kodachrome slide</td>\n",
       "      <td>still image</td>\n",
       "      <td>-16.500/ -68.1667</td>\n",
       "      <td>La Paz (inhabited place), La Paz (department),...</td>\n",
       "      <td>La Paz</td>\n",
       "      <td>32.0</td>\n",
       "      <td>Llamas in La Paz</td>\n",
       "      <td>Llamas en la paz</td>\n",
       "      <td>Llamas en la paz</td>\n",
       "      <td>NaN</td>\n",
       "      <td>Lhamas em La Paz</td>\n",
       "      <td>Lhamas em La Paz</td>\n",
       "      <td>both</td>\n",
       "      <td>A-2 049</td>\n",
       "      <td>Llamas in La Paz</td>\n",
       "      <td>llamas, cities</td>\n",
       "      <td>La Paz - Llamas</td>\n",
       "      <td>Florence Arquin, photographer</td>\n",
       "      <td>Florida Atlantic University</td>\n",
       "      <td>NaN</td>\n",
       "      <td>The copyright and related rights status of thi...</td>\n",
       "      <td>NaN</td>\n",
       "      <td>NaN</td>\n",
       "      <td>35 mm kodachrome slide</td>\n",
       "      <td>still image</td>\n",
       "      <td>-16.500/ -68.1667</td>\n",
       "      <td>La Paz (inhabited place), La Paz (department),...</td>\n",
       "      <td>llamas</td>\n",
       "      <td>llamas</td>\n",
       "      <td>La Paz</td>\n",
       "      <td>NaN</td>\n",
       "      <td>NaN</td>\n",
       "      <td>NaN</td>\n",
       "      <td>NaN</td>\n",
       "      <td>NaN</td>\n",
       "      <td>NaN</td>\n",
       "      <td>NaN</td>\n",
       "      <td>NaN</td>\n",
       "      <td>NaN</td>\n",
       "      <td>NaN</td>\n",
       "      <td>NaN</td>\n",
       "      <td>NaN</td>\n",
       "      <td>NaN</td>\n",
       "      <td>NaN</td>\n",
       "      <td>NaN</td>\n",
       "      <td>NaN</td>\n",
       "      <td>NaN</td>\n",
       "      <td>NaN</td>\n",
       "      <td>NaN</td>\n",
       "      <td>NaN</td>\n",
       "      <td>NaN</td>\n",
       "      <td>NaN</td>\n",
       "      <td>NaN</td>\n",
       "      <td>NaN</td>\n",
       "      <td>NaN</td>\n",
       "      <td>Box 2</td>\n",
       "      <td>33</td>\n",
       "      <td>purple</td>\n",
       "      <td>(60, 0, 100)</td>\n",
       "      <td>Llamas in La Paz; Llamas en la paz; Lhamas em ...</td>\n",
       "    </tr>\n",
       "  </tbody>\n",
       "</table>\n",
       "</div>"
      ],
      "text/plain": [
       "    identifier                   media             title         subject  \\\n",
       "419    A-2 049  A-2_Arquin_002_049.jpg  Llamas in La Paz  llamas, cities   \n",
       "\n",
       "         description                        creator  \\\n",
       "419  La Paz - Llamas  Florence Arquin, photographer   \n",
       "\n",
       "                       publisher  date  \\\n",
       "419  Florida Atlantic University   NaN   \n",
       "\n",
       "                                                rights  language  relation  \\\n",
       "419  The copyright and related rights status of thi...       NaN       NaN   \n",
       "\n",
       "                     format         type           coverage  \\\n",
       "419  35 mm kodachrome slide  still image  -16.500/ -68.1667   \n",
       "\n",
       "                                               spatial extra_notes_x  Index  \\\n",
       "419  La Paz (inhabited place), La Paz (department),...        La Paz   32.0   \n",
       "\n",
       "                Title Spanish (from Google)          title_ES  Unnamed: 4  \\\n",
       "419  Llamas in La Paz      Llamas en la paz  Llamas en la paz         NaN   \n",
       "\n",
       "    Portuguese(from Google)          title_PT _merge identifier_y  \\\n",
       "419        Lhamas em La Paz  Lhamas em La Paz   both      A-2 049   \n",
       "\n",
       "              title_y       subject_y    description_y  \\\n",
       "419  Llamas in La Paz  llamas, cities  La Paz - Llamas   \n",
       "\n",
       "                         creator_y                  publisher_y date_y  \\\n",
       "419  Florence Arquin, photographer  Florida Atlantic University    NaN   \n",
       "\n",
       "                                              rights_y  language_y  \\\n",
       "419  The copyright and related rights status of thi...         NaN   \n",
       "\n",
       "     relation_y                format_y       type_y         coverage_y  \\\n",
       "419         NaN  35 mm kodachrome slide  still image  -16.500/ -68.1667   \n",
       "\n",
       "                                             spatial_y subjects join_concept  \\\n",
       "419  La Paz (inhabited place), La Paz (department),...   llamas       llamas   \n",
       "\n",
       "    extra_notes_y unnamed: 2    \\ unnamed: 4 AACR2_FLAG DISPLAY_DATE  \\\n",
       "419        La Paz        NaN  NaN        NaN        NaN          NaN   \n",
       "\n",
       "    DISPLAY_NAME  DISPLAY_ORDER END_DATE HISTORIC_FLAG OTHER_FLAGS PREFERRED  \\\n",
       "419          NaN            NaN      NaN           NaN         NaN       NaN   \n",
       "\n",
       "     START_DATE SUBJECT_ID TERM TERM_ID VERNACULAR LANGUAGE_CODE PREFERRED_y  \\\n",
       "419         NaN        NaN  NaN     NaN        NaN           NaN         NaN   \n",
       "\n",
       "    SUBJECT_ID_y QUALIFIER TERM_TYPE PART_OF_SPEECH LANG_STAT full_concept  \\\n",
       "419          NaN       NaN       NaN            NaN       NaN          NaN   \n",
       "\n",
       "    use_concept  BoxId  Unnamed: 0   color           RGB  \\\n",
       "419         NaN  Box 2          33  purple  (60, 0, 100)   \n",
       "\n",
       "                                           title_trans  \n",
       "419  Llamas in La Paz; Llamas en la paz; Lhamas em ...  "
      ]
     },
     "execution_count": 238,
     "metadata": {},
     "output_type": "execute_result"
    }
   ],
   "source": [
    "box_with_trans_and_subjects[box_with_trans_and_subjects['use_concept'].isna()]"
   ]
  },
  {
   "cell_type": "code",
   "execution_count": 241,
   "id": "a653a4e2",
   "metadata": {},
   "outputs": [],
   "source": [
    "bts = box_with_trans_and_subjects.dropna(subset=['use_concept'])"
   ]
  },
  {
   "cell_type": "code",
   "execution_count": 242,
   "id": "5a73ff04",
   "metadata": {},
   "outputs": [
    {
     "data": {
      "text/html": [
       "<div>\n",
       "<style scoped>\n",
       "    .dataframe tbody tr th:only-of-type {\n",
       "        vertical-align: middle;\n",
       "    }\n",
       "\n",
       "    .dataframe tbody tr th {\n",
       "        vertical-align: top;\n",
       "    }\n",
       "\n",
       "    .dataframe thead th {\n",
       "        text-align: right;\n",
       "    }\n",
       "</style>\n",
       "<table border=\"1\" class=\"dataframe\">\n",
       "  <thead>\n",
       "    <tr style=\"text-align: right;\">\n",
       "      <th></th>\n",
       "      <th>identifier</th>\n",
       "      <th>subject</th>\n",
       "      <th>use_concept</th>\n",
       "    </tr>\n",
       "  </thead>\n",
       "  <tbody>\n",
       "    <tr>\n",
       "      <th>419</th>\n",
       "      <td>A-2 049</td>\n",
       "      <td>llamas, cities</td>\n",
       "      <td>NaN</td>\n",
       "    </tr>\n",
       "    <tr>\n",
       "      <th>420</th>\n",
       "      <td>A-2 049</td>\n",
       "      <td>llamas, cities</td>\n",
       "      <td>cities</td>\n",
       "    </tr>\n",
       "  </tbody>\n",
       "</table>\n",
       "</div>"
      ],
      "text/plain": [
       "    identifier         subject use_concept\n",
       "419    A-2 049  llamas, cities         NaN\n",
       "420    A-2 049  llamas, cities      cities"
      ]
     },
     "execution_count": 242,
     "metadata": {},
     "output_type": "execute_result"
    }
   ],
   "source": [
    "box_with_trans_and_subjects[box_with_trans_and_subjects['identifier']=='A-2 049'][['identifier','subject', 'use_concept']]"
   ]
  },
  {
   "cell_type": "code",
   "execution_count": 244,
   "id": "0737b77b",
   "metadata": {},
   "outputs": [
    {
     "data": {
      "text/html": [
       "<div>\n",
       "<style scoped>\n",
       "    .dataframe tbody tr th:only-of-type {\n",
       "        vertical-align: middle;\n",
       "    }\n",
       "\n",
       "    .dataframe tbody tr th {\n",
       "        vertical-align: top;\n",
       "    }\n",
       "\n",
       "    .dataframe thead th {\n",
       "        text-align: right;\n",
       "    }\n",
       "</style>\n",
       "<table border=\"1\" class=\"dataframe\">\n",
       "  <thead>\n",
       "    <tr style=\"text-align: right;\">\n",
       "      <th></th>\n",
       "      <th>identifier</th>\n",
       "      <th>subject</th>\n",
       "      <th>use_concept</th>\n",
       "    </tr>\n",
       "  </thead>\n",
       "  <tbody>\n",
       "    <tr>\n",
       "      <th>420</th>\n",
       "      <td>A-2 049</td>\n",
       "      <td>llamas, cities</td>\n",
       "      <td>cities</td>\n",
       "    </tr>\n",
       "  </tbody>\n",
       "</table>\n",
       "</div>"
      ],
      "text/plain": [
       "    identifier         subject use_concept\n",
       "420    A-2 049  llamas, cities      cities"
      ]
     },
     "execution_count": 244,
     "metadata": {},
     "output_type": "execute_result"
    }
   ],
   "source": [
    "bts[bts['identifier'] == 'A-2 049'][['identifier','subject', 'use_concept']]"
   ]
  },
  {
   "cell_type": "markdown",
   "id": "4ad794bd",
   "metadata": {},
   "source": [
    "### having dropped NaN use_concepts, create the DF with the combined subjects\n",
    "schema is identifier, use_concepts (combined)"
   ]
  },
  {
   "cell_type": "code",
   "execution_count": 246,
   "id": "4b7f2a77",
   "metadata": {},
   "outputs": [],
   "source": [
    "bts_combined_subjects = bts.groupby(['identifier'])['use_concept'].apply(lambda x: '; '.join(x)).reset_index()"
   ]
  },
  {
   "cell_type": "code",
   "execution_count": 255,
   "id": "9c56300b",
   "metadata": {},
   "outputs": [],
   "source": [
    "output_test = bts_combined_subjects.merge(box_with_trans_and_subjects, on='identifier')\n",
    "# x.merge(title_translations, how='left', left_on='title', right_on='Title', indicator=True)"
   ]
  },
  {
   "cell_type": "code",
   "execution_count": 259,
   "id": "1fcb59a8",
   "metadata": {},
   "outputs": [
    {
     "data": {
      "text/html": [
       "<div>\n",
       "<style scoped>\n",
       "    .dataframe tbody tr th:only-of-type {\n",
       "        vertical-align: middle;\n",
       "    }\n",
       "\n",
       "    .dataframe tbody tr th {\n",
       "        vertical-align: top;\n",
       "    }\n",
       "\n",
       "    .dataframe thead th {\n",
       "        text-align: right;\n",
       "    }\n",
       "</style>\n",
       "<table border=\"1\" class=\"dataframe\">\n",
       "  <thead>\n",
       "    <tr style=\"text-align: right;\">\n",
       "      <th></th>\n",
       "      <th>identifier</th>\n",
       "      <th>media</th>\n",
       "      <th>title_trans</th>\n",
       "      <th>use_concept_x</th>\n",
       "      <th>description</th>\n",
       "      <th>creator</th>\n",
       "      <th>publisher</th>\n",
       "      <th>date</th>\n",
       "      <th>rights</th>\n",
       "      <th>language</th>\n",
       "      <th>relation</th>\n",
       "      <th>format</th>\n",
       "      <th>type</th>\n",
       "      <th>coverage</th>\n",
       "      <th>spatial</th>\n",
       "    </tr>\n",
       "  </thead>\n",
       "  <tbody>\n",
       "    <tr>\n",
       "      <th>0</th>\n",
       "      <td>A-1 269</td>\n",
       "      <td>A-1_Arquin_002_0269.jpg</td>\n",
       "      <td>View of Ghent; Vista de Ghent; Vista de Ghent</td>\n",
       "      <td>arch bridges; canals (waterways); cathedrals (...</td>\n",
       "      <td>NaN</td>\n",
       "      <td>Florence Arquin, photographer</td>\n",
       "      <td>Florida Atlantic University</td>\n",
       "      <td>NaN</td>\n",
       "      <td>The copyright and related rights status of thi...</td>\n",
       "      <td>NaN</td>\n",
       "      <td>NaN</td>\n",
       "      <td>35 mm kodachrome slide</td>\n",
       "      <td>still image</td>\n",
       "      <td>51.0500/ 3.7167</td>\n",
       "      <td>Ghent (inhabited place), East Flanders (provin...</td>\n",
       "    </tr>\n",
       "    <tr>\n",
       "      <th>3</th>\n",
       "      <td>A-1 270</td>\n",
       "      <td>A-1_Arquin_002_0270.jpg</td>\n",
       "      <td>View of Ghent; Vista de Ghent; Vista de Ghent</td>\n",
       "      <td>canals (waterways); streets; clock towers (tow...</td>\n",
       "      <td>NaN</td>\n",
       "      <td>Florence Arquin, photographer</td>\n",
       "      <td>Florida Atlantic University</td>\n",
       "      <td>NaN</td>\n",
       "      <td>The copyright and related rights status of thi...</td>\n",
       "      <td>NaN</td>\n",
       "      <td>NaN</td>\n",
       "      <td>35 mm kodachrome slide</td>\n",
       "      <td>still image</td>\n",
       "      <td>51.0500/ 3.7167</td>\n",
       "      <td>Ghent (inhabited place), East Flanders (provin...</td>\n",
       "    </tr>\n",
       "    <tr>\n",
       "      <th>6</th>\n",
       "      <td>A-1 271</td>\n",
       "      <td>A-1_Arquin_002_0271.jpg</td>\n",
       "      <td>Quay of Herbs; Muelle de hierbas; Cais das Ervas</td>\n",
       "      <td>quays; streets; clock towers (towers)</td>\n",
       "      <td>Quay of Herbs</td>\n",
       "      <td>Florence Arquin, photographer</td>\n",
       "      <td>Florida Atlantic University</td>\n",
       "      <td>NaN</td>\n",
       "      <td>The copyright and related rights status of thi...</td>\n",
       "      <td>NaN</td>\n",
       "      <td>NaN</td>\n",
       "      <td>35 mm kodachrome slide</td>\n",
       "      <td>still image</td>\n",
       "      <td>51.0500/ 3.7167</td>\n",
       "      <td>Ghent (inhabited place), East Flanders (provin...</td>\n",
       "    </tr>\n",
       "    <tr>\n",
       "      <th>9</th>\n",
       "      <td>A-1 272</td>\n",
       "      <td>A-1_Arquin_002_0272.jpg</td>\n",
       "      <td>Quay of Herbs; Muelle de hierbas; Cais das Ervas</td>\n",
       "      <td>quays; streets; clock towers (towers)</td>\n",
       "      <td>Quay of Herbs</td>\n",
       "      <td>Florence Arquin, photographer</td>\n",
       "      <td>Florida Atlantic University</td>\n",
       "      <td>NaN</td>\n",
       "      <td>The copyright and related rights status of thi...</td>\n",
       "      <td>NaN</td>\n",
       "      <td>NaN</td>\n",
       "      <td>35 mm kodachrome slide</td>\n",
       "      <td>still image</td>\n",
       "      <td>51.0500/ 3.7167</td>\n",
       "      <td>Ghent (inhabited place), East Flanders (provin...</td>\n",
       "    </tr>\n",
       "    <tr>\n",
       "      <th>12</th>\n",
       "      <td>A-1 273</td>\n",
       "      <td>A-1_Arquin_002_0273.jpg</td>\n",
       "      <td>Quay of Herbs; Muelle de hierbas; Cais das Ervas</td>\n",
       "      <td>quays; streets; clock towers (towers)</td>\n",
       "      <td>Quay of Herbs</td>\n",
       "      <td>Florence Arquin, photographer</td>\n",
       "      <td>Florida Atlantic University</td>\n",
       "      <td>NaN</td>\n",
       "      <td>The copyright and related rights status of thi...</td>\n",
       "      <td>NaN</td>\n",
       "      <td>NaN</td>\n",
       "      <td>35 mm kodachrome slide</td>\n",
       "      <td>still image</td>\n",
       "      <td>51.0500/ 3.7167</td>\n",
       "      <td>Ghent (inhabited place), East Flanders (provin...</td>\n",
       "    </tr>\n",
       "    <tr>\n",
       "      <th>...</th>\n",
       "      <td>...</td>\n",
       "      <td>...</td>\n",
       "      <td>...</td>\n",
       "      <td>...</td>\n",
       "      <td>...</td>\n",
       "      <td>...</td>\n",
       "      <td>...</td>\n",
       "      <td>...</td>\n",
       "      <td>...</td>\n",
       "      <td>...</td>\n",
       "      <td>...</td>\n",
       "      <td>...</td>\n",
       "      <td>...</td>\n",
       "      <td>...</td>\n",
       "      <td>...</td>\n",
       "    </tr>\n",
       "    <tr>\n",
       "      <th>680</th>\n",
       "      <td>A-2 334</td>\n",
       "      <td>A-2_Arquin_002_334.jpg</td>\n",
       "      <td>Church of San Francisco, Upper Section; Iglesi...</td>\n",
       "      <td>churches (buildings); architectural sculpture</td>\n",
       "      <td>Colonial Churches - San Francisco (1753-1772) ...</td>\n",
       "      <td>Florence Arquin, photographer</td>\n",
       "      <td>Florida Atlantic University</td>\n",
       "      <td>NaN</td>\n",
       "      <td>The copyright and related rights status of thi...</td>\n",
       "      <td>NaN</td>\n",
       "      <td>NaN</td>\n",
       "      <td>35 mm kodachrome slide</td>\n",
       "      <td>still image</td>\n",
       "      <td>-16.500/ -68.1667</td>\n",
       "      <td>La Paz (inhabited place), La Paz (department),...</td>\n",
       "    </tr>\n",
       "    <tr>\n",
       "      <th>682</th>\n",
       "      <td>A-2 336</td>\n",
       "      <td>A-2_Arquin_002_336.jpg</td>\n",
       "      <td>Church of San Francisco, Domes and Roofs; Igle...</td>\n",
       "      <td>churches (buildings); domes (architectural ele...</td>\n",
       "      <td>Colonial Churches - San Francisco (1753-1772) ...</td>\n",
       "      <td>Florence Arquin, photographer</td>\n",
       "      <td>Florida Atlantic University</td>\n",
       "      <td>NaN</td>\n",
       "      <td>The copyright and related rights status of thi...</td>\n",
       "      <td>NaN</td>\n",
       "      <td>NaN</td>\n",
       "      <td>35 mm kodachrome slide</td>\n",
       "      <td>still image</td>\n",
       "      <td>-16.500/ -68.1667</td>\n",
       "      <td>La Paz (inhabited place), La Paz (department),...</td>\n",
       "    </tr>\n",
       "    <tr>\n",
       "      <th>685</th>\n",
       "      <td>A-2 337</td>\n",
       "      <td>A-2_Arquin_002_337.jpg</td>\n",
       "      <td>Church of San Francisco, Cloister; Iglesia de ...</td>\n",
       "      <td>churches (buildings); cloisters; children (peo...</td>\n",
       "      <td>Colonial Churches - San Francisco (1753-1772) ...</td>\n",
       "      <td>Florence Arquin, photographer</td>\n",
       "      <td>Florida Atlantic University</td>\n",
       "      <td>NaN</td>\n",
       "      <td>The copyright and related rights status of thi...</td>\n",
       "      <td>NaN</td>\n",
       "      <td>NaN</td>\n",
       "      <td>35 mm kodachrome slide</td>\n",
       "      <td>still image</td>\n",
       "      <td>-16.500/ -68.1667</td>\n",
       "      <td>La Paz (inhabited place), La Paz (department),...</td>\n",
       "    </tr>\n",
       "    <tr>\n",
       "      <th>688</th>\n",
       "      <td>A-2 338</td>\n",
       "      <td>A-2_Arquin_002_338.jpg</td>\n",
       "      <td>Church of San Sebastian; Iglesia de San Sebast...</td>\n",
       "      <td>churches (buildings); bell towers; portals</td>\n",
       "      <td>Colonial Churches - San Sebastian Entirely Reb...</td>\n",
       "      <td>Florence Arquin, photographer</td>\n",
       "      <td>Florida Atlantic University</td>\n",
       "      <td>NaN</td>\n",
       "      <td>The copyright and related rights status of thi...</td>\n",
       "      <td>NaN</td>\n",
       "      <td>NaN</td>\n",
       "      <td>35 mm kodachrome slide</td>\n",
       "      <td>still image</td>\n",
       "      <td>-16.500/ -68.1667</td>\n",
       "      <td>La Paz (inhabited place), La Paz (department),...</td>\n",
       "    </tr>\n",
       "    <tr>\n",
       "      <th>691</th>\n",
       "      <td>A-2 340</td>\n",
       "      <td>A-2_Arquin_002_340.jpg</td>\n",
       "      <td>Church of Santo Domingo; Iglesia de Santo Domi...</td>\n",
       "      <td>churches (buildings); portals; architectural s...</td>\n",
       "      <td>Colonial Churches - Santo Domingo (ca. 1750) F...</td>\n",
       "      <td>Florence Arquin, photographer</td>\n",
       "      <td>Florida Atlantic University</td>\n",
       "      <td>NaN</td>\n",
       "      <td>The copyright and related rights status of thi...</td>\n",
       "      <td>NaN</td>\n",
       "      <td>NaN</td>\n",
       "      <td>35 mm kodachrome slide</td>\n",
       "      <td>still image</td>\n",
       "      <td>-16.500/ -68.1667</td>\n",
       "      <td>La Paz (inhabited place), La Paz (department),...</td>\n",
       "    </tr>\n",
       "  </tbody>\n",
       "</table>\n",
       "<p>226 rows × 15 columns</p>\n",
       "</div>"
      ],
      "text/plain": [
       "    identifier                    media  \\\n",
       "0      A-1 269  A-1_Arquin_002_0269.jpg   \n",
       "3      A-1 270  A-1_Arquin_002_0270.jpg   \n",
       "6      A-1 271  A-1_Arquin_002_0271.jpg   \n",
       "9      A-1 272  A-1_Arquin_002_0272.jpg   \n",
       "12     A-1 273  A-1_Arquin_002_0273.jpg   \n",
       "..         ...                      ...   \n",
       "680    A-2 334   A-2_Arquin_002_334.jpg   \n",
       "682    A-2 336   A-2_Arquin_002_336.jpg   \n",
       "685    A-2 337   A-2_Arquin_002_337.jpg   \n",
       "688    A-2 338   A-2_Arquin_002_338.jpg   \n",
       "691    A-2 340   A-2_Arquin_002_340.jpg   \n",
       "\n",
       "                                           title_trans  \\\n",
       "0        View of Ghent; Vista de Ghent; Vista de Ghent   \n",
       "3        View of Ghent; Vista de Ghent; Vista de Ghent   \n",
       "6     Quay of Herbs; Muelle de hierbas; Cais das Ervas   \n",
       "9     Quay of Herbs; Muelle de hierbas; Cais das Ervas   \n",
       "12    Quay of Herbs; Muelle de hierbas; Cais das Ervas   \n",
       "..                                                 ...   \n",
       "680  Church of San Francisco, Upper Section; Iglesi...   \n",
       "682  Church of San Francisco, Domes and Roofs; Igle...   \n",
       "685  Church of San Francisco, Cloister; Iglesia de ...   \n",
       "688  Church of San Sebastian; Iglesia de San Sebast...   \n",
       "691  Church of Santo Domingo; Iglesia de Santo Domi...   \n",
       "\n",
       "                                         use_concept_x  \\\n",
       "0    arch bridges; canals (waterways); cathedrals (...   \n",
       "3    canals (waterways); streets; clock towers (tow...   \n",
       "6                quays; streets; clock towers (towers)   \n",
       "9                quays; streets; clock towers (towers)   \n",
       "12               quays; streets; clock towers (towers)   \n",
       "..                                                 ...   \n",
       "680      churches (buildings); architectural sculpture   \n",
       "682  churches (buildings); domes (architectural ele...   \n",
       "685  churches (buildings); cloisters; children (peo...   \n",
       "688         churches (buildings); bell towers; portals   \n",
       "691  churches (buildings); portals; architectural s...   \n",
       "\n",
       "                                           description  \\\n",
       "0                                                  NaN   \n",
       "3                                                  NaN   \n",
       "6                                        Quay of Herbs   \n",
       "9                                        Quay of Herbs   \n",
       "12                                       Quay of Herbs   \n",
       "..                                                 ...   \n",
       "680  Colonial Churches - San Francisco (1753-1772) ...   \n",
       "682  Colonial Churches - San Francisco (1753-1772) ...   \n",
       "685  Colonial Churches - San Francisco (1753-1772) ...   \n",
       "688  Colonial Churches - San Sebastian Entirely Reb...   \n",
       "691  Colonial Churches - Santo Domingo (ca. 1750) F...   \n",
       "\n",
       "                           creator                    publisher  date  \\\n",
       "0    Florence Arquin, photographer  Florida Atlantic University   NaN   \n",
       "3    Florence Arquin, photographer  Florida Atlantic University   NaN   \n",
       "6    Florence Arquin, photographer  Florida Atlantic University   NaN   \n",
       "9    Florence Arquin, photographer  Florida Atlantic University   NaN   \n",
       "12   Florence Arquin, photographer  Florida Atlantic University   NaN   \n",
       "..                             ...                          ...   ...   \n",
       "680  Florence Arquin, photographer  Florida Atlantic University   NaN   \n",
       "682  Florence Arquin, photographer  Florida Atlantic University   NaN   \n",
       "685  Florence Arquin, photographer  Florida Atlantic University   NaN   \n",
       "688  Florence Arquin, photographer  Florida Atlantic University   NaN   \n",
       "691  Florence Arquin, photographer  Florida Atlantic University   NaN   \n",
       "\n",
       "                                                rights  language  relation  \\\n",
       "0    The copyright and related rights status of thi...       NaN       NaN   \n",
       "3    The copyright and related rights status of thi...       NaN       NaN   \n",
       "6    The copyright and related rights status of thi...       NaN       NaN   \n",
       "9    The copyright and related rights status of thi...       NaN       NaN   \n",
       "12   The copyright and related rights status of thi...       NaN       NaN   \n",
       "..                                                 ...       ...       ...   \n",
       "680  The copyright and related rights status of thi...       NaN       NaN   \n",
       "682  The copyright and related rights status of thi...       NaN       NaN   \n",
       "685  The copyright and related rights status of thi...       NaN       NaN   \n",
       "688  The copyright and related rights status of thi...       NaN       NaN   \n",
       "691  The copyright and related rights status of thi...       NaN       NaN   \n",
       "\n",
       "                     format         type           coverage  \\\n",
       "0    35 mm kodachrome slide  still image    51.0500/ 3.7167   \n",
       "3    35 mm kodachrome slide  still image    51.0500/ 3.7167   \n",
       "6    35 mm kodachrome slide  still image    51.0500/ 3.7167   \n",
       "9    35 mm kodachrome slide  still image    51.0500/ 3.7167   \n",
       "12   35 mm kodachrome slide  still image    51.0500/ 3.7167   \n",
       "..                      ...          ...                ...   \n",
       "680  35 mm kodachrome slide  still image  -16.500/ -68.1667   \n",
       "682  35 mm kodachrome slide  still image  -16.500/ -68.1667   \n",
       "685  35 mm kodachrome slide  still image  -16.500/ -68.1667   \n",
       "688  35 mm kodachrome slide  still image  -16.500/ -68.1667   \n",
       "691  35 mm kodachrome slide  still image  -16.500/ -68.1667   \n",
       "\n",
       "                                               spatial  \n",
       "0    Ghent (inhabited place), East Flanders (provin...  \n",
       "3    Ghent (inhabited place), East Flanders (provin...  \n",
       "6    Ghent (inhabited place), East Flanders (provin...  \n",
       "9    Ghent (inhabited place), East Flanders (provin...  \n",
       "12   Ghent (inhabited place), East Flanders (provin...  \n",
       "..                                                 ...  \n",
       "680  La Paz (inhabited place), La Paz (department),...  \n",
       "682  La Paz (inhabited place), La Paz (department),...  \n",
       "685  La Paz (inhabited place), La Paz (department),...  \n",
       "688  La Paz (inhabited place), La Paz (department),...  \n",
       "691  La Paz (inhabited place), La Paz (department),...  \n",
       "\n",
       "[226 rows x 15 columns]"
      ]
     },
     "execution_count": 259,
     "metadata": {},
     "output_type": "execute_result"
    }
   ],
   "source": [
    "output_test[output].drop_duplicates()"
   ]
  },
  {
   "cell_type": "markdown",
   "id": "6709cae7",
   "metadata": {
    "pycharm": {
     "name": "#%% md\n"
    }
   },
   "source": [
    "## This will be the script for outputting the file to the CSV"
   ]
  },
  {
   "cell_type": "code",
   "execution_count": 260,
   "id": "8b689241",
   "metadata": {
    "pycharm": {
     "name": "#%%\n"
    }
   },
   "outputs": [],
   "source": [
    "output_test[output].to_csv(\n",
    "    path_or_buf='./csv_files/output_file.csv',\n",
    "    index=False, header=dc_output,\n",
    "    quoting=csv.QUOTE_NONNUMERIC\n",
    ")"
   ]
  }
 ],
 "metadata": {
  "kernelspec": {
   "display_name": "Python 3",
   "language": "python",
   "name": "python3"
  },
  "language_info": {
   "codemirror_mode": {
    "name": "ipython",
    "version": 3
   },
   "file_extension": ".py",
   "mimetype": "text/x-python",
   "name": "python",
   "nbconvert_exporter": "python",
   "pygments_lexer": "ipython3",
   "version": "3.8.8"
  }
 },
 "nbformat": 4,
 "nbformat_minor": 5
}