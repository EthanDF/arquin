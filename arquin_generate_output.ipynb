{
 "cells": [
  {
   "cell_type": "markdown",
   "id": "2c8e00c2",
   "metadata": {
    "pycharm": {
     "name": "#%% md\n"
    }
   },
   "source": [
    "# Generate Output\n",
    "This notebook will read in the metadata from the [Arquin Spreadsheet](https://docs.google.com/spreadsheets/d/1LRbios7yQRo3aqCh0Es2Wiae_dicg_OtL-_yqP-Tb8I/edit#gid=1718343431) and product an output for ingestion into Omeka "
   ]
  },
  {
   "cell_type": "code",
   "execution_count": 116,
   "id": "00635c77",
   "metadata": {
    "pycharm": {
     "name": "#%%\n"
    }
   },
   "outputs": [],
   "source": [
    "url = 'https://docs.google.com/spreadsheets/d/1LRbios7yQRo3aqCh0Es2Wiae_dicg_OtL-_yqP-Tb8I/edit#gid=1718343431'"
   ]
  },
  {
   "cell_type": "markdown",
   "id": "8eb162bb",
   "metadata": {
    "pycharm": {
     "name": "#%% md\n"
    }
   },
   "source": [
    "## import libraries"
   ]
  },
  {
   "cell_type": "code",
   "execution_count": 117,
   "id": "54fa3b79",
   "metadata": {
    "pycharm": {
     "name": "#%%\n"
    }
   },
   "outputs": [],
   "source": [
    "from IPython.display import clear_output\n",
    "import pandas as pd\n",
    "from pandas import Series\n",
    "import numpy as np\n",
    "import re\n",
    "import csv\n",
    "from gsheets import Sheets\n",
    "from datetime import datetime"
   ]
  },
  {
   "cell_type": "code",
   "execution_count": 118,
   "id": "3b6dd4b8",
   "metadata": {
    "pycharm": {
     "name": "#%%\n"
    }
   },
   "outputs": [
    {
     "name": "stderr",
     "output_type": "stream",
     "text": [
      "/var/folders/ts/9ppg2hqj4t5_9cslr1528y_m0000gp/T/ipykernel_49992/3168744551.py:2: FutureWarning: The error_bad_lines argument has been deprecated and will be removed in a future version. Use on_bad_lines in the future.\n",
      "\n",
      "\n",
      "  data = pd.read_csv(file_path\n",
      "/var/folders/ts/9ppg2hqj4t5_9cslr1528y_m0000gp/T/ipykernel_49992/3168744551.py:2: FutureWarning: The warn_bad_lines argument has been deprecated and will be removed in a future version. Use on_bad_lines in the future.\n",
      "\n",
      "\n",
      "  data = pd.read_csv(file_path\n",
      "b'Skipping line 451800: expected 13 fields, saw 14\\n'\n",
      "/var/folders/ts/9ppg2hqj4t5_9cslr1528y_m0000gp/T/ipykernel_49992/3168744551.py:2: DtypeWarning: Columns (4) have mixed types. Specify dtype option on import or set low_memory=False.\n",
      "  data = pd.read_csv(file_path\n",
      "/var/folders/ts/9ppg2hqj4t5_9cslr1528y_m0000gp/T/ipykernel_49992/3168744551.py:2: FutureWarning: The error_bad_lines argument has been deprecated and will be removed in a future version. Use on_bad_lines in the future.\n",
      "\n",
      "\n",
      "  data = pd.read_csv(file_path\n",
      "/var/folders/ts/9ppg2hqj4t5_9cslr1528y_m0000gp/T/ipykernel_49992/3168744551.py:2: FutureWarning: The warn_bad_lines argument has been deprecated and will be removed in a future version. Use on_bad_lines in the future.\n",
      "\n",
      "\n",
      "  data = pd.read_csv(file_path\n",
      "b'Skipping line 466042: expected 8 fields, saw 9\\nSkipping line 468123: expected 8 fields, saw 9\\n'\n"
     ]
    }
   ],
   "source": [
    "%run functions.ipynb"
   ]
  },
  {
   "cell_type": "markdown",
   "id": "543b0831",
   "metadata": {
    "pycharm": {
     "name": "#%% md\n"
    }
   },
   "source": [
    "## Load the spreadsheet information"
   ]
  },
  {
   "cell_type": "code",
   "execution_count": 119,
   "id": "65026ed0",
   "metadata": {
    "pycharm": {
     "name": "#%%\n"
    }
   },
   "outputs": [],
   "source": [
    "# if HttpAccessTokenRefreshError, close everything and start over\n",
    "sheets = Sheets.from_files('~/client_secrets.json', '~/storage.json')\n",
    "s = sheets.get(url)"
   ]
  },
  {
   "cell_type": "markdown",
   "id": "ec9e2b8d",
   "metadata": {
    "pycharm": {
     "name": "#%% md\n"
    }
   },
   "source": [
    "## This is testing to figure out how to get all the data where it needs to go!"
   ]
  },
  {
   "cell_type": "markdown",
   "id": "eb3be5bb",
   "metadata": {
    "pycharm": {
     "name": "#%% md\n"
    }
   },
   "source": [
    "### Get the list of Identifiers by Box Number"
   ]
  },
  {
   "cell_type": "code",
   "execution_count": 120,
   "id": "3967436f",
   "metadata": {
    "pycharm": {
     "name": "#%%\n"
    }
   },
   "outputs": [],
   "source": [
    "# get the list of boxes containing metadata\n",
    "\n",
    "box_list = []\n",
    "box_list_sheets = s.sheets.titles()\n",
    "\n",
    "for b in box_list_sheets:\n",
    "    if 'Box' in b:\n",
    "        box_list.append(int(b[4:]))"
   ]
  },
  {
   "cell_type": "code",
   "execution_count": 6,
   "id": "e48d903e",
   "metadata": {
    "pycharm": {
     "name": "#%%\n"
    }
   },
   "outputs": [
    {
     "data": {
      "text/plain": [
       "[1,\n",
       " 2,\n",
       " 3,\n",
       " 4,\n",
       " 5,\n",
       " 6,\n",
       " 7,\n",
       " 8,\n",
       " 9,\n",
       " 10,\n",
       " 11,\n",
       " 12,\n",
       " 13,\n",
       " 14,\n",
       " 15,\n",
       " 16,\n",
       " 17,\n",
       " 18,\n",
       " 19,\n",
       " 20,\n",
       " 21,\n",
       " 22,\n",
       " 23,\n",
       " 24,\n",
       " 25,\n",
       " 26,\n",
       " 27,\n",
       " 28,\n",
       " 29,\n",
       " 30,\n",
       " 31,\n",
       " 32,\n",
       " 33,\n",
       " 34,\n",
       " 35,\n",
       " 36,\n",
       " 37,\n",
       " 38,\n",
       " 39,\n",
       " 40,\n",
       " 41,\n",
       " 42,\n",
       " 43,\n",
       " 44,\n",
       " 45,\n",
       " 46,\n",
       " 47,\n",
       " 48,\n",
       " 49,\n",
       " 50,\n",
       " 51,\n",
       " 52,\n",
       " 53,\n",
       " 54,\n",
       " 55,\n",
       " 56,\n",
       " 57,\n",
       " 58,\n",
       " 59,\n",
       " 60,\n",
       " 61,\n",
       " 62,\n",
       " 63,\n",
       " 64,\n",
       " 65,\n",
       " 66,\n",
       " 67,\n",
       " 68,\n",
       " 69]"
      ]
     },
     "execution_count": 6,
     "metadata": {},
     "output_type": "execute_result"
    }
   ],
   "source": [
    "box_list"
   ]
  },
  {
   "cell_type": "code",
   "execution_count": 141,
   "id": "3e0ecc72",
   "metadata": {
    "pycharm": {
     "name": "#%%\n"
    }
   },
   "outputs": [],
   "source": [
    "x = return_box(box_list[0])"
   ]
  },
  {
   "cell_type": "code",
   "execution_count": 142,
   "id": "7c2a8b1c",
   "metadata": {
    "pycharm": {
     "name": "#%%\n"
    }
   },
   "outputs": [],
   "source": [
    "# concepts[concepts['join_concept'].notna()]\n",
    "'''strip leading and trailing space'''\n",
    " \n",
    "x['title'] = x['title'].str.strip()"
   ]
  },
  {
   "cell_type": "markdown",
   "source": [
    "### Get the title translations\n",
    "from Box 'unique_titles' or 'unique_titles_06142022' - pending clarification"
   ],
   "metadata": {
    "collapsed": false,
    "pycharm": {
     "name": "#%% md\n"
    }
   }
  },
  {
   "cell_type": "code",
   "execution_count": null,
   "outputs": [],
   "source": [
    "title_translations = s.find('unique_titles').to_frame()"
   ],
   "metadata": {
    "collapsed": false,
    "pycharm": {
     "name": "#%%\n"
    }
   }
  },
  {
   "cell_type": "code",
   "execution_count": null,
   "outputs": [],
   "source": [
    "FIELDS_TO_RETURN = ['identifier', 'media', 'title', 'subject', 'description', 'publisher', \n",
    "                 'date', 'rights', 'language', 'relation', 'format', 'type', 'coverage', 'spatial']"
   ],
   "metadata": {
    "collapsed": false,
    "pycharm": {
     "name": "#%%\n"
    }
   }
  },
  {
   "cell_type": "code",
   "execution_count": null,
   "outputs": [],
   "source": [
    "x[FIELDS_TO_RETURN]"
   ],
   "metadata": {
    "collapsed": false,
    "pycharm": {
     "name": "#%%\n"
    }
   }
  },
  {
   "cell_type": "code",
   "execution_count": null,
   "outputs": [],
   "source": [
    "box_with_trans = x.merge(title_translations, how='left', left_on='title', right_on='Title', indicator=True)"
   ],
   "metadata": {
    "collapsed": false,
    "pycharm": {
     "name": "#%%\n"
    }
   }
  },
  {
   "cell_type": "code",
   "execution_count": null,
   "outputs": [],
   "source": [
    "box_with_trans.columns"
   ],
   "metadata": {
    "collapsed": false,
    "pycharm": {
     "name": "#%%\n"
    }
   }
  },
  {
   "cell_type": "code",
   "execution_count": null,
   "outputs": [],
   "source": [
    "FIELDS_PLUS_TITLES = ['Spanish (from Google)', 'Translation ES', 'Portuguese(from Google)', 'Translation PT', '_merge']"
   ],
   "metadata": {
    "collapsed": false,
    "pycharm": {
     "name": "#%%\n"
    }
   }
  },
  {
   "cell_type": "code",
   "execution_count": null,
   "outputs": [],
   "source": [
    "FIELDS_PLUS_TITLES + FIELDS_TO_RETURN"
   ],
   "metadata": {
    "collapsed": false,
    "pycharm": {
     "name": "#%%\n"
    }
   }
  },
  {
   "cell_type": "code",
   "execution_count": null,
   "outputs": [],
   "source": [
    "box_with_trans[FIELDS_TO_RETURN + FIELDS_PLUS_TITLES]"
   ],
   "metadata": {
    "collapsed": false,
    "pycharm": {
     "name": "#%%\n"
    }
   }
  },
  {
   "cell_type": "markdown",
   "source": [
    "## Load Arquin Metadata with validated Subjects for parsing subjects"
   ],
   "metadata": {
    "collapsed": false,
    "pycharm": {
     "name": "#%% md\n"
    }
   }
  },
  {
   "cell_type": "code",
   "execution_count": null,
   "outputs": [],
   "source": [
    "%run arquin_metadata_subjects_review_final.ipynb"
   ],
   "metadata": {
    "collapsed": false,
    "pycharm": {
     "name": "#%%\n"
    }
   }
  },
  {
   "cell_type": "code",
   "execution_count": null,
   "outputs": [],
   "source": [
    "box_with_trans[box_with_trans['identifier']=='A-1 02']"
   ],
   "metadata": {
    "collapsed": false,
    "pycharm": {
     "name": "#%%\n"
    }
   }
  },
  {
   "cell_type": "code",
   "execution_count": null,
   "outputs": [],
   "source": [
    "box_with_trans_and_subjects = box_with_trans.merge(df, on=['media'])"
   ],
   "metadata": {
    "collapsed": false,
    "pycharm": {
     "name": "#%%\n"
    }
   }
  },
  {
   "cell_type": "code",
   "execution_count": null,
   "outputs": [],
   "source": [
    "SUBJECT_TERMS = ['SUBJECT_ID', 'TERM_ID', 'LANGUAGE_CODE', 'use_concept', 'BoxId', 'color']"
   ],
   "metadata": {
    "collapsed": false,
    "pycharm": {
     "name": "#%%\n"
    }
   }
  },
  {
   "cell_type": "markdown",
   "source": [
    "## Rename the columns post join "
   ],
   "metadata": {
    "collapsed": false,
    "pycharm": {
     "name": "#%% md\n"
    }
   }
  },
  {
   "cell_type": "code",
   "execution_count": null,
   "outputs": [],
   "source": [
    "box_with_trans_and_subjects = box_with_trans_and_subjects.rename(columns={'identifier_x': 'identifier', \n",
    "'media': 'media', \n",
    "'title_x': 'title', \n",
    "'subject_x': 'subject', \n",
    "'description_x': 'description', \n",
    "'creator_x': 'creator', \n",
    "'publisher_x': 'publisher', \n",
    "'date_x': 'date', \n",
    "'rights_x': 'rights', \n",
    "'language_x': 'language', \n",
    "'relation_x': 'relation', \n",
    "'format_x': 'format', \n",
    "'type_x': 'type', \n",
    "'coverage_x': 'coverage', \n",
    "'spatial_x': 'spatial', \n",
    "'Index': 'Index', \n",
    "'Title': 'Title', \n",
    "'Spanish (from Google)': 'Spanish (from Google)', \n",
    "'Translation ES': 'Translation ES', \n",
    "'EmptyColumn': 'EmptyColumn', \n",
    "'Portuguese(from Google)': 'Portuguese(from Google)', \n",
    "'Translation PT': 'Translation PT', \n",
    "'_merge': '_merge', \n",
    "'identifier_y': 'identifier_y', \n",
    "'title_y': 'title_y', \n",
    "'subject_y': 'subject_y', \n",
    "'description_y': 'description_y', \n",
    "'creator_y': 'creator_y', \n",
    "'publisher_y': 'publisher_y', \n",
    "'date_y': 'date_y', \n",
    "'rights_y': 'rights_y', \n",
    "'language_y': 'language_y', \n",
    "'relation_y': 'relation_y', \n",
    "'format_y': 'format_y', \n",
    "'type_y': 'type_y', \n",
    "'coverage_y': 'coverage_y', \n",
    "'spatial_y': 'spatial_y', \n",
    "'subjects': 'subjects', \n",
    "'join_concept': 'join_concept', \n",
    "'extra_notes': 'extra_notes', \n",
    "'unnamed: 2': 'unnamed: 2', \n",
    "'unnamed: 4': 'unnamed: 4', \n",
    "'AACR2_FLAG': 'AACR2_FLAG', \n",
    "'DISPLAY_DATE': 'DISPLAY_DATE', \n",
    "'DISPLAY_NAME': 'DISPLAY_NAME', \n",
    "'DISPLAY_ORDER': 'DISPLAY_ORDER', \n",
    "'END_DATE': 'END_DATE', \n",
    "'HISTORIC_FLAG': 'HISTORIC_FLAG', \n",
    "'OTHER_FLAGS': 'OTHER_FLAGS', \n",
    "'PREFERRED_x': 'PREFERRED', \n",
    "'START_DATE': 'START_DATE', \n",
    "'SUBJECT_ID_x': 'SUBJECT_ID', \n",
    "'TERM': 'TERM', \n",
    "'TERM_ID': 'TERM_ID', \n",
    "'VERNACULAR': 'VERNACULAR', \n",
    "'LANGUAGE_CODE': 'LANGUAGE_CODE', \n",
    "'PREFERRED_y': 'PREFERRED_y', \n",
    "'SUBJECT_ID_y': 'SUBJECT_ID_y', \n",
    "'QUALIFIER': 'QUALIFIER', \n",
    "'TERM_TYPE': 'TERM_TYPE', \n",
    "'PART_OF_SPEECH': 'PART_OF_SPEECH', \n",
    "'LANG_STAT': 'LANG_STAT', \n",
    "'full_concept': 'full_concept', \n",
    "'use_concept': 'use_concept', \n",
    "'BoxId': 'BoxId', \n",
    "'Unnamed: 0': 'Unnamed: 0', \n",
    "'color': 'color', \n",
    "'RGB': 'RGB'})"
   ],
   "metadata": {
    "collapsed": false,
    "pycharm": {
     "name": "#%%\n"
    }
   }
  },
  {
   "cell_type": "code",
   "execution_count": null,
   "outputs": [],
   "source": [
    "# show all the columns up to 500\n",
    "pd.set_option('display.max_columns', 500)"
   ],
   "metadata": {
    "collapsed": false,
    "pycharm": {
     "name": "#%%\n"
    }
   }
  },
  {
   "cell_type": "code",
   "execution_count": null,
   "outputs": [],
   "source": [
    "box_with_trans_and_subjects[FIELDS_TO_RETURN + FIELDS_PLUS_TITLES+ SUBJECT_TERMS]"
   ],
   "metadata": {
    "collapsed": false,
    "pycharm": {
     "name": "#%%\n"
    }
   }
  },
  {
   "cell_type": "markdown",
   "source": [
    "## Generate a distinct list of subjects for the box"
   ],
   "metadata": {
    "collapsed": false,
    "pycharm": {
     "name": "#%% md\n"
    }
   }
  },
  {
   "cell_type": "code",
   "execution_count": null,
   "outputs": [],
   "source": [
    "box_with_trans_and_subjects[['SUBJECT_ID', 'TERM_ID', 'use_concept']].drop_duplicates()"
   ],
   "metadata": {
    "collapsed": false,
    "pycharm": {
     "name": "#%%\n"
    }
   }
  },
  {
   "cell_type": "markdown",
   "source": [
    "## This will be the script for outputting the file to the CSV"
   ],
   "metadata": {
    "collapsed": false,
    "pycharm": {
     "name": "#%% md\n"
    }
   }
  },
  {
   "cell_type": "code",
   "execution_count": null,
   "outputs": [],
   "source": [
    "box_with_trans_and_subjects[output].to_csv(\n",
    "    path_or_buf='./csv_files/output_file.csv',\n",
    "    index=False, header=dc_output,\n",
    "    quoting=csv.QUOTE_NONNUMERIC\n",
    ")"
   ],
   "metadata": {
    "collapsed": false,
    "pycharm": {
     "name": "#%%\n"
    }
   }
  },
  {
   "cell_type": "markdown",
   "source": [
    "## Define the Output Columns and labels"
   ],
   "metadata": {
    "collapsed": false,
    "pycharm": {
     "name": "#%% md\n"
    }
   }
  },
  {
   "cell_type": "code",
   "execution_count": null,
   "outputs": [],
   "source": [
    "output = ['identifier', 'media', 'title', 'subject','description', 'creator', 'publisher', 'date', 'rights', 'language', 'relation', 'format', 'type', 'coverage', 'spatial']"
   ],
   "metadata": {
    "collapsed": false,
    "pycharm": {
     "name": "#%%\n"
    }
   }
  },
  {
   "cell_type": "code",
   "execution_count": null,
   "outputs": [],
   "source": [
    "dc_output = ['dcterms:identifier',\n",
    "'dcterms:media',\n",
    "'dcterms:title',\n",
    "'dcterms:subject',\n",
    "'dcterms:description',\n",
    "'dcterms:creator',\n",
    "'dcterms:publisher',\n",
    "'dcterms:date',\n",
    "'dcterms:rights',\n",
    "'dcterms:language',\n",
    "'dcterms:relation',\n",
    "'dcterms:format',\n",
    "'dcterms:type',\n",
    "'dcterms:coverage',\n",
    "'dcterms:spatial']"
   ],
   "metadata": {
    "collapsed": false,
    "pycharm": {
     "name": "#%%\n"
    }
   }
  },
  {
   "cell_type": "markdown",
   "source": [
    "## Create the Combination Columns for Title and Translations"
   ],
   "metadata": {
    "collapsed": false,
    "pycharm": {
     "name": "#%% md\n"
    }
   }
  },
  {
   "cell_type": "code",
   "execution_count": null,
   "outputs": [],
   "source": [
    "title_cols = ['title', 'Spanish (from Google)', 'Portuguese(from Google)']"
   ],
   "metadata": {
    "collapsed": false,
    "pycharm": {
     "name": "#%%\n"
    }
   }
  },
  {
   "cell_type": "code",
   "execution_count": null,
   "outputs": [],
   "source": [
    "box_with_trans_and_subjects['title_trans'] = box_with_trans_and_subjects[title_cols].apply(lambda title_cols: ', '.join(title_cols.dropna()), axis=1)"
   ],
   "metadata": {
    "collapsed": false,
    "pycharm": {
     "name": "#%%\n"
    }
   }
  },
  {
   "cell_type": "markdown",
   "id": "9f8dbd9b",
   "metadata": {},
   "source": [
    "## Rename the columns post join "
   ]
  },
  {
   "cell_type": "code",
   "execution_count": 182,
   "id": "5165196d",
   "metadata": {},
   "outputs": [],
   "source": [
    "box_with_trans_and_subjects = box_with_trans_and_subjects.rename(columns={'identifier_x': 'identifier', \n",
    "'media': 'media', \n",
    "'title_x': 'title', \n",
    "'subject_x': 'subject', \n",
    "'description_x': 'description', \n",
    "'creator_x': 'creator', \n",
    "'publisher_x': 'publisher', \n",
    "'date_x': 'date', \n",
    "'rights_x': 'rights', \n",
    "'language_x': 'language', \n",
    "'relation_x': 'relation', \n",
    "'format_x': 'format', \n",
    "'type_x': 'type', \n",
    "'coverage_x': 'coverage', \n",
    "'spatial_x': 'spatial', \n",
    "'Index': 'Index', \n",
    "'Title': 'Title', \n",
    "'Spanish (from Google)': 'Spanish (from Google)', \n",
    "'Translation ES': 'Translation ES', \n",
    "'EmptyColumn': 'EmptyColumn', \n",
    "'Portuguese(from Google)': 'Portuguese(from Google)', \n",
    "'Translation PT': 'Translation PT', \n",
    "'_merge': '_merge', \n",
    "'identifier_y': 'identifier_y', \n",
    "'title_y': 'title_y', \n",
    "'subject_y': 'subject_y', \n",
    "'description_y': 'description_y', \n",
    "'creator_y': 'creator_y', \n",
    "'publisher_y': 'publisher_y', \n",
    "'date_y': 'date_y', \n",
    "'rights_y': 'rights_y', \n",
    "'language_y': 'language_y', \n",
    "'relation_y': 'relation_y', \n",
    "'format_y': 'format_y', \n",
    "'type_y': 'type_y', \n",
    "'coverage_y': 'coverage_y', \n",
    "'spatial_y': 'spatial_y', \n",
    "'subjects': 'subjects', \n",
    "'join_concept': 'join_concept', \n",
    "'extra_notes': 'extra_notes', \n",
    "'unnamed: 2': 'unnamed: 2', \n",
    "'unnamed: 4': 'unnamed: 4', \n",
    "'AACR2_FLAG': 'AACR2_FLAG', \n",
    "'DISPLAY_DATE': 'DISPLAY_DATE', \n",
    "'DISPLAY_NAME': 'DISPLAY_NAME', \n",
    "'DISPLAY_ORDER': 'DISPLAY_ORDER', \n",
    "'END_DATE': 'END_DATE', \n",
    "'HISTORIC_FLAG': 'HISTORIC_FLAG', \n",
    "'OTHER_FLAGS': 'OTHER_FLAGS', \n",
    "'PREFERRED_x': 'PREFERRED', \n",
    "'START_DATE': 'START_DATE', \n",
    "'SUBJECT_ID_x': 'SUBJECT_ID', \n",
    "'TERM': 'TERM', \n",
    "'TERM_ID': 'TERM_ID', \n",
    "'VERNACULAR': 'VERNACULAR', \n",
    "'LANGUAGE_CODE': 'LANGUAGE_CODE', \n",
    "'PREFERRED_y': 'PREFERRED_y', \n",
    "'SUBJECT_ID_y': 'SUBJECT_ID_y', \n",
    "'QUALIFIER': 'QUALIFIER', \n",
    "'TERM_TYPE': 'TERM_TYPE', \n",
    "'PART_OF_SPEECH': 'PART_OF_SPEECH', \n",
    "'LANG_STAT': 'LANG_STAT', \n",
    "'full_concept': 'full_concept', \n",
    "'use_concept': 'use_concept', \n",
    "'BoxId': 'BoxId', \n",
    "'Unnamed: 0': 'Unnamed: 0', \n",
    "'color': 'color', \n",
    "'RGB': 'RGB'})"
   ]
  },
  {
   "cell_type": "code",
   "execution_count": 190,
   "id": "cb8b35fc",
   "metadata": {},
   "outputs": [],
   "source": [
    "# show all the columns up to 500\n",
    "pd.set_option('display.max_columns', 500)"
   ]
  },
  {
   "cell_type": "code",
   "execution_count": 191,
   "id": "78fc38ac",
   "metadata": {
    "pycharm": {
     "name": "#%%\n"
    }
   },
   "outputs": [
    {
     "data": {
      "text/html": [
       "<div>\n",
       "<style scoped>\n",
       "    .dataframe tbody tr th:only-of-type {\n",
       "        vertical-align: middle;\n",
       "    }\n",
       "\n",
       "    .dataframe tbody tr th {\n",
       "        vertical-align: top;\n",
       "    }\n",
       "\n",
       "    .dataframe thead th {\n",
       "        text-align: right;\n",
       "    }\n",
       "</style>\n",
       "<table border=\"1\" class=\"dataframe\">\n",
       "  <thead>\n",
       "    <tr style=\"text-align: right;\">\n",
       "      <th></th>\n",
       "      <th>identifier</th>\n",
       "      <th>media</th>\n",
       "      <th>title</th>\n",
       "      <th>subject</th>\n",
       "      <th>description</th>\n",
       "      <th>publisher</th>\n",
       "      <th>date</th>\n",
       "      <th>rights</th>\n",
       "      <th>language</th>\n",
       "      <th>relation</th>\n",
       "      <th>format</th>\n",
       "      <th>type</th>\n",
       "      <th>coverage</th>\n",
       "      <th>spatial</th>\n",
       "      <th>Spanish (from Google)</th>\n",
       "      <th>Translation ES</th>\n",
       "      <th>Portuguese(from Google)</th>\n",
       "      <th>Translation PT</th>\n",
       "      <th>_merge</th>\n",
       "      <th>SUBJECT_ID</th>\n",
       "      <th>TERM_ID</th>\n",
       "      <th>LANGUAGE_CODE</th>\n",
       "      <th>use_concept</th>\n",
       "      <th>BoxId</th>\n",
       "      <th>color</th>\n",
       "    </tr>\n",
       "  </thead>\n",
       "  <tbody>\n",
       "    <tr>\n",
       "      <th>0</th>\n",
       "      <td>A-1 02</td>\n",
       "      <td>A-1_Arquin_001_0002.jpg</td>\n",
       "      <td>Ostend Gate, The Ezelpoort</td>\n",
       "      <td>water gates, arch bridges, canals (waterways)</td>\n",
       "      <td>Ostend Gate (Donkey's Gate) - 13th Century.</td>\n",
       "      <td>Florida Atlantic University</td>\n",
       "      <td>NaN</td>\n",
       "      <td>NaN</td>\n",
       "      <td>NaN</td>\n",
       "      <td>NaN</td>\n",
       "      <td>35 mm kodachrome slide</td>\n",
       "      <td>still image</td>\n",
       "      <td>51.2093/ 3.2247</td>\n",
       "      <td>Bruges (inhabited place), West Flanders (provi...</td>\n",
       "      <td>Ostend Gate, el Ezelpoort</td>\n",
       "      <td>NaN</td>\n",
       "      <td>OSTEND GATE, O EZELPOORT</td>\n",
       "      <td>NaN</td>\n",
       "      <td>both</td>\n",
       "      <td>300005101</td>\n",
       "      <td>1000005101</td>\n",
       "      <td>70051</td>\n",
       "      <td>water gates</td>\n",
       "      <td>Box 1</td>\n",
       "      <td>orange</td>\n",
       "    </tr>\n",
       "    <tr>\n",
       "      <th>1</th>\n",
       "      <td>A-1 02</td>\n",
       "      <td>A-1_Arquin_001_0002.jpg</td>\n",
       "      <td>Ostend Gate, The Ezelpoort</td>\n",
       "      <td>water gates, arch bridges, canals (waterways)</td>\n",
       "      <td>Ostend Gate (Donkey's Gate) - 13th Century.</td>\n",
       "      <td>Florida Atlantic University</td>\n",
       "      <td>NaN</td>\n",
       "      <td>NaN</td>\n",
       "      <td>NaN</td>\n",
       "      <td>NaN</td>\n",
       "      <td>35 mm kodachrome slide</td>\n",
       "      <td>still image</td>\n",
       "      <td>51.2093/ 3.2247</td>\n",
       "      <td>Bruges (inhabited place), West Flanders (provi...</td>\n",
       "      <td>Ostend Gate, el Ezelpoort</td>\n",
       "      <td>NaN</td>\n",
       "      <td>OSTEND GATE, O EZELPOORT</td>\n",
       "      <td>NaN</td>\n",
       "      <td>both</td>\n",
       "      <td>300007838</td>\n",
       "      <td>1000007838</td>\n",
       "      <td>70051</td>\n",
       "      <td>arch bridges</td>\n",
       "      <td>Box 1</td>\n",
       "      <td>orange</td>\n",
       "    </tr>\n",
       "    <tr>\n",
       "      <th>2</th>\n",
       "      <td>A-1 02</td>\n",
       "      <td>A-1_Arquin_001_0002.jpg</td>\n",
       "      <td>Ostend Gate, The Ezelpoort</td>\n",
       "      <td>water gates, arch bridges, canals (waterways)</td>\n",
       "      <td>Ostend Gate (Donkey's Gate) - 13th Century.</td>\n",
       "      <td>Florida Atlantic University</td>\n",
       "      <td>NaN</td>\n",
       "      <td>NaN</td>\n",
       "      <td>NaN</td>\n",
       "      <td>NaN</td>\n",
       "      <td>35 mm kodachrome slide</td>\n",
       "      <td>still image</td>\n",
       "      <td>51.2093/ 3.2247</td>\n",
       "      <td>Bruges (inhabited place), West Flanders (provi...</td>\n",
       "      <td>Ostend Gate, el Ezelpoort</td>\n",
       "      <td>NaN</td>\n",
       "      <td>OSTEND GATE, O EZELPOORT</td>\n",
       "      <td>NaN</td>\n",
       "      <td>both</td>\n",
       "      <td>300006075</td>\n",
       "      <td>1000006075</td>\n",
       "      <td>70051</td>\n",
       "      <td>canals (waterways)</td>\n",
       "      <td>Box 1</td>\n",
       "      <td>orange</td>\n",
       "    </tr>\n",
       "    <tr>\n",
       "      <th>3</th>\n",
       "      <td>A-1 03</td>\n",
       "      <td>A-1_Arquin_001_0003.jpg</td>\n",
       "      <td>Ostend Gate, The Ezelpoort</td>\n",
       "      <td>water gates, arch bridges, canals (waterways)</td>\n",
       "      <td>Ostend Gate (Donkey's Gate) - 13th Century.</td>\n",
       "      <td>Florida Atlantic University</td>\n",
       "      <td>NaN</td>\n",
       "      <td>NaN</td>\n",
       "      <td>NaN</td>\n",
       "      <td>NaN</td>\n",
       "      <td>35 mm kodachrome slide</td>\n",
       "      <td>still image</td>\n",
       "      <td>51.2093/ 3.2247</td>\n",
       "      <td>Bruges (inhabited place), West Flanders (provi...</td>\n",
       "      <td>Ostend Gate, el Ezelpoort</td>\n",
       "      <td>NaN</td>\n",
       "      <td>OSTEND GATE, O EZELPOORT</td>\n",
       "      <td>NaN</td>\n",
       "      <td>both</td>\n",
       "      <td>300005101</td>\n",
       "      <td>1000005101</td>\n",
       "      <td>70051</td>\n",
       "      <td>water gates</td>\n",
       "      <td>Box 1</td>\n",
       "      <td>orange</td>\n",
       "    </tr>\n",
       "    <tr>\n",
       "      <th>4</th>\n",
       "      <td>A-1 03</td>\n",
       "      <td>A-1_Arquin_001_0003.jpg</td>\n",
       "      <td>Ostend Gate, The Ezelpoort</td>\n",
       "      <td>water gates, arch bridges, canals (waterways)</td>\n",
       "      <td>Ostend Gate (Donkey's Gate) - 13th Century.</td>\n",
       "      <td>Florida Atlantic University</td>\n",
       "      <td>NaN</td>\n",
       "      <td>NaN</td>\n",
       "      <td>NaN</td>\n",
       "      <td>NaN</td>\n",
       "      <td>35 mm kodachrome slide</td>\n",
       "      <td>still image</td>\n",
       "      <td>51.2093/ 3.2247</td>\n",
       "      <td>Bruges (inhabited place), West Flanders (provi...</td>\n",
       "      <td>Ostend Gate, el Ezelpoort</td>\n",
       "      <td>NaN</td>\n",
       "      <td>OSTEND GATE, O EZELPOORT</td>\n",
       "      <td>NaN</td>\n",
       "      <td>both</td>\n",
       "      <td>300007838</td>\n",
       "      <td>1000007838</td>\n",
       "      <td>70051</td>\n",
       "      <td>arch bridges</td>\n",
       "      <td>Box 1</td>\n",
       "      <td>orange</td>\n",
       "    </tr>\n",
       "    <tr>\n",
       "      <th>...</th>\n",
       "      <td>...</td>\n",
       "      <td>...</td>\n",
       "      <td>...</td>\n",
       "      <td>...</td>\n",
       "      <td>...</td>\n",
       "      <td>...</td>\n",
       "      <td>...</td>\n",
       "      <td>...</td>\n",
       "      <td>...</td>\n",
       "      <td>...</td>\n",
       "      <td>...</td>\n",
       "      <td>...</td>\n",
       "      <td>...</td>\n",
       "      <td>...</td>\n",
       "      <td>...</td>\n",
       "      <td>...</td>\n",
       "      <td>...</td>\n",
       "      <td>...</td>\n",
       "      <td>...</td>\n",
       "      <td>...</td>\n",
       "      <td>...</td>\n",
       "      <td>...</td>\n",
       "      <td>...</td>\n",
       "      <td>...</td>\n",
       "      <td>...</td>\n",
       "    </tr>\n",
       "    <tr>\n",
       "      <th>679</th>\n",
       "      <td>A-1 266</td>\n",
       "      <td>A-1_Arquin_001_0266.jpg</td>\n",
       "      <td>Church of Our Lady of Victories at the Sablon</td>\n",
       "      <td>churches (buildings), architectural sculpture</td>\n",
       "      <td>Notre Dame Du Sablon</td>\n",
       "      <td>Florida Atlantic University</td>\n",
       "      <td>NaN</td>\n",
       "      <td>NaN</td>\n",
       "      <td>NaN</td>\n",
       "      <td>NaN</td>\n",
       "      <td>35 mm kodachrome slide</td>\n",
       "      <td>still image</td>\n",
       "      <td>50.8503° N, 4.3517° E</td>\n",
       "      <td>Brussels (inhabited place), Brussels-Capital R...</td>\n",
       "      <td>Iglesia de Nuestra Señora de las Victorias en ...</td>\n",
       "      <td>NaN</td>\n",
       "      <td>NaN</td>\n",
       "      <td>NaN</td>\n",
       "      <td>both</td>\n",
       "      <td>300379328</td>\n",
       "      <td>1000539499</td>\n",
       "      <td>70051</td>\n",
       "      <td>architectural sculpture</td>\n",
       "      <td>Box 1</td>\n",
       "      <td>orange</td>\n",
       "    </tr>\n",
       "    <tr>\n",
       "      <th>680</th>\n",
       "      <td>A-1 267</td>\n",
       "      <td>A-1_Arquin_001_0267.jpg</td>\n",
       "      <td>Church of Our Lady of Victories at the Sablon</td>\n",
       "      <td>churches (buildings), architectural sculpture</td>\n",
       "      <td>Notre Dame Du Sablon</td>\n",
       "      <td>Florida Atlantic University</td>\n",
       "      <td>NaN</td>\n",
       "      <td>NaN</td>\n",
       "      <td>NaN</td>\n",
       "      <td>NaN</td>\n",
       "      <td>35 mm kodachrome slide</td>\n",
       "      <td>still image</td>\n",
       "      <td>50.8503° N, 4.3517° E</td>\n",
       "      <td>Brussels (inhabited place), Brussels-Capital R...</td>\n",
       "      <td>Iglesia de Nuestra Señora de las Victorias en ...</td>\n",
       "      <td>NaN</td>\n",
       "      <td>NaN</td>\n",
       "      <td>NaN</td>\n",
       "      <td>both</td>\n",
       "      <td>300007466</td>\n",
       "      <td>1000007466</td>\n",
       "      <td>70051</td>\n",
       "      <td>churches (buildings)</td>\n",
       "      <td>Box 1</td>\n",
       "      <td>orange</td>\n",
       "    </tr>\n",
       "    <tr>\n",
       "      <th>681</th>\n",
       "      <td>A-1 267</td>\n",
       "      <td>A-1_Arquin_001_0267.jpg</td>\n",
       "      <td>Church of Our Lady of Victories at the Sablon</td>\n",
       "      <td>churches (buildings), architectural sculpture</td>\n",
       "      <td>Notre Dame Du Sablon</td>\n",
       "      <td>Florida Atlantic University</td>\n",
       "      <td>NaN</td>\n",
       "      <td>NaN</td>\n",
       "      <td>NaN</td>\n",
       "      <td>NaN</td>\n",
       "      <td>35 mm kodachrome slide</td>\n",
       "      <td>still image</td>\n",
       "      <td>50.8503° N, 4.3517° E</td>\n",
       "      <td>Brussels (inhabited place), Brussels-Capital R...</td>\n",
       "      <td>Iglesia de Nuestra Señora de las Victorias en ...</td>\n",
       "      <td>NaN</td>\n",
       "      <td>NaN</td>\n",
       "      <td>NaN</td>\n",
       "      <td>both</td>\n",
       "      <td>300379328</td>\n",
       "      <td>1000539499</td>\n",
       "      <td>70051</td>\n",
       "      <td>architectural sculpture</td>\n",
       "      <td>Box 1</td>\n",
       "      <td>orange</td>\n",
       "    </tr>\n",
       "    <tr>\n",
       "      <th>682</th>\n",
       "      <td>A-1 268</td>\n",
       "      <td>A-1_Arquin_001_0268.jpg</td>\n",
       "      <td>Church of Our Lady of Victories at the Sablon</td>\n",
       "      <td>churches (buildings), architectural sculpture</td>\n",
       "      <td>Notre Dame Du Sablon</td>\n",
       "      <td>Florida Atlantic University</td>\n",
       "      <td>NaN</td>\n",
       "      <td>NaN</td>\n",
       "      <td>NaN</td>\n",
       "      <td>NaN</td>\n",
       "      <td>35 mm kodachrome slide</td>\n",
       "      <td>still image</td>\n",
       "      <td>50.8503° N, 4.3517° E</td>\n",
       "      <td>Brussels (inhabited place), Brussels-Capital R...</td>\n",
       "      <td>Iglesia de Nuestra Señora de las Victorias en ...</td>\n",
       "      <td>NaN</td>\n",
       "      <td>NaN</td>\n",
       "      <td>NaN</td>\n",
       "      <td>both</td>\n",
       "      <td>300007466</td>\n",
       "      <td>1000007466</td>\n",
       "      <td>70051</td>\n",
       "      <td>churches (buildings)</td>\n",
       "      <td>Box 1</td>\n",
       "      <td>orange</td>\n",
       "    </tr>\n",
       "    <tr>\n",
       "      <th>683</th>\n",
       "      <td>A-1 268</td>\n",
       "      <td>A-1_Arquin_001_0268.jpg</td>\n",
       "      <td>Church of Our Lady of Victories at the Sablon</td>\n",
       "      <td>churches (buildings), architectural sculpture</td>\n",
       "      <td>Notre Dame Du Sablon</td>\n",
       "      <td>Florida Atlantic University</td>\n",
       "      <td>NaN</td>\n",
       "      <td>NaN</td>\n",
       "      <td>NaN</td>\n",
       "      <td>NaN</td>\n",
       "      <td>35 mm kodachrome slide</td>\n",
       "      <td>still image</td>\n",
       "      <td>50.8503° N, 4.3517° E</td>\n",
       "      <td>Brussels (inhabited place), Brussels-Capital R...</td>\n",
       "      <td>Iglesia de Nuestra Señora de las Victorias en ...</td>\n",
       "      <td>NaN</td>\n",
       "      <td>NaN</td>\n",
       "      <td>NaN</td>\n",
       "      <td>both</td>\n",
       "      <td>300379328</td>\n",
       "      <td>1000539499</td>\n",
       "      <td>70051</td>\n",
       "      <td>architectural sculpture</td>\n",
       "      <td>Box 1</td>\n",
       "      <td>orange</td>\n",
       "    </tr>\n",
       "  </tbody>\n",
       "</table>\n",
       "<p>684 rows × 25 columns</p>\n",
       "</div>"
      ],
      "text/plain": [
       "    identifier                    media  \\\n",
       "0       A-1 02  A-1_Arquin_001_0002.jpg   \n",
       "1       A-1 02  A-1_Arquin_001_0002.jpg   \n",
       "2       A-1 02  A-1_Arquin_001_0002.jpg   \n",
       "3       A-1 03  A-1_Arquin_001_0003.jpg   \n",
       "4       A-1 03  A-1_Arquin_001_0003.jpg   \n",
       "..         ...                      ...   \n",
       "679    A-1 266  A-1_Arquin_001_0266.jpg   \n",
       "680    A-1 267  A-1_Arquin_001_0267.jpg   \n",
       "681    A-1 267  A-1_Arquin_001_0267.jpg   \n",
       "682    A-1 268  A-1_Arquin_001_0268.jpg   \n",
       "683    A-1 268  A-1_Arquin_001_0268.jpg   \n",
       "\n",
       "                                             title  \\\n",
       "0                       Ostend Gate, The Ezelpoort   \n",
       "1                       Ostend Gate, The Ezelpoort   \n",
       "2                       Ostend Gate, The Ezelpoort   \n",
       "3                       Ostend Gate, The Ezelpoort   \n",
       "4                       Ostend Gate, The Ezelpoort   \n",
       "..                                             ...   \n",
       "679  Church of Our Lady of Victories at the Sablon   \n",
       "680  Church of Our Lady of Victories at the Sablon   \n",
       "681  Church of Our Lady of Victories at the Sablon   \n",
       "682  Church of Our Lady of Victories at the Sablon   \n",
       "683  Church of Our Lady of Victories at the Sablon   \n",
       "\n",
       "                                           subject  \\\n",
       "0    water gates, arch bridges, canals (waterways)   \n",
       "1    water gates, arch bridges, canals (waterways)   \n",
       "2    water gates, arch bridges, canals (waterways)   \n",
       "3    water gates, arch bridges, canals (waterways)   \n",
       "4    water gates, arch bridges, canals (waterways)   \n",
       "..                                             ...   \n",
       "679  churches (buildings), architectural sculpture   \n",
       "680  churches (buildings), architectural sculpture   \n",
       "681  churches (buildings), architectural sculpture   \n",
       "682  churches (buildings), architectural sculpture   \n",
       "683  churches (buildings), architectural sculpture   \n",
       "\n",
       "                                     description                    publisher  \\\n",
       "0    Ostend Gate (Donkey's Gate) - 13th Century.  Florida Atlantic University   \n",
       "1    Ostend Gate (Donkey's Gate) - 13th Century.  Florida Atlantic University   \n",
       "2    Ostend Gate (Donkey's Gate) - 13th Century.  Florida Atlantic University   \n",
       "3    Ostend Gate (Donkey's Gate) - 13th Century.  Florida Atlantic University   \n",
       "4    Ostend Gate (Donkey's Gate) - 13th Century.  Florida Atlantic University   \n",
       "..                                           ...                          ...   \n",
       "679                         Notre Dame Du Sablon  Florida Atlantic University   \n",
       "680                         Notre Dame Du Sablon  Florida Atlantic University   \n",
       "681                         Notre Dame Du Sablon  Florida Atlantic University   \n",
       "682                         Notre Dame Du Sablon  Florida Atlantic University   \n",
       "683                         Notre Dame Du Sablon  Florida Atlantic University   \n",
       "\n",
       "     date  rights  language  relation                  format         type  \\\n",
       "0     NaN     NaN       NaN       NaN  35 mm kodachrome slide  still image   \n",
       "1     NaN     NaN       NaN       NaN  35 mm kodachrome slide  still image   \n",
       "2     NaN     NaN       NaN       NaN  35 mm kodachrome slide  still image   \n",
       "3     NaN     NaN       NaN       NaN  35 mm kodachrome slide  still image   \n",
       "4     NaN     NaN       NaN       NaN  35 mm kodachrome slide  still image   \n",
       "..    ...     ...       ...       ...                     ...          ...   \n",
       "679   NaN     NaN       NaN       NaN  35 mm kodachrome slide  still image   \n",
       "680   NaN     NaN       NaN       NaN  35 mm kodachrome slide  still image   \n",
       "681   NaN     NaN       NaN       NaN  35 mm kodachrome slide  still image   \n",
       "682   NaN     NaN       NaN       NaN  35 mm kodachrome slide  still image   \n",
       "683   NaN     NaN       NaN       NaN  35 mm kodachrome slide  still image   \n",
       "\n",
       "                  coverage                                            spatial  \\\n",
       "0          51.2093/ 3.2247  Bruges (inhabited place), West Flanders (provi...   \n",
       "1          51.2093/ 3.2247  Bruges (inhabited place), West Flanders (provi...   \n",
       "2          51.2093/ 3.2247  Bruges (inhabited place), West Flanders (provi...   \n",
       "3          51.2093/ 3.2247  Bruges (inhabited place), West Flanders (provi...   \n",
       "4          51.2093/ 3.2247  Bruges (inhabited place), West Flanders (provi...   \n",
       "..                     ...                                                ...   \n",
       "679  50.8503° N, 4.3517° E  Brussels (inhabited place), Brussels-Capital R...   \n",
       "680  50.8503° N, 4.3517° E  Brussels (inhabited place), Brussels-Capital R...   \n",
       "681  50.8503° N, 4.3517° E  Brussels (inhabited place), Brussels-Capital R...   \n",
       "682  50.8503° N, 4.3517° E  Brussels (inhabited place), Brussels-Capital R...   \n",
       "683  50.8503° N, 4.3517° E  Brussels (inhabited place), Brussels-Capital R...   \n",
       "\n",
       "                                 Spanish (from Google)  Translation ES  \\\n",
       "0                            Ostend Gate, el Ezelpoort             NaN   \n",
       "1                            Ostend Gate, el Ezelpoort             NaN   \n",
       "2                            Ostend Gate, el Ezelpoort             NaN   \n",
       "3                            Ostend Gate, el Ezelpoort             NaN   \n",
       "4                            Ostend Gate, el Ezelpoort             NaN   \n",
       "..                                                 ...             ...   \n",
       "679  Iglesia de Nuestra Señora de las Victorias en ...             NaN   \n",
       "680  Iglesia de Nuestra Señora de las Victorias en ...             NaN   \n",
       "681  Iglesia de Nuestra Señora de las Victorias en ...             NaN   \n",
       "682  Iglesia de Nuestra Señora de las Victorias en ...             NaN   \n",
       "683  Iglesia de Nuestra Señora de las Victorias en ...             NaN   \n",
       "\n",
       "      Portuguese(from Google)  Translation PT _merge SUBJECT_ID     TERM_ID  \\\n",
       "0    OSTEND GATE, O EZELPOORT             NaN   both  300005101  1000005101   \n",
       "1    OSTEND GATE, O EZELPOORT             NaN   both  300007838  1000007838   \n",
       "2    OSTEND GATE, O EZELPOORT             NaN   both  300006075  1000006075   \n",
       "3    OSTEND GATE, O EZELPOORT             NaN   both  300005101  1000005101   \n",
       "4    OSTEND GATE, O EZELPOORT             NaN   both  300007838  1000007838   \n",
       "..                        ...             ...    ...        ...         ...   \n",
       "679                       NaN             NaN   both  300379328  1000539499   \n",
       "680                       NaN             NaN   both  300007466  1000007466   \n",
       "681                       NaN             NaN   both  300379328  1000539499   \n",
       "682                       NaN             NaN   both  300007466  1000007466   \n",
       "683                       NaN             NaN   both  300379328  1000539499   \n",
       "\n",
       "    LANGUAGE_CODE              use_concept  BoxId   color  \n",
       "0           70051              water gates  Box 1  orange  \n",
       "1           70051             arch bridges  Box 1  orange  \n",
       "2           70051       canals (waterways)  Box 1  orange  \n",
       "3           70051              water gates  Box 1  orange  \n",
       "4           70051             arch bridges  Box 1  orange  \n",
       "..            ...                      ...    ...     ...  \n",
       "679         70051  architectural sculpture  Box 1  orange  \n",
       "680         70051     churches (buildings)  Box 1  orange  \n",
       "681         70051  architectural sculpture  Box 1  orange  \n",
       "682         70051     churches (buildings)  Box 1  orange  \n",
       "683         70051  architectural sculpture  Box 1  orange  \n",
       "\n",
       "[684 rows x 25 columns]"
      ]
     },
     "execution_count": 191,
     "metadata": {},
     "output_type": "execute_result"
    }
   ],
   "source": [
    "box_with_trans_and_subjects[FIELDS_TO_RETURN + FIELDS_PLUS_TITLES+ SUBJECT_TERMS]"
   ]
  },
  {
   "cell_type": "markdown",
   "id": "955a3de3",
   "metadata": {},
   "source": [
    "## Generate a distinct list of subjects for the box"
   ]
  },
  {
   "cell_type": "code",
   "execution_count": 199,
   "id": "9dbabb63",
   "metadata": {},
   "outputs": [
    {
     "data": {
      "text/html": [
       "<div>\n",
       "<style scoped>\n",
       "    .dataframe tbody tr th:only-of-type {\n",
       "        vertical-align: middle;\n",
       "    }\n",
       "\n",
       "    .dataframe tbody tr th {\n",
       "        vertical-align: top;\n",
       "    }\n",
       "\n",
       "    .dataframe thead th {\n",
       "        text-align: right;\n",
       "    }\n",
       "</style>\n",
       "<table border=\"1\" class=\"dataframe\">\n",
       "  <thead>\n",
       "    <tr style=\"text-align: right;\">\n",
       "      <th></th>\n",
       "      <th>SUBJECT_ID</th>\n",
       "      <th>TERM_ID</th>\n",
       "      <th>use_concept</th>\n",
       "    </tr>\n",
       "  </thead>\n",
       "  <tbody>\n",
       "    <tr>\n",
       "      <th>0</th>\n",
       "      <td>300005101</td>\n",
       "      <td>1000005101</td>\n",
       "      <td>water gates</td>\n",
       "    </tr>\n",
       "    <tr>\n",
       "      <th>1</th>\n",
       "      <td>300007838</td>\n",
       "      <td>1000007838</td>\n",
       "      <td>arch bridges</td>\n",
       "    </tr>\n",
       "    <tr>\n",
       "      <th>2</th>\n",
       "      <td>300006075</td>\n",
       "      <td>1000006075</td>\n",
       "      <td>canals (waterways)</td>\n",
       "    </tr>\n",
       "    <tr>\n",
       "      <th>15</th>\n",
       "      <td>300006273</td>\n",
       "      <td>1000006273</td>\n",
       "      <td>windmills</td>\n",
       "    </tr>\n",
       "    <tr>\n",
       "      <th>23</th>\n",
       "      <td>300008247</td>\n",
       "      <td>1000008247</td>\n",
       "      <td>streets</td>\n",
       "    </tr>\n",
       "    <tr>\n",
       "      <th>...</th>\n",
       "      <td>...</td>\n",
       "      <td>...</td>\n",
       "      <td>...</td>\n",
       "    </tr>\n",
       "    <tr>\n",
       "      <th>545</th>\n",
       "      <td>300076641</td>\n",
       "      <td>1000076641</td>\n",
       "      <td>portals</td>\n",
       "    </tr>\n",
       "    <tr>\n",
       "      <th>546</th>\n",
       "      <td>300379328</td>\n",
       "      <td>1000539499</td>\n",
       "      <td>architectural sculpture</td>\n",
       "    </tr>\n",
       "    <tr>\n",
       "      <th>563</th>\n",
       "      <td>300180499</td>\n",
       "      <td>1000181542</td>\n",
       "      <td>neon lights</td>\n",
       "    </tr>\n",
       "    <tr>\n",
       "      <th>565</th>\n",
       "      <td>300417219</td>\n",
       "      <td>1000772433</td>\n",
       "      <td>brand names</td>\n",
       "    </tr>\n",
       "    <tr>\n",
       "      <th>664</th>\n",
       "      <td>300076641</td>\n",
       "      <td>1000287832</td>\n",
       "      <td>portal (opening by form)</td>\n",
       "    </tr>\n",
       "  </tbody>\n",
       "</table>\n",
       "<p>63 rows × 3 columns</p>\n",
       "</div>"
      ],
      "text/plain": [
       "    SUBJECT_ID     TERM_ID               use_concept\n",
       "0    300005101  1000005101               water gates\n",
       "1    300007838  1000007838              arch bridges\n",
       "2    300006075  1000006075        canals (waterways)\n",
       "15   300006273  1000006273                 windmills\n",
       "23   300008247  1000008247                   streets\n",
       "..         ...         ...                       ...\n",
       "545  300076641  1000076641                   portals\n",
       "546  300379328  1000539499   architectural sculpture\n",
       "563  300180499  1000181542               neon lights\n",
       "565  300417219  1000772433               brand names\n",
       "664  300076641  1000287832  portal (opening by form)\n",
       "\n",
       "[63 rows x 3 columns]"
      ]
     },
     "execution_count": 199,
     "metadata": {},
     "output_type": "execute_result"
    }
   ],
   "source": [
    "box_with_trans_and_subjects[['SUBJECT_ID', 'TERM_ID', 'use_concept']].drop_duplicates()"
   ]
  },
  {
   "cell_type": "markdown",
   "id": "40a3e4f3",
   "metadata": {},
   "source": [
    "## This will be the script for outputting the file to the CSV"
   ]
  },
  {
   "cell_type": "code",
   "execution_count": 222,
   "id": "92cf34ec",
   "metadata": {
    "pycharm": {
     "name": "#%%\n"
    }
   },
   "outputs": [],
   "source": [
    "box_with_trans_and_subjects[output].to_csv(\n",
    "    path_or_buf='./csv_files/output_file.csv',\n",
    "    index=False, header=dc_output,\n",
    "    quoting=csv.QUOTE_NONNUMERIC\n",
    ")"
   ]
  },
  {
   "cell_type": "markdown",
   "id": "0bfd871b",
   "metadata": {},
   "source": [
    "## Define the Output Columns and labels"
   ]
  },
  {
   "cell_type": "code",
   "execution_count": 211,
   "id": "a53d2713",
   "metadata": {},
   "outputs": [],
   "source": [
    "output = ['identifier', 'media', 'title', 'subject','description', 'creator', 'publisher', 'date', 'rights', 'language', 'relation', 'format', 'type', 'coverage', 'spatial']"
   ]
  },
  {
   "cell_type": "code",
   "execution_count": 217,
   "id": "5d094d91",
   "metadata": {},
   "outputs": [],
   "source": [
    "dc_output = ['dcterms:identifier',\n",
    "'dcterms:media',\n",
    "'dcterms:title',\n",
    "'dcterms:subject',\n",
    "'dcterms:description',\n",
    "'dcterms:creator',\n",
    "'dcterms:publisher',\n",
    "'dcterms:date',\n",
    "'dcterms:rights',\n",
    "'dcterms:language',\n",
    "'dcterms:relation',\n",
    "'dcterms:format',\n",
    "'dcterms:type',\n",
    "'dcterms:coverage',\n",
    "'dcterms:spatial']"
   ]
  },
  {
   "cell_type": "markdown",
   "id": "dcc8e32e",
   "metadata": {},
   "source": [
    "## Create the Combination Columns for Title and Translations"
   ]
  },
  {
   "cell_type": "code",
   "execution_count": 297,
   "id": "24994fcc",
   "metadata": {},
   "outputs": [],
   "source": [
    "title_cols = ['title', 'Spanish (from Google)', 'Portuguese(from Google)']"
   ]
  },
  {
   "cell_type": "code",
   "execution_count": 300,
   "id": "af990304",
   "metadata": {},
   "outputs": [],
   "source": [
    "box_with_trans_and_subjects['title_trans'] = box_with_trans_and_subjects[title_cols].apply(lambda title_cols: ', '.join(title_cols.dropna()), axis=1)"
   ]
  },
  {
   "cell_type": "code",
   "execution_count": null,
   "id": "01657c38",
   "metadata": {},
   "outputs": [],
   "source": []
  }
 ],
 "metadata": {
  "kernelspec": {
   "display_name": "Python 3 (ipykernel)",
   "language": "python",
   "name": "python3"
  },
  "language_info": {
   "codemirror_mode": {
    "name": "ipython",
    "version": 3
   },
   "file_extension": ".py",
   "mimetype": "text/x-python",
   "name": "python",
   "nbconvert_exporter": "python",
   "pygments_lexer": "ipython3",
   "version": "3.9.7"
  }
 },
 "nbformat": 4,
 "nbformat_minor": 5
}