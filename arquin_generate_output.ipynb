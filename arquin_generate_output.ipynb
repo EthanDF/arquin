{
 "cells": [
  {
   "cell_type": "markdown",
   "id": "2c8e00c2",
   "metadata": {
    "pycharm": {
     "name": "#%% md\n"
    }
   },
   "source": [
    "# Generate Output\n",
    "This notebook will read in the metadata from the [Arquin Spreadsheet](https://docs.google.com/spreadsheets/d/1LRbios7yQRo3aqCh0Es2Wiae_dicg_OtL-_yqP-Tb8I/edit#gid=1718343431) and product an output for ingestion into Omeka "
   ]
  },
  {
   "cell_type": "code",
   "execution_count": 1,
   "id": "00635c77",
   "metadata": {
    "pycharm": {
     "name": "#%%\n"
    }
   },
   "outputs": [],
   "source": [
    "url = 'https://docs.google.com/spreadsheets/d/1LRbios7yQRo3aqCh0Es2Wiae_dicg_OtL-_yqP-Tb8I/edit#gid=1718343431'"
   ]
  },
  {
   "cell_type": "code",
   "execution_count": null,
   "outputs": [],
   "source": [
    "SUBJECT_TERMS = ['SUBJECT_ID', 'TERM_ID', 'LANGUAGE_CODE', 'use_concept', 'BoxId', 'color']"
   ],
   "metadata": {
    "collapsed": false,
    "pycharm": {
     "name": "#%%\n"
    }
   }
  },
  {
   "cell_type": "code",
   "execution_count": null,
   "outputs": [],
   "source": [
    "FIELDS_TO_RETURN = ['identifier', 'media', 'title', 'subject', 'description', 'publisher', \n",
    "                 'date', 'rights', 'language', 'relation', 'format', 'type', 'coverage', 'spatial']"
   ],
   "metadata": {
    "collapsed": false,
    "pycharm": {
     "name": "#%%\n"
    }
   }
  },
  {
   "cell_type": "markdown",
   "source": [
    "## Define the Output Columns and labels"
   ],
   "metadata": {
    "collapsed": false,
    "pycharm": {
     "name": "#%% md\n"
    }
   }
  },
  {
   "cell_type": "code",
   "execution_count": null,
   "outputs": [],
   "source": [
    "output = ['identifier', 'media', 'title', 'title_ES', 'title_PT', 'subject','description', 'creator', 'publisher', 'date', 'rights', 'language', 'relation', 'format', 'type', 'coverage', 'spatial']"
   ],
   "metadata": {
    "collapsed": false,
    "pycharm": {
     "name": "#%%\n"
    }
   }
  },
  {
   "cell_type": "code",
   "execution_count": null,
   "outputs": [],
   "source": [
    "dc_output = ['dcterms:identifier',\n",
    "'dcterms:media',\n",
    "'dcterms:title', #English\n",
    "'dcterms:title', #Spanish\n",
    "'dcterms:title', #Portuguese \n",
    "'dcterms:subject',\n",
    "'dcterms:description',\n",
    "'dcterms:creator',\n",
    "'dcterms:publisher',\n",
    "'dcterms:date',\n",
    "'dcterms:rights',\n",
    "'dcterms:language',\n",
    "'dcterms:relation',\n",
    "'dcterms:format',\n",
    "'dcterms:type',\n",
    "'dcterms:coverage',\n",
    "'dcterms:spatial']"
   ],
   "metadata": {
    "collapsed": false,
    "pycharm": {
     "name": "#%%\n"
    }
   }
  },
  {
   "cell_type": "markdown",
   "source": [
    "## import libraries"
   ],
   "metadata": {
    "collapsed": false,
    "pycharm": {
     "name": "#%% md\n"
    }
   }
  },
  {
   "cell_type": "code",
   "execution_count": null,
   "outputs": [],
   "source": [
    "from IPython.display import clear_output\n",
    "import pandas as pd\n",
    "from pandas import Series\n",
    "import numpy as np\n",
    "import re\n",
    "import csv\n",
    "from gsheets import Sheets\n",
    "from datetime import datetime"
   ],
   "metadata": {
    "collapsed": false,
    "pycharm": {
     "name": "#%%\n"
    }
   }
  },
  {
   "cell_type": "code",
   "execution_count": null,
   "outputs": [],
   "source": [
    "# show all the columns up to 500\n",
    "pd.set_option('display.max_columns', 500)"
   ],
   "metadata": {
    "collapsed": false,
    "pycharm": {
     "name": "#%%\n"
    }
   }
  },
  {
   "cell_type": "code",
   "execution_count": null,
   "outputs": [],
   "source": [
    "%run functions.ipynb"
   ],
   "metadata": {
    "collapsed": false,
    "pycharm": {
     "name": "#%%\n"
    }
   }
  },
  {
   "cell_type": "markdown",
   "source": [
    "## Load the spreadsheet information"
   ],
   "metadata": {
    "collapsed": false,
    "pycharm": {
     "name": "#%% md\n"
    }
   }
  },
  {
   "cell_type": "code",
   "execution_count": null,
   "outputs": [],
   "source": [
    "# if HttpAccessTokenRefreshError, close everything and start over\n",
    "sheets = Sheets.from_files('~/client_secrets.json', '~/storage.json')\n",
    "s = sheets.get(url)"
   ],
   "metadata": {
    "collapsed": false,
    "pycharm": {
     "name": "#%%\n"
    }
   }
  },
  {
   "cell_type": "markdown",
   "source": [
    "## This is testing to figure out how to get all the data where it needs to go!"
   ],
   "metadata": {
    "collapsed": false,
    "pycharm": {
     "name": "#%% md\n"
    }
   }
  },
  {
   "cell_type": "markdown",
   "source": [
    "### Get the list of Identifiers by Box Number"
   ],
   "metadata": {
    "collapsed": false,
    "pycharm": {
     "name": "#%% md\n"
    }
   }
  },
  {
   "cell_type": "code",
   "execution_count": null,
   "outputs": [],
   "source": [
    "# get the list of boxes containing metadata\n",
    "\n",
    "box_list = []\n",
    "box_list_sheets = s.sheets.titles()\n",
    "\n",
    "for b in box_list_sheets:\n",
    "    if 'Box' in b:\n",
    "        box_list.append(int(b[4:]))"
   ],
   "metadata": {
    "collapsed": false,
    "pycharm": {
     "name": "#%%\n"
    }
   }
  },
  {
   "cell_type": "code",
   "execution_count": null,
   "outputs": [],
   "source": [
    "x = return_box(box_list[1])"
   ],
   "metadata": {
    "collapsed": false,
    "pycharm": {
     "name": "#%%\n"
    }
   }
  },
  {
   "cell_type": "code",
   "execution_count": null,
   "outputs": [],
   "source": [
    "# concepts[concepts['join_concept'].notna()]\n",
    "'''strip leading and trailing space'''\n",
    " \n",
    "x['title'] = x['title'].str.strip()"
   ],
   "metadata": {
    "collapsed": false,
    "pycharm": {
     "name": "#%%\n"
    }
   }
  },
  {
   "cell_type": "markdown",
   "source": [
    "### Get the title translations\n",
    "from Box 'unique_titles_06142022'"
   ],
   "metadata": {
    "collapsed": false,
    "pycharm": {
     "name": "#%% md\n"
    }
   }
  },
  {
   "cell_type": "code",
   "execution_count": null,
   "outputs": [],
   "source": [
    "title_translations = s.find('unique_titles_06142022').to_frame()"
   ],
   "metadata": {
    "collapsed": false,
    "pycharm": {
     "name": "#%%\n"
    }
   }
  },
  {
   "cell_type": "code",
   "execution_count": null,
   "outputs": [],
   "source": [
    "# example\n",
    "x[x['identifier'] == 'A-2 091'][FIELDS_TO_RETURN]"
   ],
   "metadata": {
    "collapsed": false,
    "pycharm": {
     "name": "#%%\n"
    }
   }
  },
  {
   "cell_type": "code",
   "execution_count": null,
   "outputs": [],
   "source": [
    "box_with_trans = x.merge(title_translations, how='left', left_on='title', right_on='Title', indicator=True)"
   ],
   "metadata": {
    "collapsed": false,
    "pycharm": {
     "name": "#%%\n"
    }
   }
  },
  {
   "cell_type": "code",
   "execution_count": null,
   "outputs": [],
   "source": [
    "# display the columns\n",
    "box_with_trans.columns"
   ],
   "metadata": {
    "collapsed": false,
    "pycharm": {
     "name": "#%%\n"
    }
   }
  },
  {
   "cell_type": "code",
   "execution_count": null,
   "outputs": [],
   "source": [
    "FIELDS_PLUS_TITLES = ['title_ES', 'title_PT', '_merge']"
   ],
   "metadata": {
    "collapsed": false,
    "pycharm": {
     "name": "#%%\n"
    }
   }
  },
  {
   "cell_type": "code",
   "execution_count": null,
   "outputs": [],
   "source": [
    "box_with_trans = box_with_trans.rename(\n",
    "    columns={\n",
    "        'Translation ES': 'title_ES',\n",
    "        'Translation PT': 'title_PT'\n",
    "    })"
   ],
   "metadata": {
    "collapsed": false,
    "pycharm": {
     "name": "#%%\n"
    }
   }
  },
  {
   "cell_type": "code",
   "execution_count": null,
   "outputs": [],
   "source": [
    "# example\n",
    "box_with_trans[box_with_trans['identifier'] == 'A-1 269'][FIELDS_TO_RETURN + FIELDS_PLUS_TITLES]"
   ],
   "metadata": {
    "collapsed": false,
    "pycharm": {
     "name": "#%%\n"
    }
   }
  },
  {
   "cell_type": "markdown",
   "source": [
    "## Load Arquin Metadata with validated Subjects for parsing subjects"
   ],
   "metadata": {
    "collapsed": false,
    "pycharm": {
     "name": "#%% md\n"
    }
   }
  },
  {
   "cell_type": "code",
   "execution_count": null,
   "outputs": [],
   "source": [
    "%run arquin_metadata_subjects_review_final.ipynb"
   ],
   "metadata": {
    "collapsed": false,
    "pycharm": {
     "name": "#%%\n"
    }
   }
  },
  {
   "cell_type": "code",
   "execution_count": null,
   "outputs": [],
   "source": [
    "box_with_trans_and_subjects = box_with_trans.merge(df, on=['media'])"
   ],
   "metadata": {
    "collapsed": false,
    "pycharm": {
     "name": "#%%\n"
    }
   }
  },
  {
   "cell_type": "markdown",
   "source": [
    "## Rename the columns post join "
   ],
   "metadata": {
    "collapsed": false,
    "pycharm": {
     "name": "#%% md\n"
    }
   }
  },
  {
   "cell_type": "code",
   "execution_count": null,
   "outputs": [],
   "source": [
    "box_with_trans_and_subjects = box_with_trans_and_subjects.rename(columns={'identifier_x': 'identifier', \n",
    "'media': 'media', \n",
    "'title_x': 'title', \n",
    "'subject_x': 'subject', \n",
    "'description_x': 'description', \n",
    "'creator_x': 'creator', \n",
    "'publisher_x': 'publisher', \n",
    "'date_x': 'date', \n",
    "'rights_x': 'rights', \n",
    "'language_x': 'language', \n",
    "'relation_x': 'relation', \n",
    "'format_x': 'format', \n",
    "'type_x': 'type', \n",
    "'coverage_x': 'coverage', \n",
    "'spatial_x': 'spatial', \n",
    "'Index': 'Index', \n",
    "'Title': 'Title', \n",
    "'Translation ES': 'title_ES', \n",
    "'Translation PT': 'title_PT', \n",
    "'_merge': '_merge', \n",
    "'identifier_y': 'identifier_y', \n",
    "'title_y': 'title_y', \n",
    "'subject_y': 'subject_y', \n",
    "'description_y': 'description_y', \n",
    "'creator_y': 'creator_y', \n",
    "'publisher_y': 'publisher_y', \n",
    "'date_y': 'date_y', \n",
    "'rights_y': 'rights_y', \n",
    "'language_y': 'language_y', \n",
    "'relation_y': 'relation_y', \n",
    "'format_y': 'format_y', \n",
    "'type_y': 'type_y', \n",
    "'coverage_y': 'coverage_y', \n",
    "'spatial_y': 'spatial_y', \n",
    "'subjects': 'subjects', \n",
    "'join_concept': 'join_concept', \n",
    "'extra_notes': 'extra_notes', \n",
    "'unnamed: 2': 'unnamed: 2', \n",
    "'unnamed: 4': 'unnamed: 4', \n",
    "'AACR2_FLAG': 'AACR2_FLAG', \n",
    "'DISPLAY_DATE': 'DISPLAY_DATE', \n",
    "'DISPLAY_NAME': 'DISPLAY_NAME', \n",
    "'DISPLAY_ORDER': 'DISPLAY_ORDER', \n",
    "'END_DATE': 'END_DATE', \n",
    "'HISTORIC_FLAG': 'HISTORIC_FLAG', \n",
    "'OTHER_FLAGS': 'OTHER_FLAGS', \n",
    "'PREFERRED_x': 'PREFERRED', \n",
    "'START_DATE': 'START_DATE', \n",
    "'SUBJECT_ID_x': 'SUBJECT_ID', \n",
    "'TERM': 'TERM', \n",
    "'TERM_ID': 'TERM_ID', \n",
    "'VERNACULAR': 'VERNACULAR', \n",
    "'LANGUAGE_CODE': 'LANGUAGE_CODE', \n",
    "'PREFERRED_y': 'PREFERRED_y', \n",
    "'SUBJECT_ID_y': 'SUBJECT_ID_y', \n",
    "'QUALIFIER': 'QUALIFIER', \n",
    "'TERM_TYPE': 'TERM_TYPE', \n",
    "'PART_OF_SPEECH': 'PART_OF_SPEECH', \n",
    "'LANG_STAT': 'LANG_STAT', \n",
    "'full_concept': 'full_concept', \n",
    "'use_concept': 'use_concept', \n",
    "'BoxId': 'BoxId', \n",
    "'Unnamed: 0': 'Unnamed: 0', \n",
    "'color': 'color', \n",
    "'RGB': 'RGB'})"
   ],
   "metadata": {
    "collapsed": false,
    "pycharm": {
     "name": "#%%\n"
    }
   }
  },
  {
   "cell_type": "code",
   "execution_count": null,
   "outputs": [],
   "source": [
    "# example\n",
    "box_with_trans_and_subjects[box_with_trans_and_subjects['identifier'] == 'A-1 269'][FIELDS_TO_RETURN + FIELDS_PLUS_TITLES+ SUBJECT_TERMS]"
   ],
   "metadata": {
    "collapsed": false,
    "pycharm": {
     "name": "#%%\n"
    }
   }
  },
  {
   "cell_type": "markdown",
   "source": [
    "## Generate a distinct list of subjects for the box"
   ],
   "metadata": {
    "collapsed": false,
    "pycharm": {
     "name": "#%% md\n"
    }
   }
  },
  {
   "cell_type": "code",
   "execution_count": null,
   "outputs": [],
   "source": [
    "subjets_dist = box_with_trans_and_subjects[['SUBJECT_ID', 'TERM_ID', 'use_concept']].drop_duplicates()"
   ],
   "metadata": {
    "collapsed": false,
    "pycharm": {
     "name": "#%%\n"
    }
   }
  },
  {
   "cell_type": "code",
   "execution_count": null,
   "outputs": [],
   "source": [
    "subjets_dist"
   ],
   "metadata": {
    "collapsed": false,
    "pycharm": {
     "name": "#%%\n"
    }
   }
  },
  {
   "cell_type": "code",
   "execution_count": null,
   "outputs": [],
   "source": [
    "concepts[concepts['PREFERRED_y'] == 'P'][['SUBJECT_ID_y', 'TERM_ID', 'use_concept', 'LANGUAGE_CODE', 'PREFERRED_y']].drop_duplicates()"
   ],
   "metadata": {
    "collapsed": false,
    "pycharm": {
     "name": "#%%\n"
    }
   }
  },
  {
   "cell_type": "code",
   "execution_count": null,
   "outputs": [],
   "source": [
    "concepts[concepts['PREFERRED_y'] == 'P'][['LANGUAGE_CODE']].drop_duplicates()"
   ],
   "metadata": {
    "collapsed": false,
    "pycharm": {
     "name": "#%%\n"
    }
   }
  },
  {
   "cell_type": "code",
   "execution_count": null,
   "outputs": [],
   "source": [
    "subjets_dist"
   ],
   "metadata": {
    "collapsed": false,
    "pycharm": {
     "name": "#%%\n"
    }
   }
  },
  {
   "cell_type": "code",
   "execution_count": null,
   "outputs": [],
   "source": [
    "concepts[concepts['PREFERRED_y'] == 'P'][['SUBJECT_ID_y', 'TERM_ID', 'use_concept', 'LANGUAGE_CODE', 'PREFERRED_y']].drop_duplicates()"
   ],
   "metadata": {
    "collapsed": false,
    "pycharm": {
     "name": "#%%\n"
    }
   }
  },
  {
   "cell_type": "code",
   "execution_count": null,
   "outputs": [],
   "source": [
    "concepts[concepts['PREFERRED_y'] == 'P'][['LANGUAGE_CODE']].drop_duplicates()"
   ],
   "metadata": {
    "collapsed": false,
    "pycharm": {
     "name": "#%%\n"
    }
   }
  },
  {
   "cell_type": "markdown",
   "source": [
    "## Create the Combination Columns for Title and Translations\n",
    "\n",
    "don't need to do this now that the columns will be kept separate"
   ],
   "metadata": {
    "collapsed": false,
    "pycharm": {
     "name": "#%% md\n"
    }
   }
  },
  {
   "cell_type": "code",
   "execution_count": null,
   "outputs": [],
   "source": [
    "# title_cols = ['title', 'title_ES', 'title_PT']"
   ],
   "metadata": {
    "collapsed": false,
    "pycharm": {
     "name": "#%%\n"
    }
   }
  },
  {
   "cell_type": "code",
   "execution_count": null,
   "outputs": [],
   "source": [
    "# box_with_trans_and_subjects['title_trans'] = box_with_trans_and_subjects[title_cols].apply(lambda title_cols: ', '.join(title_cols.dropna()), axis=1)"
   ],
   "metadata": {
    "collapsed": false,
    "pycharm": {
     "name": "#%%\n"
    }
   }
  },
  {
   "cell_type": "markdown",
   "source": [
    "### Rename the columns post join "
   ],
   "metadata": {
    "collapsed": false,
    "pycharm": {
     "name": "#%% md\n"
    }
   }
  },
  {
   "cell_type": "code",
   "execution_count": null,
   "outputs": [],
   "source": [
    "# box_with_trans_and_subjects = box_with_trans_and_subjects.rename(columns={'identifier_x': 'identifier', \n",
    "# 'media': 'media', \n",
    "# 'title_x': 'title', \n",
    "# 'subject_x': 'subject', \n",
    "# 'description_x': 'description', \n",
    "# 'creator_x': 'creator', \n",
    "# 'publisher_x': 'publisher', \n",
    "# 'date_x': 'date', \n",
    "# 'rights_x': 'rights', \n",
    "# 'language_x': 'language', \n",
    "# 'relation_x': 'relation', \n",
    "# 'format_x': 'format', \n",
    "# 'type_x': 'type', \n",
    "# 'coverage_x': 'coverage', \n",
    "# 'spatial_x': 'spatial', \n",
    "# 'Index': 'Index', \n",
    "# 'Title': 'Title', \n",
    "# 'Translation ES': 'title_ES', \n",
    "# 'Translation PT': 'title_PT', \n",
    "# '_merge': '_merge', \n",
    "# 'identifier_y': 'identifier_y', \n",
    "# 'title_y': 'title_y', \n",
    "# 'subject_y': 'subject_y', \n",
    "# 'description_y': 'description_y', \n",
    "# 'creator_y': 'creator_y', \n",
    "# 'publisher_y': 'publisher_y', \n",
    "# 'date_y': 'date_y', \n",
    "# 'rights_y': 'rights_y', \n",
    "# 'language_y': 'language_y', \n",
    "# 'relation_y': 'relation_y', \n",
    "# 'format_y': 'format_y', \n",
    "# 'type_y': 'type_y', \n",
    "# 'coverage_y': 'coverage_y', \n",
    "# 'spatial_y': 'spatial_y', \n",
    "# 'subjects': 'subjects', \n",
    "# 'join_concept': 'join_concept', \n",
    "# 'extra_notes': 'extra_notes', \n",
    "# 'unnamed: 2': 'unnamed: 2', \n",
    "# 'unnamed: 4': 'unnamed: 4', \n",
    "# 'AACR2_FLAG': 'AACR2_FLAG', \n",
    "# 'DISPLAY_DATE': 'DISPLAY_DATE', \n",
    "# 'DISPLAY_NAME': 'DISPLAY_NAME', \n",
    "# 'DISPLAY_ORDER': 'DISPLAY_ORDER', \n",
    "# 'END_DATE': 'END_DATE', \n",
    "# 'HISTORIC_FLAG': 'HISTORIC_FLAG', \n",
    "# 'OTHER_FLAGS': 'OTHER_FLAGS', \n",
    "# 'PREFERRED_x': 'PREFERRED', \n",
    "# 'START_DATE': 'START_DATE', \n",
    "# 'SUBJECT_ID_x': 'SUBJECT_ID', \n",
    "# 'TERM': 'TERM', \n",
    "# 'TERM_ID': 'TERM_ID', \n",
    "# 'VERNACULAR': 'VERNACULAR', \n",
    "# 'LANGUAGE_CODE': 'LANGUAGE_CODE', \n",
    "# 'PREFERRED_y': 'PREFERRED_y', \n",
    "# 'SUBJECT_ID_y': 'SUBJECT_ID_y', \n",
    "# 'QUALIFIER': 'QUALIFIER', \n",
    "# 'TERM_TYPE': 'TERM_TYPE', \n",
    "# 'PART_OF_SPEECH': 'PART_OF_SPEECH', \n",
    "# 'LANG_STAT': 'LANG_STAT', \n",
    "# 'full_concept': 'full_concept', \n",
    "# 'use_concept': 'use_concept', \n",
    "# 'BoxId': 'BoxId', \n",
    "# 'Unnamed: 0': 'Unnamed: 0', \n",
    "# 'color': 'color', \n",
    "# 'RGB': 'RGB'})"
   ],
   "metadata": {
    "collapsed": false,
    "pycharm": {
     "name": "#%%\n"
    }
   }
  },
  {
   "cell_type": "code",
   "execution_count": null,
   "outputs": [],
   "source": [
    "box_with_trans_and_subjects[FIELDS_TO_RETURN + FIELDS_PLUS_TITLES+ SUBJECT_TERMS]"
   ],
   "metadata": {
    "collapsed": false,
    "pycharm": {
     "name": "#%%\n"
    }
   }
  },
  {
   "cell_type": "markdown",
   "source": [
    "## Generate a distinct list of subjects for the box"
   ],
   "metadata": {
    "collapsed": false,
    "pycharm": {
     "name": "#%% md\n"
    }
   }
  },
  {
   "cell_type": "code",
   "execution_count": null,
   "outputs": [],
   "source": [
    "box_with_trans_and_subjects[['SUBJECT_ID', 'TERM_ID', 'use_concept']].drop_duplicates()"
   ],
   "metadata": {
    "collapsed": false,
    "pycharm": {
     "name": "#%%\n"
    }
   }
  },
  {
   "cell_type": "markdown",
   "source": [
    "## Review the output with this Example"
   ],
   "metadata": {
    "collapsed": false,
    "pycharm": {
     "name": "#%% md\n"
    }
   }
  },
  {
   "cell_type": "code",
   "execution_count": null,
   "outputs": [],
   "source": [
    "# example\n",
    "box_with_trans_and_subjects[box_with_trans_and_subjects['identifier'] == 'A-1 269'][output].drop_duplicates()"
   ],
   "metadata": {
    "collapsed": false,
    "pycharm": {
     "name": "#%%\n"
    }
   }
  },
  {
   "cell_type": "markdown",
   "source": [
    "## Create the Combination Columns for Title and Translations"
   ],
   "metadata": {
    "collapsed": false,
    "pycharm": {
     "name": "#%% md\n"
    }
   }
  },
  {
   "cell_type": "code",
   "execution_count": null,
   "outputs": [],
   "source": [
    "title_cols = ['title', 'title_ES', 'title_PT']"
   ],
   "metadata": {
    "collapsed": false,
    "pycharm": {
     "name": "#%%\n"
    }
   }
  },
  {
   "cell_type": "code",
   "execution_count": null,
   "outputs": [],
   "source": [
    "# # Combined titles\n",
    "# box_with_trans_and_subjects['title_trans'] = box_with_trans_and_subjects[title_cols].apply(lambda title_cols: ';'.join(title_cols.dropna()), axis=1)"
   ],
   "metadata": {
    "collapsed": false,
    "pycharm": {
     "name": "#%%\n"
    }
   }
  },
  {
   "cell_type": "code",
   "execution_count": null,
   "outputs": [],
   "source": [
    "# example\n",
    "box_with_trans_and_subjects[box_with_trans_and_subjects['identifier'] == 'A-2 091'][FIELDS_TO_RETURN + FIELDS_PLUS_TITLES+ SUBJECT_TERMS+['title_trans']]"
   ],
   "metadata": {
    "collapsed": false,
    "pycharm": {
     "name": "#%%\n"
    }
   }
  },
  {
   "cell_type": "markdown",
   "source": [
    "## Create the Combination Columns for Subjects (eventually also translations)"
   ],
   "metadata": {
    "collapsed": false,
    "pycharm": {
     "name": "#%% md\n"
    }
   }
  },
  {
   "cell_type": "markdown",
   "source": [
    "### example with  a single record"
   ],
   "metadata": {
    "collapsed": false,
    "pycharm": {
     "name": "#%% md\n"
    }
   }
  },
  {
   "cell_type": "code",
   "execution_count": null,
   "outputs": [],
   "source": [
    "bts_ss = box_with_trans_and_subjects[box_with_trans_and_subjects['identifier'] == 'A-2 091'][['identifier', 'subject', 'use_concept', 'SUBJECT_ID']]"
   ],
   "metadata": {
    "collapsed": false,
    "pycharm": {
     "name": "#%%\n"
    }
   }
  },
  {
   "cell_type": "code",
   "execution_count": null,
   "outputs": [],
   "source": [
    "bts_comb =  bts_ss.groupby(['identifier', 'subject'])['use_concept'].apply(lambda x: ';'.join(x)).reset_index()"
   ],
   "metadata": {
    "collapsed": false,
    "pycharm": {
     "name": "#%%\n"
    }
   }
  },
  {
   "cell_type": "code",
   "execution_count": null,
   "outputs": [],
   "source": [
    "bts_comb =  bts_ss.groupby(['identifier', 'subject'])['SUBJECT_ID'].apply(lambda x: ';'.join(x)).reset_index()"
   ],
   "metadata": {
    "collapsed": false,
    "pycharm": {
     "name": "#%%\n"
    }
   }
  },
  {
   "cell_type": "code",
   "execution_count": null,
   "outputs": [],
   "source": [
    "bts_comb"
   ],
   "metadata": {
    "collapsed": false,
    "pycharm": {
     "name": "#%%\n"
    }
   }
  },
  {
   "cell_type": "markdown",
   "source": [
    "### remove any use_concept records that are NaN"
   ],
   "metadata": {
    "collapsed": false,
    "pycharm": {
     "name": "#%% md\n"
    }
   }
  },
  {
   "cell_type": "code",
   "execution_count": null,
   "outputs": [],
   "source": [
    "box_with_trans_and_subjects[box_with_trans_and_subjects['use_concept'].isna()]"
   ],
   "metadata": {
    "collapsed": false,
    "pycharm": {
     "name": "#%%\n"
    }
   }
  },
  {
   "cell_type": "code",
   "execution_count": null,
   "outputs": [],
   "source": [
    "bts = box_with_trans_and_subjects.dropna(subset=['use_concept'])"
   ],
   "metadata": {
    "collapsed": false,
    "pycharm": {
     "name": "#%%\n"
    }
   }
  },
  {
   "cell_type": "code",
   "execution_count": null,
   "outputs": [],
   "source": [
    "bts = box_with_trans_and_subjects.dropna(subset=['SUBJECT_ID'])"
   ],
   "metadata": {
    "collapsed": false,
    "pycharm": {
     "name": "#%%\n"
    }
   }
  },
  {
   "cell_type": "code",
   "execution_count": null,
   "outputs": [],
   "source": [
    "# example\n",
    "box_with_trans_and_subjects[box_with_trans_and_subjects['identifier']=='A-1 269'][['identifier','subject', 'use_concept', 'SUBJECT_ID']]"
   ],
   "metadata": {
    "collapsed": false,
    "pycharm": {
     "name": "#%%\n"
    }
   }
  },
  {
   "cell_type": "code",
   "execution_count": null,
   "outputs": [],
   "source": [
    "# example\n",
    "bts[bts['identifier'] == 'A-1 269'][['identifier','subject', 'use_concept', 'SUBJECT_ID']]"
   ],
   "metadata": {
    "collapsed": false,
    "pycharm": {
     "name": "#%%\n"
    }
   }
  },
  {
   "cell_type": "markdown",
   "source": [
    "### having dropped NaN use_concepts, create the DF with the combined subjects\n",
    "schema is identifier, use_concepts (combined)"
   ],
   "metadata": {
    "collapsed": false,
    "pycharm": {
     "name": "#%% md\n"
    }
   }
  },
  {
   "cell_type": "code",
   "execution_count": null,
   "outputs": [],
   "source": [
    "bts_combined_subjects = bts.groupby(['identifier'])['use_concept'].apply(lambda x: '; '.join(x)).reset_index()"
   ],
   "metadata": {
    "collapsed": false,
    "pycharm": {
     "name": "#%%\n"
    }
   }
  },
  {
   "cell_type": "code",
   "execution_count": null,
   "outputs": [],
   "source": [
    "output_test_subj = bts_combined_subjects.merge(box_with_trans_and_subjects, on='identifier')\n",
    "# x.merge(title_translations, how='left', left_on='title', right_on='Title', indicator=True)"
   ],
   "metadata": {
    "collapsed": false,
    "pycharm": {
     "name": "#%%\n"
    }
   }
  },
  {
   "cell_type": "code",
   "execution_count": null,
   "outputs": [],
   "source": [
    "bts_combined_subject_ids = bts.groupby(['identifier'])['SUBJECT_ID'].apply(lambda x: '; '.join(x)).reset_index()"
   ],
   "metadata": {
    "collapsed": false,
    "pycharm": {
     "name": "#%%\n"
    }
   }
  },
  {
   "cell_type": "code",
   "execution_count": null,
   "outputs": [],
   "source": [
    "# put in a rename for the bts_combined_subject_ids so that the final join doesn't have two SUBJECT_ID_y columns\n",
    "bts_combined_subject_ids = bts_combined_subject_ids.rename(\n",
    "    columns={\n",
    "        'identifier': 'identifier',\n",
    "        'SUBJECT_ID': 'subject_id_comb_en'\n",
    "    }\n",
    ")"
   ],
   "metadata": {
    "collapsed": false,
    "pycharm": {
     "name": "#%%\n"
    }
   }
  },
  {
   "cell_type": "code",
   "execution_count": null,
   "outputs": [],
   "source": [
    "output_test = output_test_subj.merge(bts_combined_subject_ids, on='identifier')\n",
    "# x.merge(title_translations, how='left', left_on='title', right_on='Title', indicator=True)"
   ],
   "metadata": {
    "collapsed": false,
    "pycharm": {
     "name": "#%%\n"
    }
   }
  },
  {
   "cell_type": "code",
   "execution_count": null,
   "outputs": [],
   "source": [
    "output_test[output+['subject_id_comb_en']].drop_duplicates()"
   ],
   "metadata": {
    "collapsed": false,
    "pycharm": {
     "name": "#%%\n"
    }
   }
  },
  {
   "cell_type": "code",
   "execution_count": null,
   "outputs": [],
   "source": [
    "output_test_subj = bts_combined_subjects.merge(box_with_trans_and_subjects, on='identifier')\n",
    "# x.merge(title_translations, how='left', left_on='title', right_on='Title', indicator=True)"
   ],
   "metadata": {
    "collapsed": false,
    "pycharm": {
     "name": "#%%\n"
    }
   }
  },
  {
   "cell_type": "code",
   "execution_count": null,
   "outputs": [],
   "source": [
    "bts_combined_subject_ids = bts.groupby(['identifier'])['SUBJECT_ID'].apply(lambda x: '; '.join(x)).reset_index()"
   ],
   "metadata": {
    "collapsed": false,
    "pycharm": {
     "name": "#%%\n"
    }
   }
  },
  {
   "cell_type": "code",
   "execution_count": null,
   "outputs": [],
   "source": [
    "# put in a rename for the bts_combined_subject_ids so that the final join doesn't have two SUBJECT_ID_y columns\n",
    "bts_combined_subject_ids = bts_combined_subject_ids.rename(\n",
    "    columns={\n",
    "        'identifier': 'identifier',\n",
    "        'SUBJECT_ID': 'subject_id_comb_en'\n",
    "    }\n",
    ")"
   ],
   "metadata": {
    "collapsed": false,
    "pycharm": {
     "name": "#%%\n"
    }
   }
  },
  {
   "cell_type": "code",
   "execution_count": null,
   "outputs": [],
   "source": [
    "output_test = output_test_subj.merge(bts_combined_subject_ids, on='identifier')\n",
    "# x.merge(title_translations, how='left', left_on='title', right_on='Title', indicator=True)"
   ],
   "metadata": {
    "collapsed": false,
    "pycharm": {
     "name": "#%%\n"
    }
   }
  },
  {
   "cell_type": "code",
   "execution_count": null,
   "outputs": [],
   "source": [
    "final_output = output_test[output+['subject_id_comb_en']].drop_duplicates()"
   ],
   "metadata": {
    "collapsed": false,
    "pycharm": {
     "name": "#%%\n"
    }
   }
  },
  {
   "cell_type": "code",
   "execution_count": null,
   "outputs": [],
   "source": [
    "final_output"
   ],
   "metadata": {
    "collapsed": false,
    "pycharm": {
     "name": "#%%\n"
    }
   }
  },
  {
   "cell_type": "markdown",
   "source": [
    "## This will be the script for outputting the file to the CSV"
   ],
   "metadata": {
    "collapsed": false,
    "pycharm": {
     "name": "#%% md\n"
    }
   }
  },
  {
   "cell_type": "code",
   "execution_count": null,
   "outputs": [],
   "source": [
    "final_output[output].to_csv(\n",
    "    path_or_buf='./csv_files/output_file_box2.csv',\n",
    "    index=False, header=dc_output,\n",
    "    quoting=csv.QUOTE_NONNUMERIC\n",
    ")"
   ],
   "metadata": {
    "collapsed": false,
    "pycharm": {
     "name": "#%%\n"
    }
   }
  },
  {
   "cell_type": "markdown",
   "id": "40a3e4f3",
   "metadata": {
    "pycharm": {
     "name": "#%% md\n"
    }
   },
   "source": [
    "## This will be the script for outputting the file to the CSV"
   ]
  },
  {
   "cell_type": "code",
   "execution_count": 58,
   "id": "92cf34ec",
   "metadata": {
    "pycharm": {
     "name": "#%%\n"
    }
   },
   "outputs": [],
   "source": [
    "final_output[output].to_csv(\n",
    "    path_or_buf='./csv_files/output_file_box2.csv',\n",
    "    index=False, header=dc_output,\n",
    "    quoting=csv.QUOTE_NONNUMERIC\n",
    ")"
   ]
  }
 ],
 "metadata": {
  "kernelspec": {
   "display_name": "Python 3",
   "language": "python",
   "name": "python3"
  },
  "language_info": {
   "codemirror_mode": {
    "name": "ipython",
    "version": 3
   },
   "file_extension": ".py",
   "mimetype": "text/x-python",
   "name": "python",
   "nbconvert_exporter": "python",
   "pygments_lexer": "ipython3",
   "version": "3.8.8"
  }
 },
 "nbformat": 4,
 "nbformat_minor": 5
}