{
 "cells": [
  {
   "cell_type": "markdown",
   "id": "17e3c715",
   "metadata": {},
   "source": [
    "# Functions"
   ]
  },
  {
   "cell_type": "code",
   "execution_count": 3,
   "id": "d58446d6",
   "metadata": {},
   "outputs": [],
   "source": [
    "from IPython.display import clear_output\n",
    "import pandas as pd\n",
    "from pandas import Series\n",
    "import numpy as np\n",
    "import re\n",
    "import csv\n",
    "from gsheets import Sheets\n",
    "from datetime import datetime"
   ]
  },
  {
   "cell_type": "code",
   "execution_count": 4,
   "id": "4ac9b099",
   "metadata": {},
   "outputs": [],
   "source": [
    "terms_header_list = [\"AACR2_FLAG\", \"DISPLAY_DATE\", \"DISPLAY_NAME\", \"DISPLAY_ORDER\", \"END_DATE\", \"HISTORIC_FLAG\", \"OTHER_FLAGS\", \"PREFERRED\", \"START_DATE\", \"SUBJECT_ID\", \"TERM\", \"TERM_ID\", \"VERNACULAR\"]\n",
    "terms_dtype = {'TERM_ID': str, 'SUBJECT_ID' : str}\n",
    "lang_rels_header_list = [\"LANGUAGE_CODE\", \"PREFERRED\", \"SUBJECT_ID\", \"TERM_ID\", \"QUALIFIER\", \"TERM_TYPE\", \"PART_OF_SPEECH\", \"LANG_STAT\"]\n",
    "lang_rel_dtype = {'TERM_ID': str, 'SUBJECT_ID' : str, 'LANGUAGE_CODE': str}\n",
    "english_language_codes = ['70051', '70052', '70053']"
   ]
  },
  {
   "cell_type": "code",
   "execution_count": 5,
   "id": "c3f50c63",
   "metadata": {},
   "outputs": [],
   "source": [
    "# load metadata\n",
    "# Language Codes found here: https://www.getty.edu/research/tools/vocabularies/guidelines/tgn_4_5_appendix_e_languages.html\n",
    "# 4.5.2 List of Languages\n",
    "\n",
    "def load_metadata() -> pd.DataFrame:\n",
    "    \"\"\"load the metadata that will be used\n",
    "    files were downloaded from: http://aatdownloads.getty.edu/\n",
    "    \"\"\"\n",
    "    terms = read_aat_terms('./AAT_Files/TERM.out', terms_header_list, terms_dtype)\n",
    "    lang_rels = read_aat_terms('./AAT_Files/LANGUAGE_RELS.out', lang_rels_header_list, lang_rel_dtype)\n",
    "    concepts = (pd.merge(terms, lang_rels, how = 'inner', on='TERM_ID'))\n",
    "    concepts['full_concept'] = (concepts.TERM + ' (' + concepts.QUALIFIER + ')')\n",
    "    concepts['use_concept'] = (concepts.full_concept.fillna(concepts.TERM))\n",
    "    concepts['join_concept'] = (concepts.use_concept.str.lower())\n",
    "    concepts = concepts[concepts['LANGUAGE_CODE'].isin(english_language_codes)]\n",
    "\n",
    "    return concepts"
   ]
  },
  {
   "cell_type": "code",
   "execution_count": 7,
   "id": "37c91da9",
   "metadata": {},
   "outputs": [],
   "source": [
    "def read_aat_terms(file_path: str, names: list, data_types: dict) -> pd.DataFrame:\n",
    "    data = pd.read_csv(file_path\n",
    "                       , sep = '\\t'\n",
    "                       , warn_bad_lines=True\n",
    "                       , error_bad_lines=False\n",
    "                       , names=names\n",
    "                       , dtype=data_types)\n",
    "    return data"
   ]
  },
  {
   "cell_type": "code",
   "execution_count": 5,
   "id": "83175dba",
   "metadata": {},
   "outputs": [],
   "source": [
    "# get box data by box number (as an integer)\n",
    "\n",
    "def return_box(box_num: int) -> pd.DataFrame:\n",
    "    box_id = f'Box {str(box_num)}'\n",
    "    df = s.find(box_id).to_frame()\n",
    "    df = format_column_names(df)\n",
    "    return df"
   ]
  },
  {
   "cell_type": "code",
   "execution_count": 6,
   "id": "6bfa0a9b",
   "metadata": {},
   "outputs": [],
   "source": [
    "# get column names in the correct format during the retrieval of box data\n",
    "\n",
    "def format_column_names(df: pd.DataFrame) -> pd.DataFrame:\n",
    "    column_names = list(map(lambda x: x.strip().lower().replace(\"dcterms:\", \"\"), df.columns))\n",
    "    df = df.set_axis(column_names, axis=1, inplace=False)\n",
    "    return df"
   ]
  },
  {
   "cell_type": "code",
   "execution_count": 7,
   "id": "d3cd38cd",
   "metadata": {},
   "outputs": [],
   "source": [
    "def split_df(df: pd.DataFrame) -> pd.DataFrame:\n",
    "    \"\"\"given a dataframe with multiple concepts specified, splits them and returns them \n",
    "    as one row per concept\n",
    "    \"\"\"\n",
    "    split_df = df['subject'].str.split(',', expand=True).apply(Series, 1).stack()\n",
    "    split_df.index = split_df.index.droplevel(-1)\n",
    "    split_df.name = 'subjects'\n",
    "\n",
    "    x = df.join(split_df)\n",
    "    x['subjects'] = x['subjects'].str.strip()\n",
    "    x['join_concept'] = x['subjects'].str.lower()\n",
    "    \n",
    "    return x"
   ]
  },
  {
   "cell_type": "code",
   "execution_count": 8,
   "id": "18c31ff3",
   "metadata": {},
   "outputs": [],
   "source": [
    "def terminate() -> str:\n",
    "    \"\"\"\n",
    "    check to see if we should stop or continue the loop\n",
    "    \n",
    "    \"\"\"\n",
    "    \n",
    "    terminate = input(\"Press 'X' key to terminate the program\")\n",
    "    if terminate == 'X':\n",
    "        print('stopping')\n",
    "    return terminate"
   ]
  },
  {
   "cell_type": "code",
   "execution_count": 9,
   "id": "998904bf",
   "metadata": {},
   "outputs": [],
   "source": [
    "def combine_boxes(df1: pd.DataFrame, df2: pd.DataFrame) -> pd.DataFrame:\n",
    "    \"\"\"assuming df1 and df2 are dataframes with same schema, combines them and returns them\"\"\"\n",
    "    df_concat = pd.concat([df1, df2])\n",
    "    return df_concat"
   ]
  },
  {
   "cell_type": "code",
   "execution_count": 10,
   "id": "c3486ffd",
   "metadata": {},
   "outputs": [],
   "source": [
    "def add_to_not_found(df: pd.DataFrame):\n",
    "    \"\"\"write to a csv the records that could not be matched\"\"\"\n",
    "    \n",
    "    file_name = 'csv_files/unmatched_subjects_v2.csv'\n",
    "    \n",
    "    try:\n",
    "        old_df = pd.read_csv(file_name, header=0, index_col=False)\n",
    "        combined_df = pd.concat([old_df, df])\n",
    "    except(FileNotFoundError):\n",
    "        combined_df = df\n",
    "    \n",
    "    combined_df.to_csv(file_name, index=False, quoting=csv.QUOTE_ALL)"
   ]
  }
 ],
 "metadata": {
  "kernelspec": {
   "display_name": "Python 3",
   "language": "python",
   "name": "python3"
  },
  "language_info": {
   "codemirror_mode": {
    "name": "ipython",
    "version": 3
   },
   "file_extension": ".py",
   "mimetype": "text/x-python",
   "name": "python",
   "nbconvert_exporter": "python",
   "pygments_lexer": "ipython3",
   "version": "3.8.8"
  }
 },
 "nbformat": 4,
 "nbformat_minor": 5
}
