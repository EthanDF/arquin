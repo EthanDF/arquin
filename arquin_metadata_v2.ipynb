{
 "cells": [
  {
   "cell_type": "code",
   "execution_count": 1,
   "id": "a6b2fa9d",
   "metadata": {
    "pycharm": {
     "name": "#%%\n"
    }
   },
   "outputs": [],
   "source": [
    "from IPython.display import clear_output\n",
    "import pandas as pd\n",
    "from pandas import Series\n",
    "import numpy as np\n",
    "import re\n",
    "import csv\n",
    "from gsheets import Sheets\n",
    "from datetime import datetime"
   ]
  },
  {
   "cell_type": "code",
   "execution_count": 2,
   "id": "8cb2b9c2",
   "metadata": {
    "pycharm": {
     "name": "#%%\n"
    }
   },
   "outputs": [],
   "source": [
    "url = 'https://docs.google.com/spreadsheets/d/1LRbios7yQRo3aqCh0Es2Wiae_dicg_OtL-_yqP-Tb8I/edit#gid=1718343431'"
   ]
  },
  {
   "cell_type": "markdown",
   "id": "25f0389e",
   "metadata": {
    "pycharm": {
     "name": "#%% md\n"
    }
   },
   "source": [
    "## Create resusable lists for reference in data display or collection"
   ]
  },
  {
   "cell_type": "code",
   "execution_count": 3,
   "id": "07029bf1",
   "metadata": {
    "pycharm": {
     "name": "#%%\n"
    }
   },
   "outputs": [],
   "source": [
    "# lists used in the loading of the AAT Metadata\n",
    "terms_header_list = [\"AACR2_FLAG\", \"DISPLAY_DATE\", \"DISPLAY_NAME\", \"DISPLAY_ORDER\", \"END_DATE\", \"HISTORIC_FLAG\", \"OTHER_FLAGS\", \"PREFERRED\", \"START_DATE\", \"SUBJECT_ID\", \"TERM\", \"TERM_ID\", \"VERNACULAR\"]\n",
    "terms_dtype = {'TERM_ID': str, 'SUBJECT_ID' : str}\n",
    "lang_rels_header_list = [\"LANGUAGE_CODE\", \"PREFERRED\", \"SUBJECT_ID\", \"TERM_ID\", \"QUALIFIER\", \"TERM_TYPE\", \"PART_OF_SPEECH\", \"LANG_STAT\"]\n",
    "lang_rel_dtype = {'TERM_ID': str, 'SUBJECT_ID' : str, 'LANGUAGE_CODE': str}\n",
    "narrow_list = ['identifier', 'media', 'subject', 'title', 'subjects', 'SUBJECT_ID_x', 'TERM_ID', 'join_concept', 'BoxId', 'color']"
   ]
  },
  {
   "cell_type": "markdown",
   "id": "3b691d3f",
   "metadata": {
    "pycharm": {
     "name": "#%% md\n"
    }
   },
   "source": [
    "## Functions"
   ]
  },
  {
   "cell_type": "code",
   "execution_count": 4,
   "id": "dc9a28f9",
   "metadata": {
    "pycharm": {
     "name": "#%%\n"
    }
   },
   "outputs": [],
   "source": [
    "# load metadata\n",
    "\n",
    "def load_metadata() -> pd.DataFrame:\n",
    "    \"\"\"load the metadata that will be used\n",
    "    files were downloaded from: http://aatdownloads.getty.edu/\n",
    "    \"\"\"\n",
    "    terms = read_aat_terms('./AAT_Files/TERM.out', terms_header_list, terms_dtype)\n",
    "    lang_rels = read_aat_terms('./AAT_Files/LANGUAGE_RELS.out', lang_rels_header_list, lang_rel_dtype)\n",
    "    concepts = (pd.merge(terms, lang_rels, how = 'inner', on='TERM_ID'))\n",
    "    concepts['full_concept'] = (concepts.TERM + ' (' + concepts.QUALIFIER + ')')\n",
    "    concepts['use_concept'] = (concepts.full_concept.fillna(concepts.TERM))\n",
    "    concepts['join_concept'] = (concepts.use_concept.str.lower())\n",
    "\n",
    "    return concepts"
   ]
  },
  {
   "cell_type": "code",
   "execution_count": 5,
   "id": "61b5351d",
   "metadata": {
    "pycharm": {
     "name": "#%%\n"
    }
   },
   "outputs": [],
   "source": [
    "def read_aat_terms(file_path: str, names: list, data_types: dict) -> pd.DataFrame:\n",
    "    data = pd.read_csv(file_path\n",
    "                       , sep = '\\t'\n",
    "                       , warn_bad_lines=True\n",
    "                       , error_bad_lines=False\n",
    "                       , names=names\n",
    "                       , dtype=data_types)\n",
    "    return data"
   ]
  },
  {
   "cell_type": "code",
   "execution_count": 6,
   "id": "9c5e8137",
   "metadata": {
    "pycharm": {
     "name": "#%%\n"
    }
   },
   "outputs": [],
   "source": [
    "# get box data by box number (as an integer)\n",
    "\n",
    "def return_box(box_num: int) -> pd.DataFrame:\n",
    "    box_id = f'Box {str(box_num)}'\n",
    "    df = s.find(box_id).to_frame()\n",
    "    df = format_column_names(df)\n",
    "    return df"
   ]
  },
  {
   "cell_type": "code",
   "execution_count": 7,
   "id": "69b1d25a",
   "metadata": {
    "pycharm": {
     "name": "#%%\n"
    }
   },
   "outputs": [],
   "source": [
    "# get column names in the correct format during the retrieval of box data\n",
    "\n",
    "def format_column_names(df: pd.DataFrame) -> pd.DataFrame:\n",
    "    column_names = list(map(lambda x: x.strip().lower().replace(\"dcterms:\", \"\"), df.columns))\n",
    "    df = df.set_axis(column_names, axis=1, inplace=False)\n",
    "    return df"
   ]
  },
  {
   "cell_type": "code",
   "execution_count": 8,
   "id": "1d63e0c0",
   "metadata": {
    "pycharm": {
     "name": "#%%\n"
    }
   },
   "outputs": [],
   "source": [
    "def split_df(df: pd.DataFrame) -> pd.DataFrame:\n",
    "    \"\"\"given a dataframe with multiple concepts specified, splits them and returns them \n",
    "    as one row per concept\n",
    "    \"\"\"\n",
    "    split_df = df['subject'].str.split(',', expand=True).apply(Series, 1).stack()\n",
    "    split_df.index = split_df.index.droplevel(-1)\n",
    "    split_df.name = 'subjects'\n",
    "\n",
    "    x = df.join(split_df)\n",
    "    x['subjects'] = x['subjects'].str.strip()\n",
    "    x['join_concept'] = x['subjects'].str.lower()\n",
    "    \n",
    "    return x"
   ]
  },
  {
   "cell_type": "code",
   "execution_count": 9,
   "id": "e6a5719e",
   "metadata": {
    "pycharm": {
     "name": "#%%\n"
    }
   },
   "outputs": [],
   "source": [
    "def terminate() -> str:\n",
    "    \"\"\"\n",
    "    check to see if we should stop or continue the loop\n",
    "    \n",
    "    \"\"\"\n",
    "    \n",
    "    terminate = input(\"Press 'X' key to terminate the program\")\n",
    "    if terminate == 'X':\n",
    "        print('stopping')\n",
    "    return terminate"
   ]
  },
  {
   "cell_type": "code",
   "execution_count": 10,
   "id": "a0ca40e6",
   "metadata": {
    "pycharm": {
     "name": "#%%\n"
    }
   },
   "outputs": [],
   "source": [
    "def combine_boxes(df1: pd.DataFrame, df2: pd.DataFrame) -> pd.DataFrame:\n",
    "    \"\"\"assuming df1 and df2 are dataframes with same schema, combines them and returns them\"\"\"\n",
    "    df_concat = pd.concat([df1, df2])\n",
    "    return df_concat"
   ]
  },
  {
   "cell_type": "code",
   "execution_count": 11,
   "id": "641dee2d",
   "metadata": {
    "pycharm": {
     "name": "#%%\n"
    }
   },
   "outputs": [],
   "source": [
    "def add_to_not_found(df: pd.DataFrame):\n",
    "    \"\"\"write to a csv the records that could not be matched\"\"\"\n",
    "    \n",
    "    file_name = 'csv_files/unmatched_subjects_v2.csv'\n",
    "    \n",
    "    try:\n",
    "        old_df = pd.read_csv(file_name, header=0, index_col=False)\n",
    "        combined_df = pd.concat([old_df, df])\n",
    "    except(FileNotFoundError):\n",
    "        combined_df = df\n",
    "    \n",
    "    combined_df.to_csv(file_name, index=False, quoting=csv.QUOTE_ALL)"
   ]
  },
  {
   "cell_type": "markdown",
   "id": "56df33e0",
   "metadata": {
    "pycharm": {
     "name": "#%% md\n"
    }
   },
   "source": [
    "## Load the spreadsheet information"
   ]
  },
  {
   "cell_type": "code",
   "execution_count": 12,
   "id": "ad55855e",
   "metadata": {
    "pycharm": {
     "name": "#%%\n"
    }
   },
   "outputs": [],
   "source": [
    "# if HttpAccessTokenRefreshError, close everything and start over\n",
    "sheets = Sheets.from_files('~/client_secrets.json', '~/storage.json')\n",
    "s = sheets.get(url)"
   ]
  },
  {
   "cell_type": "code",
   "execution_count": 13,
   "id": "8ef8cb04",
   "metadata": {
    "pycharm": {
     "name": "#%%\n"
    }
   },
   "outputs": [],
   "source": [
    "# get the list of boxes containing metadata\n",
    "\n",
    "box_list = []\n",
    "box_list_sheets = s.sheets.titles()\n",
    "\n",
    "for b in box_list_sheets:\n",
    "    if 'Box' in b:\n",
    "        box_list.append(int(b[4:]))"
   ]
  },
  {
   "cell_type": "markdown",
   "id": "7321e297",
   "metadata": {
    "pycharm": {
     "name": "#%% md\n"
    }
   },
   "source": [
    "## Load the Metadata from Getty AAT\n",
    "\n",
    "Individual AAT Terms can be seen here:\n",
    "https://www.getty.edu/research/tools/vocabularies/aat/\n",
    "\n",
    "We use the .Out files available below for consuming the data - these are batch released so terms in the .Out files may note be availalbe on the AAT search (link above) or vice-versa:\n",
    "http://aatdownloads.getty.edu/\n",
    "\n",
    "Note that when we load files, we join the LANGUAGE_RELS.out and TERM.out files and combine the term and and the qualifier to create the \"subjects\" and \"join_concepts\"\n",
    "\n",
    "The join_concept ensures the case for the term is all lower case\n",
    "\n",
    "We also create a \"full_concept\" but doesn't handle the NULL case well and shouldn't be used for analysis"
   ]
  },
  {
   "cell_type": "code",
   "execution_count": 14,
   "id": "7bf69ae4",
   "metadata": {
    "pycharm": {
     "name": "#%%\n"
    }
   },
   "outputs": [
    {
     "name": "stderr",
     "output_type": "stream",
     "text": [
      "/Users/ethan.fenichel/opt/anaconda3/lib/python3.8/site-packages/IPython/core/interactiveshell.py:3437: DtypeWarning: Columns (4) have mixed types.Specify dtype option on import or set low_memory=False.\n",
      "  exec(code_obj, self.user_global_ns, self.user_ns)\n"
     ]
    }
   ],
   "source": [
    "concepts = load_metadata()"
   ]
  },
  {
   "cell_type": "code",
   "execution_count": 15,
   "id": "8205a8fd",
   "metadata": {
    "pycharm": {
     "name": "#%%\n"
    }
   },
   "outputs": [],
   "source": [
    "# review the metadata for concepts containing a comma and return those as a list\n",
    "concepts_drop = concepts[concepts['use_concept'].notna()]\n",
    "concepts_search = concepts_drop[concepts_drop['use_concept'].str.contains(',')]\n",
    "concepts_comma = concepts_search['use_concept'].to_list()"
   ]
  },
  {
   "cell_type": "code",
   "execution_count": 16,
   "id": "cf724798",
   "metadata": {
    "pycharm": {
     "name": "#%%\n"
    },
    "scrolled": true
   },
   "outputs": [
    {
     "data": {
      "text/html": [
       "<div>\n",
       "<style scoped>\n",
       "    .dataframe tbody tr th:only-of-type {\n",
       "        vertical-align: middle;\n",
       "    }\n",
       "\n",
       "    .dataframe tbody tr th {\n",
       "        vertical-align: top;\n",
       "    }\n",
       "\n",
       "    .dataframe thead th {\n",
       "        text-align: right;\n",
       "    }\n",
       "</style>\n",
       "<table border=\"1\" class=\"dataframe\">\n",
       "  <thead>\n",
       "    <tr style=\"text-align: right;\">\n",
       "      <th></th>\n",
       "      <th>AACR2_FLAG</th>\n",
       "      <th>DISPLAY_DATE</th>\n",
       "      <th>DISPLAY_NAME</th>\n",
       "      <th>DISPLAY_ORDER</th>\n",
       "      <th>END_DATE</th>\n",
       "      <th>HISTORIC_FLAG</th>\n",
       "      <th>OTHER_FLAGS</th>\n",
       "      <th>PREFERRED_x</th>\n",
       "      <th>START_DATE</th>\n",
       "      <th>SUBJECT_ID_x</th>\n",
       "      <th>...</th>\n",
       "      <th>LANGUAGE_CODE</th>\n",
       "      <th>PREFERRED_y</th>\n",
       "      <th>SUBJECT_ID_y</th>\n",
       "      <th>QUALIFIER</th>\n",
       "      <th>TERM_TYPE</th>\n",
       "      <th>PART_OF_SPEECH</th>\n",
       "      <th>LANG_STAT</th>\n",
       "      <th>full_concept</th>\n",
       "      <th>use_concept</th>\n",
       "      <th>join_concept</th>\n",
       "    </tr>\n",
       "  </thead>\n",
       "  <tbody>\n",
       "    <tr>\n",
       "      <th>0</th>\n",
       "      <td>NaN</td>\n",
       "      <td>NaN</td>\n",
       "      <td>NaN</td>\n",
       "      <td>3.0</td>\n",
       "      <td>NaN</td>\n",
       "      <td>C</td>\n",
       "      <td>NaN</td>\n",
       "      <td>V</td>\n",
       "      <td>NaN</td>\n",
       "      <td>300022903</td>\n",
       "      <td>...</td>\n",
       "      <td>70051</td>\n",
       "      <td>N</td>\n",
       "      <td>300022903</td>\n",
       "      <td>NaN</td>\n",
       "      <td>UF</td>\n",
       "      <td>U</td>\n",
       "      <td>U</td>\n",
       "      <td>NaN</td>\n",
       "      <td>knives, gauge</td>\n",
       "      <td>knives, gauge</td>\n",
       "    </tr>\n",
       "    <tr>\n",
       "      <th>1</th>\n",
       "      <td>NaN</td>\n",
       "      <td>NaN</td>\n",
       "      <td>NaN</td>\n",
       "      <td>1.0</td>\n",
       "      <td>NaN</td>\n",
       "      <td>C</td>\n",
       "      <td>NaN</td>\n",
       "      <td>P</td>\n",
       "      <td>NaN</td>\n",
       "      <td>300022904</td>\n",
       "      <td>...</td>\n",
       "      <td>70051</td>\n",
       "      <td>P</td>\n",
       "      <td>300022904</td>\n",
       "      <td>NaN</td>\n",
       "      <td>D</td>\n",
       "      <td>PN</td>\n",
       "      <td>U</td>\n",
       "      <td>NaN</td>\n",
       "      <td>hand knives</td>\n",
       "      <td>hand knives</td>\n",
       "    </tr>\n",
       "    <tr>\n",
       "      <th>2</th>\n",
       "      <td>NaN</td>\n",
       "      <td>NaN</td>\n",
       "      <td>NaN</td>\n",
       "      <td>2.0</td>\n",
       "      <td>NaN</td>\n",
       "      <td>C</td>\n",
       "      <td>NaN</td>\n",
       "      <td>V</td>\n",
       "      <td>NaN</td>\n",
       "      <td>300022904</td>\n",
       "      <td>...</td>\n",
       "      <td>70051</td>\n",
       "      <td>N</td>\n",
       "      <td>300022904</td>\n",
       "      <td>NaN</td>\n",
       "      <td>AD</td>\n",
       "      <td>SN</td>\n",
       "      <td>U</td>\n",
       "      <td>NaN</td>\n",
       "      <td>hand knife</td>\n",
       "      <td>hand knife</td>\n",
       "    </tr>\n",
       "    <tr>\n",
       "      <th>3</th>\n",
       "      <td>NaN</td>\n",
       "      <td>NaN</td>\n",
       "      <td>NaN</td>\n",
       "      <td>3.0</td>\n",
       "      <td>NaN</td>\n",
       "      <td>C</td>\n",
       "      <td>NaN</td>\n",
       "      <td>V</td>\n",
       "      <td>NaN</td>\n",
       "      <td>300022904</td>\n",
       "      <td>...</td>\n",
       "      <td>70051</td>\n",
       "      <td>N</td>\n",
       "      <td>300022904</td>\n",
       "      <td>NaN</td>\n",
       "      <td>UF</td>\n",
       "      <td>U</td>\n",
       "      <td>U</td>\n",
       "      <td>NaN</td>\n",
       "      <td>knives, hand</td>\n",
       "      <td>knives, hand</td>\n",
       "    </tr>\n",
       "    <tr>\n",
       "      <th>4</th>\n",
       "      <td>NaN</td>\n",
       "      <td>NaN</td>\n",
       "      <td>NaN</td>\n",
       "      <td>1.0</td>\n",
       "      <td>NaN</td>\n",
       "      <td>C</td>\n",
       "      <td>NaN</td>\n",
       "      <td>P</td>\n",
       "      <td>NaN</td>\n",
       "      <td>300022905</td>\n",
       "      <td>...</td>\n",
       "      <td>70051</td>\n",
       "      <td>P</td>\n",
       "      <td>300022905</td>\n",
       "      <td>NaN</td>\n",
       "      <td>D</td>\n",
       "      <td>PN</td>\n",
       "      <td>U</td>\n",
       "      <td>NaN</td>\n",
       "      <td>hawkbill knives</td>\n",
       "      <td>hawkbill knives</td>\n",
       "    </tr>\n",
       "    <tr>\n",
       "      <th>...</th>\n",
       "      <td>...</td>\n",
       "      <td>...</td>\n",
       "      <td>...</td>\n",
       "      <td>...</td>\n",
       "      <td>...</td>\n",
       "      <td>...</td>\n",
       "      <td>...</td>\n",
       "      <td>...</td>\n",
       "      <td>...</td>\n",
       "      <td>...</td>\n",
       "      <td>...</td>\n",
       "      <td>...</td>\n",
       "      <td>...</td>\n",
       "      <td>...</td>\n",
       "      <td>...</td>\n",
       "      <td>...</td>\n",
       "      <td>...</td>\n",
       "      <td>...</td>\n",
       "      <td>...</td>\n",
       "      <td>...</td>\n",
       "      <td>...</td>\n",
       "    </tr>\n",
       "    <tr>\n",
       "      <th>483188</th>\n",
       "      <td>NaN</td>\n",
       "      <td>NaN</td>\n",
       "      <td>NaN</td>\n",
       "      <td>1.0</td>\n",
       "      <td>NaN</td>\n",
       "      <td>C</td>\n",
       "      <td>NaN</td>\n",
       "      <td>P</td>\n",
       "      <td>NaN</td>\n",
       "      <td>300430882</td>\n",
       "      <td>...</td>\n",
       "      <td>70051</td>\n",
       "      <td>P</td>\n",
       "      <td>300430882</td>\n",
       "      <td>NaN</td>\n",
       "      <td>D</td>\n",
       "      <td>U</td>\n",
       "      <td>U</td>\n",
       "      <td>NaN</td>\n",
       "      <td>prophylactics</td>\n",
       "      <td>prophylactics</td>\n",
       "    </tr>\n",
       "    <tr>\n",
       "      <th>483189</th>\n",
       "      <td>NaN</td>\n",
       "      <td>NaN</td>\n",
       "      <td>NaN</td>\n",
       "      <td>1.0</td>\n",
       "      <td>NaN</td>\n",
       "      <td>C</td>\n",
       "      <td>NaN</td>\n",
       "      <td>P</td>\n",
       "      <td>NaN</td>\n",
       "      <td>300434048</td>\n",
       "      <td>...</td>\n",
       "      <td>70051</td>\n",
       "      <td>P</td>\n",
       "      <td>300434048</td>\n",
       "      <td>NaN</td>\n",
       "      <td>D</td>\n",
       "      <td>PN</td>\n",
       "      <td>U</td>\n",
       "      <td>NaN</td>\n",
       "      <td>styptic pencils</td>\n",
       "      <td>styptic pencils</td>\n",
       "    </tr>\n",
       "    <tr>\n",
       "      <th>483190</th>\n",
       "      <td>NaN</td>\n",
       "      <td>NaN</td>\n",
       "      <td>NaN</td>\n",
       "      <td>1.0</td>\n",
       "      <td>NaN</td>\n",
       "      <td>C</td>\n",
       "      <td>NaN</td>\n",
       "      <td>P</td>\n",
       "      <td>NaN</td>\n",
       "      <td>300434776</td>\n",
       "      <td>...</td>\n",
       "      <td>70051</td>\n",
       "      <td>P</td>\n",
       "      <td>300434776</td>\n",
       "      <td>NaN</td>\n",
       "      <td>D</td>\n",
       "      <td>PN</td>\n",
       "      <td>U</td>\n",
       "      <td>NaN</td>\n",
       "      <td>tissues</td>\n",
       "      <td>tissues</td>\n",
       "    </tr>\n",
       "    <tr>\n",
       "      <th>483191</th>\n",
       "      <td>NaN</td>\n",
       "      <td>NaN</td>\n",
       "      <td>NaN</td>\n",
       "      <td>1.0</td>\n",
       "      <td>NaN</td>\n",
       "      <td>C</td>\n",
       "      <td>NaN</td>\n",
       "      <td>P</td>\n",
       "      <td>NaN</td>\n",
       "      <td>300431243</td>\n",
       "      <td>...</td>\n",
       "      <td>70051</td>\n",
       "      <td>P</td>\n",
       "      <td>300431243</td>\n",
       "      <td>NaN</td>\n",
       "      <td>D</td>\n",
       "      <td>PN</td>\n",
       "      <td>U</td>\n",
       "      <td>NaN</td>\n",
       "      <td>towelettes</td>\n",
       "      <td>towelettes</td>\n",
       "    </tr>\n",
       "    <tr>\n",
       "      <th>483192</th>\n",
       "      <td>NaN</td>\n",
       "      <td>NaN</td>\n",
       "      <td>NaN</td>\n",
       "      <td>1.0</td>\n",
       "      <td>NaN</td>\n",
       "      <td>C</td>\n",
       "      <td>NaN</td>\n",
       "      <td>P</td>\n",
       "      <td>NaN</td>\n",
       "      <td>300432605</td>\n",
       "      <td>...</td>\n",
       "      <td>70051</td>\n",
       "      <td>P</td>\n",
       "      <td>300432605</td>\n",
       "      <td>NaN</td>\n",
       "      <td>D</td>\n",
       "      <td>PN</td>\n",
       "      <td>U</td>\n",
       "      <td>NaN</td>\n",
       "      <td>washcloths</td>\n",
       "      <td>washcloths</td>\n",
       "    </tr>\n",
       "  </tbody>\n",
       "</table>\n",
       "<p>483188 rows × 23 columns</p>\n",
       "</div>"
      ],
      "text/plain": [
       "       AACR2_FLAG DISPLAY_DATE DISPLAY_NAME  DISPLAY_ORDER END_DATE  \\\n",
       "0             NaN          NaN          NaN            3.0      NaN   \n",
       "1             NaN          NaN          NaN            1.0      NaN   \n",
       "2             NaN          NaN          NaN            2.0      NaN   \n",
       "3             NaN          NaN          NaN            3.0      NaN   \n",
       "4             NaN          NaN          NaN            1.0      NaN   \n",
       "...           ...          ...          ...            ...      ...   \n",
       "483188        NaN          NaN          NaN            1.0      NaN   \n",
       "483189        NaN          NaN          NaN            1.0      NaN   \n",
       "483190        NaN          NaN          NaN            1.0      NaN   \n",
       "483191        NaN          NaN          NaN            1.0      NaN   \n",
       "483192        NaN          NaN          NaN            1.0      NaN   \n",
       "\n",
       "       HISTORIC_FLAG OTHER_FLAGS PREFERRED_x  START_DATE SUBJECT_ID_x  ...  \\\n",
       "0                  C         NaN           V         NaN    300022903  ...   \n",
       "1                  C         NaN           P         NaN    300022904  ...   \n",
       "2                  C         NaN           V         NaN    300022904  ...   \n",
       "3                  C         NaN           V         NaN    300022904  ...   \n",
       "4                  C         NaN           P         NaN    300022905  ...   \n",
       "...              ...         ...         ...         ...          ...  ...   \n",
       "483188             C         NaN           P         NaN    300430882  ...   \n",
       "483189             C         NaN           P         NaN    300434048  ...   \n",
       "483190             C         NaN           P         NaN    300434776  ...   \n",
       "483191             C         NaN           P         NaN    300431243  ...   \n",
       "483192             C         NaN           P         NaN    300432605  ...   \n",
       "\n",
       "       LANGUAGE_CODE PREFERRED_y SUBJECT_ID_y QUALIFIER TERM_TYPE  \\\n",
       "0              70051           N    300022903       NaN        UF   \n",
       "1              70051           P    300022904       NaN         D   \n",
       "2              70051           N    300022904       NaN        AD   \n",
       "3              70051           N    300022904       NaN        UF   \n",
       "4              70051           P    300022905       NaN         D   \n",
       "...              ...         ...          ...       ...       ...   \n",
       "483188         70051           P    300430882       NaN         D   \n",
       "483189         70051           P    300434048       NaN         D   \n",
       "483190         70051           P    300434776       NaN         D   \n",
       "483191         70051           P    300431243       NaN         D   \n",
       "483192         70051           P    300432605       NaN         D   \n",
       "\n",
       "       PART_OF_SPEECH LANG_STAT full_concept      use_concept     join_concept  \n",
       "0                   U         U          NaN    knives, gauge    knives, gauge  \n",
       "1                  PN         U          NaN      hand knives      hand knives  \n",
       "2                  SN         U          NaN       hand knife       hand knife  \n",
       "3                   U         U          NaN     knives, hand     knives, hand  \n",
       "4                  PN         U          NaN  hawkbill knives  hawkbill knives  \n",
       "...               ...       ...          ...              ...              ...  \n",
       "483188              U         U          NaN    prophylactics    prophylactics  \n",
       "483189             PN         U          NaN  styptic pencils  styptic pencils  \n",
       "483190             PN         U          NaN          tissues          tissues  \n",
       "483191             PN         U          NaN       towelettes       towelettes  \n",
       "483192             PN         U          NaN       washcloths       washcloths  \n",
       "\n",
       "[483188 rows x 23 columns]"
      ]
     },
     "execution_count": 16,
     "metadata": {},
     "output_type": "execute_result"
    }
   ],
   "source": [
    "concepts[concepts['join_concept'].notna()]"
   ]
  },
  {
   "cell_type": "markdown",
   "id": "aedbbf93",
   "metadata": {
    "pycharm": {
     "name": "#%% md\n"
    }
   },
   "source": [
    "### Consider comma cases\n",
    "\n",
    "given that we'll parse the created Arquin metadata by comma, we need to handle cases where the subject term, aka concept, contains an internal comma (e.g. \"knives, gauge\"). These will need to be parsed carfully for two reasons:\n",
    "\n",
    "1.) The comma could falsely parse the concept\n",
    "\n",
    "2.) The individual components of the concept could be valid AAT terms, too... eg. \"knives, gauge\" Both \"knives\" and \"gauge\" are valid AAT terms while so is \"knives, gauge\". Knowing what the metata analyst intended in this case is highly difficult to determine. "
   ]
  },
  {
   "cell_type": "code",
   "execution_count": 17,
   "id": "d8aed9f4",
   "metadata": {
    "pycharm": {
     "name": "#%%\n"
    }
   },
   "outputs": [
    {
     "data": {
      "text/plain": [
       "['knives, gauge',\n",
       " 'knives, hand',\n",
       " 'knives, hawkbill',\n",
       " 'mill, feed',\n",
       " 'mills, feed',\n",
       " 'reports, congressional committee',\n",
       " 'bills, House of Commons',\n",
       " 'bills, House of Lords',\n",
       " 'charts, bathymetric',\n",
       " 'looms, warp-weighted']"
      ]
     },
     "execution_count": 17,
     "metadata": {},
     "output_type": "execute_result"
    }
   ],
   "source": [
    "# display a sample of concepts_comma\n",
    "concepts_comma[0:10]"
   ]
  },
  {
   "cell_type": "code",
   "execution_count": 18,
   "id": "aac7559d",
   "metadata": {
    "pycharm": {
     "name": "#%%\n"
    }
   },
   "outputs": [
    {
     "name": "stdout",
     "output_type": "stream",
     "text": [
      "There are 211 concepts that have more than 1 comma\n"
     ]
    }
   ],
   "source": [
    "# identify the risk of concepts that have multiple commas in them\n",
    "\n",
    "multi_commas_list = []\n",
    "for concept in concepts_comma:\n",
    "    x = concept.count(',')\n",
    "    if x > 1:\n",
    "        multi_commas_list.append(concept)\n",
    "\n",
    "print(f'There are {len(multi_commas_list)} concepts that have more than 1 comma')"
   ]
  },
  {
   "cell_type": "code",
   "execution_count": 19,
   "id": "0b13656c",
   "metadata": {
    "pycharm": {
     "name": "#%%\n"
    }
   },
   "outputs": [
    {
     "data": {
      "text/plain": [
       "['Zhou, Northern (culture, style, and period)',\n",
       " 'Liang (culture, style, period)',\n",
       " 'Animal, Early, Style',\n",
       " 'Animal, Late, Style',\n",
       " 'Ripe, Animal, Late',\n",
       " 'Animal, Middle, Style',\n",
       " 'Eastern Zambian, Zimbabwe, and Western Mozambique styles',\n",
       " 'Jin (Six Dynasties, culture, style, and period)',\n",
       " 'Chin (Six Dynasties, culture, style, and period)',\n",
       " 'Later Liang (Five Dynasties, Chinese style, culture, period)']"
      ]
     },
     "execution_count": 19,
     "metadata": {},
     "output_type": "execute_result"
    }
   ],
   "source": [
    "# show a sample of the concepts with more than 1 comma\n",
    "multi_commas_list[34:44]"
   ]
  },
  {
   "cell_type": "markdown",
   "id": "dfdc64a3",
   "metadata": {
    "pycharm": {
     "name": "#%% md\n"
    }
   },
   "source": [
    "## Begin parsing the subjects in the boxes\n",
    "\n",
    "This process will parse the subjects and then evaluate them.\n",
    "\n",
    "1. parse the subjects by comma (really a comma+space, ', ')\n",
    "2. for all the subjects associated with a given media id, validate that they each match an AAT join_concept\n",
    "3. If yes, move on to the next media id\n",
    "4. If a parsed join_concept fails to match an AAT Term, identify the order of that term in the series of subjects (e.g. if there are 5 parsed terms in the set of 'subject', and 1, 2, and 5 match an AAT term). Then combine the nearest term with a subject (3 and 4 from the example) and see if that term matches AAT.\n",
    "5. If yes (in 4), remove subjects 3 and 4 and replace with the combined 3 & 4. \n",
    "6. If no (in 4), log the unmatched terms for further analysis"
   ]
  },
  {
   "cell_type": "markdown",
   "id": "5abd595d",
   "metadata": {
    "pycharm": {
     "name": "#%% md\n"
    }
   },
   "source": [
    "## Develop the flow for this to work in an interation"
   ]
  },
  {
   "cell_type": "code",
   "execution_count": 20,
   "id": "420efe62",
   "metadata": {
    "pycharm": {
     "name": "#%%\n"
    }
   },
   "outputs": [],
   "source": [
    "# box_list = [7]"
   ]
  },
  {
   "cell_type": "code",
   "execution_count": 21,
   "id": "fec24cea",
   "metadata": {
    "pycharm": {
     "name": "#%%\n"
    }
   },
   "outputs": [
    {
     "name": "stdout",
     "output_type": "stream",
     "text": [
      "complete, imported 69 boxes\n"
     ]
    }
   ],
   "source": [
    "# load all the boxes and split them\n",
    "for i, box_number in enumerate(box_list):\n",
    "    df = return_box(box_number)\n",
    "    clear_output(wait=True)\n",
    "    print(f\"working on Box {box_number}\")\n",
    "    \n",
    "    try:\n",
    "        df = split_df(df)\n",
    "    except:\n",
    "        print(f'failed to split df for box number {box_number}')\n",
    "\n",
    "    if i+1 == 1:\n",
    "        df_combined = df\n",
    "    else:\n",
    "        df_combined = combine_boxes(df_combined, df)\n",
    " \n",
    "clear_output(wait=True)    \n",
    "\n",
    "df = df_combined\n",
    "df = df.drop(df[df['subjects'] == ''].index)\n",
    "print(f'complete, imported {i+1} boxes')"
   ]
  },
  {
   "cell_type": "code",
   "execution_count": 22,
   "id": "870ccdeb",
   "metadata": {
    "pycharm": {
     "name": "#%%\n"
    }
   },
   "outputs": [],
   "source": [
    "# join the df with the concepts\n",
    "df = pd.merge(df, concepts, how=\"left\", on='join_concept')"
   ]
  },
  {
   "cell_type": "code",
   "execution_count": 23,
   "id": "0581b078",
   "metadata": {
    "pycharm": {
     "name": "#%%\n"
    }
   },
   "outputs": [],
   "source": [
    "# get the boxid\n",
    "df['boxid_temp'] = df['media'].str.extract(r\"(_0\\d+_)\")\n",
    "df = df[df['media'].notna()]\n",
    "df['boxid_temp'] = df['boxid_temp'].str.replace(\"_\",\"\")\n",
    "df['boxid_temp'] = pd.to_numeric(df['boxid_temp'], errors='coerce')\n",
    "df = df.dropna(subset=['boxid_temp'])\n",
    "df['boxid_temp'] = df['boxid_temp'].astype('int')\n",
    "df['boxid_temp'] = df['boxid_temp'].astype('str')\n",
    "df['BoxId'] = 'Box '+df['boxid_temp']\n",
    "df.drop('boxid_temp', inplace=True, axis=1)"
   ]
  },
  {
   "cell_type": "markdown",
   "id": "415653d7",
   "metadata": {
    "pycharm": {
     "name": "#%% md\n"
    }
   },
   "source": [
    "## Add in Tab Color\n",
    "\n",
    "The colors of each tab are identified in 'get_spreadsheets_color.ipynb'. That script creates a CSV file and that is read in and added to the df_combined object\n",
    "\n",
    "Read in the color match file created here:\n",
    "http://localhost:8888/notebooks/get_spreadsheets.ipynb\n",
    "\n",
    "use that to create the list of titles based on color of the tab"
   ]
  },
  {
   "cell_type": "code",
   "execution_count": 24,
   "id": "e5482d47",
   "metadata": {
    "pycharm": {
     "name": "#%%\n"
    }
   },
   "outputs": [],
   "source": [
    "color_match_df = pd.read_csv('csv_files/color_match', sep='\\t')"
   ]
  },
  {
   "cell_type": "code",
   "execution_count": 25,
   "id": "5c8c2f00",
   "metadata": {
    "pycharm": {
     "name": "#%%\n"
    }
   },
   "outputs": [],
   "source": [
    "df = pd.merge(df, color_match_df, on='BoxId')"
   ]
  },
  {
   "cell_type": "code",
   "execution_count": 26,
   "id": "e83a114d",
   "metadata": {
    "pycharm": {
     "name": "#%%\n"
    }
   },
   "outputs": [],
   "source": [
    "# df = df[df['media'] == 'B-1_Arquin_007_0257.jpg']\n",
    "# df[narrow_list]"
   ]
  },
  {
   "cell_type": "code",
   "execution_count": 27,
   "id": "a3e30072",
   "metadata": {
    "pycharm": {
     "name": "#%%\n"
    }
   },
   "outputs": [],
   "source": [
    "# get all the unique media IDs where media is not NA \n",
    "df_medias = df.media.dropna().unique()"
   ]
  },
  {
   "cell_type": "code",
   "execution_count": 28,
   "id": "fde3ac32",
   "metadata": {
    "pycharm": {
     "name": "#%%\n"
    }
   },
   "outputs": [
    {
     "data": {
      "text/html": [
       "<div>\n",
       "<style scoped>\n",
       "    .dataframe tbody tr th:only-of-type {\n",
       "        vertical-align: middle;\n",
       "    }\n",
       "\n",
       "    .dataframe tbody tr th {\n",
       "        vertical-align: top;\n",
       "    }\n",
       "\n",
       "    .dataframe thead th {\n",
       "        text-align: right;\n",
       "    }\n",
       "</style>\n",
       "<table border=\"1\" class=\"dataframe\">\n",
       "  <thead>\n",
       "    <tr style=\"text-align: right;\">\n",
       "      <th></th>\n",
       "      <th>identifier</th>\n",
       "      <th>media</th>\n",
       "      <th>title</th>\n",
       "      <th>subject</th>\n",
       "      <th>description</th>\n",
       "      <th>creator</th>\n",
       "      <th>publisher</th>\n",
       "      <th>date</th>\n",
       "      <th>rights</th>\n",
       "      <th>language</th>\n",
       "      <th>...</th>\n",
       "      <th>QUALIFIER</th>\n",
       "      <th>TERM_TYPE</th>\n",
       "      <th>PART_OF_SPEECH</th>\n",
       "      <th>LANG_STAT</th>\n",
       "      <th>full_concept</th>\n",
       "      <th>use_concept</th>\n",
       "      <th>BoxId</th>\n",
       "      <th>Unnamed: 0</th>\n",
       "      <th>color</th>\n",
       "      <th>RGB</th>\n",
       "    </tr>\n",
       "  </thead>\n",
       "  <tbody>\n",
       "    <tr>\n",
       "      <th>266</th>\n",
       "      <td>A-1 259</td>\n",
       "      <td>A-1_Arquin_001_0259.jpg</td>\n",
       "      <td>Church of Our Lady of Victories at the Sablon ...</td>\n",
       "      <td>churches (buildings), architectural sculpture,...</td>\n",
       "      <td>Notre Dame Du Sablon</td>\n",
       "      <td>Florence Arquin, photographer</td>\n",
       "      <td>Florida Atlantic University</td>\n",
       "      <td>NaN</td>\n",
       "      <td>NaN</td>\n",
       "      <td>NaN</td>\n",
       "      <td>...</td>\n",
       "      <td>buildings</td>\n",
       "      <td>D</td>\n",
       "      <td>PN</td>\n",
       "      <td>U</td>\n",
       "      <td>churches (buildings)</td>\n",
       "      <td>churches (buildings)</td>\n",
       "      <td>Box 1</td>\n",
       "      <td>64</td>\n",
       "      <td>orange</td>\n",
       "      <td>(100, 60, 0)</td>\n",
       "    </tr>\n",
       "    <tr>\n",
       "      <th>267</th>\n",
       "      <td>A-1 259</td>\n",
       "      <td>A-1_Arquin_001_0259.jpg</td>\n",
       "      <td>Church of Our Lady of Victories at the Sablon ...</td>\n",
       "      <td>churches (buildings), architectural sculpture,...</td>\n",
       "      <td>Notre Dame Du Sablon</td>\n",
       "      <td>Florence Arquin, photographer</td>\n",
       "      <td>Florida Atlantic University</td>\n",
       "      <td>NaN</td>\n",
       "      <td>NaN</td>\n",
       "      <td>NaN</td>\n",
       "      <td>...</td>\n",
       "      <td>NaN</td>\n",
       "      <td>D</td>\n",
       "      <td>U</td>\n",
       "      <td>U</td>\n",
       "      <td>NaN</td>\n",
       "      <td>architectural sculpture</td>\n",
       "      <td>Box 1</td>\n",
       "      <td>64</td>\n",
       "      <td>orange</td>\n",
       "      <td>(100, 60, 0)</td>\n",
       "    </tr>\n",
       "    <tr>\n",
       "      <th>268</th>\n",
       "      <td>A-1 259</td>\n",
       "      <td>A-1_Arquin_001_0259.jpg</td>\n",
       "      <td>Church of Our Lady of Victories at the Sablon ...</td>\n",
       "      <td>churches (buildings), architectural sculpture,...</td>\n",
       "      <td>Notre Dame Du Sablon</td>\n",
       "      <td>Florence Arquin, photographer</td>\n",
       "      <td>Florida Atlantic University</td>\n",
       "      <td>NaN</td>\n",
       "      <td>NaN</td>\n",
       "      <td>NaN</td>\n",
       "      <td>...</td>\n",
       "      <td>opening by form</td>\n",
       "      <td>AD</td>\n",
       "      <td>SN</td>\n",
       "      <td>U</td>\n",
       "      <td>portal (opening by form)</td>\n",
       "      <td>portal (opening by form)</td>\n",
       "      <td>Box 1</td>\n",
       "      <td>64</td>\n",
       "      <td>orange</td>\n",
       "      <td>(100, 60, 0)</td>\n",
       "    </tr>\n",
       "  </tbody>\n",
       "</table>\n",
       "<p>3 rows × 47 columns</p>\n",
       "</div>"
      ],
      "text/plain": [
       "    identifier                    media  \\\n",
       "266    A-1 259  A-1_Arquin_001_0259.jpg   \n",
       "267    A-1 259  A-1_Arquin_001_0259.jpg   \n",
       "268    A-1 259  A-1_Arquin_001_0259.jpg   \n",
       "\n",
       "                                                 title  \\\n",
       "266  Church of Our Lady of Victories at the Sablon ...   \n",
       "267  Church of Our Lady of Victories at the Sablon ...   \n",
       "268  Church of Our Lady of Victories at the Sablon ...   \n",
       "\n",
       "                                               subject           description  \\\n",
       "266  churches (buildings), architectural sculpture,...  Notre Dame Du Sablon   \n",
       "267  churches (buildings), architectural sculpture,...  Notre Dame Du Sablon   \n",
       "268  churches (buildings), architectural sculpture,...  Notre Dame Du Sablon   \n",
       "\n",
       "                           creator                    publisher date rights  \\\n",
       "266  Florence Arquin, photographer  Florida Atlantic University  NaN    NaN   \n",
       "267  Florence Arquin, photographer  Florida Atlantic University  NaN    NaN   \n",
       "268  Florence Arquin, photographer  Florida Atlantic University  NaN    NaN   \n",
       "\n",
       "     language  ...        QUALIFIER TERM_TYPE PART_OF_SPEECH LANG_STAT  \\\n",
       "266       NaN  ...        buildings         D             PN         U   \n",
       "267       NaN  ...              NaN         D              U         U   \n",
       "268       NaN  ...  opening by form        AD             SN         U   \n",
       "\n",
       "                 full_concept               use_concept  BoxId Unnamed: 0  \\\n",
       "266      churches (buildings)      churches (buildings)  Box 1         64   \n",
       "267                       NaN   architectural sculpture  Box 1         64   \n",
       "268  portal (opening by form)  portal (opening by form)  Box 1         64   \n",
       "\n",
       "      color           RGB  \n",
       "266  orange  (100, 60, 0)  \n",
       "267  orange  (100, 60, 0)  \n",
       "268  orange  (100, 60, 0)  \n",
       "\n",
       "[3 rows x 47 columns]"
      ]
     },
     "execution_count": 28,
     "metadata": {},
     "output_type": "execute_result"
    }
   ],
   "source": [
    "df[df['identifier'] == 'A-1 259']"
   ]
  },
  {
   "cell_type": "markdown",
   "id": "bf355367",
   "metadata": {
    "pycharm": {
     "name": "#%% md\n"
    }
   },
   "source": [
    "Run the full flow through in the following cell. Be sure to DELETE the unmatched_subjects_v2.csv file before staring"
   ]
  },
  {
   "cell_type": "code",
   "execution_count": 29,
   "id": "98700550",
   "metadata": {
    "pycharm": {
     "name": "#%%\n"
    }
   },
   "outputs": [
    {
     "name": "stdout",
     "output_type": "stream",
     "text": [
      "7488 of 7489: search_media = Arquin_069_0217.jpg\n"
     ]
    }
   ],
   "source": [
    "df_medias_len = len(df_medias)\n",
    "\n",
    "for i, search_media in enumerate(df_medias):\n",
    "    clear_output(wait=True) \n",
    "    print(f'{i} of {df_medias_len}: search_media = {search_media}')\n",
    "#     x = input('step 1: press any key to continue... ')\n",
    "    \n",
    "    try_match_neg = None\n",
    "    try_match_pos = None\n",
    "    cancel_repeat = False\n",
    "    concepts_found_pos = []\n",
    "    concepts_found_neg = []\n",
    "    \n",
    "    df_subjects = df[df['media'] == search_media].join_concept.to_list()\n",
    "    df_media_no_match = df[df['media'] == search_media].loc[df['SUBJECT_ID_x'].isna()]\n",
    "#     print(f'{i}: search_media = {search_media}, df_media_no_match = {df_media_no_match}')\n",
    "#     x = input('press any key to continue... ')\n",
    "    \n",
    "    if len(df_media_no_match) > 0:\n",
    "#         print(f'{i}: search_media = {search_media}, passed len(df_media_no_match) > 0 ')\n",
    "#         x = input('step 2: press any key to continue... ')\n",
    "        \n",
    "        \n",
    "        no_match = df_media_no_match.join_concept.to_list()\n",
    "#         print(f'{i}: search_media: {search_media}, no_match = {no_match}')\n",
    "        \n",
    "        for i, unmatched in enumerate(no_match):\n",
    "#             print(f'{i}: unmatched = {unmatched}, remove_con = {remove_con}')\n",
    "#             x = input('step 3: press any key to continue... ')\n",
    "#             if cancel_repeat == True:\n",
    "#                 break\n",
    "            \n",
    "            if i > 0:\n",
    "                if unmatched == remove_this_con:\n",
    "#                     print(f'already removed {remove_con} from  {search_media}')\n",
    "#                     x = input(f'step 4: it worked! Continue? (press x)')\n",
    "#                     cancel_repeat = True\n",
    "                    break\n",
    "            \n",
    "            pos = False\n",
    "            neg = False\n",
    "            new_concept = None\n",
    "            pop_index = None\n",
    "            \n",
    "            no_match_index = df_subjects.index(unmatched)\n",
    "#             print(f'step 5: {i+1}: unmatched concept is: \"{unmatched}\" and its index is \"{no_match_index}\" out of {len(df_subjects)-1}')\n",
    "            \n",
    "            if no_match_index > 0:\n",
    "                try_match_neg = df_subjects[no_match_index-1]+', '+df_subjects[no_match_index]\n",
    "                concepts_found_pos = concepts.loc[concepts['join_concept'] == try_match_neg]\n",
    "                if len(concepts_found_pos) > 0:\n",
    "                    pos = True\n",
    "#                     print(f'pos is {pos}')\n",
    "            if no_match_index < len(df_subjects)-1:\n",
    "                try_match_pos = df_subjects[no_match_index]+', '+df_subjects[no_match_index+1]\n",
    "                concepts_found_neg = concepts.loc[concepts['join_concept'] == try_match_pos]\n",
    "                if len(concepts_found_neg) > 0:\n",
    "                    neg = True\n",
    "#                     print(f'neg is {neg}')\n",
    "#             print(f'try_match_neg = \"{try_match_neg}\"\\ntry_match_pos = \"{try_match_pos}\"')\n",
    "            \n",
    "            try:\n",
    "                if len(concepts_found_pos) == 1:\n",
    "                    new_concept = concepts_found_pos.join_concept.to_list()[0]\n",
    "                    \n",
    "                        \n",
    "            except (NameError):\n",
    "                pass\n",
    "            try:\n",
    "                if len(concepts_found_neg) == 1:\n",
    "                    new_concept = concepts_found_neg.join_concept.to_list()[0]\n",
    "            except (NameError):\n",
    "                pass\n",
    "            try:\n",
    "                if (len(concepts_found_pos) > 0) & (len(concepts_found_neg) > 0):\n",
    "                    print('too many matches!')\n",
    "                    pass\n",
    "            except (NameError):\n",
    "                pass\n",
    "            try:\n",
    "                if (len(concepts_found_pos) == 0) & (len(concepts_found_neg) == 0):\n",
    "                    unmatched_df = df[(df['media'] == search_media) \n",
    "                                      & (df['join_concept'] == unmatched)][narrow_list]\n",
    "                    add_to_not_found(unmatched_df)\n",
    "            except (NameError):\n",
    "                pass\n",
    "            \n",
    "            remove_con = df_subjects[no_match_index]\n",
    "            remove_this_con_index = 0\n",
    "            \n",
    "            if pos:\n",
    "                remove_this_con_index = no_match_index-1\n",
    "            if neg:\n",
    "                remove_this_con_index = no_match_index+1\n",
    "\n",
    "            if pos | neg:\n",
    "                remove_this_con = df_subjects[remove_this_con_index]\n",
    "\n",
    "                df = df.drop(\n",
    "                    df[((df['media'] == search_media) & \n",
    "                                      (df['join_concept'] == remove_this_con)\n",
    "                                     )].index\n",
    "                )\n",
    "            \n",
    "    #     determine the location in the index of the concept to be removed\n",
    "                pop_index = df.loc[(df['media'] == search_media) & (df['join_concept'] == remove_con)].index\n",
    "    #     remove the concept found at that index\n",
    "                df.at[pop_index[0], 'join_concept'] = new_concept\n",
    "                df.at[pop_index[0], 'subjects'] = new_concept\n",
    "                df.at[pop_index[0], 'SUBJECT_ID_x'] = concepts.at[concepts.loc[concepts['join_concept'] == new_concept].index[0], 'SUBJECT_ID_x']\n",
    "                df.at[pop_index[0], 'TERM_ID'] = concepts.at[concepts.loc[concepts['join_concept'] == new_concept].index[0], 'TERM_ID']\n",
    "\n",
    "            print(f'new_concept = {new_concept}')\n",
    "    "
   ]
  },
  {
   "cell_type": "markdown",
   "id": "f0d7365f",
   "metadata": {
    "pycharm": {
     "name": "#%% md\n"
    }
   },
   "source": [
    "## Review Unmatched Results:"
   ]
  },
  {
   "cell_type": "code",
   "execution_count": null,
   "id": "dbbe89c8",
   "metadata": {
    "pycharm": {
     "name": "#%%\n"
    }
   },
   "outputs": [],
   "source": [
    "# read in the unmatched results\n",
    "post_df_meda_no_match = df[df['SUBJECT_ID_x'].isna()]"
   ]
  },
  {
   "cell_type": "code",
   "execution_count": null,
   "id": "42146c64",
   "metadata": {
    "pycharm": {
     "name": "#%%\n"
    }
   },
   "outputs": [],
   "source": [
    "unmatched_concepts_by_color = post_df_meda_no_match.groupby(['subjects'])['media'].agg('count').reset_index()\n",
    "display(unmatched_concepts_by_color.sort_values('media', ascending=False))"
   ]
  },
  {
   "cell_type": "markdown",
   "id": "09df211e",
   "metadata": {
    "pycharm": {
     "name": "#%% md\n"
    }
   },
   "source": [
    "## A Step Through, as an Example"
   ]
  },
  {
   "cell_type": "code",
   "execution_count": null,
   "id": "a0439b41",
   "metadata": {
    "pycharm": {
     "name": "#%%\n"
    }
   },
   "outputs": [],
   "source": [
    "df = return_box(box_list[0])"
   ]
  },
  {
   "cell_type": "code",
   "execution_count": null,
   "id": "edadd5b2",
   "metadata": {
    "pycharm": {
     "name": "#%%\n"
    }
   },
   "outputs": [],
   "source": [
    "search_media = 'A-1_Arquin_001_0259.jpg'"
   ]
  },
  {
   "cell_type": "code",
   "execution_count": null,
   "id": "aee30d95",
   "metadata": {
    "pycharm": {
     "name": "#%%\n"
    }
   },
   "outputs": [],
   "source": [
    "df = return_box(box_list[0])"
   ]
  },
  {
   "cell_type": "code",
   "execution_count": null,
   "id": "41d16332",
   "metadata": {
    "pycharm": {
     "name": "#%%\n"
    }
   },
   "outputs": [],
   "source": [
    "search_media = 'A-1_Arquin_001_0259.jpg'"
   ]
  },
  {
   "cell_type": "code",
   "execution_count": null,
   "id": "8114d6cb",
   "metadata": {
    "pycharm": {
     "name": "#%%\n"
    }
   },
   "outputs": [],
   "source": [
    "df[df['media'] == search_media].index"
   ]
  },
  {
   "cell_type": "code",
   "execution_count": null,
   "id": "358c86e6",
   "metadata": {
    "pycharm": {
     "name": "#%%\n"
    }
   },
   "outputs": [],
   "source": [
    "df = split_df(df)"
   ]
  },
  {
   "cell_type": "code",
   "execution_count": null,
   "id": "72708807",
   "metadata": {
    "pycharm": {
     "name": "#%%\n"
    }
   },
   "outputs": [],
   "source": [
    "# merge the df with the AAT Metadata \n",
    "df = pd.merge(df, concepts, how=\"left\", on='join_concept')"
   ]
  },
  {
   "cell_type": "code",
   "execution_count": null,
   "id": "7d6caeea",
   "metadata": {
    "pycharm": {
     "name": "#%%\n"
    }
   },
   "outputs": [],
   "source": [
    "# get the boxid\n",
    "df['boxid_temp'] = df['media'].str.extract(r\"(_0\\d+_)\")\n",
    "df = df[df['media'].notna()]\n",
    "df['boxid_temp'] = df['boxid_temp'].str.replace(\"_\",\"\")\n",
    "df['boxid_temp'] = pd.to_numeric(df['boxid_temp'], errors='coerce')\n",
    "df = df.dropna(subset=['boxid_temp'])\n",
    "df['boxid_temp'] = df['boxid_temp'].astype('int')\n",
    "df['boxid_temp'] = df['boxid_temp'].astype('str')\n",
    "df['BoxId'] = 'Box '+df['boxid_temp']\n",
    "df.drop('boxid_temp', inplace=True, axis=1)"
   ]
  },
  {
   "cell_type": "code",
   "execution_count": null,
   "id": "37648905",
   "metadata": {
    "pycharm": {
     "name": "#%%\n"
    }
   },
   "outputs": [],
   "source": [
    "# add the colors in \n",
    "color_match_df = pd.read_csv('csv_files/color_match', sep='\\t')\n",
    "df = pd.merge(df, color_match_df, on='BoxId')"
   ]
  },
  {
   "cell_type": "code",
   "execution_count": null,
   "id": "2be3188f",
   "metadata": {
    "pycharm": {
     "name": "#%%\n"
    }
   },
   "outputs": [],
   "source": [
    "# get all the unique media IDs where media is not NA \n",
    "df_medias = df.media.dropna().unique()\n",
    "df_medias"
   ]
  },
  {
   "cell_type": "code",
   "execution_count": null,
   "id": "a521f11b",
   "metadata": {
    "pycharm": {
     "name": "#%%\n"
    }
   },
   "outputs": [],
   "source": [
    "# get the index of the search_media term in the array\n",
    "search_media_index = df_medias.tolist().index(search_media)\n",
    "search_media_index"
   ]
  },
  {
   "cell_type": "code",
   "execution_count": null,
   "id": "7bfcf05a",
   "metadata": {
    "pycharm": {
     "name": "#%%\n"
    }
   },
   "outputs": [],
   "source": [
    "# get the list of all the subjects for the subset of the dataframe for the box\n",
    "df_subjects = df[df['media'] == search_media].join_concept.to_list()\n",
    "df_subjects"
   ]
  },
  {
   "cell_type": "code",
   "execution_count": null,
   "id": "ba62f82c",
   "metadata": {
    "pycharm": {
     "name": "#%%\n"
    }
   },
   "outputs": [],
   "source": [
    "# get the list of unmatched subjects\n",
    "df_meda_no_match = df[df['media'] == search_media].loc[df['SUBJECT_ID_x'].isna()]\n",
    "df_meda_no_match[narrow_list]"
   ]
  },
  {
   "cell_type": "code",
   "execution_count": null,
   "id": "a1cddd6b",
   "metadata": {
    "pycharm": {
     "name": "#%%\n"
    }
   },
   "outputs": [],
   "source": [
    "# for any unmatched terms, check to see if combining the terms yields a match\n",
    "no_match = df_meda_no_match.join_concept.to_list()\n",
    "no_match"
   ]
  },
  {
   "cell_type": "code",
   "execution_count": null,
   "id": "0fbeb624",
   "metadata": {
    "pycharm": {
     "name": "#%%\n"
    }
   },
   "outputs": [],
   "source": [
    "# identify the index value of the ummatched item\n",
    "for i, unmatched in enumerate(no_match):\n",
    "    no_match_index = df_subjects.index(unmatched)\n",
    "    print(f'{i+1}: unmatched concept is: \"{unmatched}\" and its index is \"{no_match_index}\" out of {len(df_subjects)-1}')"
   ]
  },
  {
   "cell_type": "code",
   "execution_count": null,
   "id": "cf10946c",
   "metadata": {
    "pycharm": {
     "name": "#%%\n"
    }
   },
   "outputs": [],
   "source": [
    "no_match_index = df_subjects.index(no_match[1])\n",
    "no_match_index"
   ]
  },
  {
   "cell_type": "code",
   "execution_count": null,
   "id": "3aa78b78",
   "metadata": {
    "pycharm": {
     "name": "#%%\n"
    }
   },
   "outputs": [],
   "source": [
    "try_match_pos = df_subjects[no_match_index]+', '+df_subjects[no_match_index+1]\n",
    "try_match_pos"
   ]
  },
  {
   "cell_type": "code",
   "execution_count": null,
   "id": "9a5a04c7",
   "metadata": {
    "pycharm": {
     "name": "#%%\n"
    }
   },
   "outputs": [],
   "source": [
    "try_match_neg = None\n",
    "try_match_pos = None\n",
    "concepts_found_pos = []\n",
    "concepts_found_neg = []\n",
    "pos = False\n",
    "neg = False\n",
    "\n",
    "if no_match_index > 0:\n",
    "    try_match_neg = df_subjects[no_match_index-1]+', '+df_subjects[no_match_index]\n",
    "    concepts_found_pos = concepts.loc[concepts['join_concept'] == try_match_neg]\n",
    "    pos = True\n",
    "if no_match_index < len(df_subjects)-1:\n",
    "    try_match_pos = df_subjects[no_match_index]+', '+df_subjects[no_match_index+1]\n",
    "    concepts_found_neg = concepts.loc[concepts['join_concept'] == try_match_pos]\n",
    "    neg = True\n",
    "print(f'try_match_neg = \"{try_match_neg}\"\\ntry_match_pos = \"{try_match_pos}\"')"
   ]
  },
  {
   "cell_type": "code",
   "execution_count": null,
   "id": "d7e875c5",
   "metadata": {
    "pycharm": {
     "name": "#%%\n"
    }
   },
   "outputs": [],
   "source": [
    "neg"
   ]
  },
  {
   "cell_type": "code",
   "execution_count": null,
   "id": "1e6908ad",
   "metadata": {
    "pycharm": {
     "name": "#%%\n"
    }
   },
   "outputs": [],
   "source": [
    "concepts_found_pos[['SUBJECT_ID_x', 'TERM_ID', 'use_concept', 'join_concept']]"
   ]
  },
  {
   "cell_type": "code",
   "execution_count": null,
   "id": "3c58f96c",
   "metadata": {
    "pycharm": {
     "name": "#%%\n"
    }
   },
   "outputs": [],
   "source": [
    "try:\n",
    "    concepts_found_neg[['SUBJECT_ID_x', 'TERM_ID', 'use_concept', 'join_concept']]\n",
    "except (NameError):\n",
    "    print(f'NameError: concepts_found_neg not defined')"
   ]
  },
  {
   "cell_type": "code",
   "execution_count": null,
   "id": "2ce62615",
   "metadata": {
    "pycharm": {
     "name": "#%%\n"
    }
   },
   "outputs": [],
   "source": [
    "concepts_found_neg[['SUBJECT_ID_x', 'TERM_ID', 'use_concept', 'join_concept']]"
   ]
  },
  {
   "cell_type": "code",
   "execution_count": null,
   "id": "03c50828",
   "metadata": {
    "pycharm": {
     "name": "#%%\n"
    }
   },
   "outputs": [],
   "source": [
    "\n",
    "try:\n",
    "    if len(concepts_found_pos) == 1:\n",
    "        new_concept = concepts_found_pos.join_concept.to_list()[0]\n",
    "except (NameError):\n",
    "    print(f'positive, but NameError')\n",
    "try:\n",
    "    if len(concepts_found_neg) == 1:\n",
    "        new_concept = concepts_found_neg.join_concept.to_list()[0]\n",
    "except (NameError):\n",
    "    print(f'negative, but NameError')\n",
    "try:\n",
    "    if (len(concepts_found_pos) > 0) & (len(concepts_found_neg) > 0):\n",
    "        print('too many matches!')\n",
    "except (NameError):\n",
    "    pass\n",
    "\n",
    "new_concept"
   ]
  },
  {
   "cell_type": "code",
   "execution_count": null,
   "id": "97e5a562",
   "metadata": {
    "pycharm": {
     "name": "#%%\n"
    }
   },
   "outputs": [],
   "source": [
    "# determine the remove concept\n",
    "remove_con = df_subjects[no_match_index]\n",
    "remove_con"
   ]
  },
  {
   "cell_type": "code",
   "execution_count": null,
   "id": "0a4c61ed",
   "metadata": {
    "pycharm": {
     "name": "#%%\n"
    }
   },
   "outputs": [],
   "source": [
    "# before the drop\n",
    "df[df['media'] == search_media][narrow_list]"
   ]
  },
  {
   "cell_type": "code",
   "execution_count": null,
   "id": "dc3a24d3",
   "metadata": {
    "pycharm": {
     "name": "#%%\n"
    }
   },
   "outputs": [],
   "source": [
    "remove_this_con_index = 0\n",
    "if pos:\n",
    "    remove_this_con_index = no_match_index-1\n",
    "if neg:\n",
    "    remove_this_con_index = no_match_index+1\n",
    "\n",
    "remove_this_con = df_subjects[remove_this_con_index]\n",
    "\n",
    "df = df.drop(\n",
    "    df[((df['media'] == search_media) & \n",
    "                      (df['join_concept'] == remove_this_con)\n",
    "                     )].index\n",
    ")"
   ]
  },
  {
   "cell_type": "code",
   "execution_count": null,
   "id": "262db02e",
   "metadata": {
    "pycharm": {
     "name": "#%%\n"
    }
   },
   "outputs": [],
   "source": [
    "# after the drop\n",
    "\n",
    "df[df['media'] == search_media][narrow_list]"
   ]
  },
  {
   "cell_type": "code",
   "execution_count": null,
   "id": "d6837539",
   "metadata": {
    "pycharm": {
     "name": "#%%\n"
    }
   },
   "outputs": [],
   "source": [
    "# replace the no_match value with the combined_concept\n",
    "\n",
    "pop_index = df.loc[(df['media'] == search_media) & (df['join_concept'] == remove_con)].index\n",
    "pop_index"
   ]
  },
  {
   "cell_type": "code",
   "execution_count": null,
   "id": "96f54594",
   "metadata": {
    "pycharm": {
     "name": "#%%\n"
    }
   },
   "outputs": [],
   "source": [
    "df.at[pop_index[0], 'join_concept'] = new_concept\n",
    "df.at[pop_index[0], 'subjects'] = new_concept\n",
    "df.at[pop_index[0], 'SUBJECT_ID_x'] = concepts.at[concepts.loc[concepts['join_concept'] == new_concept].index[0], 'SUBJECT_ID_x']\n",
    "df.at[pop_index[0], 'TERM_ID'] = concepts.at[concepts.loc[concepts['join_concept'] == new_concept].index[0], 'TERM_ID']"
   ]
  },
  {
   "cell_type": "code",
   "execution_count": null,
   "id": "bab64075",
   "metadata": {
    "pycharm": {
     "name": "#%%\n"
    },
    "scrolled": true
   },
   "outputs": [],
   "source": [
    "df.loc[df['media']== search_media][narrow_list]"
   ]
  }
 ],
 "metadata": {
  "kernelspec": {
   "display_name": "Python 3",
   "language": "python",
   "name": "python3"
  },
  "language_info": {
   "codemirror_mode": {
    "name": "ipython",
    "version": 3
   },
   "file_extension": ".py",
   "mimetype": "text/x-python",
   "name": "python",
   "nbconvert_exporter": "python",
   "pygments_lexer": "ipython3",
   "version": "3.8.8"
  }
 },
 "nbformat": 4,
 "nbformat_minor": 5
}