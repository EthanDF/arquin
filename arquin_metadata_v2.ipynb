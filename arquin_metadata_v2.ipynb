{
 "cells": [
  {
   "cell_type": "code",
   "execution_count": 1,
   "id": "a6b2fa9d",
   "metadata": {},
   "outputs": [],
   "source": [
    "from IPython.display import clear_output\n",
    "import pandas as pd\n",
    "from pandas import Series\n",
    "import numpy as np\n",
    "import re\n",
    "import csv\n",
    "from gsheets import Sheets\n",
    "from datetime import datetime"
   ]
  },
  {
   "cell_type": "code",
   "execution_count": 2,
   "id": "8cb2b9c2",
   "metadata": {},
   "outputs": [],
   "source": [
    "url = 'https://docs.google.com/spreadsheets/d/1LRbios7yQRo3aqCh0Es2Wiae_dicg_OtL-_yqP-Tb8I/edit#gid=1718343431'"
   ]
  },
  {
   "cell_type": "markdown",
   "id": "25f0389e",
   "metadata": {},
   "source": [
    "## Create resusable lists for reference in data display or collection"
   ]
  },
  {
   "cell_type": "code",
   "execution_count": 46,
   "id": "07029bf1",
   "metadata": {},
   "outputs": [],
   "source": [
    "# lists used in the loading of the AAT Metadata\n",
    "terms_header_list = [\"AACR2_FLAG\", \"DISPLAY_DATE\", \"DISPLAY_NAME\", \"DISPLAY_ORDER\", \"END_DATE\", \"HISTORIC_FLAG\", \"OTHER_FLAGS\", \"PREFERRED\", \"START_DATE\", \"SUBJECT_ID\", \"TERM\", \"TERM_ID\", \"VERNACULAR\"]\n",
    "terms_dtype = {'TERM_ID': str, 'SUBJECT_ID' : str}\n",
    "lang_rels_header_list = [\"LANGUAGE_CODE\", \"PREFERRED\", \"SUBJECT_ID\", \"TERM_ID\", \"QUALIFIER\", \"TERM_TYPE\", \"PART_OF_SPEECH\", \"LANG_STAT\"]\n",
    "lang_rel_dtype = {'TERM_ID': str, 'SUBJECT_ID' : str, 'LANGUAGE_CODE': str}\n",
    "narrow_list = ['identifier', 'media', 'subject', 'title', 'subjects', 'SUBJECT_ID_x', 'TERM_ID', 'join_concept', 'BoxId', 'color_y']"
   ]
  },
  {
   "cell_type": "markdown",
   "id": "3b691d3f",
   "metadata": {},
   "source": [
    "## Functions"
   ]
  },
  {
   "cell_type": "code",
   "execution_count": 4,
   "id": "dc9a28f9",
   "metadata": {},
   "outputs": [],
   "source": [
    "# load metadata\n",
    "\n",
    "def load_metadata() -> pd.DataFrame:\n",
    "    \"\"\"load the metadata that will be used\n",
    "    files were downloaded from: http://aatdownloads.getty.edu/\n",
    "    \"\"\"\n",
    "    terms = read_aat_terms('./AAT_Files/TERM.out', terms_header_list, terms_dtype)\n",
    "    lang_rels = read_aat_terms('./AAT_Files/LANGUAGE_RELS.out', lang_rels_header_list, lang_rel_dtype)\n",
    "    concepts = (pd.merge(terms, lang_rels, how = 'inner', on='TERM_ID'))\n",
    "    concepts['full_concept'] = (concepts.TERM + ' (' + concepts.QUALIFIER + ')')\n",
    "    concepts['use_concept'] = (concepts.full_concept.fillna(concepts.TERM))\n",
    "    concepts['join_concept'] = (concepts.use_concept.str.lower())\n",
    "\n",
    "    return concepts"
   ]
  },
  {
   "cell_type": "code",
   "execution_count": 5,
   "id": "61b5351d",
   "metadata": {},
   "outputs": [],
   "source": [
    "def read_aat_terms(file_path: str, names: list, data_types: dict) -> pd.DataFrame:\n",
    "    data = pd.read_csv(file_path\n",
    "                       , sep = '\\t'\n",
    "                       , warn_bad_lines=True\n",
    "                       , error_bad_lines=False\n",
    "                       , names=names\n",
    "                       , dtype=data_types)\n",
    "    return data"
   ]
  },
  {
   "cell_type": "code",
   "execution_count": 6,
   "id": "9c5e8137",
   "metadata": {},
   "outputs": [],
   "source": [
    "# get box data by box number (as an integer)\n",
    "\n",
    "def return_box(box_num: int) -> pd.DataFrame:\n",
    "    box_id = f'Box {str(box_num)}'\n",
    "    df = s.find(box_id).to_frame()\n",
    "    df = format_column_names(df)\n",
    "    return df"
   ]
  },
  {
   "cell_type": "code",
   "execution_count": 7,
   "id": "69b1d25a",
   "metadata": {},
   "outputs": [],
   "source": [
    "# get column names in the correct format during the retrieval of box data\n",
    "\n",
    "def format_column_names(df: pd.DataFrame) -> pd.DataFrame:\n",
    "    column_names = list(map(lambda x: x.strip().lower().replace(\"dcterms:\", \"\"), df.columns))\n",
    "    df = df.set_axis(column_names, axis=1, inplace=False)\n",
    "    return df"
   ]
  },
  {
   "cell_type": "code",
   "execution_count": 8,
   "id": "1d63e0c0",
   "metadata": {},
   "outputs": [],
   "source": [
    "def split_df(df: pd.DataFrame) -> pd.DataFrame:\n",
    "    \"\"\"given a dataframe with multiple concepts specified, splits them and returns them \n",
    "    as one row per concept\n",
    "    \"\"\"\n",
    "    split_df = df['subject'].str.split(',', expand=True).apply(Series, 1).stack()\n",
    "    split_df.index = split_df.index.droplevel(-1)\n",
    "    split_df.name = 'subjects'\n",
    "\n",
    "    x = df.join(split_df)\n",
    "    x['subjects'] = x['subjects'].str.strip()\n",
    "    x['join_concept'] = x['subjects'].str.lower()\n",
    "    \n",
    "    return x"
   ]
  },
  {
   "cell_type": "code",
   "execution_count": 9,
   "id": "507123af",
   "metadata": {},
   "outputs": [],
   "source": [
    "def terminate() -> str:\n",
    "    \"\"\"\n",
    "    check to see if we should stop or continue the loop\n",
    "    \n",
    "    \"\"\"\n",
    "    \n",
    "    terminate = input(\"Press 'X' key to terminate the program\")\n",
    "    if terminate == 'X':\n",
    "        print('stopping')\n",
    "    return terminate"
   ]
  },
  {
   "cell_type": "code",
   "execution_count": 10,
   "id": "32955caa",
   "metadata": {},
   "outputs": [],
   "source": [
    "def combine_boxes(df1: pd.DataFrame, df2: pd.DataFrame) -> pd.DataFrame:\n",
    "    \"\"\"assuming df1 and df2 are dataframes with same schema, combines them and returns them\"\"\"\n",
    "    df_concat = pd.concat([df1, df2])\n",
    "    return df_concat"
   ]
  },
  {
   "cell_type": "code",
   "execution_count": 86,
   "id": "cd56814b",
   "metadata": {},
   "outputs": [],
   "source": [
    "def add_to_not_found(df: pd.DataFrame):\n",
    "    \"\"\"write to a csv the records that could not be matched\"\"\"\n",
    "    \n",
    "    file_name = 'csv_files/unmatched_subjects_v2.csv'\n",
    "    \n",
    "    try:\n",
    "        old_df = pd.read_csv(file_name, header=0, index_col=False)\n",
    "        combined_df = pd.concat([old_df, df])\n",
    "    except(FileNotFoundError):\n",
    "        combined_df = df\n",
    "    \n",
    "    combined_df.to_csv(file_name, index=False, quoting=csv.QUOTE_ALL)"
   ]
  },
  {
   "cell_type": "markdown",
   "id": "56df33e0",
   "metadata": {},
   "source": [
    "## Load the spreadsheet information"
   ]
  },
  {
   "cell_type": "code",
   "execution_count": 12,
   "id": "ad55855e",
   "metadata": {},
   "outputs": [],
   "source": [
    "# if HttpAccessTokenRefreshError, close everything and start over\n",
    "sheets = Sheets.from_files('~/client_secrets.json', '~/storage.json')\n",
    "s = sheets.get(url)"
   ]
  },
  {
   "cell_type": "code",
   "execution_count": 13,
   "id": "8ef8cb04",
   "metadata": {},
   "outputs": [],
   "source": [
    "# get the list of boxes containing metadata\n",
    "\n",
    "box_list = []\n",
    "box_list_sheets = s.sheets.titles()\n",
    "\n",
    "for b in box_list_sheets:\n",
    "    if 'Box' in b:\n",
    "        box_list.append(int(b[4:]))"
   ]
  },
  {
   "cell_type": "markdown",
   "id": "7321e297",
   "metadata": {},
   "source": [
    "## Load the Metadata from Getty AAT\n",
    "\n",
    "Individual AAT Terms can be seen here:\n",
    "https://www.getty.edu/research/tools/vocabularies/aat/\n",
    "\n",
    "We use the .Out files available below for consuming the data - these are batch released so terms in the .Out files may note be availalbe on the AAT search (link above) or vice-versa:\n",
    "http://aatdownloads.getty.edu/\n",
    "\n",
    "Note that when we load files, we join the LANGUAGE_RELS.out and TERM.out files and combine the term and and the qualifier to create the \"subjects\" and \"join_concepts\"\n",
    "\n",
    "The join_concept ensures the case for the term is all lower case\n",
    "\n",
    "We also create a \"full_concept\" but doesn't handle the NULL case well and shouldn't be used for analysis"
   ]
  },
  {
   "cell_type": "code",
   "execution_count": 14,
   "id": "7bf69ae4",
   "metadata": {},
   "outputs": [
    {
     "name": "stderr",
     "output_type": "stream",
     "text": [
      "/Users/ethan.fenichel/opt/anaconda3/lib/python3.8/site-packages/IPython/core/interactiveshell.py:3437: DtypeWarning: Columns (4) have mixed types.Specify dtype option on import or set low_memory=False.\n",
      "  exec(code_obj, self.user_global_ns, self.user_ns)\n"
     ]
    }
   ],
   "source": [
    "concepts = load_metadata()"
   ]
  },
  {
   "cell_type": "code",
   "execution_count": 15,
   "id": "8205a8fd",
   "metadata": {},
   "outputs": [],
   "source": [
    "# review the metadata for concepts containing a comma and return those as a list\n",
    "concepts_drop = concepts[concepts['use_concept'].notna()]\n",
    "concepts_search = concepts_drop[concepts_drop['use_concept'].str.contains(',')]\n",
    "concepts_comma = concepts_search['use_concept'].to_list()"
   ]
  },
  {
   "cell_type": "code",
   "execution_count": 16,
   "id": "cf724798",
   "metadata": {
    "scrolled": true
   },
   "outputs": [
    {
     "data": {
      "text/html": [
       "<div>\n",
       "<style scoped>\n",
       "    .dataframe tbody tr th:only-of-type {\n",
       "        vertical-align: middle;\n",
       "    }\n",
       "\n",
       "    .dataframe tbody tr th {\n",
       "        vertical-align: top;\n",
       "    }\n",
       "\n",
       "    .dataframe thead th {\n",
       "        text-align: right;\n",
       "    }\n",
       "</style>\n",
       "<table border=\"1\" class=\"dataframe\">\n",
       "  <thead>\n",
       "    <tr style=\"text-align: right;\">\n",
       "      <th></th>\n",
       "      <th>AACR2_FLAG</th>\n",
       "      <th>DISPLAY_DATE</th>\n",
       "      <th>DISPLAY_NAME</th>\n",
       "      <th>DISPLAY_ORDER</th>\n",
       "      <th>END_DATE</th>\n",
       "      <th>HISTORIC_FLAG</th>\n",
       "      <th>OTHER_FLAGS</th>\n",
       "      <th>PREFERRED_x</th>\n",
       "      <th>START_DATE</th>\n",
       "      <th>SUBJECT_ID_x</th>\n",
       "      <th>...</th>\n",
       "      <th>LANGUAGE_CODE</th>\n",
       "      <th>PREFERRED_y</th>\n",
       "      <th>SUBJECT_ID_y</th>\n",
       "      <th>QUALIFIER</th>\n",
       "      <th>TERM_TYPE</th>\n",
       "      <th>PART_OF_SPEECH</th>\n",
       "      <th>LANG_STAT</th>\n",
       "      <th>full_concept</th>\n",
       "      <th>use_concept</th>\n",
       "      <th>join_concept</th>\n",
       "    </tr>\n",
       "  </thead>\n",
       "  <tbody>\n",
       "    <tr>\n",
       "      <th>0</th>\n",
       "      <td>NaN</td>\n",
       "      <td>NaN</td>\n",
       "      <td>NaN</td>\n",
       "      <td>3.0</td>\n",
       "      <td>NaN</td>\n",
       "      <td>C</td>\n",
       "      <td>NaN</td>\n",
       "      <td>V</td>\n",
       "      <td>NaN</td>\n",
       "      <td>300022903</td>\n",
       "      <td>...</td>\n",
       "      <td>70051</td>\n",
       "      <td>N</td>\n",
       "      <td>300022903</td>\n",
       "      <td>NaN</td>\n",
       "      <td>UF</td>\n",
       "      <td>U</td>\n",
       "      <td>U</td>\n",
       "      <td>NaN</td>\n",
       "      <td>knives, gauge</td>\n",
       "      <td>knives, gauge</td>\n",
       "    </tr>\n",
       "    <tr>\n",
       "      <th>1</th>\n",
       "      <td>NaN</td>\n",
       "      <td>NaN</td>\n",
       "      <td>NaN</td>\n",
       "      <td>1.0</td>\n",
       "      <td>NaN</td>\n",
       "      <td>C</td>\n",
       "      <td>NaN</td>\n",
       "      <td>P</td>\n",
       "      <td>NaN</td>\n",
       "      <td>300022904</td>\n",
       "      <td>...</td>\n",
       "      <td>70051</td>\n",
       "      <td>P</td>\n",
       "      <td>300022904</td>\n",
       "      <td>NaN</td>\n",
       "      <td>D</td>\n",
       "      <td>PN</td>\n",
       "      <td>U</td>\n",
       "      <td>NaN</td>\n",
       "      <td>hand knives</td>\n",
       "      <td>hand knives</td>\n",
       "    </tr>\n",
       "    <tr>\n",
       "      <th>2</th>\n",
       "      <td>NaN</td>\n",
       "      <td>NaN</td>\n",
       "      <td>NaN</td>\n",
       "      <td>2.0</td>\n",
       "      <td>NaN</td>\n",
       "      <td>C</td>\n",
       "      <td>NaN</td>\n",
       "      <td>V</td>\n",
       "      <td>NaN</td>\n",
       "      <td>300022904</td>\n",
       "      <td>...</td>\n",
       "      <td>70051</td>\n",
       "      <td>N</td>\n",
       "      <td>300022904</td>\n",
       "      <td>NaN</td>\n",
       "      <td>AD</td>\n",
       "      <td>SN</td>\n",
       "      <td>U</td>\n",
       "      <td>NaN</td>\n",
       "      <td>hand knife</td>\n",
       "      <td>hand knife</td>\n",
       "    </tr>\n",
       "    <tr>\n",
       "      <th>3</th>\n",
       "      <td>NaN</td>\n",
       "      <td>NaN</td>\n",
       "      <td>NaN</td>\n",
       "      <td>3.0</td>\n",
       "      <td>NaN</td>\n",
       "      <td>C</td>\n",
       "      <td>NaN</td>\n",
       "      <td>V</td>\n",
       "      <td>NaN</td>\n",
       "      <td>300022904</td>\n",
       "      <td>...</td>\n",
       "      <td>70051</td>\n",
       "      <td>N</td>\n",
       "      <td>300022904</td>\n",
       "      <td>NaN</td>\n",
       "      <td>UF</td>\n",
       "      <td>U</td>\n",
       "      <td>U</td>\n",
       "      <td>NaN</td>\n",
       "      <td>knives, hand</td>\n",
       "      <td>knives, hand</td>\n",
       "    </tr>\n",
       "    <tr>\n",
       "      <th>4</th>\n",
       "      <td>NaN</td>\n",
       "      <td>NaN</td>\n",
       "      <td>NaN</td>\n",
       "      <td>1.0</td>\n",
       "      <td>NaN</td>\n",
       "      <td>C</td>\n",
       "      <td>NaN</td>\n",
       "      <td>P</td>\n",
       "      <td>NaN</td>\n",
       "      <td>300022905</td>\n",
       "      <td>...</td>\n",
       "      <td>70051</td>\n",
       "      <td>P</td>\n",
       "      <td>300022905</td>\n",
       "      <td>NaN</td>\n",
       "      <td>D</td>\n",
       "      <td>PN</td>\n",
       "      <td>U</td>\n",
       "      <td>NaN</td>\n",
       "      <td>hawkbill knives</td>\n",
       "      <td>hawkbill knives</td>\n",
       "    </tr>\n",
       "    <tr>\n",
       "      <th>...</th>\n",
       "      <td>...</td>\n",
       "      <td>...</td>\n",
       "      <td>...</td>\n",
       "      <td>...</td>\n",
       "      <td>...</td>\n",
       "      <td>...</td>\n",
       "      <td>...</td>\n",
       "      <td>...</td>\n",
       "      <td>...</td>\n",
       "      <td>...</td>\n",
       "      <td>...</td>\n",
       "      <td>...</td>\n",
       "      <td>...</td>\n",
       "      <td>...</td>\n",
       "      <td>...</td>\n",
       "      <td>...</td>\n",
       "      <td>...</td>\n",
       "      <td>...</td>\n",
       "      <td>...</td>\n",
       "      <td>...</td>\n",
       "      <td>...</td>\n",
       "    </tr>\n",
       "    <tr>\n",
       "      <th>483188</th>\n",
       "      <td>NaN</td>\n",
       "      <td>NaN</td>\n",
       "      <td>NaN</td>\n",
       "      <td>1.0</td>\n",
       "      <td>NaN</td>\n",
       "      <td>C</td>\n",
       "      <td>NaN</td>\n",
       "      <td>P</td>\n",
       "      <td>NaN</td>\n",
       "      <td>300430882</td>\n",
       "      <td>...</td>\n",
       "      <td>70051</td>\n",
       "      <td>P</td>\n",
       "      <td>300430882</td>\n",
       "      <td>NaN</td>\n",
       "      <td>D</td>\n",
       "      <td>U</td>\n",
       "      <td>U</td>\n",
       "      <td>NaN</td>\n",
       "      <td>prophylactics</td>\n",
       "      <td>prophylactics</td>\n",
       "    </tr>\n",
       "    <tr>\n",
       "      <th>483189</th>\n",
       "      <td>NaN</td>\n",
       "      <td>NaN</td>\n",
       "      <td>NaN</td>\n",
       "      <td>1.0</td>\n",
       "      <td>NaN</td>\n",
       "      <td>C</td>\n",
       "      <td>NaN</td>\n",
       "      <td>P</td>\n",
       "      <td>NaN</td>\n",
       "      <td>300434048</td>\n",
       "      <td>...</td>\n",
       "      <td>70051</td>\n",
       "      <td>P</td>\n",
       "      <td>300434048</td>\n",
       "      <td>NaN</td>\n",
       "      <td>D</td>\n",
       "      <td>PN</td>\n",
       "      <td>U</td>\n",
       "      <td>NaN</td>\n",
       "      <td>styptic pencils</td>\n",
       "      <td>styptic pencils</td>\n",
       "    </tr>\n",
       "    <tr>\n",
       "      <th>483190</th>\n",
       "      <td>NaN</td>\n",
       "      <td>NaN</td>\n",
       "      <td>NaN</td>\n",
       "      <td>1.0</td>\n",
       "      <td>NaN</td>\n",
       "      <td>C</td>\n",
       "      <td>NaN</td>\n",
       "      <td>P</td>\n",
       "      <td>NaN</td>\n",
       "      <td>300434776</td>\n",
       "      <td>...</td>\n",
       "      <td>70051</td>\n",
       "      <td>P</td>\n",
       "      <td>300434776</td>\n",
       "      <td>NaN</td>\n",
       "      <td>D</td>\n",
       "      <td>PN</td>\n",
       "      <td>U</td>\n",
       "      <td>NaN</td>\n",
       "      <td>tissues</td>\n",
       "      <td>tissues</td>\n",
       "    </tr>\n",
       "    <tr>\n",
       "      <th>483191</th>\n",
       "      <td>NaN</td>\n",
       "      <td>NaN</td>\n",
       "      <td>NaN</td>\n",
       "      <td>1.0</td>\n",
       "      <td>NaN</td>\n",
       "      <td>C</td>\n",
       "      <td>NaN</td>\n",
       "      <td>P</td>\n",
       "      <td>NaN</td>\n",
       "      <td>300431243</td>\n",
       "      <td>...</td>\n",
       "      <td>70051</td>\n",
       "      <td>P</td>\n",
       "      <td>300431243</td>\n",
       "      <td>NaN</td>\n",
       "      <td>D</td>\n",
       "      <td>PN</td>\n",
       "      <td>U</td>\n",
       "      <td>NaN</td>\n",
       "      <td>towelettes</td>\n",
       "      <td>towelettes</td>\n",
       "    </tr>\n",
       "    <tr>\n",
       "      <th>483192</th>\n",
       "      <td>NaN</td>\n",
       "      <td>NaN</td>\n",
       "      <td>NaN</td>\n",
       "      <td>1.0</td>\n",
       "      <td>NaN</td>\n",
       "      <td>C</td>\n",
       "      <td>NaN</td>\n",
       "      <td>P</td>\n",
       "      <td>NaN</td>\n",
       "      <td>300432605</td>\n",
       "      <td>...</td>\n",
       "      <td>70051</td>\n",
       "      <td>P</td>\n",
       "      <td>300432605</td>\n",
       "      <td>NaN</td>\n",
       "      <td>D</td>\n",
       "      <td>PN</td>\n",
       "      <td>U</td>\n",
       "      <td>NaN</td>\n",
       "      <td>washcloths</td>\n",
       "      <td>washcloths</td>\n",
       "    </tr>\n",
       "  </tbody>\n",
       "</table>\n",
       "<p>483188 rows × 23 columns</p>\n",
       "</div>"
      ],
      "text/plain": [
       "       AACR2_FLAG DISPLAY_DATE DISPLAY_NAME  DISPLAY_ORDER END_DATE  \\\n",
       "0             NaN          NaN          NaN            3.0      NaN   \n",
       "1             NaN          NaN          NaN            1.0      NaN   \n",
       "2             NaN          NaN          NaN            2.0      NaN   \n",
       "3             NaN          NaN          NaN            3.0      NaN   \n",
       "4             NaN          NaN          NaN            1.0      NaN   \n",
       "...           ...          ...          ...            ...      ...   \n",
       "483188        NaN          NaN          NaN            1.0      NaN   \n",
       "483189        NaN          NaN          NaN            1.0      NaN   \n",
       "483190        NaN          NaN          NaN            1.0      NaN   \n",
       "483191        NaN          NaN          NaN            1.0      NaN   \n",
       "483192        NaN          NaN          NaN            1.0      NaN   \n",
       "\n",
       "       HISTORIC_FLAG OTHER_FLAGS PREFERRED_x  START_DATE SUBJECT_ID_x  ...  \\\n",
       "0                  C         NaN           V         NaN    300022903  ...   \n",
       "1                  C         NaN           P         NaN    300022904  ...   \n",
       "2                  C         NaN           V         NaN    300022904  ...   \n",
       "3                  C         NaN           V         NaN    300022904  ...   \n",
       "4                  C         NaN           P         NaN    300022905  ...   \n",
       "...              ...         ...         ...         ...          ...  ...   \n",
       "483188             C         NaN           P         NaN    300430882  ...   \n",
       "483189             C         NaN           P         NaN    300434048  ...   \n",
       "483190             C         NaN           P         NaN    300434776  ...   \n",
       "483191             C         NaN           P         NaN    300431243  ...   \n",
       "483192             C         NaN           P         NaN    300432605  ...   \n",
       "\n",
       "       LANGUAGE_CODE PREFERRED_y SUBJECT_ID_y QUALIFIER TERM_TYPE  \\\n",
       "0              70051           N    300022903       NaN        UF   \n",
       "1              70051           P    300022904       NaN         D   \n",
       "2              70051           N    300022904       NaN        AD   \n",
       "3              70051           N    300022904       NaN        UF   \n",
       "4              70051           P    300022905       NaN         D   \n",
       "...              ...         ...          ...       ...       ...   \n",
       "483188         70051           P    300430882       NaN         D   \n",
       "483189         70051           P    300434048       NaN         D   \n",
       "483190         70051           P    300434776       NaN         D   \n",
       "483191         70051           P    300431243       NaN         D   \n",
       "483192         70051           P    300432605       NaN         D   \n",
       "\n",
       "       PART_OF_SPEECH LANG_STAT full_concept      use_concept     join_concept  \n",
       "0                   U         U          NaN    knives, gauge    knives, gauge  \n",
       "1                  PN         U          NaN      hand knives      hand knives  \n",
       "2                  SN         U          NaN       hand knife       hand knife  \n",
       "3                   U         U          NaN     knives, hand     knives, hand  \n",
       "4                  PN         U          NaN  hawkbill knives  hawkbill knives  \n",
       "...               ...       ...          ...              ...              ...  \n",
       "483188              U         U          NaN    prophylactics    prophylactics  \n",
       "483189             PN         U          NaN  styptic pencils  styptic pencils  \n",
       "483190             PN         U          NaN          tissues          tissues  \n",
       "483191             PN         U          NaN       towelettes       towelettes  \n",
       "483192             PN         U          NaN       washcloths       washcloths  \n",
       "\n",
       "[483188 rows x 23 columns]"
      ]
     },
     "execution_count": 16,
     "metadata": {},
     "output_type": "execute_result"
    }
   ],
   "source": [
    "concepts[concepts['join_concept'].notna()]"
   ]
  },
  {
   "cell_type": "markdown",
   "id": "aedbbf93",
   "metadata": {},
   "source": [
    "### Consider comma cases\n",
    "\n",
    "given that we'll parse the created Arquin metadata by comma, we need to handle cases where the subject term, aka concept, contains an internal comma (e.g. \"knives, gauge\"). These will need to be parsed carfully for two reasons:\n",
    "\n",
    "1.) The comma could falsely parse the concept\n",
    "\n",
    "2.) The individual components of the concept could be valid AAT terms, too... eg. \"knives, gauge\" Both \"knives\" and \"gauge\" are valid AAT terms while so is \"knives, gauge\". Knowing what the metata analyst intended in this case is highly difficult to determine. "
   ]
  },
  {
   "cell_type": "code",
   "execution_count": 17,
   "id": "d8aed9f4",
   "metadata": {},
   "outputs": [
    {
     "data": {
      "text/plain": [
       "['knives, gauge',\n",
       " 'knives, hand',\n",
       " 'knives, hawkbill',\n",
       " 'mill, feed',\n",
       " 'mills, feed',\n",
       " 'reports, congressional committee',\n",
       " 'bills, House of Commons',\n",
       " 'bills, House of Lords',\n",
       " 'charts, bathymetric',\n",
       " 'looms, warp-weighted']"
      ]
     },
     "execution_count": 17,
     "metadata": {},
     "output_type": "execute_result"
    }
   ],
   "source": [
    "# display a sample of concepts_comma\n",
    "concepts_comma[0:10]"
   ]
  },
  {
   "cell_type": "code",
   "execution_count": 18,
   "id": "aac7559d",
   "metadata": {},
   "outputs": [
    {
     "name": "stdout",
     "output_type": "stream",
     "text": [
      "There are 211 concepts that have more than 1 comma\n"
     ]
    }
   ],
   "source": [
    "# identify the risk of concepts that have multiple commas in them\n",
    "\n",
    "multi_commas_list = []\n",
    "for concept in concepts_comma:\n",
    "    x = concept.count(',')\n",
    "    if x > 1:\n",
    "        multi_commas_list.append(concept)\n",
    "\n",
    "print(f'There are {len(multi_commas_list)} concepts that have more than 1 comma')"
   ]
  },
  {
   "cell_type": "code",
   "execution_count": 19,
   "id": "0b13656c",
   "metadata": {},
   "outputs": [
    {
     "data": {
      "text/plain": [
       "['Zhou, Northern (culture, style, and period)',\n",
       " 'Liang (culture, style, period)',\n",
       " 'Animal, Early, Style',\n",
       " 'Animal, Late, Style',\n",
       " 'Ripe, Animal, Late',\n",
       " 'Animal, Middle, Style',\n",
       " 'Eastern Zambian, Zimbabwe, and Western Mozambique styles',\n",
       " 'Jin (Six Dynasties, culture, style, and period)',\n",
       " 'Chin (Six Dynasties, culture, style, and period)',\n",
       " 'Later Liang (Five Dynasties, Chinese style, culture, period)']"
      ]
     },
     "execution_count": 19,
     "metadata": {},
     "output_type": "execute_result"
    }
   ],
   "source": [
    "# show a sample of the concepts with more than 1 comma\n",
    "multi_commas_list[34:44]"
   ]
  },
  {
   "cell_type": "markdown",
   "id": "dfdc64a3",
   "metadata": {},
   "source": [
    "## Begin parsing the subjects in the boxes\n",
    "\n",
    "This process will parse the subjects and then evaluate them.\n",
    "\n",
    "1. parse the subjects by comma (really a comma+space, ', ')\n",
    "2. for all the subjects associated with a given media id, validate that they each match an AAT join_concept\n",
    "3. If yes, move on to the next media id\n",
    "4. If a parsed join_concept fails to match an AAT Term, identify the order of that term in the series of subjects (e.g. if there are 5 parsed terms in the set of 'subject', and 1, 2, and 5 match an AAT term). Then combine the nearest term with a subject (3 and 4 from the example) and see if that term matches AAT.\n",
    "5. If yes (in 4), remove subjects 3 and 4 and replace with the combined 3 & 4. \n",
    "6. If no (in 4), log the unmatched terms for further analysis"
   ]
  },
  {
   "cell_type": "code",
   "execution_count": null,
   "id": "aee30d95",
   "metadata": {},
   "outputs": [],
   "source": [
    "df = return_box(box_list[1])"
   ]
  },
  {
   "cell_type": "code",
   "execution_count": null,
   "id": "41d16332",
   "metadata": {},
   "outputs": [],
   "source": [
    "search_media = 'A-1_Arquin_002_0296.jpg'"
   ]
  },
  {
   "cell_type": "code",
   "execution_count": null,
   "id": "8114d6cb",
   "metadata": {},
   "outputs": [],
   "source": [
    "df[df['media'] == search_media].index"
   ]
  },
  {
   "cell_type": "code",
   "execution_count": null,
   "id": "358c86e6",
   "metadata": {},
   "outputs": [],
   "source": [
    "df = split_df(df)"
   ]
  },
  {
   "cell_type": "code",
   "execution_count": null,
   "id": "72708807",
   "metadata": {},
   "outputs": [],
   "source": [
    "# merge the df with the AAT Metadata \n",
    "df = pd.merge(df, concepts, how=\"left\", on='join_concept')"
   ]
  },
  {
   "cell_type": "code",
   "execution_count": null,
   "id": "6135125e",
   "metadata": {},
   "outputs": [],
   "source": [
    "df[df['media'] == search_media][narrow_list]"
   ]
  },
  {
   "cell_type": "code",
   "execution_count": null,
   "id": "2be3188f",
   "metadata": {},
   "outputs": [],
   "source": [
    "# get all the unique media IDs where media is not NA \n",
    "df_medias = df.media.dropna().unique()\n",
    "df_medias"
   ]
  },
  {
   "cell_type": "code",
   "execution_count": null,
   "id": "a521f11b",
   "metadata": {},
   "outputs": [],
   "source": [
    "# get the index of the search_media term in the array\n",
    "search_media_index = df_medias.tolist().index(search_media)\n",
    "search_media_index"
   ]
  },
  {
   "cell_type": "code",
   "execution_count": null,
   "id": "7bfcf05a",
   "metadata": {},
   "outputs": [],
   "source": [
    "# get the list of all the subjects for the subset of the dataframe for the box\n",
    "df_subjects = df[df['media'] == search_media].join_concept.to_list()\n",
    "df_subjects"
   ]
  },
  {
   "cell_type": "code",
   "execution_count": null,
   "id": "ba62f82c",
   "metadata": {},
   "outputs": [],
   "source": [
    "# get the list of unmatched subjects\n",
    "df_meda_no_match = df[df['media'] == search_media].loc[df['SUBJECT_ID_x'].isna()]\n",
    "df_meda_no_match[narrow_list]"
   ]
  },
  {
   "cell_type": "code",
   "execution_count": null,
   "id": "a1cddd6b",
   "metadata": {},
   "outputs": [],
   "source": [
    "# for any unmatched terms, check to see if combining the terms yields a match\n",
    "no_match = df_meda_no_match.join_concept.to_list()\n",
    "no_match"
   ]
  },
  {
   "cell_type": "code",
   "execution_count": null,
   "id": "0fbeb624",
   "metadata": {},
   "outputs": [],
   "source": [
    "# identify the index value of the ummatched item\n",
    "for i, unmatched in enumerate(no_match):\n",
    "    no_match_index = df_subjects.index(unmatched)\n",
    "    print(f'{i+1}: unmatched concept is: \"{unmatched}\" and its index is \"{no_match_index}\" out of {len(df_subjects)-1}')"
   ]
  },
  {
   "cell_type": "code",
   "execution_count": null,
   "id": "9a5a04c7",
   "metadata": {},
   "outputs": [],
   "source": [
    "try_match_neg = None\n",
    "try_match_pos = None\n",
    "pos = False\n",
    "neg = False\n",
    "\n",
    "if no_match_index > 0:\n",
    "    try_match_neg = df_subjects[no_match_index-1]+', '+df_subjects[no_match_index]\n",
    "    concepts_found_pos = concepts.loc[concepts['join_concept'] == try_match_neg]\n",
    "    pos = True\n",
    "if no_match_index < len(df_subjects)-1:\n",
    "    try_match_pos = df_subjects[df_subjects.index(no_match)]+', '+df_subjects[df_subjects.index(no_match)+1]\n",
    "    concepts_found_neg = concepts.loc[concepts['join_concept'] == try_match_pos]\n",
    "    neg = True\n",
    "print(f'try_match_neg = \"{try_match_neg}\"\\ntry_match_pos = \"{try_match_pos}\"')"
   ]
  },
  {
   "cell_type": "code",
   "execution_count": null,
   "id": "1e6908ad",
   "metadata": {},
   "outputs": [],
   "source": [
    "concepts_found_pos[['SUBJECT_ID_x', 'TERM_ID', 'use_concept', 'join_concept']]"
   ]
  },
  {
   "cell_type": "code",
   "execution_count": null,
   "id": "3c58f96c",
   "metadata": {},
   "outputs": [],
   "source": [
    "try:\n",
    "    concepts_found_neg[['SUBJECT_ID_x', 'TERM_ID', 'use_concept', 'join_concept']]\n",
    "except (NameError):\n",
    "    print(f'NameError: concepts_found_neg not defined')"
   ]
  },
  {
   "cell_type": "code",
   "execution_count": null,
   "id": "03c50828",
   "metadata": {},
   "outputs": [],
   "source": [
    "try:\n",
    "    if len(concepts_found_pos) == 1:\n",
    "        new_concept = concepts_found_pos.join_concept.to_list()[0]\n",
    "except (NameError):\n",
    "    pass\n",
    "try:\n",
    "    if len(concepts_found_neg) == 1:\n",
    "        new_concept = concepts_found_neg.join_concept.to_list()[0]\n",
    "except (NameError):\n",
    "    pass\n",
    "try:\n",
    "    if (len(concepts_found_pos) > 0) & (len(concepts_found_neg) > 0):\n",
    "        print('too many matches!')\n",
    "except (NameError):\n",
    "    pass\n",
    "\n",
    "new_concept"
   ]
  },
  {
   "cell_type": "code",
   "execution_count": null,
   "id": "97e5a562",
   "metadata": {},
   "outputs": [],
   "source": [
    "# determine the remove concept\n",
    "remove_con = df_subjects[no_match_index]\n",
    "remove_con"
   ]
  },
  {
   "cell_type": "code",
   "execution_count": null,
   "id": "0a4c61ed",
   "metadata": {},
   "outputs": [],
   "source": [
    "# before the drop\n",
    "df[df['media'] == search_media][narrow_list]"
   ]
  },
  {
   "cell_type": "code",
   "execution_count": null,
   "id": "dc3a24d3",
   "metadata": {},
   "outputs": [],
   "source": [
    "remove_this_con_index = 0\n",
    "if pos:\n",
    "    remove_this_con_index = no_match_index-1\n",
    "if neg:\n",
    "    remove_this_con_index = no_match_index+1\n",
    "\n",
    "remove_this_con = df_subjects[remove_this_con_index]\n",
    "\n",
    "df = df.drop(\n",
    "    df[((df['media'] == search_media) & \n",
    "                      (df['join_concept'] == remove_this_con)\n",
    "                     )].index\n",
    ")"
   ]
  },
  {
   "cell_type": "code",
   "execution_count": null,
   "id": "262db02e",
   "metadata": {},
   "outputs": [],
   "source": [
    "# after the drop\n",
    "\n",
    "df[df['media'] == search_media][narrow_list]"
   ]
  },
  {
   "cell_type": "code",
   "execution_count": null,
   "id": "d6837539",
   "metadata": {},
   "outputs": [],
   "source": [
    "# replace the no_match value with the combined_concept\n",
    "\n",
    "pop_index = df.loc[(df['media'] == search_media) & (df['join_concept'] == remove_con)].index\n",
    "pop_index"
   ]
  },
  {
   "cell_type": "code",
   "execution_count": null,
   "id": "96f54594",
   "metadata": {},
   "outputs": [],
   "source": [
    "df.at[pop_index[0], 'join_concept'] = new_concept\n",
    "df.at[pop_index[0], 'subjects'] = new_concept\n",
    "df.at[pop_index[0], 'SUBJECT_ID_x'] = concepts.at[concepts.loc[concepts['join_concept'] == new_concept].index[0], 'SUBJECT_ID_x']\n",
    "df.at[pop_index[0], 'TERM_ID'] = concepts.at[concepts.loc[concepts['join_concept'] == new_concept].index[0], 'TERM_ID']"
   ]
  },
  {
   "cell_type": "code",
   "execution_count": null,
   "id": "bab64075",
   "metadata": {},
   "outputs": [],
   "source": [
    "df.loc[df['media']== search_media][narrow_list]"
   ]
  },
  {
   "cell_type": "markdown",
   "id": "1a31ddff",
   "metadata": {},
   "source": [
    "## Develop the flow for this to work in an interation"
   ]
  },
  {
   "cell_type": "code",
   "execution_count": 20,
   "id": "8a2b7238",
   "metadata": {},
   "outputs": [
    {
     "name": "stdout",
     "output_type": "stream",
     "text": [
      "complete, imported 69 boxes\n"
     ]
    }
   ],
   "source": [
    "# load all the boxes and split them\n",
    "for i, box_number in enumerate(box_list):\n",
    "    df = return_box(box_number)\n",
    "    clear_output(wait=True)\n",
    "    print(f\"working on Box {box_number}\")\n",
    "    \n",
    "    try:\n",
    "        df = split_df(df)\n",
    "    except:\n",
    "        print(f'failed to split df for box number {box_number}')\n",
    "\n",
    "    if i+1 == 1:\n",
    "        df_combined = df\n",
    "    else:\n",
    "        df_combined = combine_boxes(df_combined, df)\n",
    " \n",
    "clear_output(wait=True)    \n",
    "\n",
    "df = df_combined\n",
    "df = df.drop(df[df['subjects'] == ''].index)\n",
    "print(f'complete, imported {i+1} boxes')"
   ]
  },
  {
   "cell_type": "code",
   "execution_count": 31,
   "id": "fd708edc",
   "metadata": {},
   "outputs": [],
   "source": [
    "# join the df with the concepts\n",
    "df = pd.merge(df, concepts, how=\"left\", on='join_concept')"
   ]
  },
  {
   "cell_type": "code",
   "execution_count": 32,
   "id": "5aa5cbb9",
   "metadata": {},
   "outputs": [],
   "source": [
    "# get the boxid\n",
    "df['boxid_temp'] = df['media'].str.extract(r\"(_0\\d+_)\")\n",
    "df = df[df['media'].notna()]\n",
    "df['boxid_temp'] = df['boxid_temp'].str.replace(\"_\",\"\")\n",
    "df['boxid_temp'] = pd.to_numeric(df['boxid_temp'], errors='coerce')\n",
    "df = df.dropna(subset=['boxid_temp'])\n",
    "df['boxid_temp'] = df['boxid_temp'].astype('int')\n",
    "df['boxid_temp'] = df['boxid_temp'].astype('str')\n",
    "df['BoxId'] = 'Box '+df['boxid_temp']\n",
    "df.drop('boxid_temp', inplace=True, axis=1)"
   ]
  },
  {
   "cell_type": "markdown",
   "id": "6a74ee32",
   "metadata": {},
   "source": [
    "## Add in Tab Color\n",
    "\n",
    "The colors of each tab are identified in 'get_spreadsheets_color.ipynb'. That script creates a CSV file and that is read in and added to the df_combined object\n",
    "\n",
    "Read in the color match file created here:\n",
    "http://localhost:8888/notebooks/get_spreadsheets.ipynb\n",
    "\n",
    "use that to create the list of titles based on color of the tab"
   ]
  },
  {
   "cell_type": "code",
   "execution_count": 33,
   "id": "ecba1eeb",
   "metadata": {},
   "outputs": [],
   "source": [
    "color_match_df = pd.read_csv('csv_files/color_match', sep='\\t')"
   ]
  },
  {
   "cell_type": "code",
   "execution_count": 34,
   "id": "e6aaab34",
   "metadata": {},
   "outputs": [],
   "source": [
    "df = pd.merge(df, color_match_df, on='BoxId')"
   ]
  },
  {
   "cell_type": "code",
   "execution_count": 37,
   "id": "98e3f97b",
   "metadata": {},
   "outputs": [],
   "source": [
    "# get all the unique media IDs where media is not NA \n",
    "df_medias = df.media.dropna().unique()"
   ]
  },
  {
   "cell_type": "code",
   "execution_count": 92,
   "id": "1aa8b62d",
   "metadata": {},
   "outputs": [
    {
     "name": "stdout",
     "output_type": "stream",
     "text": [
      "16: search_media: A-1_Arquin_001_0018.jpg, no_match = ['palaces (official residences) façades']\n",
      "1: unmatched concept is: \"palaces (official residences) façades\" and its index is \"2\" out of 3\n",
      "new_concept = None\n",
      "17: search_media: A-1_Arquin_001_0019.jpg, no_match = ['palaces (official residences) façades']\n",
      "1: unmatched concept is: \"palaces (official residences) façades\" and its index is \"2\" out of 3\n",
      "new_concept = None\n",
      "31: search_media: A-1_Arquin_001_0035.jpg, no_match = ['hotel (public accommodations)']\n",
      "1: unmatched concept is: \"hotel (public accommodations)\" and its index is \"5\" out of 6\n",
      "new_concept = None\n",
      "54: search_media: A-1_Arquin_001_0058.jpg, no_match = ['']\n",
      "1: unmatched concept is: \"\" and its index is \"3\" out of 3\n",
      "new_concept = None\n",
      "175: search_media: A-1_Arquin_001_0259.jpg, no_match = ['portal']\n",
      "1: unmatched concept is: \"portal\" and its index is \"2\" out of 2\n",
      "new_concept = None\n",
      "210: search_media: A-1_Arquin_002_0296.jpg, no_match = ['']\n",
      "1: unmatched concept is: \"\" and its index is \"3\" out of 3\n",
      "new_concept = None\n",
      "211: search_media: A-1_Arquin_002_0297.jpg, no_match = ['']\n",
      "1: unmatched concept is: \"\" and its index is \"4\" out of 4\n",
      "new_concept = None\n",
      "216: search_media: A-1_Arquin_002_0302.jpg, no_match = ['buildings']\n",
      "1: unmatched concept is: \"buildings\" and its index is \"1\" out of 1\n",
      "new_concept = None\n",
      "219: search_media: A-1_Arquin_002_0305.jpg, no_match = ['buildings']\n",
      "1: unmatched concept is: \"buildings\" and its index is \"1\" out of 1\n",
      "new_concept = None\n",
      "220: search_media: A-1_Arquin_002_0306.jpg, no_match = ['buildings']\n",
      "1: unmatched concept is: \"buildings\" and its index is \"1\" out of 3\n",
      "new_concept = None\n",
      "282: search_media: A-1_Arquin_002_0416.jpg, no_match = ['gates']\n",
      "1: unmatched concept is: \"gates\" and its index is \"1\" out of 3\n",
      "new_concept = None\n",
      "328: search_media: A-2_Arquin_002_067.jpg, no_match = ['']\n",
      "1: unmatched concept is: \"\" and its index is \"3\" out of 3\n",
      "new_concept = None\n",
      "333: search_media: A-2_Arquin_002_073.jpg, no_match = ['buildings']\n",
      "1: unmatched concept is: \"buildings\" and its index is \"0\" out of 1\n",
      "new_concept = None\n",
      "335: search_media: A-2_Arquin_002_083.jpg, no_match = ['buildings']\n",
      "1: unmatched concept is: \"buildings\" and its index is \"2\" out of 3\n",
      "new_concept = None\n",
      "336: search_media: A-2_Arquin_002_084.jpg, no_match = ['buildings']\n",
      "1: unmatched concept is: \"buildings\" and its index is \"2\" out of 3\n",
      "new_concept = None\n",
      "337: search_media: A-2_Arquin_002_087.jpg, no_match = ['buildings']\n",
      "1: unmatched concept is: \"buildings\" and its index is \"0\" out of 5\n",
      "new_concept = None\n",
      "338: search_media: A-2_Arquin_002_088.jpg, no_match = ['buildings']\n",
      "1: unmatched concept is: \"buildings\" and its index is \"0\" out of 5\n",
      "new_concept = None\n",
      "339: search_media: A-2_Arquin_002_089.jpg, no_match = ['buildings', '']\n",
      "1: unmatched concept is: \"buildings\" and its index is \"0\" out of 3\n",
      "new_concept = None\n",
      "2: unmatched concept is: \"\" and its index is \"3\" out of 3\n",
      "new_concept = None\n",
      "340: search_media: A-2_Arquin_002_090.jpg, no_match = ['buildings', '']\n",
      "1: unmatched concept is: \"buildings\" and its index is \"0\" out of 3\n",
      "new_concept = None\n",
      "2: unmatched concept is: \"\" and its index is \"3\" out of 3\n",
      "new_concept = None\n",
      "341: search_media: A-2_Arquin_002_091.jpg, no_match = ['buildings']\n",
      "1: unmatched concept is: \"buildings\" and its index is \"0\" out of 2\n",
      "new_concept = None\n",
      "343: search_media: A-2_Arquin_002_098.jpg, no_match = ['buildings', '']\n",
      "1: unmatched concept is: \"buildings\" and its index is \"1\" out of 2\n",
      "new_concept = None\n",
      "2: unmatched concept is: \"\" and its index is \"2\" out of 2\n",
      "new_concept = None\n",
      "348: search_media: A-2_Arquin_002_119.jpg, no_match = ['buildings']\n",
      "1: unmatched concept is: \"buildings\" and its index is \"0\" out of 2\n",
      "new_concept = None\n",
      "352: search_media: A-2_Arquin_002_141.jpg, no_match = ['buildings']\n",
      "1: unmatched concept is: \"buildings\" and its index is \"1\" out of 3\n",
      "new_concept = None\n",
      "353: search_media: A-2_Arquin_002_142.jpg, no_match = ['buildings']\n",
      "1: unmatched concept is: \"buildings\" and its index is \"1\" out of 1\n",
      "new_concept = None\n",
      "354: search_media: A-2_Arquin_002_170.jpg, no_match = ['']\n",
      "1: unmatched concept is: \"\" and its index is \"2\" out of 2\n",
      "new_concept = None\n",
      "355: search_media: A-2_Arquin_002_209.jpg, no_match = ['buildings']\n",
      "1: unmatched concept is: \"buildings\" and its index is \"1\" out of 2\n",
      "new_concept = None\n",
      "372: search_media: A-2_Arquin_002_293.jpg, no_match = ['']\n",
      "1: unmatched concept is: \"\" and its index is \"3\" out of 3\n",
      "new_concept = None\n",
      "373: search_media: A-2_Arquin_003_0349.jpg, no_match = ['portal']\n",
      "1: unmatched concept is: \"portal\" and its index is \"3\" out of 4\n",
      "new_concept = None\n",
      "374: search_media: A-2_Arquin_003_0353.jpg, no_match = ['portal']\n",
      "1: unmatched concept is: \"portal\" and its index is \"2\" out of 4\n",
      "new_concept = None\n",
      "375: search_media: A-2_Arquin_003_0354.jpg, no_match = ['portal']\n",
      "1: unmatched concept is: \"portal\" and its index is \"1\" out of 4\n",
      "new_concept = None\n",
      "376: search_media: A-2_Arquin_003_0357.jpg, no_match = ['portal']\n",
      "1: unmatched concept is: \"portal\" and its index is \"1\" out of 4\n",
      "new_concept = None\n",
      "432: search_media: A-3_Arquin_003_0113.jpg, no_match = ['plants (living organisims)']\n",
      "1: unmatched concept is: \"plants (living organisims)\" and its index is \"2\" out of 5\n",
      "new_concept = None\n",
      "438: search_media: A-3_Arquin_003_0119.jpg, no_match = ['portal']\n",
      "1: unmatched concept is: \"portal\" and its index is \"1\" out of 5\n",
      "new_concept = None\n",
      "447: search_media: A-3_Arquin_003_0141.jpg, no_match = ['']\n",
      "1: unmatched concept is: \"\" and its index is \"4\" out of 4\n",
      "new_concept = None\n",
      "464: search_media: A-3_Arquin_003_0176.jpg, no_match = ['portal']\n",
      "1: unmatched concept is: \"portal\" and its index is \"3\" out of 3\n",
      "new_concept = None\n",
      "465: search_media: A-3_Arquin_003_0177.jpg, no_match = ['portal']\n",
      "1: unmatched concept is: \"portal\" and its index is \"3\" out of 3\n",
      "new_concept = None\n",
      "472: search_media: A-3_Arquin_003_0219.jpg, no_match = ['']\n",
      "1: unmatched concept is: \"\" and its index is \"5\" out of 5\n",
      "new_concept = None\n",
      "473: search_media: A-3_Arquin_003_0221.jpg, no_match = ['']\n",
      "1: unmatched concept is: \"\" and its index is \"5\" out of 5\n",
      "new_concept = None\n",
      "474: search_media: A-3_Arquin_003_0222.jpg, no_match = ['']\n",
      "1: unmatched concept is: \"\" and its index is \"4\" out of 4\n",
      "new_concept = None\n",
      "478: search_media: A-3_Arquin_003_0226.jpg, no_match = ['mountains']\n",
      "1: unmatched concept is: \"mountains\" and its index is \"7\" out of 7\n",
      "new_concept = None\n",
      "479: search_media: A-3_Arquin_003_0227.jpg, no_match = ['mountains']\n",
      "1: unmatched concept is: \"mountains\" and its index is \"5\" out of 5\n",
      "new_concept = None\n",
      "480: search_media: A-3_Arquin_003_0228.jpg, no_match = ['mountains']\n",
      "1: unmatched concept is: \"mountains\" and its index is \"5\" out of 5\n",
      "new_concept = None\n",
      "481: search_media: A-3_Arquin_003_0229.jpg, no_match = ['mountains']\n",
      "1: unmatched concept is: \"mountains\" and its index is \"5\" out of 5\n",
      "new_concept = None\n",
      "482: search_media: A-3_Arquin_003_0230.jpg, no_match = ['mountains']\n",
      "1: unmatched concept is: \"mountains\" and its index is \"5\" out of 5\n",
      "new_concept = None\n",
      "498: search_media: A-3_Arquin_003_0255.jpg, no_match = ['portal']\n",
      "1: unmatched concept is: \"portal\" and its index is \"2\" out of 3\n",
      "new_concept = None\n",
      "499: search_media: A-3_Arquin_003_0256.jpg, no_match = ['portal']\n",
      "1: unmatched concept is: \"portal\" and its index is \"2\" out of 4\n",
      "new_concept = None\n",
      "500: search_media: A-3_Arquin_003_0257.jpg, no_match = ['portal']\n",
      "1: unmatched concept is: \"portal\" and its index is \"2\" out of 5\n",
      "new_concept = None\n",
      "648: search_media: A-4_Arquin_004_0085.jpg, no_match = ['gates']\n",
      "1: unmatched concept is: \"gates\" and its index is \"8\" out of 8\n",
      "new_concept = None\n",
      "658: search_media: A-4_Arquin_004_0127.jpg, no_match = ['dome or vault components']\n",
      "1: unmatched concept is: \"dome or vault components\" and its index is \"8\" out of 8\n",
      "pos is True\n",
      "new_concept found arch, dome or vault components... stop (press x)?x\n",
      "665: search_media: A-4_Arquin_004_0142.jpg, no_match = ['dome or vault components']\n",
      "1: unmatched concept is: \"dome or vault components\" and its index is \"7\" out of 10\n",
      "pos is True\n",
      "new_concept found arch, dome or vault components... stop (press x)?x\n",
      "666: search_media: A-4_Arquin_004_0143.jpg, no_match = ['dome or vault components']\n",
      "1: unmatched concept is: \"dome or vault components\" and its index is \"7\" out of 10\n",
      "pos is True\n"
     ]
    },
    {
     "ename": "KeyboardInterrupt",
     "evalue": "Interrupted by user",
     "output_type": "error",
     "traceback": [
      "\u001b[0;31m---------------------------------------------------------------------------\u001b[0m",
      "\u001b[0;31mKeyboardInterrupt\u001b[0m                         Traceback (most recent call last)",
      "\u001b[0;32m<ipython-input-92-37569fb3d834>\u001b[0m in \u001b[0;36m<module>\u001b[0;34m\u001b[0m\n\u001b[1;32m     37\u001b[0m                 \u001b[0;32mif\u001b[0m \u001b[0mlen\u001b[0m\u001b[0;34m(\u001b[0m\u001b[0mconcepts_found_pos\u001b[0m\u001b[0;34m)\u001b[0m \u001b[0;34m==\u001b[0m \u001b[0;36m1\u001b[0m\u001b[0;34m:\u001b[0m\u001b[0;34m\u001b[0m\u001b[0;34m\u001b[0m\u001b[0m\n\u001b[1;32m     38\u001b[0m                     \u001b[0mnew_concept\u001b[0m \u001b[0;34m=\u001b[0m \u001b[0mconcepts_found_pos\u001b[0m\u001b[0;34m.\u001b[0m\u001b[0mjoin_concept\u001b[0m\u001b[0;34m.\u001b[0m\u001b[0mto_list\u001b[0m\u001b[0;34m(\u001b[0m\u001b[0;34m)\u001b[0m\u001b[0;34m[\u001b[0m\u001b[0;36m0\u001b[0m\u001b[0;34m]\u001b[0m\u001b[0;34m\u001b[0m\u001b[0;34m\u001b[0m\u001b[0m\n\u001b[0;32m---> 39\u001b[0;31m                     \u001b[0mx\u001b[0m \u001b[0;34m=\u001b[0m \u001b[0minput\u001b[0m\u001b[0;34m(\u001b[0m\u001b[0;34mf'new_concept found {new_concept}... stop (press x)?'\u001b[0m\u001b[0;34m)\u001b[0m\u001b[0;34m\u001b[0m\u001b[0;34m\u001b[0m\u001b[0m\n\u001b[0m\u001b[1;32m     40\u001b[0m                     \u001b[0;32mif\u001b[0m \u001b[0mx\u001b[0m \u001b[0;34m==\u001b[0m \u001b[0;34m'x'\u001b[0m\u001b[0;34m:\u001b[0m\u001b[0;34m\u001b[0m\u001b[0;34m\u001b[0m\u001b[0m\n\u001b[1;32m     41\u001b[0m                         \u001b[0;32mbreak\u001b[0m\u001b[0;34m\u001b[0m\u001b[0;34m\u001b[0m\u001b[0m\n",
      "\u001b[0;32m~/opt/anaconda3/lib/python3.8/site-packages/ipykernel/kernelbase.py\u001b[0m in \u001b[0;36mraw_input\u001b[0;34m(self, prompt)\u001b[0m\n\u001b[1;32m    858\u001b[0m                 \u001b[0;34m\"raw_input was called, but this frontend does not support input requests.\"\u001b[0m\u001b[0;34m\u001b[0m\u001b[0;34m\u001b[0m\u001b[0m\n\u001b[1;32m    859\u001b[0m             )\n\u001b[0;32m--> 860\u001b[0;31m         return self._input_request(str(prompt),\n\u001b[0m\u001b[1;32m    861\u001b[0m             \u001b[0mself\u001b[0m\u001b[0;34m.\u001b[0m\u001b[0m_parent_ident\u001b[0m\u001b[0;34m,\u001b[0m\u001b[0;34m\u001b[0m\u001b[0;34m\u001b[0m\u001b[0m\n\u001b[1;32m    862\u001b[0m             \u001b[0mself\u001b[0m\u001b[0;34m.\u001b[0m\u001b[0m_parent_header\u001b[0m\u001b[0;34m,\u001b[0m\u001b[0;34m\u001b[0m\u001b[0;34m\u001b[0m\u001b[0m\n",
      "\u001b[0;32m~/opt/anaconda3/lib/python3.8/site-packages/ipykernel/kernelbase.py\u001b[0m in \u001b[0;36m_input_request\u001b[0;34m(self, prompt, ident, parent, password)\u001b[0m\n\u001b[1;32m    902\u001b[0m             \u001b[0;32mexcept\u001b[0m \u001b[0mKeyboardInterrupt\u001b[0m\u001b[0;34m:\u001b[0m\u001b[0;34m\u001b[0m\u001b[0;34m\u001b[0m\u001b[0m\n\u001b[1;32m    903\u001b[0m                 \u001b[0;31m# re-raise KeyboardInterrupt, to truncate traceback\u001b[0m\u001b[0;34m\u001b[0m\u001b[0;34m\u001b[0m\u001b[0;34m\u001b[0m\u001b[0m\n\u001b[0;32m--> 904\u001b[0;31m                 \u001b[0;32mraise\u001b[0m \u001b[0mKeyboardInterrupt\u001b[0m\u001b[0;34m(\u001b[0m\u001b[0;34m\"Interrupted by user\"\u001b[0m\u001b[0;34m)\u001b[0m \u001b[0;32mfrom\u001b[0m \u001b[0;32mNone\u001b[0m\u001b[0;34m\u001b[0m\u001b[0;34m\u001b[0m\u001b[0m\n\u001b[0m\u001b[1;32m    905\u001b[0m             \u001b[0;32mexcept\u001b[0m \u001b[0mException\u001b[0m \u001b[0;32mas\u001b[0m \u001b[0me\u001b[0m\u001b[0;34m:\u001b[0m\u001b[0;34m\u001b[0m\u001b[0;34m\u001b[0m\u001b[0m\n\u001b[1;32m    906\u001b[0m                 \u001b[0mself\u001b[0m\u001b[0;34m.\u001b[0m\u001b[0mlog\u001b[0m\u001b[0;34m.\u001b[0m\u001b[0mwarning\u001b[0m\u001b[0;34m(\u001b[0m\u001b[0;34m\"Invalid Message:\"\u001b[0m\u001b[0;34m,\u001b[0m \u001b[0mexc_info\u001b[0m\u001b[0;34m=\u001b[0m\u001b[0;32mTrue\u001b[0m\u001b[0;34m)\u001b[0m\u001b[0;34m\u001b[0m\u001b[0;34m\u001b[0m\u001b[0m\n",
      "\u001b[0;31mKeyboardInterrupt\u001b[0m: Interrupted by user"
     ]
    }
   ],
   "source": [
    "for i, search_media in enumerate(df_medias):\n",
    "    \n",
    "    try_match_neg = None\n",
    "    try_match_pos = None\n",
    "    \n",
    "    df_subjects = df[df['media'] == search_media].join_concept.to_list()\n",
    "    df_media_no_match = df[df['media'] == search_media].loc[df['SUBJECT_ID_x'].isna()]\n",
    "    \n",
    "    if len(df_media_no_match) > 0:\n",
    "        \n",
    "        no_match = df_media_no_match.join_concept.to_list()\n",
    "        print(f'{i}: search_media: {search_media}, no_match = {no_match}')\n",
    "        \n",
    "        for i, unmatched in enumerate(no_match):\n",
    "            pos = False\n",
    "            neg = False\n",
    "            new_concept = None\n",
    "            \n",
    "            no_match_index = df_subjects.index(unmatched)\n",
    "            print(f'{i+1}: unmatched concept is: \"{unmatched}\" and its index is \"{no_match_index}\" out of {len(df_subjects)-1}')\n",
    "            \n",
    "            if no_match_index > 0:\n",
    "                try_match_neg = df_subjects[no_match_index-1]+', '+df_subjects[no_match_index]\n",
    "                concepts_found_pos = concepts.loc[concepts['join_concept'] == try_match_neg]\n",
    "                if len(concepts_found_pos) > 0:\n",
    "                    pos = True\n",
    "                    print(f'pos is {pos}')\n",
    "            if no_match_index < len(df_subjects)-1:\n",
    "                try_match_pos = df_subjects[no_match_index]+', '+df_subjects[no_match_index+1]\n",
    "                concepts_found_neg = concepts.loc[concepts['join_concept'] == try_match_pos]\n",
    "                if len(concepts_found_neg) > 0:\n",
    "                    neg = True\n",
    "                    print(f'neg is {neg}')\n",
    "#             print(f'try_match_neg = \"{try_match_neg}\"\\ntry_match_pos = \"{try_match_pos}\"')\n",
    "            \n",
    "            try:\n",
    "                if len(concepts_found_pos) == 1:\n",
    "                    new_concept = concepts_found_pos.join_concept.to_list()[0]\n",
    "                    \n",
    "                        \n",
    "            except (NameError):\n",
    "                pass\n",
    "            try:\n",
    "                if len(concepts_found_neg) == 1:\n",
    "                    new_concept = concepts_found_neg.join_concept.to_list()[0]\n",
    "            except (NameError):\n",
    "                pass\n",
    "            try:\n",
    "                if (len(concepts_found_pos) > 0) & (len(concepts_found_neg) > 0):\n",
    "                    print('too many matches!')\n",
    "            except (NameError):\n",
    "                pass\n",
    "            try:\n",
    "                if (len(concepts_found_pos) == 0) & (len(concepts_found_neg) == 0):\n",
    "                    unmatched_df = df[(df['media'] == search_media) \n",
    "                                      & (df['join_concept'] == unmatched)][narrow_list]\n",
    "                    add_to_not_found(unmatched_df)\n",
    "            except (NameError):\n",
    "                pass\n",
    "                \n",
    "            print(f'new_concept = {new_concept}')      \n",
    "    "
   ]
  },
  {
   "cell_type": "code",
   "execution_count": 93,
   "id": "fb413ebf",
   "metadata": {},
   "outputs": [
    {
     "data": {
      "text/plain": [
       "'arch, dome or vault components'"
      ]
     },
     "execution_count": 93,
     "metadata": {},
     "output_type": "execute_result"
    }
   ],
   "source": [
    "new_concept"
   ]
  },
  {
   "cell_type": "code",
   "execution_count": null,
   "id": "69c0ab2d",
   "metadata": {},
   "outputs": [],
   "source": []
  }
 ],
 "metadata": {
  "kernelspec": {
   "display_name": "Python 3",
   "language": "python",
   "name": "python3"
  },
  "language_info": {
   "codemirror_mode": {
    "name": "ipython",
    "version": 3
   },
   "file_extension": ".py",
   "mimetype": "text/x-python",
   "name": "python",
   "nbconvert_exporter": "python",
   "pygments_lexer": "ipython3",
   "version": "3.8.8"
  }
 },
 "nbformat": 4,
 "nbformat_minor": 5
}
