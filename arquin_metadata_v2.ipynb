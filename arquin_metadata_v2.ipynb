{
 "cells": [
  {
   "cell_type": "code",
   "execution_count": 1,
   "id": "a6b2fa9d",
   "metadata": {},
   "outputs": [],
   "source": [
    "from IPython.display import clear_output\n",
    "import pandas as pd\n",
    "from pandas import Series\n",
    "import numpy as np\n",
    "import re\n",
    "import csv\n",
    "from gsheets import Sheets\n",
    "from datetime import datetime"
   ]
  },
  {
   "cell_type": "code",
   "execution_count": 2,
   "id": "8cb2b9c2",
   "metadata": {},
   "outputs": [],
   "source": [
    "url = 'https://docs.google.com/spreadsheets/d/1LRbios7yQRo3aqCh0Es2Wiae_dicg_OtL-_yqP-Tb8I/edit#gid=1718343431'"
   ]
  },
  {
   "cell_type": "markdown",
   "id": "25f0389e",
   "metadata": {},
   "source": [
    "## Create resusable lists for reference in data display or collection"
   ]
  },
  {
   "cell_type": "code",
   "execution_count": 30,
   "id": "07029bf1",
   "metadata": {},
   "outputs": [],
   "source": [
    "# lists used in the loading of the AAT Metadata\n",
    "terms_header_list = [\"AACR2_FLAG\", \"DISPLAY_DATE\", \"DISPLAY_NAME\", \"DISPLAY_ORDER\", \"END_DATE\", \"HISTORIC_FLAG\", \"OTHER_FLAGS\", \"PREFERRED\", \"START_DATE\", \"SUBJECT_ID\", \"TERM\", \"TERM_ID\", \"VERNACULAR\"]\n",
    "terms_dtype = {'TERM_ID': str, 'SUBJECT_ID' : str}\n",
    "lang_rels_header_list = [\"LANGUAGE_CODE\", \"PREFERRED\", \"SUBJECT_ID\", \"TERM_ID\", \"QUALIFIER\", \"TERM_TYPE\", \"PART_OF_SPEECH\", \"LANG_STAT\"]\n",
    "lang_rel_dtype = {'TERM_ID': str, 'SUBJECT_ID' : str, 'LANGUAGE_CODE': str}\n",
    "narrow_list = ['identifier', 'media', 'subject', 'title', 'subjects', 'SUBJECT_ID_x', 'TERM_ID', 'join_concept', 'BoxId', 'color']"
   ]
  },
  {
   "cell_type": "markdown",
   "id": "3b691d3f",
   "metadata": {},
   "source": [
    "## Functions"
   ]
  },
  {
   "cell_type": "code",
   "execution_count": 4,
   "id": "dc9a28f9",
   "metadata": {},
   "outputs": [],
   "source": [
    "# load metadata\n",
    "\n",
    "def load_metadata() -> pd.DataFrame:\n",
    "    \"\"\"load the metadata that will be used\n",
    "    files were downloaded from: http://aatdownloads.getty.edu/\n",
    "    \"\"\"\n",
    "    terms = read_aat_terms('./AAT_Files/TERM.out', terms_header_list, terms_dtype)\n",
    "    lang_rels = read_aat_terms('./AAT_Files/LANGUAGE_RELS.out', lang_rels_header_list, lang_rel_dtype)\n",
    "    concepts = (pd.merge(terms, lang_rels, how = 'inner', on='TERM_ID'))\n",
    "    concepts['full_concept'] = (concepts.TERM + ' (' + concepts.QUALIFIER + ')')\n",
    "    concepts['use_concept'] = (concepts.full_concept.fillna(concepts.TERM))\n",
    "    concepts['join_concept'] = (concepts.use_concept.str.lower())\n",
    "\n",
    "    return concepts"
   ]
  },
  {
   "cell_type": "code",
   "execution_count": 5,
   "id": "61b5351d",
   "metadata": {},
   "outputs": [],
   "source": [
    "def read_aat_terms(file_path: str, names: list, data_types: dict) -> pd.DataFrame:\n",
    "    data = pd.read_csv(file_path\n",
    "                       , sep = '\\t'\n",
    "                       , warn_bad_lines=True\n",
    "                       , error_bad_lines=False\n",
    "                       , names=names\n",
    "                       , dtype=data_types)\n",
    "    return data"
   ]
  },
  {
   "cell_type": "code",
   "execution_count": 6,
   "id": "9c5e8137",
   "metadata": {},
   "outputs": [],
   "source": [
    "# get box data by box number (as an integer)\n",
    "\n",
    "def return_box(box_num: int) -> pd.DataFrame:\n",
    "    box_id = f'Box {str(box_num)}'\n",
    "    df = s.find(box_id).to_frame()\n",
    "    df = format_column_names(df)\n",
    "    return df"
   ]
  },
  {
   "cell_type": "code",
   "execution_count": 7,
   "id": "69b1d25a",
   "metadata": {},
   "outputs": [],
   "source": [
    "# get column names in the correct format during the retrieval of box data\n",
    "\n",
    "def format_column_names(df: pd.DataFrame) -> pd.DataFrame:\n",
    "    column_names = list(map(lambda x: x.strip().lower().replace(\"dcterms:\", \"\"), df.columns))\n",
    "    df = df.set_axis(column_names, axis=1, inplace=False)\n",
    "    return df"
   ]
  },
  {
   "cell_type": "code",
   "execution_count": 8,
   "id": "1d63e0c0",
   "metadata": {},
   "outputs": [],
   "source": [
    "def split_df(df: pd.DataFrame) -> pd.DataFrame:\n",
    "    \"\"\"given a dataframe with multiple concepts specified, splits them and returns them \n",
    "    as one row per concept\n",
    "    \"\"\"\n",
    "    split_df = df['subject'].str.split(',', expand=True).apply(Series, 1).stack()\n",
    "    split_df.index = split_df.index.droplevel(-1)\n",
    "    split_df.name = 'subjects'\n",
    "\n",
    "    x = df.join(split_df)\n",
    "    x['subjects'] = x['subjects'].str.strip()\n",
    "    x['join_concept'] = x['subjects'].str.lower()\n",
    "    \n",
    "    return x"
   ]
  },
  {
   "cell_type": "code",
   "execution_count": 9,
   "id": "e6a5719e",
   "metadata": {},
   "outputs": [],
   "source": [
    "def terminate() -> str:\n",
    "    \"\"\"\n",
    "    check to see if we should stop or continue the loop\n",
    "    \n",
    "    \"\"\"\n",
    "    \n",
    "    terminate = input(\"Press 'X' key to terminate the program\")\n",
    "    if terminate == 'X':\n",
    "        print('stopping')\n",
    "    return terminate"
   ]
  },
  {
   "cell_type": "code",
   "execution_count": 10,
   "id": "a0ca40e6",
   "metadata": {},
   "outputs": [],
   "source": [
    "def combine_boxes(df1: pd.DataFrame, df2: pd.DataFrame) -> pd.DataFrame:\n",
    "    \"\"\"assuming df1 and df2 are dataframes with same schema, combines them and returns them\"\"\"\n",
    "    df_concat = pd.concat([df1, df2])\n",
    "    return df_concat"
   ]
  },
  {
   "cell_type": "code",
   "execution_count": 11,
   "id": "641dee2d",
   "metadata": {},
   "outputs": [],
   "source": [
    "def add_to_not_found(df: pd.DataFrame):\n",
    "    \"\"\"write to a csv the records that could not be matched\"\"\"\n",
    "    \n",
    "    file_name = 'csv_files/unmatched_subjects_v2.csv'\n",
    "    \n",
    "    try:\n",
    "        old_df = pd.read_csv(file_name, header=0, index_col=False)\n",
    "        combined_df = pd.concat([old_df, df])\n",
    "    except(FileNotFoundError):\n",
    "        combined_df = df\n",
    "    \n",
    "    combined_df.to_csv(file_name, index=False, quoting=csv.QUOTE_ALL)"
   ]
  },
  {
   "cell_type": "markdown",
   "id": "56df33e0",
   "metadata": {},
   "source": [
    "## Load the spreadsheet information"
   ]
  },
  {
   "cell_type": "code",
   "execution_count": 12,
   "id": "ad55855e",
   "metadata": {},
   "outputs": [],
   "source": [
    "# if HttpAccessTokenRefreshError, close everything and start over\n",
    "sheets = Sheets.from_files('~/client_secrets.json', '~/storage.json')\n",
    "s = sheets.get(url)"
   ]
  },
  {
   "cell_type": "code",
   "execution_count": 354,
   "id": "8ef8cb04",
   "metadata": {},
   "outputs": [],
   "source": [
    "# get the list of boxes containing metadata\n",
    "\n",
    "box_list = []\n",
    "box_list_sheets = s.sheets.titles()\n",
    "\n",
    "for b in box_list_sheets:\n",
    "    if 'Box' in b:\n",
    "        box_list.append(int(b[4:]))"
   ]
  },
  {
   "cell_type": "markdown",
   "id": "7321e297",
   "metadata": {},
   "source": [
    "## Load the Metadata from Getty AAT\n",
    "\n",
    "Individual AAT Terms can be seen here:\n",
    "https://www.getty.edu/research/tools/vocabularies/aat/\n",
    "\n",
    "We use the .Out files available below for consuming the data - these are batch released so terms in the .Out files may note be availalbe on the AAT search (link above) or vice-versa:\n",
    "http://aatdownloads.getty.edu/\n",
    "\n",
    "Note that when we load files, we join the LANGUAGE_RELS.out and TERM.out files and combine the term and and the qualifier to create the \"subjects\" and \"join_concepts\"\n",
    "\n",
    "The join_concept ensures the case for the term is all lower case\n",
    "\n",
    "We also create a \"full_concept\" but doesn't handle the NULL case well and shouldn't be used for analysis"
   ]
  },
  {
   "cell_type": "code",
   "execution_count": 14,
   "id": "7bf69ae4",
   "metadata": {},
   "outputs": [
    {
     "name": "stderr",
     "output_type": "stream",
     "text": [
      "/Users/ethan.fenichel/opt/anaconda3/lib/python3.8/site-packages/IPython/core/interactiveshell.py:3437: DtypeWarning: Columns (4) have mixed types.Specify dtype option on import or set low_memory=False.\n",
      "  exec(code_obj, self.user_global_ns, self.user_ns)\n"
     ]
    }
   ],
   "source": [
    "concepts = load_metadata()"
   ]
  },
  {
   "cell_type": "code",
   "execution_count": 15,
   "id": "8205a8fd",
   "metadata": {},
   "outputs": [],
   "source": [
    "# review the metadata for concepts containing a comma and return those as a list\n",
    "concepts_drop = concepts[concepts['use_concept'].notna()]\n",
    "concepts_search = concepts_drop[concepts_drop['use_concept'].str.contains(',')]\n",
    "concepts_comma = concepts_search['use_concept'].to_list()"
   ]
  },
  {
   "cell_type": "code",
   "execution_count": 16,
   "id": "cf724798",
   "metadata": {
    "scrolled": true
   },
   "outputs": [
    {
     "data": {
      "text/html": [
       "<div>\n",
       "<style scoped>\n",
       "    .dataframe tbody tr th:only-of-type {\n",
       "        vertical-align: middle;\n",
       "    }\n",
       "\n",
       "    .dataframe tbody tr th {\n",
       "        vertical-align: top;\n",
       "    }\n",
       "\n",
       "    .dataframe thead th {\n",
       "        text-align: right;\n",
       "    }\n",
       "</style>\n",
       "<table border=\"1\" class=\"dataframe\">\n",
       "  <thead>\n",
       "    <tr style=\"text-align: right;\">\n",
       "      <th></th>\n",
       "      <th>AACR2_FLAG</th>\n",
       "      <th>DISPLAY_DATE</th>\n",
       "      <th>DISPLAY_NAME</th>\n",
       "      <th>DISPLAY_ORDER</th>\n",
       "      <th>END_DATE</th>\n",
       "      <th>HISTORIC_FLAG</th>\n",
       "      <th>OTHER_FLAGS</th>\n",
       "      <th>PREFERRED_x</th>\n",
       "      <th>START_DATE</th>\n",
       "      <th>SUBJECT_ID_x</th>\n",
       "      <th>...</th>\n",
       "      <th>LANGUAGE_CODE</th>\n",
       "      <th>PREFERRED_y</th>\n",
       "      <th>SUBJECT_ID_y</th>\n",
       "      <th>QUALIFIER</th>\n",
       "      <th>TERM_TYPE</th>\n",
       "      <th>PART_OF_SPEECH</th>\n",
       "      <th>LANG_STAT</th>\n",
       "      <th>full_concept</th>\n",
       "      <th>use_concept</th>\n",
       "      <th>join_concept</th>\n",
       "    </tr>\n",
       "  </thead>\n",
       "  <tbody>\n",
       "    <tr>\n",
       "      <th>0</th>\n",
       "      <td>NaN</td>\n",
       "      <td>NaN</td>\n",
       "      <td>NaN</td>\n",
       "      <td>3.0</td>\n",
       "      <td>NaN</td>\n",
       "      <td>C</td>\n",
       "      <td>NaN</td>\n",
       "      <td>V</td>\n",
       "      <td>NaN</td>\n",
       "      <td>300022903</td>\n",
       "      <td>...</td>\n",
       "      <td>70051</td>\n",
       "      <td>N</td>\n",
       "      <td>300022903</td>\n",
       "      <td>NaN</td>\n",
       "      <td>UF</td>\n",
       "      <td>U</td>\n",
       "      <td>U</td>\n",
       "      <td>NaN</td>\n",
       "      <td>knives, gauge</td>\n",
       "      <td>knives, gauge</td>\n",
       "    </tr>\n",
       "    <tr>\n",
       "      <th>1</th>\n",
       "      <td>NaN</td>\n",
       "      <td>NaN</td>\n",
       "      <td>NaN</td>\n",
       "      <td>1.0</td>\n",
       "      <td>NaN</td>\n",
       "      <td>C</td>\n",
       "      <td>NaN</td>\n",
       "      <td>P</td>\n",
       "      <td>NaN</td>\n",
       "      <td>300022904</td>\n",
       "      <td>...</td>\n",
       "      <td>70051</td>\n",
       "      <td>P</td>\n",
       "      <td>300022904</td>\n",
       "      <td>NaN</td>\n",
       "      <td>D</td>\n",
       "      <td>PN</td>\n",
       "      <td>U</td>\n",
       "      <td>NaN</td>\n",
       "      <td>hand knives</td>\n",
       "      <td>hand knives</td>\n",
       "    </tr>\n",
       "    <tr>\n",
       "      <th>2</th>\n",
       "      <td>NaN</td>\n",
       "      <td>NaN</td>\n",
       "      <td>NaN</td>\n",
       "      <td>2.0</td>\n",
       "      <td>NaN</td>\n",
       "      <td>C</td>\n",
       "      <td>NaN</td>\n",
       "      <td>V</td>\n",
       "      <td>NaN</td>\n",
       "      <td>300022904</td>\n",
       "      <td>...</td>\n",
       "      <td>70051</td>\n",
       "      <td>N</td>\n",
       "      <td>300022904</td>\n",
       "      <td>NaN</td>\n",
       "      <td>AD</td>\n",
       "      <td>SN</td>\n",
       "      <td>U</td>\n",
       "      <td>NaN</td>\n",
       "      <td>hand knife</td>\n",
       "      <td>hand knife</td>\n",
       "    </tr>\n",
       "    <tr>\n",
       "      <th>3</th>\n",
       "      <td>NaN</td>\n",
       "      <td>NaN</td>\n",
       "      <td>NaN</td>\n",
       "      <td>3.0</td>\n",
       "      <td>NaN</td>\n",
       "      <td>C</td>\n",
       "      <td>NaN</td>\n",
       "      <td>V</td>\n",
       "      <td>NaN</td>\n",
       "      <td>300022904</td>\n",
       "      <td>...</td>\n",
       "      <td>70051</td>\n",
       "      <td>N</td>\n",
       "      <td>300022904</td>\n",
       "      <td>NaN</td>\n",
       "      <td>UF</td>\n",
       "      <td>U</td>\n",
       "      <td>U</td>\n",
       "      <td>NaN</td>\n",
       "      <td>knives, hand</td>\n",
       "      <td>knives, hand</td>\n",
       "    </tr>\n",
       "    <tr>\n",
       "      <th>4</th>\n",
       "      <td>NaN</td>\n",
       "      <td>NaN</td>\n",
       "      <td>NaN</td>\n",
       "      <td>1.0</td>\n",
       "      <td>NaN</td>\n",
       "      <td>C</td>\n",
       "      <td>NaN</td>\n",
       "      <td>P</td>\n",
       "      <td>NaN</td>\n",
       "      <td>300022905</td>\n",
       "      <td>...</td>\n",
       "      <td>70051</td>\n",
       "      <td>P</td>\n",
       "      <td>300022905</td>\n",
       "      <td>NaN</td>\n",
       "      <td>D</td>\n",
       "      <td>PN</td>\n",
       "      <td>U</td>\n",
       "      <td>NaN</td>\n",
       "      <td>hawkbill knives</td>\n",
       "      <td>hawkbill knives</td>\n",
       "    </tr>\n",
       "    <tr>\n",
       "      <th>...</th>\n",
       "      <td>...</td>\n",
       "      <td>...</td>\n",
       "      <td>...</td>\n",
       "      <td>...</td>\n",
       "      <td>...</td>\n",
       "      <td>...</td>\n",
       "      <td>...</td>\n",
       "      <td>...</td>\n",
       "      <td>...</td>\n",
       "      <td>...</td>\n",
       "      <td>...</td>\n",
       "      <td>...</td>\n",
       "      <td>...</td>\n",
       "      <td>...</td>\n",
       "      <td>...</td>\n",
       "      <td>...</td>\n",
       "      <td>...</td>\n",
       "      <td>...</td>\n",
       "      <td>...</td>\n",
       "      <td>...</td>\n",
       "      <td>...</td>\n",
       "    </tr>\n",
       "    <tr>\n",
       "      <th>483188</th>\n",
       "      <td>NaN</td>\n",
       "      <td>NaN</td>\n",
       "      <td>NaN</td>\n",
       "      <td>1.0</td>\n",
       "      <td>NaN</td>\n",
       "      <td>C</td>\n",
       "      <td>NaN</td>\n",
       "      <td>P</td>\n",
       "      <td>NaN</td>\n",
       "      <td>300430882</td>\n",
       "      <td>...</td>\n",
       "      <td>70051</td>\n",
       "      <td>P</td>\n",
       "      <td>300430882</td>\n",
       "      <td>NaN</td>\n",
       "      <td>D</td>\n",
       "      <td>U</td>\n",
       "      <td>U</td>\n",
       "      <td>NaN</td>\n",
       "      <td>prophylactics</td>\n",
       "      <td>prophylactics</td>\n",
       "    </tr>\n",
       "    <tr>\n",
       "      <th>483189</th>\n",
       "      <td>NaN</td>\n",
       "      <td>NaN</td>\n",
       "      <td>NaN</td>\n",
       "      <td>1.0</td>\n",
       "      <td>NaN</td>\n",
       "      <td>C</td>\n",
       "      <td>NaN</td>\n",
       "      <td>P</td>\n",
       "      <td>NaN</td>\n",
       "      <td>300434048</td>\n",
       "      <td>...</td>\n",
       "      <td>70051</td>\n",
       "      <td>P</td>\n",
       "      <td>300434048</td>\n",
       "      <td>NaN</td>\n",
       "      <td>D</td>\n",
       "      <td>PN</td>\n",
       "      <td>U</td>\n",
       "      <td>NaN</td>\n",
       "      <td>styptic pencils</td>\n",
       "      <td>styptic pencils</td>\n",
       "    </tr>\n",
       "    <tr>\n",
       "      <th>483190</th>\n",
       "      <td>NaN</td>\n",
       "      <td>NaN</td>\n",
       "      <td>NaN</td>\n",
       "      <td>1.0</td>\n",
       "      <td>NaN</td>\n",
       "      <td>C</td>\n",
       "      <td>NaN</td>\n",
       "      <td>P</td>\n",
       "      <td>NaN</td>\n",
       "      <td>300434776</td>\n",
       "      <td>...</td>\n",
       "      <td>70051</td>\n",
       "      <td>P</td>\n",
       "      <td>300434776</td>\n",
       "      <td>NaN</td>\n",
       "      <td>D</td>\n",
       "      <td>PN</td>\n",
       "      <td>U</td>\n",
       "      <td>NaN</td>\n",
       "      <td>tissues</td>\n",
       "      <td>tissues</td>\n",
       "    </tr>\n",
       "    <tr>\n",
       "      <th>483191</th>\n",
       "      <td>NaN</td>\n",
       "      <td>NaN</td>\n",
       "      <td>NaN</td>\n",
       "      <td>1.0</td>\n",
       "      <td>NaN</td>\n",
       "      <td>C</td>\n",
       "      <td>NaN</td>\n",
       "      <td>P</td>\n",
       "      <td>NaN</td>\n",
       "      <td>300431243</td>\n",
       "      <td>...</td>\n",
       "      <td>70051</td>\n",
       "      <td>P</td>\n",
       "      <td>300431243</td>\n",
       "      <td>NaN</td>\n",
       "      <td>D</td>\n",
       "      <td>PN</td>\n",
       "      <td>U</td>\n",
       "      <td>NaN</td>\n",
       "      <td>towelettes</td>\n",
       "      <td>towelettes</td>\n",
       "    </tr>\n",
       "    <tr>\n",
       "      <th>483192</th>\n",
       "      <td>NaN</td>\n",
       "      <td>NaN</td>\n",
       "      <td>NaN</td>\n",
       "      <td>1.0</td>\n",
       "      <td>NaN</td>\n",
       "      <td>C</td>\n",
       "      <td>NaN</td>\n",
       "      <td>P</td>\n",
       "      <td>NaN</td>\n",
       "      <td>300432605</td>\n",
       "      <td>...</td>\n",
       "      <td>70051</td>\n",
       "      <td>P</td>\n",
       "      <td>300432605</td>\n",
       "      <td>NaN</td>\n",
       "      <td>D</td>\n",
       "      <td>PN</td>\n",
       "      <td>U</td>\n",
       "      <td>NaN</td>\n",
       "      <td>washcloths</td>\n",
       "      <td>washcloths</td>\n",
       "    </tr>\n",
       "  </tbody>\n",
       "</table>\n",
       "<p>483188 rows × 23 columns</p>\n",
       "</div>"
      ],
      "text/plain": [
       "       AACR2_FLAG DISPLAY_DATE DISPLAY_NAME  DISPLAY_ORDER END_DATE  \\\n",
       "0             NaN          NaN          NaN            3.0      NaN   \n",
       "1             NaN          NaN          NaN            1.0      NaN   \n",
       "2             NaN          NaN          NaN            2.0      NaN   \n",
       "3             NaN          NaN          NaN            3.0      NaN   \n",
       "4             NaN          NaN          NaN            1.0      NaN   \n",
       "...           ...          ...          ...            ...      ...   \n",
       "483188        NaN          NaN          NaN            1.0      NaN   \n",
       "483189        NaN          NaN          NaN            1.0      NaN   \n",
       "483190        NaN          NaN          NaN            1.0      NaN   \n",
       "483191        NaN          NaN          NaN            1.0      NaN   \n",
       "483192        NaN          NaN          NaN            1.0      NaN   \n",
       "\n",
       "       HISTORIC_FLAG OTHER_FLAGS PREFERRED_x  START_DATE SUBJECT_ID_x  ...  \\\n",
       "0                  C         NaN           V         NaN    300022903  ...   \n",
       "1                  C         NaN           P         NaN    300022904  ...   \n",
       "2                  C         NaN           V         NaN    300022904  ...   \n",
       "3                  C         NaN           V         NaN    300022904  ...   \n",
       "4                  C         NaN           P         NaN    300022905  ...   \n",
       "...              ...         ...         ...         ...          ...  ...   \n",
       "483188             C         NaN           P         NaN    300430882  ...   \n",
       "483189             C         NaN           P         NaN    300434048  ...   \n",
       "483190             C         NaN           P         NaN    300434776  ...   \n",
       "483191             C         NaN           P         NaN    300431243  ...   \n",
       "483192             C         NaN           P         NaN    300432605  ...   \n",
       "\n",
       "       LANGUAGE_CODE PREFERRED_y SUBJECT_ID_y QUALIFIER TERM_TYPE  \\\n",
       "0              70051           N    300022903       NaN        UF   \n",
       "1              70051           P    300022904       NaN         D   \n",
       "2              70051           N    300022904       NaN        AD   \n",
       "3              70051           N    300022904       NaN        UF   \n",
       "4              70051           P    300022905       NaN         D   \n",
       "...              ...         ...          ...       ...       ...   \n",
       "483188         70051           P    300430882       NaN         D   \n",
       "483189         70051           P    300434048       NaN         D   \n",
       "483190         70051           P    300434776       NaN         D   \n",
       "483191         70051           P    300431243       NaN         D   \n",
       "483192         70051           P    300432605       NaN         D   \n",
       "\n",
       "       PART_OF_SPEECH LANG_STAT full_concept      use_concept     join_concept  \n",
       "0                   U         U          NaN    knives, gauge    knives, gauge  \n",
       "1                  PN         U          NaN      hand knives      hand knives  \n",
       "2                  SN         U          NaN       hand knife       hand knife  \n",
       "3                   U         U          NaN     knives, hand     knives, hand  \n",
       "4                  PN         U          NaN  hawkbill knives  hawkbill knives  \n",
       "...               ...       ...          ...              ...              ...  \n",
       "483188              U         U          NaN    prophylactics    prophylactics  \n",
       "483189             PN         U          NaN  styptic pencils  styptic pencils  \n",
       "483190             PN         U          NaN          tissues          tissues  \n",
       "483191             PN         U          NaN       towelettes       towelettes  \n",
       "483192             PN         U          NaN       washcloths       washcloths  \n",
       "\n",
       "[483188 rows x 23 columns]"
      ]
     },
     "execution_count": 16,
     "metadata": {},
     "output_type": "execute_result"
    }
   ],
   "source": [
    "concepts[concepts['join_concept'].notna()]"
   ]
  },
  {
   "cell_type": "markdown",
   "id": "aedbbf93",
   "metadata": {},
   "source": [
    "### Consider comma cases\n",
    "\n",
    "given that we'll parse the created Arquin metadata by comma, we need to handle cases where the subject term, aka concept, contains an internal comma (e.g. \"knives, gauge\"). These will need to be parsed carfully for two reasons:\n",
    "\n",
    "1.) The comma could falsely parse the concept\n",
    "\n",
    "2.) The individual components of the concept could be valid AAT terms, too... eg. \"knives, gauge\" Both \"knives\" and \"gauge\" are valid AAT terms while so is \"knives, gauge\". Knowing what the metata analyst intended in this case is highly difficult to determine. "
   ]
  },
  {
   "cell_type": "code",
   "execution_count": 17,
   "id": "d8aed9f4",
   "metadata": {},
   "outputs": [
    {
     "data": {
      "text/plain": [
       "['knives, gauge',\n",
       " 'knives, hand',\n",
       " 'knives, hawkbill',\n",
       " 'mill, feed',\n",
       " 'mills, feed',\n",
       " 'reports, congressional committee',\n",
       " 'bills, House of Commons',\n",
       " 'bills, House of Lords',\n",
       " 'charts, bathymetric',\n",
       " 'looms, warp-weighted']"
      ]
     },
     "execution_count": 17,
     "metadata": {},
     "output_type": "execute_result"
    }
   ],
   "source": [
    "# display a sample of concepts_comma\n",
    "concepts_comma[0:10]"
   ]
  },
  {
   "cell_type": "code",
   "execution_count": 18,
   "id": "aac7559d",
   "metadata": {},
   "outputs": [
    {
     "name": "stdout",
     "output_type": "stream",
     "text": [
      "There are 211 concepts that have more than 1 comma\n"
     ]
    }
   ],
   "source": [
    "# identify the risk of concepts that have multiple commas in them\n",
    "\n",
    "multi_commas_list = []\n",
    "for concept in concepts_comma:\n",
    "    x = concept.count(',')\n",
    "    if x > 1:\n",
    "        multi_commas_list.append(concept)\n",
    "\n",
    "print(f'There are {len(multi_commas_list)} concepts that have more than 1 comma')"
   ]
  },
  {
   "cell_type": "code",
   "execution_count": 19,
   "id": "0b13656c",
   "metadata": {},
   "outputs": [
    {
     "data": {
      "text/plain": [
       "['Zhou, Northern (culture, style, and period)',\n",
       " 'Liang (culture, style, period)',\n",
       " 'Animal, Early, Style',\n",
       " 'Animal, Late, Style',\n",
       " 'Ripe, Animal, Late',\n",
       " 'Animal, Middle, Style',\n",
       " 'Eastern Zambian, Zimbabwe, and Western Mozambique styles',\n",
       " 'Jin (Six Dynasties, culture, style, and period)',\n",
       " 'Chin (Six Dynasties, culture, style, and period)',\n",
       " 'Later Liang (Five Dynasties, Chinese style, culture, period)']"
      ]
     },
     "execution_count": 19,
     "metadata": {},
     "output_type": "execute_result"
    }
   ],
   "source": [
    "# show a sample of the concepts with more than 1 comma\n",
    "multi_commas_list[34:44]"
   ]
  },
  {
   "cell_type": "markdown",
   "id": "dfdc64a3",
   "metadata": {},
   "source": [
    "## Begin parsing the subjects in the boxes\n",
    "\n",
    "This process will parse the subjects and then evaluate them.\n",
    "\n",
    "1. parse the subjects by comma (really a comma+space, ', ')\n",
    "2. for all the subjects associated with a given media id, validate that they each match an AAT join_concept\n",
    "3. If yes, move on to the next media id\n",
    "4. If a parsed join_concept fails to match an AAT Term, identify the order of that term in the series of subjects (e.g. if there are 5 parsed terms in the set of 'subject', and 1, 2, and 5 match an AAT term). Then combine the nearest term with a subject (3 and 4 from the example) and see if that term matches AAT.\n",
    "5. If yes (in 4), remove subjects 3 and 4 and replace with the combined 3 & 4. \n",
    "6. If no (in 4), log the unmatched terms for further analysis"
   ]
  },
  {
   "cell_type": "markdown",
   "id": "5abd595d",
   "metadata": {},
   "source": [
    "## Develop the flow for this to work in an interation"
   ]
  },
  {
   "cell_type": "code",
   "execution_count": 345,
   "id": "420efe62",
   "metadata": {},
   "outputs": [],
   "source": [
    "# box_list = [7]"
   ]
  },
  {
   "cell_type": "code",
   "execution_count": 370,
   "id": "fec24cea",
   "metadata": {},
   "outputs": [
    {
     "name": "stdout",
     "output_type": "stream",
     "text": [
      "complete, imported 69 boxes\n"
     ]
    }
   ],
   "source": [
    "# load all the boxes and split them\n",
    "for i, box_number in enumerate(box_list):\n",
    "    df = return_box(box_number)\n",
    "    clear_output(wait=True)\n",
    "    print(f\"working on Box {box_number}\")\n",
    "    \n",
    "    try:\n",
    "        df = split_df(df)\n",
    "    except:\n",
    "        print(f'failed to split df for box number {box_number}')\n",
    "\n",
    "    if i+1 == 1:\n",
    "        df_combined = df\n",
    "    else:\n",
    "        df_combined = combine_boxes(df_combined, df)\n",
    " \n",
    "clear_output(wait=True)    \n",
    "\n",
    "df = df_combined\n",
    "df = df.drop(df[df['subjects'] == ''].index)\n",
    "print(f'complete, imported {i+1} boxes')"
   ]
  },
  {
   "cell_type": "code",
   "execution_count": 371,
   "id": "870ccdeb",
   "metadata": {},
   "outputs": [],
   "source": [
    "# join the df with the concepts\n",
    "df = pd.merge(df, concepts, how=\"left\", on='join_concept')"
   ]
  },
  {
   "cell_type": "code",
   "execution_count": 372,
   "id": "0581b078",
   "metadata": {},
   "outputs": [],
   "source": [
    "# get the boxid\n",
    "df['boxid_temp'] = df['media'].str.extract(r\"(_0\\d+_)\")\n",
    "df = df[df['media'].notna()]\n",
    "df['boxid_temp'] = df['boxid_temp'].str.replace(\"_\",\"\")\n",
    "df['boxid_temp'] = pd.to_numeric(df['boxid_temp'], errors='coerce')\n",
    "df = df.dropna(subset=['boxid_temp'])\n",
    "df['boxid_temp'] = df['boxid_temp'].astype('int')\n",
    "df['boxid_temp'] = df['boxid_temp'].astype('str')\n",
    "df['BoxId'] = 'Box '+df['boxid_temp']\n",
    "df.drop('boxid_temp', inplace=True, axis=1)"
   ]
  },
  {
   "cell_type": "markdown",
   "id": "415653d7",
   "metadata": {},
   "source": [
    "## Add in Tab Color\n",
    "\n",
    "The colors of each tab are identified in 'get_spreadsheets_color.ipynb'. That script creates a CSV file and that is read in and added to the df_combined object\n",
    "\n",
    "Read in the color match file created here:\n",
    "http://localhost:8888/notebooks/get_spreadsheets.ipynb\n",
    "\n",
    "use that to create the list of titles based on color of the tab"
   ]
  },
  {
   "cell_type": "code",
   "execution_count": 373,
   "id": "e5482d47",
   "metadata": {},
   "outputs": [],
   "source": [
    "color_match_df = pd.read_csv('csv_files/color_match', sep='\\t')"
   ]
  },
  {
   "cell_type": "code",
   "execution_count": 374,
   "id": "5c8c2f00",
   "metadata": {},
   "outputs": [],
   "source": [
    "df = pd.merge(df, color_match_df, on='BoxId')"
   ]
  },
  {
   "cell_type": "code",
   "execution_count": 375,
   "id": "e83a114d",
   "metadata": {},
   "outputs": [],
   "source": [
    "# df = df[df['media'] == 'B-1_Arquin_007_0257.jpg']\n",
    "# df[narrow_list]"
   ]
  },
  {
   "cell_type": "code",
   "execution_count": 376,
   "id": "a3e30072",
   "metadata": {},
   "outputs": [],
   "source": [
    "# get all the unique media IDs where media is not NA \n",
    "df_medias = df.media.dropna().unique()"
   ]
  },
  {
   "cell_type": "code",
   "execution_count": 377,
   "id": "2054a5d1",
   "metadata": {},
   "outputs": [
    {
     "name": "stdout",
     "output_type": "stream",
     "text": [
      "7500 of 7501: search_media = Arquin_069_0217.jpg\n"
     ]
    }
   ],
   "source": [
    "df_medias_len = len(df_medias)\n",
    "\n",
    "for i, search_media in enumerate(df_medias):\n",
    "    clear_output(wait=True) \n",
    "    print(f'{i} of {df_medias_len}: search_media = {search_media}')\n",
    "#     x = input('step 1: press any key to continue... ')\n",
    "    \n",
    "    try_match_neg = None\n",
    "    try_match_pos = None\n",
    "    cancel_repeat = False\n",
    "    concepts_found_pos = []\n",
    "    concepts_found_neg = []\n",
    "    \n",
    "    df_subjects = df[df['media'] == search_media].join_concept.to_list()\n",
    "    df_media_no_match = df[df['media'] == search_media].loc[df['SUBJECT_ID_x'].isna()]\n",
    "#     print(f'{i}: search_media = {search_media}, df_media_no_match = {df_media_no_match}')\n",
    "#     x = input('press any key to continue... ')\n",
    "    \n",
    "    if len(df_media_no_match) > 0:\n",
    "#         print(f'{i}: search_media = {search_media}, passed len(df_media_no_match) > 0 ')\n",
    "#         x = input('step 2: press any key to continue... ')\n",
    "        \n",
    "        \n",
    "        no_match = df_media_no_match.join_concept.to_list()\n",
    "#         print(f'{i}: search_media: {search_media}, no_match = {no_match}')\n",
    "        \n",
    "        for i, unmatched in enumerate(no_match):\n",
    "#             print(f'{i}: unmatched = {unmatched}, remove_con = {remove_con}')\n",
    "#             x = input('step 3: press any key to continue... ')\n",
    "#             if cancel_repeat == True:\n",
    "#                 break\n",
    "            \n",
    "            if i > 0:\n",
    "                if unmatched == remove_this_con:\n",
    "#                     print(f'already removed {remove_con} from  {search_media}')\n",
    "#                     x = input(f'step 4: it worked! Continue? (press x)')\n",
    "#                     cancel_repeat = True\n",
    "                    break\n",
    "            \n",
    "            pos = False\n",
    "            neg = False\n",
    "            new_concept = None\n",
    "            pop_index = None\n",
    "            \n",
    "            no_match_index = df_subjects.index(unmatched)\n",
    "#             print(f'step 5: {i+1}: unmatched concept is: \"{unmatched}\" and its index is \"{no_match_index}\" out of {len(df_subjects)-1}')\n",
    "            \n",
    "            if no_match_index > 0:\n",
    "                try_match_neg = df_subjects[no_match_index-1]+', '+df_subjects[no_match_index]\n",
    "                concepts_found_pos = concepts.loc[concepts['join_concept'] == try_match_neg]\n",
    "                if len(concepts_found_pos) > 0:\n",
    "                    pos = True\n",
    "#                     print(f'pos is {pos}')\n",
    "            if no_match_index < len(df_subjects)-1:\n",
    "                try_match_pos = df_subjects[no_match_index]+', '+df_subjects[no_match_index+1]\n",
    "                concepts_found_neg = concepts.loc[concepts['join_concept'] == try_match_pos]\n",
    "                if len(concepts_found_neg) > 0:\n",
    "                    neg = True\n",
    "#                     print(f'neg is {neg}')\n",
    "#             print(f'try_match_neg = \"{try_match_neg}\"\\ntry_match_pos = \"{try_match_pos}\"')\n",
    "            \n",
    "            try:\n",
    "                if len(concepts_found_pos) == 1:\n",
    "                    new_concept = concepts_found_pos.join_concept.to_list()[0]\n",
    "                    \n",
    "                        \n",
    "            except (NameError):\n",
    "                pass\n",
    "            try:\n",
    "                if len(concepts_found_neg) == 1:\n",
    "                    new_concept = concepts_found_neg.join_concept.to_list()[0]\n",
    "            except (NameError):\n",
    "                pass\n",
    "            try:\n",
    "                if (len(concepts_found_pos) > 0) & (len(concepts_found_neg) > 0):\n",
    "                    print('too many matches!')\n",
    "                    pass\n",
    "            except (NameError):\n",
    "                pass\n",
    "            try:\n",
    "                if (len(concepts_found_pos) == 0) & (len(concepts_found_neg) == 0):\n",
    "                    unmatched_df = df[(df['media'] == search_media) \n",
    "                                      & (df['join_concept'] == unmatched)][narrow_list]\n",
    "                    add_to_not_found(unmatched_df)\n",
    "            except (NameError):\n",
    "                pass\n",
    "            \n",
    "            remove_con = df_subjects[no_match_index]\n",
    "            remove_this_con_index = 0\n",
    "            \n",
    "            if pos:\n",
    "                remove_this_con_index = no_match_index-1\n",
    "            if neg:\n",
    "                remove_this_con_index = no_match_index+1\n",
    "\n",
    "            if pos | neg:\n",
    "                remove_this_con = df_subjects[remove_this_con_index]\n",
    "\n",
    "                df = df.drop(\n",
    "                    df[((df['media'] == search_media) & \n",
    "                                      (df['join_concept'] == remove_this_con)\n",
    "                                     )].index\n",
    "                )\n",
    "            \n",
    "    #     determine the location in the index of the concept to be removed\n",
    "                pop_index = df.loc[(df['media'] == search_media) & (df['join_concept'] == remove_con)].index\n",
    "    #     remove the concept found at that index\n",
    "                df.at[pop_index[0], 'join_concept'] = new_concept\n",
    "                df.at[pop_index[0], 'subjects'] = new_concept\n",
    "                df.at[pop_index[0], 'SUBJECT_ID_x'] = concepts.at[concepts.loc[concepts['join_concept'] == new_concept].index[0], 'SUBJECT_ID_x']\n",
    "                df.at[pop_index[0], 'TERM_ID'] = concepts.at[concepts.loc[concepts['join_concept'] == new_concept].index[0], 'TERM_ID']\n",
    "\n",
    "            print(f'new_concept = {new_concept}')\n",
    "    "
   ]
  },
  {
   "cell_type": "markdown",
   "id": "bf2e8356",
   "metadata": {},
   "source": [
    "## Review Unmatched Results:"
   ]
  },
  {
   "cell_type": "code",
   "execution_count": 381,
   "id": "7fc9230d",
   "metadata": {},
   "outputs": [],
   "source": [
    "# read in the unmatched results\n",
    "post_df_meda_no_match = df[df['SUBJECT_ID_x'].isna()]"
   ]
  },
  {
   "cell_type": "code",
   "execution_count": 389,
   "id": "740884e4",
   "metadata": {},
   "outputs": [
    {
     "data": {
      "text/html": [
       "<div>\n",
       "<style scoped>\n",
       "    .dataframe tbody tr th:only-of-type {\n",
       "        vertical-align: middle;\n",
       "    }\n",
       "\n",
       "    .dataframe tbody tr th {\n",
       "        vertical-align: top;\n",
       "    }\n",
       "\n",
       "    .dataframe thead th {\n",
       "        text-align: right;\n",
       "    }\n",
       "</style>\n",
       "<table border=\"1\" class=\"dataframe\">\n",
       "  <thead>\n",
       "    <tr style=\"text-align: right;\">\n",
       "      <th></th>\n",
       "      <th>subjects</th>\n",
       "      <th>media</th>\n",
       "    </tr>\n",
       "  </thead>\n",
       "  <tbody>\n",
       "    <tr>\n",
       "      <th>43</th>\n",
       "      <td>columns</td>\n",
       "      <td>208</td>\n",
       "    </tr>\n",
       "    <tr>\n",
       "      <th>145</th>\n",
       "      <td>trees</td>\n",
       "      <td>186</td>\n",
       "    </tr>\n",
       "    <tr>\n",
       "      <th>111</th>\n",
       "      <td>portal</td>\n",
       "      <td>92</td>\n",
       "    </tr>\n",
       "    <tr>\n",
       "      <th>120</th>\n",
       "      <td>sculptures</td>\n",
       "      <td>65</td>\n",
       "    </tr>\n",
       "    <tr>\n",
       "      <th>148</th>\n",
       "      <td>universities (buildings)</td>\n",
       "      <td>62</td>\n",
       "    </tr>\n",
       "    <tr>\n",
       "      <th>...</th>\n",
       "      <td>...</td>\n",
       "      <td>...</td>\n",
       "    </tr>\n",
       "    <tr>\n",
       "      <th>65</th>\n",
       "      <td>fruit (plant components)</td>\n",
       "      <td>1</td>\n",
       "    </tr>\n",
       "    <tr>\n",
       "      <th>62</th>\n",
       "      <td>fence</td>\n",
       "      <td>1</td>\n",
       "    </tr>\n",
       "    <tr>\n",
       "      <th>60</th>\n",
       "      <td>equilateral arche</td>\n",
       "      <td>1</td>\n",
       "    </tr>\n",
       "    <tr>\n",
       "      <th>56</th>\n",
       "      <td>domes</td>\n",
       "      <td>1</td>\n",
       "    </tr>\n",
       "    <tr>\n",
       "      <th>157</th>\n",
       "      <td>womens (female humans)</td>\n",
       "      <td>1</td>\n",
       "    </tr>\n",
       "  </tbody>\n",
       "</table>\n",
       "<p>158 rows × 2 columns</p>\n",
       "</div>"
      ],
      "text/plain": [
       "                     subjects  media\n",
       "43                    columns    208\n",
       "145                     trees    186\n",
       "111                    portal     92\n",
       "120                sculptures     65\n",
       "148  universities (buildings)     62\n",
       "..                        ...    ...\n",
       "65   fruit (plant components)      1\n",
       "62                      fence      1\n",
       "60          equilateral arche      1\n",
       "56                      domes      1\n",
       "157    womens (female humans)      1\n",
       "\n",
       "[158 rows x 2 columns]"
      ]
     },
     "metadata": {},
     "output_type": "display_data"
    }
   ],
   "source": [
    "unmatched_concepts_by_color = post_df_meda_no_match.groupby(['subjects'])['media'].agg('count').reset_index()\n",
    "\n",
    "display(unmatched_concepts_by_color.sort_values('media', ascending=False))"
   ]
  },
  {
   "cell_type": "markdown",
   "id": "f3a5c587",
   "metadata": {},
   "source": [
    "## A Step Through, as an Example"
   ]
  },
  {
   "cell_type": "code",
   "execution_count": 191,
   "id": "aee30d95",
   "metadata": {},
   "outputs": [],
   "source": [
    "df = return_box(box_list[6])"
   ]
  },
  {
   "cell_type": "code",
   "execution_count": 192,
   "id": "41d16332",
   "metadata": {},
   "outputs": [],
   "source": [
    "search_media = 'B-1_Arquin_007_0257.jpg'"
   ]
  },
  {
   "cell_type": "code",
   "execution_count": 193,
   "id": "8114d6cb",
   "metadata": {},
   "outputs": [
    {
     "data": {
      "text/plain": [
       "Int64Index([406], dtype='int64')"
      ]
     },
     "execution_count": 193,
     "metadata": {},
     "output_type": "execute_result"
    }
   ],
   "source": [
    "df[df['media'] == search_media].index"
   ]
  },
  {
   "cell_type": "code",
   "execution_count": 194,
   "id": "358c86e6",
   "metadata": {},
   "outputs": [],
   "source": [
    "df = split_df(df)"
   ]
  },
  {
   "cell_type": "code",
   "execution_count": 195,
   "id": "72708807",
   "metadata": {},
   "outputs": [],
   "source": [
    "# merge the df with the AAT Metadata \n",
    "df = pd.merge(df, concepts, how=\"left\", on='join_concept')"
   ]
  },
  {
   "cell_type": "code",
   "execution_count": 196,
   "id": "7d6caeea",
   "metadata": {},
   "outputs": [],
   "source": [
    "# get the boxid\n",
    "df['boxid_temp'] = df['media'].str.extract(r\"(_0\\d+_)\")\n",
    "df = df[df['media'].notna()]\n",
    "df['boxid_temp'] = df['boxid_temp'].str.replace(\"_\",\"\")\n",
    "df['boxid_temp'] = pd.to_numeric(df['boxid_temp'], errors='coerce')\n",
    "df = df.dropna(subset=['boxid_temp'])\n",
    "df['boxid_temp'] = df['boxid_temp'].astype('int')\n",
    "df['boxid_temp'] = df['boxid_temp'].astype('str')\n",
    "df['BoxId'] = 'Box '+df['boxid_temp']\n",
    "df.drop('boxid_temp', inplace=True, axis=1)"
   ]
  },
  {
   "cell_type": "code",
   "execution_count": 197,
   "id": "37648905",
   "metadata": {},
   "outputs": [],
   "source": [
    "# add the colors in \n",
    "color_match_df = pd.read_csv('csv_files/color_match', sep='\\t')\n",
    "df = pd.merge(df, color_match_df, on='BoxId')"
   ]
  },
  {
   "cell_type": "code",
   "execution_count": 198,
   "id": "2be3188f",
   "metadata": {},
   "outputs": [
    {
     "data": {
      "text/plain": [
       "array(['A-5_Arquin_007_0351.jpg', 'A-5_Arquin_007_0352.jpg',\n",
       "       'A-5_Arquin_007_0353.jpg', 'A-5_Arquin_007_0354.jpg',\n",
       "       'A-5_Arquin_007_0355.jpg', 'A-5_Arquin_007_0356.jpg',\n",
       "       'A-5_Arquin_007_0357.jpg', 'A-5_Arquin_007_0358.jpg',\n",
       "       'A-5_Arquin_007_0360.jpg', 'A-5_Arquin_007_0361.jpg',\n",
       "       'A-5_Arquin_007_0362.jpg', 'A-5_Arquin_007_0363.jpg',\n",
       "       'A-5_Arquin_007_0364.jpg', 'A-5_Arquin_007_0365.jpg',\n",
       "       'A-5_Arquin_007_0366.jpg', 'A-5_Arquin_007_0367.jpg',\n",
       "       'A-5_Arquin_007_0368.jpg', 'A-5_Arquin_007_0369.jpg',\n",
       "       'A-5_Arquin_007_0370.jpg', 'A-5_Arquin_007_0371.jpg',\n",
       "       'A-5_Arquin_007_0372.jpg', 'A-5_Arquin_007_0373.jpg',\n",
       "       'A-5_Arquin_007_0374.jpg', 'A-5_Arquin_007_0376.jpg',\n",
       "       'A-5_Arquin_007_0377.jpg', 'A-5_Arquin_007_0378.jpg',\n",
       "       'A-5_Arquin_007_0379.jpg', 'A-5_Arquin_007_0380.jpg',\n",
       "       'A-5_Arquin_007_0381.jpg', 'A-5_Arquin_007_0382.jpg',\n",
       "       'A-5_Arquin_007_0383.jpg', 'A-5_Arquin_007_0384.jpg',\n",
       "       'A-5_Arquin_007_0385.jpg', 'A-5_Arquin_007_0386.jpg',\n",
       "       'A-5_Arquin_007_0387.jpg', 'A-5_Arquin_007_0388.jpg',\n",
       "       'A-5_Arquin_007_0389.jpg', 'A-5_Arquin_007_0390.jpg',\n",
       "       'A-5_Arquin_007_0391.jpg', 'A-5_Arquin_007_0392.jpg',\n",
       "       'A-5_Arquin_007_0393.jpg', 'A-5_Arquin_007_0394.jpg',\n",
       "       'A-5_Arquin_007_0396.jpg', 'A-5_Arquin_007_0397.jpg',\n",
       "       'A-5_Arquin_007_0398.jpg', 'A-5_Arquin_007_0399.jpg',\n",
       "       'A-5_Arquin_007_0400.jpg', 'A-5_Arquin_007_0401.jpg',\n",
       "       'A-5_Arquin_007_0402.jpg', 'A-5_Arquin_007_0403.jpg',\n",
       "       'A-5_Arquin_007_0404.jpg', 'A-5_Arquin_007_0405.jpg',\n",
       "       'A-5_Arquin_007_0406.jpg', 'A-5_Arquin_007_0407.jpg',\n",
       "       'A-5_Arquin_007_0408.jpg', 'A-5_Arquin_007_0409.jpg',\n",
       "       'A-5_Arquin_007_0410.jpg', 'A-5_Arquin_007_0411.jpg',\n",
       "       'A-5_Arquin_007_0412.jpg', 'A-5_Arquin_007_0413.jpg',\n",
       "       'A-5_Arquin_007_0414.jpg', 'A-5_Arquin_007_0415.jpg',\n",
       "       'A-5_Arquin_007_0416.jpg', 'A-5_Arquin_007_0417.jpg',\n",
       "       'A-5_Arquin_007_0418.jpg', 'A-5_Arquin_007_0419.jpg',\n",
       "       'A-5_Arquin_007_0421.jpg', 'A-5_Arquin_007_0422.jpg',\n",
       "       'A-5_Arquin_007_0423.jpg', 'A-5_Arquin_007_0426.jpg',\n",
       "       'A-5_Arquin_007_0427.jpg', 'A-5_Arquin_007_0428.jpg',\n",
       "       'A-5_Arquin_007_0429.jpg', 'A-5_Arquin_007_0430.jpg',\n",
       "       'A-5_Arquin_007_0434.jpg', 'A-5_Arquin_007_0435.jpg',\n",
       "       'A-5_Arquin_007_0436.jpg', 'A-5_Arquin_007_0437.jpg',\n",
       "       'A-5_Arquin_007_0438.jpg', 'A-5_Arquin_007_0440.jpg',\n",
       "       'A-5_Arquin_007_0441.jpg', 'A-5_Arquin_007_0442.jpg',\n",
       "       'A-5_Arquin_007_0443.jpg', 'A-5_Arquin_007_0444.jpg',\n",
       "       'A-5_Arquin_007_0445.jpg', 'A-5_Arquin_007_0446.jpg',\n",
       "       'A-5_Arquin_007_0447.jpg', 'A-5_Arquin_007_0448.jpg',\n",
       "       'A-5_Arquin_007_0451.jpg', 'A-5_Arquin_007_0452.jpg',\n",
       "       'A-5_Arquin_007_0455.jpg', 'A-5_Arquin_007_0475.jpg',\n",
       "       'A-5_Arquin_007_0476.jpg', 'A-5_Arquin_007_0477.jpg',\n",
       "       'A-5_Arquin_007_0478.jpg', 'A-5_Arquin_007_0479.jpg',\n",
       "       'A-5_Arquin_007_0480.jpg', 'A-5_Arquin_007_0481.jpg',\n",
       "       'A-5_Arquin_007_0482.jpg', 'A-5_Arquin_007_0483.jpg',\n",
       "       'A-5_Arquin_007_0484.jpg', 'A-5_Arquin_007_0485.jpg',\n",
       "       'A-5_Arquin_007_0486.jpg', 'A-5_Arquin_007_0488.jpg',\n",
       "       'A-5_Arquin_007_0489.jpg', 'A-5_Arquin_007_0490.jpg',\n",
       "       'A-5_Arquin_007_0491.jpg', 'B-1_Arquin_007_0001.jpg',\n",
       "       'B-1_Arquin_007_0002.jpg', 'B-1_Arquin_007_0003.jpg',\n",
       "       'B-1_Arquin_007_0004.jpg', 'B-1_Arquin_007_0006.jpg',\n",
       "       'B-1_Arquin_007_0018.jpg', 'B-1_Arquin_007_0029.jpg',\n",
       "       'B-1_Arquin_007_0030.jpg', 'B-1_Arquin_007_0033.jpg',\n",
       "       'B-1_Arquin_007_0034.jpg', 'B-1_Arquin_007_0035.jpg',\n",
       "       'B-1_Arquin_007_0036.jpg', 'B-1_Arquin_007_0037.jpg',\n",
       "       'B-1_Arquin_007_0042.jpg', 'B-1_Arquin_007_0044.jpg',\n",
       "       'B-1_Arquin_007_0045.jpg', 'B-1_Arquin_007_0046.jpg',\n",
       "       'B-1_Arquin_007_0047.jpg', 'B-1_Arquin_007_0048.jpg',\n",
       "       'B-1_Arquin_007_0049.jpg', 'B-1_Arquin_007_0050.jpg',\n",
       "       'B-1_Arquin_007_0051.jpg', 'B-1_Arquin_007_0052.jpg',\n",
       "       'B-1_Arquin_007_0053.jpg', 'B-1_Arquin_007_0054.jpg',\n",
       "       'B-1_Arquin_007_0055.jpg', 'B-1_Arquin_007_0056.jpg',\n",
       "       'B-1_Arquin_007_0057.jpg', 'B-1_Arquin_007_0058.jpg',\n",
       "       'B-1_Arquin_007_0059.jpg', 'B-1_Arquin_007_0065.jpg',\n",
       "       'B-1_Arquin_007_0067.jpg', 'B-1_Arquin_007_0073.jpg',\n",
       "       'B-1_Arquin_007_0089.jpg', 'B-1_Arquin_007_0090.jpg',\n",
       "       'B-1_Arquin_007_0091.jpg', 'B-1_Arquin_007_0092.jpg',\n",
       "       'B-1_Arquin_007_0093.jpg', 'B-1_Arquin_007_0094.jpg',\n",
       "       'B-1_Arquin_007_0095.jpg', 'B-1_Arquin_007_0096.jpg',\n",
       "       'B-1_Arquin_007_0097.jpg', 'B-1_Arquin_007_0098.jpg',\n",
       "       'B-1_Arquin_007_0099.jpg', 'B-1_Arquin_007_0100.jpg',\n",
       "       'B-1_Arquin_007_0101.jpg', 'B-1_Arquin_007_0102.jpg',\n",
       "       'B-1_Arquin_007_0103.jpg', 'B-1_Arquin_007_0104.jpg',\n",
       "       'B-1_Arquin_007_0105.jpg', 'B-1_Arquin_007_0106.jpg',\n",
       "       'B-1_Arquin_007_0107.jpg', 'B-1_Arquin_007_0108.jpg',\n",
       "       'B-1_Arquin_007_0109.jpg', 'B-1_Arquin_007_0110.jpg',\n",
       "       'B-1_Arquin_007_0111.jpg', 'B-1_Arquin_007_0112.jpg',\n",
       "       'B-1_Arquin_007_0113.jpg', 'B-1_Arquin_007_0170.jpg',\n",
       "       'B-1_Arquin_007_0174.jpg', 'B-1_Arquin_007_0201.jpg',\n",
       "       'B-1_Arquin_007_0204.jpg', 'B-1_Arquin_007_0212.jpg',\n",
       "       'B-1_Arquin_007_0215.jpg', 'B-1_Arquin_007_0216.jpg',\n",
       "       'B-1_Arquin_007_0217.jpg', 'B-1_Arquin_007_0218.jpg',\n",
       "       'B-1_Arquin_007_0219.jpg', 'B-1_Arquin_007_0224.jpg',\n",
       "       'B-1_Arquin_007_0225.jpg', 'B-1_Arquin_007_0227.jpg',\n",
       "       'B-1_Arquin_007_0234.jpg', 'B-1_Arquin_007_0238.jpg',\n",
       "       'B-1_Arquin_007_0239.jpg', 'B-1_Arquin_007_0244.jpg',\n",
       "       'B-1_Arquin_007_0245.jpg', 'B-1_Arquin_007_0246.jpg',\n",
       "       'B-1_Arquin_007_0247.jpg', 'B-1_Arquin_007_0248.jpg',\n",
       "       'B-1_Arquin_007_0249.jpg', 'B-1_Arquin_007_0251.jpg',\n",
       "       'B-1_Arquin_007_0252.jpg', 'B-1_Arquin_007_0253.jpg',\n",
       "       'B-1_Arquin_007_0254.jpg', 'B-1_Arquin_007_0255.jpg',\n",
       "       'B-1_Arquin_007_0256.jpg', 'B-1_Arquin_007_0257.jpg',\n",
       "       'B-1_Arquin_007_0258.jpg', 'B-1_Arquin_007_0259.jpg',\n",
       "       'B-1_Arquin_007_0260.jpg', 'B-1_Arquin_007_0261.jpg',\n",
       "       'B-1_Arquin_007_0262.jpg', 'B-1_Arquin_007_0263.jpg',\n",
       "       'B-1_Arquin_007_0265.jpg', 'B-1_Arquin_007_0266.jpg',\n",
       "       'B-1_Arquin_007_0267.jpg', 'B-1_Arquin_007_0297.jpg',\n",
       "       'B-1_Arquin_007_0299.jpg', 'B-1_Arquin_007_0301.jpg',\n",
       "       'B-1_Arquin_007_0304.jpg', 'B-1_Arquin_007_0307.jpg',\n",
       "       'B-1_Arquin_007_0309.jpg', 'B-1_Arquin_007_0313.jpg',\n",
       "       'B-1_Arquin_007_0315.jpg', 'B-1_Arquin_007_0320.jpg',\n",
       "       'B-1_Arquin_007_0324.jpg', 'B-1_Arquin_007_0327.jpg',\n",
       "       'B-1_Arquin_007_0329.jpg', 'B-1_Arquin_007_0330.jpg',\n",
       "       'B-1_Arquin_007_0334.jpg', 'B-1_Arquin_007_0335.jpg',\n",
       "       'B-1_Arquin_007_0337.jpg', 'B-1_Arquin_007_0338.jpg',\n",
       "       'B-1_Arquin_007_0340.jpg', 'B-1_Arquin_007_0342.jpg',\n",
       "       'B-1_Arquin_007_0344.jpg', 'B-1_Arquin_007_0345.jpg',\n",
       "       'B-1_Arquin_007_0346.jpg', 'B-1_Arquin_007_0347.jpg',\n",
       "       'B-1_Arquin_007_0348.jpg', 'B-1_Arquin_007_0349.jpg',\n",
       "       'B-1_Arquin_007_0350.jpg', 'B-1_Arquin_007_0356.jpg',\n",
       "       'B-1_Arquin_007_0359.jpg', 'B-1_Arquin_007_0362.jpg',\n",
       "       'B-1_Arquin_007_0363.jpg', 'B-1_Arquin_007_0364.jpg',\n",
       "       'B-1_Arquin_007_0367.jpg', 'B-1_Arquin_007_0368.jpg'], dtype=object)"
      ]
     },
     "execution_count": 198,
     "metadata": {},
     "output_type": "execute_result"
    }
   ],
   "source": [
    "# get all the unique media IDs where media is not NA \n",
    "df_medias = df.media.dropna().unique()\n",
    "df_medias"
   ]
  },
  {
   "cell_type": "code",
   "execution_count": 199,
   "id": "a521f11b",
   "metadata": {},
   "outputs": [
    {
     "data": {
      "text/plain": [
       "193"
      ]
     },
     "execution_count": 199,
     "metadata": {},
     "output_type": "execute_result"
    }
   ],
   "source": [
    "# get the index of the search_media term in the array\n",
    "search_media_index = df_medias.tolist().index(search_media)\n",
    "search_media_index"
   ]
  },
  {
   "cell_type": "code",
   "execution_count": 200,
   "id": "7bfcf05a",
   "metadata": {},
   "outputs": [
    {
     "data": {
      "text/plain": [
       "['hospitals (institutions',\n",
       " 'health facility)',\n",
       " 'buildings (structures)',\n",
       " 'signs (declatory or advertising artifacts)',\n",
       " 'anonymous people']"
      ]
     },
     "execution_count": 200,
     "metadata": {},
     "output_type": "execute_result"
    }
   ],
   "source": [
    "# get the list of all the subjects for the subset of the dataframe for the box\n",
    "df_subjects = df[df['media'] == search_media].join_concept.to_list()\n",
    "df_subjects"
   ]
  },
  {
   "cell_type": "code",
   "execution_count": 203,
   "id": "ba62f82c",
   "metadata": {},
   "outputs": [
    {
     "data": {
      "text/html": [
       "<div>\n",
       "<style scoped>\n",
       "    .dataframe tbody tr th:only-of-type {\n",
       "        vertical-align: middle;\n",
       "    }\n",
       "\n",
       "    .dataframe tbody tr th {\n",
       "        vertical-align: top;\n",
       "    }\n",
       "\n",
       "    .dataframe thead th {\n",
       "        text-align: right;\n",
       "    }\n",
       "</style>\n",
       "<table border=\"1\" class=\"dataframe\">\n",
       "  <thead>\n",
       "    <tr style=\"text-align: right;\">\n",
       "      <th></th>\n",
       "      <th>identifier</th>\n",
       "      <th>media</th>\n",
       "      <th>subject</th>\n",
       "      <th>title</th>\n",
       "      <th>subjects</th>\n",
       "      <th>SUBJECT_ID_x</th>\n",
       "      <th>TERM_ID</th>\n",
       "      <th>join_concept</th>\n",
       "      <th>BoxId</th>\n",
       "      <th>color</th>\n",
       "    </tr>\n",
       "  </thead>\n",
       "  <tbody>\n",
       "    <tr>\n",
       "      <th>861</th>\n",
       "      <td>B-1 257</td>\n",
       "      <td>B-1_Arquin_007_0257.jpg</td>\n",
       "      <td>hospitals (institutions, health facility), bui...</td>\n",
       "      <td>Municipal Department of Health</td>\n",
       "      <td>hospitals (institutions</td>\n",
       "      <td>NaN</td>\n",
       "      <td>NaN</td>\n",
       "      <td>hospitals (institutions</td>\n",
       "      <td>Box 7</td>\n",
       "      <td>blue</td>\n",
       "    </tr>\n",
       "    <tr>\n",
       "      <th>862</th>\n",
       "      <td>B-1 257</td>\n",
       "      <td>B-1_Arquin_007_0257.jpg</td>\n",
       "      <td>hospitals (institutions, health facility), bui...</td>\n",
       "      <td>Municipal Department of Health</td>\n",
       "      <td>health facility)</td>\n",
       "      <td>NaN</td>\n",
       "      <td>NaN</td>\n",
       "      <td>health facility)</td>\n",
       "      <td>Box 7</td>\n",
       "      <td>blue</td>\n",
       "    </tr>\n",
       "  </tbody>\n",
       "</table>\n",
       "</div>"
      ],
      "text/plain": [
       "    identifier                    media  \\\n",
       "861    B-1 257  B-1_Arquin_007_0257.jpg   \n",
       "862    B-1 257  B-1_Arquin_007_0257.jpg   \n",
       "\n",
       "                                               subject  \\\n",
       "861  hospitals (institutions, health facility), bui...   \n",
       "862  hospitals (institutions, health facility), bui...   \n",
       "\n",
       "                              title                 subjects SUBJECT_ID_x  \\\n",
       "861  Municipal Department of Health  hospitals (institutions          NaN   \n",
       "862  Municipal Department of Health         health facility)          NaN   \n",
       "\n",
       "    TERM_ID             join_concept  BoxId color  \n",
       "861     NaN  hospitals (institutions  Box 7  blue  \n",
       "862     NaN         health facility)  Box 7  blue  "
      ]
     },
     "execution_count": 203,
     "metadata": {},
     "output_type": "execute_result"
    }
   ],
   "source": [
    "# get the list of unmatched subjects\n",
    "df_meda_no_match = df[df['media'] == search_media].loc[df['SUBJECT_ID_x'].isna()]\n",
    "df_meda_no_match[narrow_list]"
   ]
  },
  {
   "cell_type": "code",
   "execution_count": 204,
   "id": "a1cddd6b",
   "metadata": {},
   "outputs": [
    {
     "data": {
      "text/plain": [
       "['hospitals (institutions', 'health facility)']"
      ]
     },
     "execution_count": 204,
     "metadata": {},
     "output_type": "execute_result"
    }
   ],
   "source": [
    "# for any unmatched terms, check to see if combining the terms yields a match\n",
    "no_match = df_meda_no_match.join_concept.to_list()\n",
    "no_match"
   ]
  },
  {
   "cell_type": "code",
   "execution_count": 205,
   "id": "0fbeb624",
   "metadata": {},
   "outputs": [
    {
     "name": "stdout",
     "output_type": "stream",
     "text": [
      "1: unmatched concept is: \"hospitals (institutions\" and its index is \"0\" out of 4\n",
      "2: unmatched concept is: \"health facility)\" and its index is \"1\" out of 4\n"
     ]
    }
   ],
   "source": [
    "# identify the index value of the ummatched item\n",
    "for i, unmatched in enumerate(no_match):\n",
    "    no_match_index = df_subjects.index(unmatched)\n",
    "    print(f'{i+1}: unmatched concept is: \"{unmatched}\" and its index is \"{no_match_index}\" out of {len(df_subjects)-1}')"
   ]
  },
  {
   "cell_type": "code",
   "execution_count": 229,
   "id": "cf10946c",
   "metadata": {},
   "outputs": [
    {
     "data": {
      "text/plain": [
       "1"
      ]
     },
     "execution_count": 229,
     "metadata": {},
     "output_type": "execute_result"
    }
   ],
   "source": [
    "no_match_index = df_subjects.index(no_match[1])\n",
    "no_match_index"
   ]
  },
  {
   "cell_type": "code",
   "execution_count": 230,
   "id": "3aa78b78",
   "metadata": {},
   "outputs": [
    {
     "data": {
      "text/plain": [
       "'health facility), buildings (structures)'"
      ]
     },
     "execution_count": 230,
     "metadata": {},
     "output_type": "execute_result"
    }
   ],
   "source": [
    "try_match_pos = df_subjects[no_match_index]+', '+df_subjects[no_match_index+1]\n",
    "try_match_pos"
   ]
  },
  {
   "cell_type": "code",
   "execution_count": 231,
   "id": "9a5a04c7",
   "metadata": {},
   "outputs": [
    {
     "name": "stdout",
     "output_type": "stream",
     "text": [
      "try_match_neg = \"hospitals (institutions, health facility)\"\n",
      "try_match_pos = \"health facility), buildings (structures)\"\n"
     ]
    }
   ],
   "source": [
    "try_match_neg = None\n",
    "try_match_pos = None\n",
    "concepts_found_pos = []\n",
    "concepts_found_neg = []\n",
    "pos = False\n",
    "neg = False\n",
    "\n",
    "if no_match_index > 0:\n",
    "    try_match_neg = df_subjects[no_match_index-1]+', '+df_subjects[no_match_index]\n",
    "    concepts_found_pos = concepts.loc[concepts['join_concept'] == try_match_neg]\n",
    "    pos = True\n",
    "if no_match_index < len(df_subjects)-1:\n",
    "    try_match_pos = df_subjects[no_match_index]+', '+df_subjects[no_match_index+1]\n",
    "    concepts_found_neg = concepts.loc[concepts['join_concept'] == try_match_pos]\n",
    "    neg = True\n",
    "print(f'try_match_neg = \"{try_match_neg}\"\\ntry_match_pos = \"{try_match_pos}\"')"
   ]
  },
  {
   "cell_type": "code",
   "execution_count": 232,
   "id": "d7e875c5",
   "metadata": {},
   "outputs": [
    {
     "data": {
      "text/plain": [
       "True"
      ]
     },
     "execution_count": 232,
     "metadata": {},
     "output_type": "execute_result"
    }
   ],
   "source": [
    "neg"
   ]
  },
  {
   "cell_type": "code",
   "execution_count": 233,
   "id": "1e6908ad",
   "metadata": {},
   "outputs": [
    {
     "data": {
      "text/html": [
       "<div>\n",
       "<style scoped>\n",
       "    .dataframe tbody tr th:only-of-type {\n",
       "        vertical-align: middle;\n",
       "    }\n",
       "\n",
       "    .dataframe tbody tr th {\n",
       "        vertical-align: top;\n",
       "    }\n",
       "\n",
       "    .dataframe thead th {\n",
       "        text-align: right;\n",
       "    }\n",
       "</style>\n",
       "<table border=\"1\" class=\"dataframe\">\n",
       "  <thead>\n",
       "    <tr style=\"text-align: right;\">\n",
       "      <th></th>\n",
       "      <th>SUBJECT_ID_x</th>\n",
       "      <th>TERM_ID</th>\n",
       "      <th>use_concept</th>\n",
       "      <th>join_concept</th>\n",
       "    </tr>\n",
       "  </thead>\n",
       "  <tbody>\n",
       "    <tr>\n",
       "      <th>55395</th>\n",
       "      <td>300343473</td>\n",
       "      <td>1000460680</td>\n",
       "      <td>hospitals (institutions, health facility)</td>\n",
       "      <td>hospitals (institutions, health facility)</td>\n",
       "    </tr>\n",
       "  </tbody>\n",
       "</table>\n",
       "</div>"
      ],
      "text/plain": [
       "      SUBJECT_ID_x     TERM_ID                                use_concept  \\\n",
       "55395    300343473  1000460680  hospitals (institutions, health facility)   \n",
       "\n",
       "                                    join_concept  \n",
       "55395  hospitals (institutions, health facility)  "
      ]
     },
     "execution_count": 233,
     "metadata": {},
     "output_type": "execute_result"
    }
   ],
   "source": [
    "concepts_found_pos[['SUBJECT_ID_x', 'TERM_ID', 'use_concept', 'join_concept']]"
   ]
  },
  {
   "cell_type": "code",
   "execution_count": 234,
   "id": "3c58f96c",
   "metadata": {},
   "outputs": [],
   "source": [
    "try:\n",
    "    concepts_found_neg[['SUBJECT_ID_x', 'TERM_ID', 'use_concept', 'join_concept']]\n",
    "except (NameError):\n",
    "    print(f'NameError: concepts_found_neg not defined')"
   ]
  },
  {
   "cell_type": "code",
   "execution_count": 235,
   "id": "2ce62615",
   "metadata": {},
   "outputs": [
    {
     "data": {
      "text/html": [
       "<div>\n",
       "<style scoped>\n",
       "    .dataframe tbody tr th:only-of-type {\n",
       "        vertical-align: middle;\n",
       "    }\n",
       "\n",
       "    .dataframe tbody tr th {\n",
       "        vertical-align: top;\n",
       "    }\n",
       "\n",
       "    .dataframe thead th {\n",
       "        text-align: right;\n",
       "    }\n",
       "</style>\n",
       "<table border=\"1\" class=\"dataframe\">\n",
       "  <thead>\n",
       "    <tr style=\"text-align: right;\">\n",
       "      <th></th>\n",
       "      <th>SUBJECT_ID_x</th>\n",
       "      <th>TERM_ID</th>\n",
       "      <th>use_concept</th>\n",
       "      <th>join_concept</th>\n",
       "    </tr>\n",
       "  </thead>\n",
       "  <tbody>\n",
       "  </tbody>\n",
       "</table>\n",
       "</div>"
      ],
      "text/plain": [
       "Empty DataFrame\n",
       "Columns: [SUBJECT_ID_x, TERM_ID, use_concept, join_concept]\n",
       "Index: []"
      ]
     },
     "execution_count": 235,
     "metadata": {},
     "output_type": "execute_result"
    }
   ],
   "source": [
    "concepts_found_neg[['SUBJECT_ID_x', 'TERM_ID', 'use_concept', 'join_concept']]"
   ]
  },
  {
   "cell_type": "code",
   "execution_count": 236,
   "id": "03c50828",
   "metadata": {},
   "outputs": [
    {
     "data": {
      "text/plain": [
       "'hospitals (institutions, health facility)'"
      ]
     },
     "execution_count": 236,
     "metadata": {},
     "output_type": "execute_result"
    }
   ],
   "source": [
    "\n",
    "try:\n",
    "    if len(concepts_found_pos) == 1:\n",
    "        new_concept = concepts_found_pos.join_concept.to_list()[0]\n",
    "except (NameError):\n",
    "    print(f'positive, but NameError')\n",
    "try:\n",
    "    if len(concepts_found_neg) == 1:\n",
    "        new_concept = concepts_found_neg.join_concept.to_list()[0]\n",
    "except (NameError):\n",
    "    print(f'negative, but NameError')\n",
    "try:\n",
    "    if (len(concepts_found_pos) > 0) & (len(concepts_found_neg) > 0):\n",
    "        print('too many matches!')\n",
    "except (NameError):\n",
    "    pass\n",
    "\n",
    "new_concept"
   ]
  },
  {
   "cell_type": "code",
   "execution_count": 237,
   "id": "97e5a562",
   "metadata": {},
   "outputs": [
    {
     "data": {
      "text/plain": [
       "'health facility)'"
      ]
     },
     "execution_count": 237,
     "metadata": {},
     "output_type": "execute_result"
    }
   ],
   "source": [
    "# determine the remove concept\n",
    "remove_con = df_subjects[no_match_index]\n",
    "remove_con"
   ]
  },
  {
   "cell_type": "code",
   "execution_count": 238,
   "id": "0a4c61ed",
   "metadata": {},
   "outputs": [
    {
     "data": {
      "text/html": [
       "<div>\n",
       "<style scoped>\n",
       "    .dataframe tbody tr th:only-of-type {\n",
       "        vertical-align: middle;\n",
       "    }\n",
       "\n",
       "    .dataframe tbody tr th {\n",
       "        vertical-align: top;\n",
       "    }\n",
       "\n",
       "    .dataframe thead th {\n",
       "        text-align: right;\n",
       "    }\n",
       "</style>\n",
       "<table border=\"1\" class=\"dataframe\">\n",
       "  <thead>\n",
       "    <tr style=\"text-align: right;\">\n",
       "      <th></th>\n",
       "      <th>identifier</th>\n",
       "      <th>media</th>\n",
       "      <th>subject</th>\n",
       "      <th>title</th>\n",
       "      <th>subjects</th>\n",
       "      <th>SUBJECT_ID_x</th>\n",
       "      <th>TERM_ID</th>\n",
       "      <th>join_concept</th>\n",
       "      <th>BoxId</th>\n",
       "      <th>color</th>\n",
       "    </tr>\n",
       "  </thead>\n",
       "  <tbody>\n",
       "    <tr>\n",
       "      <th>861</th>\n",
       "      <td>B-1 257</td>\n",
       "      <td>B-1_Arquin_007_0257.jpg</td>\n",
       "      <td>hospitals (institutions, health facility), bui...</td>\n",
       "      <td>Municipal Department of Health</td>\n",
       "      <td>hospitals (institutions, health facility)</td>\n",
       "      <td>300343473</td>\n",
       "      <td>1000460680</td>\n",
       "      <td>hospitals (institutions, health facility)</td>\n",
       "      <td>Box 7</td>\n",
       "      <td>blue</td>\n",
       "    </tr>\n",
       "    <tr>\n",
       "      <th>863</th>\n",
       "      <td>B-1 257</td>\n",
       "      <td>B-1_Arquin_007_0257.jpg</td>\n",
       "      <td>hospitals (institutions, health facility), bui...</td>\n",
       "      <td>Municipal Department of Health</td>\n",
       "      <td>buildings (structures)</td>\n",
       "      <td>300004792</td>\n",
       "      <td>1000004792</td>\n",
       "      <td>buildings (structures)</td>\n",
       "      <td>Box 7</td>\n",
       "      <td>blue</td>\n",
       "    </tr>\n",
       "    <tr>\n",
       "      <th>864</th>\n",
       "      <td>B-1 257</td>\n",
       "      <td>B-1_Arquin_007_0257.jpg</td>\n",
       "      <td>hospitals (institutions, health facility), bui...</td>\n",
       "      <td>Municipal Department of Health</td>\n",
       "      <td>signs (declatory or advertising artifacts)</td>\n",
       "      <td>300123013</td>\n",
       "      <td>1000123013</td>\n",
       "      <td>signs (declatory or advertising artifacts)</td>\n",
       "      <td>Box 7</td>\n",
       "      <td>blue</td>\n",
       "    </tr>\n",
       "    <tr>\n",
       "      <th>865</th>\n",
       "      <td>B-1 257</td>\n",
       "      <td>B-1_Arquin_007_0257.jpg</td>\n",
       "      <td>hospitals (institutions, health facility), bui...</td>\n",
       "      <td>Municipal Department of Health</td>\n",
       "      <td>anonymous people</td>\n",
       "      <td>300435316</td>\n",
       "      <td>1000809718</td>\n",
       "      <td>anonymous people</td>\n",
       "      <td>Box 7</td>\n",
       "      <td>blue</td>\n",
       "    </tr>\n",
       "  </tbody>\n",
       "</table>\n",
       "</div>"
      ],
      "text/plain": [
       "    identifier                    media  \\\n",
       "861    B-1 257  B-1_Arquin_007_0257.jpg   \n",
       "863    B-1 257  B-1_Arquin_007_0257.jpg   \n",
       "864    B-1 257  B-1_Arquin_007_0257.jpg   \n",
       "865    B-1 257  B-1_Arquin_007_0257.jpg   \n",
       "\n",
       "                                               subject  \\\n",
       "861  hospitals (institutions, health facility), bui...   \n",
       "863  hospitals (institutions, health facility), bui...   \n",
       "864  hospitals (institutions, health facility), bui...   \n",
       "865  hospitals (institutions, health facility), bui...   \n",
       "\n",
       "                              title  \\\n",
       "861  Municipal Department of Health   \n",
       "863  Municipal Department of Health   \n",
       "864  Municipal Department of Health   \n",
       "865  Municipal Department of Health   \n",
       "\n",
       "                                       subjects SUBJECT_ID_x     TERM_ID  \\\n",
       "861   hospitals (institutions, health facility)    300343473  1000460680   \n",
       "863                      buildings (structures)    300004792  1000004792   \n",
       "864  signs (declatory or advertising artifacts)    300123013  1000123013   \n",
       "865                            anonymous people    300435316  1000809718   \n",
       "\n",
       "                                   join_concept  BoxId color  \n",
       "861   hospitals (institutions, health facility)  Box 7  blue  \n",
       "863                      buildings (structures)  Box 7  blue  \n",
       "864  signs (declatory or advertising artifacts)  Box 7  blue  \n",
       "865                            anonymous people  Box 7  blue  "
      ]
     },
     "execution_count": 238,
     "metadata": {},
     "output_type": "execute_result"
    }
   ],
   "source": [
    "# before the drop\n",
    "df[df['media'] == search_media][narrow_list]"
   ]
  },
  {
   "cell_type": "code",
   "execution_count": 239,
   "id": "dc3a24d3",
   "metadata": {},
   "outputs": [],
   "source": [
    "remove_this_con_index = 0\n",
    "if pos:\n",
    "    remove_this_con_index = no_match_index-1\n",
    "if neg:\n",
    "    remove_this_con_index = no_match_index+1\n",
    "\n",
    "remove_this_con = df_subjects[remove_this_con_index]\n",
    "\n",
    "df = df.drop(\n",
    "    df[((df['media'] == search_media) & \n",
    "                      (df['join_concept'] == remove_this_con)\n",
    "                     )].index\n",
    ")"
   ]
  },
  {
   "cell_type": "code",
   "execution_count": 240,
   "id": "262db02e",
   "metadata": {},
   "outputs": [
    {
     "data": {
      "text/html": [
       "<div>\n",
       "<style scoped>\n",
       "    .dataframe tbody tr th:only-of-type {\n",
       "        vertical-align: middle;\n",
       "    }\n",
       "\n",
       "    .dataframe tbody tr th {\n",
       "        vertical-align: top;\n",
       "    }\n",
       "\n",
       "    .dataframe thead th {\n",
       "        text-align: right;\n",
       "    }\n",
       "</style>\n",
       "<table border=\"1\" class=\"dataframe\">\n",
       "  <thead>\n",
       "    <tr style=\"text-align: right;\">\n",
       "      <th></th>\n",
       "      <th>identifier</th>\n",
       "      <th>media</th>\n",
       "      <th>subject</th>\n",
       "      <th>title</th>\n",
       "      <th>subjects</th>\n",
       "      <th>SUBJECT_ID_x</th>\n",
       "      <th>TERM_ID</th>\n",
       "      <th>join_concept</th>\n",
       "      <th>BoxId</th>\n",
       "      <th>color</th>\n",
       "    </tr>\n",
       "  </thead>\n",
       "  <tbody>\n",
       "    <tr>\n",
       "      <th>861</th>\n",
       "      <td>B-1 257</td>\n",
       "      <td>B-1_Arquin_007_0257.jpg</td>\n",
       "      <td>hospitals (institutions, health facility), bui...</td>\n",
       "      <td>Municipal Department of Health</td>\n",
       "      <td>hospitals (institutions, health facility)</td>\n",
       "      <td>300343473</td>\n",
       "      <td>1000460680</td>\n",
       "      <td>hospitals (institutions, health facility)</td>\n",
       "      <td>Box 7</td>\n",
       "      <td>blue</td>\n",
       "    </tr>\n",
       "    <tr>\n",
       "      <th>864</th>\n",
       "      <td>B-1 257</td>\n",
       "      <td>B-1_Arquin_007_0257.jpg</td>\n",
       "      <td>hospitals (institutions, health facility), bui...</td>\n",
       "      <td>Municipal Department of Health</td>\n",
       "      <td>signs (declatory or advertising artifacts)</td>\n",
       "      <td>300123013</td>\n",
       "      <td>1000123013</td>\n",
       "      <td>signs (declatory or advertising artifacts)</td>\n",
       "      <td>Box 7</td>\n",
       "      <td>blue</td>\n",
       "    </tr>\n",
       "    <tr>\n",
       "      <th>865</th>\n",
       "      <td>B-1 257</td>\n",
       "      <td>B-1_Arquin_007_0257.jpg</td>\n",
       "      <td>hospitals (institutions, health facility), bui...</td>\n",
       "      <td>Municipal Department of Health</td>\n",
       "      <td>anonymous people</td>\n",
       "      <td>300435316</td>\n",
       "      <td>1000809718</td>\n",
       "      <td>anonymous people</td>\n",
       "      <td>Box 7</td>\n",
       "      <td>blue</td>\n",
       "    </tr>\n",
       "  </tbody>\n",
       "</table>\n",
       "</div>"
      ],
      "text/plain": [
       "    identifier                    media  \\\n",
       "861    B-1 257  B-1_Arquin_007_0257.jpg   \n",
       "864    B-1 257  B-1_Arquin_007_0257.jpg   \n",
       "865    B-1 257  B-1_Arquin_007_0257.jpg   \n",
       "\n",
       "                                               subject  \\\n",
       "861  hospitals (institutions, health facility), bui...   \n",
       "864  hospitals (institutions, health facility), bui...   \n",
       "865  hospitals (institutions, health facility), bui...   \n",
       "\n",
       "                              title  \\\n",
       "861  Municipal Department of Health   \n",
       "864  Municipal Department of Health   \n",
       "865  Municipal Department of Health   \n",
       "\n",
       "                                       subjects SUBJECT_ID_x     TERM_ID  \\\n",
       "861   hospitals (institutions, health facility)    300343473  1000460680   \n",
       "864  signs (declatory or advertising artifacts)    300123013  1000123013   \n",
       "865                            anonymous people    300435316  1000809718   \n",
       "\n",
       "                                   join_concept  BoxId color  \n",
       "861   hospitals (institutions, health facility)  Box 7  blue  \n",
       "864  signs (declatory or advertising artifacts)  Box 7  blue  \n",
       "865                            anonymous people  Box 7  blue  "
      ]
     },
     "execution_count": 240,
     "metadata": {},
     "output_type": "execute_result"
    }
   ],
   "source": [
    "# after the drop\n",
    "\n",
    "df[df['media'] == search_media][narrow_list]"
   ]
  },
  {
   "cell_type": "code",
   "execution_count": 241,
   "id": "d6837539",
   "metadata": {},
   "outputs": [
    {
     "data": {
      "text/plain": [
       "Int64Index([], dtype='int64')"
      ]
     },
     "execution_count": 241,
     "metadata": {},
     "output_type": "execute_result"
    }
   ],
   "source": [
    "# replace the no_match value with the combined_concept\n",
    "\n",
    "pop_index = df.loc[(df['media'] == search_media) & (df['join_concept'] == remove_con)].index\n",
    "pop_index"
   ]
  },
  {
   "cell_type": "code",
   "execution_count": 242,
   "id": "96f54594",
   "metadata": {},
   "outputs": [
    {
     "ename": "IndexError",
     "evalue": "index 0 is out of bounds for axis 0 with size 0",
     "output_type": "error",
     "traceback": [
      "\u001b[0;31m---------------------------------------------------------------------------\u001b[0m",
      "\u001b[0;31mIndexError\u001b[0m                                Traceback (most recent call last)",
      "\u001b[0;32m<ipython-input-242-adb3a44e9344>\u001b[0m in \u001b[0;36m<module>\u001b[0;34m\u001b[0m\n\u001b[0;32m----> 1\u001b[0;31m \u001b[0mdf\u001b[0m\u001b[0;34m.\u001b[0m\u001b[0mat\u001b[0m\u001b[0;34m[\u001b[0m\u001b[0mpop_index\u001b[0m\u001b[0;34m[\u001b[0m\u001b[0;36m0\u001b[0m\u001b[0;34m]\u001b[0m\u001b[0;34m,\u001b[0m \u001b[0;34m'join_concept'\u001b[0m\u001b[0;34m]\u001b[0m \u001b[0;34m=\u001b[0m \u001b[0mnew_concept\u001b[0m\u001b[0;34m\u001b[0m\u001b[0;34m\u001b[0m\u001b[0m\n\u001b[0m\u001b[1;32m      2\u001b[0m \u001b[0mdf\u001b[0m\u001b[0;34m.\u001b[0m\u001b[0mat\u001b[0m\u001b[0;34m[\u001b[0m\u001b[0mpop_index\u001b[0m\u001b[0;34m[\u001b[0m\u001b[0;36m0\u001b[0m\u001b[0;34m]\u001b[0m\u001b[0;34m,\u001b[0m \u001b[0;34m'subjects'\u001b[0m\u001b[0;34m]\u001b[0m \u001b[0;34m=\u001b[0m \u001b[0mnew_concept\u001b[0m\u001b[0;34m\u001b[0m\u001b[0;34m\u001b[0m\u001b[0m\n\u001b[1;32m      3\u001b[0m \u001b[0mdf\u001b[0m\u001b[0;34m.\u001b[0m\u001b[0mat\u001b[0m\u001b[0;34m[\u001b[0m\u001b[0mpop_index\u001b[0m\u001b[0;34m[\u001b[0m\u001b[0;36m0\u001b[0m\u001b[0;34m]\u001b[0m\u001b[0;34m,\u001b[0m \u001b[0;34m'SUBJECT_ID_x'\u001b[0m\u001b[0;34m]\u001b[0m \u001b[0;34m=\u001b[0m \u001b[0mconcepts\u001b[0m\u001b[0;34m.\u001b[0m\u001b[0mat\u001b[0m\u001b[0;34m[\u001b[0m\u001b[0mconcepts\u001b[0m\u001b[0;34m.\u001b[0m\u001b[0mloc\u001b[0m\u001b[0;34m[\u001b[0m\u001b[0mconcepts\u001b[0m\u001b[0;34m[\u001b[0m\u001b[0;34m'join_concept'\u001b[0m\u001b[0;34m]\u001b[0m \u001b[0;34m==\u001b[0m \u001b[0mnew_concept\u001b[0m\u001b[0;34m]\u001b[0m\u001b[0;34m.\u001b[0m\u001b[0mindex\u001b[0m\u001b[0;34m[\u001b[0m\u001b[0;36m0\u001b[0m\u001b[0;34m]\u001b[0m\u001b[0;34m,\u001b[0m \u001b[0;34m'SUBJECT_ID_x'\u001b[0m\u001b[0;34m]\u001b[0m\u001b[0;34m\u001b[0m\u001b[0;34m\u001b[0m\u001b[0m\n\u001b[1;32m      4\u001b[0m \u001b[0mdf\u001b[0m\u001b[0;34m.\u001b[0m\u001b[0mat\u001b[0m\u001b[0;34m[\u001b[0m\u001b[0mpop_index\u001b[0m\u001b[0;34m[\u001b[0m\u001b[0;36m0\u001b[0m\u001b[0;34m]\u001b[0m\u001b[0;34m,\u001b[0m \u001b[0;34m'TERM_ID'\u001b[0m\u001b[0;34m]\u001b[0m \u001b[0;34m=\u001b[0m \u001b[0mconcepts\u001b[0m\u001b[0;34m.\u001b[0m\u001b[0mat\u001b[0m\u001b[0;34m[\u001b[0m\u001b[0mconcepts\u001b[0m\u001b[0;34m.\u001b[0m\u001b[0mloc\u001b[0m\u001b[0;34m[\u001b[0m\u001b[0mconcepts\u001b[0m\u001b[0;34m[\u001b[0m\u001b[0;34m'join_concept'\u001b[0m\u001b[0;34m]\u001b[0m \u001b[0;34m==\u001b[0m \u001b[0mnew_concept\u001b[0m\u001b[0;34m]\u001b[0m\u001b[0;34m.\u001b[0m\u001b[0mindex\u001b[0m\u001b[0;34m[\u001b[0m\u001b[0;36m0\u001b[0m\u001b[0;34m]\u001b[0m\u001b[0;34m,\u001b[0m \u001b[0;34m'TERM_ID'\u001b[0m\u001b[0;34m]\u001b[0m\u001b[0;34m\u001b[0m\u001b[0;34m\u001b[0m\u001b[0m\n",
      "\u001b[0;32m~/opt/anaconda3/lib/python3.8/site-packages/pandas/core/indexes/base.py\u001b[0m in \u001b[0;36m__getitem__\u001b[0;34m(self, key)\u001b[0m\n\u001b[1;32m   4295\u001b[0m         \u001b[0;32mif\u001b[0m \u001b[0mis_scalar\u001b[0m\u001b[0;34m(\u001b[0m\u001b[0mkey\u001b[0m\u001b[0;34m)\u001b[0m\u001b[0;34m:\u001b[0m\u001b[0;34m\u001b[0m\u001b[0;34m\u001b[0m\u001b[0m\n\u001b[1;32m   4296\u001b[0m             \u001b[0mkey\u001b[0m \u001b[0;34m=\u001b[0m \u001b[0mcom\u001b[0m\u001b[0;34m.\u001b[0m\u001b[0mcast_scalar_indexer\u001b[0m\u001b[0;34m(\u001b[0m\u001b[0mkey\u001b[0m\u001b[0;34m,\u001b[0m \u001b[0mwarn_float\u001b[0m\u001b[0;34m=\u001b[0m\u001b[0;32mTrue\u001b[0m\u001b[0;34m)\u001b[0m\u001b[0;34m\u001b[0m\u001b[0;34m\u001b[0m\u001b[0m\n\u001b[0;32m-> 4297\u001b[0;31m             \u001b[0;32mreturn\u001b[0m \u001b[0mgetitem\u001b[0m\u001b[0;34m(\u001b[0m\u001b[0mkey\u001b[0m\u001b[0;34m)\u001b[0m\u001b[0;34m\u001b[0m\u001b[0;34m\u001b[0m\u001b[0m\n\u001b[0m\u001b[1;32m   4298\u001b[0m \u001b[0;34m\u001b[0m\u001b[0m\n\u001b[1;32m   4299\u001b[0m         \u001b[0;32mif\u001b[0m \u001b[0misinstance\u001b[0m\u001b[0;34m(\u001b[0m\u001b[0mkey\u001b[0m\u001b[0;34m,\u001b[0m \u001b[0mslice\u001b[0m\u001b[0;34m)\u001b[0m\u001b[0;34m:\u001b[0m\u001b[0;34m\u001b[0m\u001b[0;34m\u001b[0m\u001b[0m\n",
      "\u001b[0;31mIndexError\u001b[0m: index 0 is out of bounds for axis 0 with size 0"
     ]
    }
   ],
   "source": [
    "df.at[pop_index[0], 'join_concept'] = new_concept\n",
    "df.at[pop_index[0], 'subjects'] = new_concept\n",
    "df.at[pop_index[0], 'SUBJECT_ID_x'] = concepts.at[concepts.loc[concepts['join_concept'] == new_concept].index[0], 'SUBJECT_ID_x']\n",
    "df.at[pop_index[0], 'TERM_ID'] = concepts.at[concepts.loc[concepts['join_concept'] == new_concept].index[0], 'TERM_ID']"
   ]
  },
  {
   "cell_type": "code",
   "execution_count": 228,
   "id": "bab64075",
   "metadata": {
    "scrolled": true
   },
   "outputs": [
    {
     "data": {
      "text/html": [
       "<div>\n",
       "<style scoped>\n",
       "    .dataframe tbody tr th:only-of-type {\n",
       "        vertical-align: middle;\n",
       "    }\n",
       "\n",
       "    .dataframe tbody tr th {\n",
       "        vertical-align: top;\n",
       "    }\n",
       "\n",
       "    .dataframe thead th {\n",
       "        text-align: right;\n",
       "    }\n",
       "</style>\n",
       "<table border=\"1\" class=\"dataframe\">\n",
       "  <thead>\n",
       "    <tr style=\"text-align: right;\">\n",
       "      <th></th>\n",
       "      <th>identifier</th>\n",
       "      <th>media</th>\n",
       "      <th>subject</th>\n",
       "      <th>title</th>\n",
       "      <th>subjects</th>\n",
       "      <th>SUBJECT_ID_x</th>\n",
       "      <th>TERM_ID</th>\n",
       "      <th>join_concept</th>\n",
       "      <th>BoxId</th>\n",
       "      <th>color</th>\n",
       "    </tr>\n",
       "  </thead>\n",
       "  <tbody>\n",
       "    <tr>\n",
       "      <th>861</th>\n",
       "      <td>B-1 257</td>\n",
       "      <td>B-1_Arquin_007_0257.jpg</td>\n",
       "      <td>hospitals (institutions, health facility), bui...</td>\n",
       "      <td>Municipal Department of Health</td>\n",
       "      <td>hospitals (institutions, health facility)</td>\n",
       "      <td>300343473</td>\n",
       "      <td>1000460680</td>\n",
       "      <td>hospitals (institutions, health facility)</td>\n",
       "      <td>Box 7</td>\n",
       "      <td>blue</td>\n",
       "    </tr>\n",
       "    <tr>\n",
       "      <th>863</th>\n",
       "      <td>B-1 257</td>\n",
       "      <td>B-1_Arquin_007_0257.jpg</td>\n",
       "      <td>hospitals (institutions, health facility), bui...</td>\n",
       "      <td>Municipal Department of Health</td>\n",
       "      <td>buildings (structures)</td>\n",
       "      <td>300004792</td>\n",
       "      <td>1000004792</td>\n",
       "      <td>buildings (structures)</td>\n",
       "      <td>Box 7</td>\n",
       "      <td>blue</td>\n",
       "    </tr>\n",
       "    <tr>\n",
       "      <th>864</th>\n",
       "      <td>B-1 257</td>\n",
       "      <td>B-1_Arquin_007_0257.jpg</td>\n",
       "      <td>hospitals (institutions, health facility), bui...</td>\n",
       "      <td>Municipal Department of Health</td>\n",
       "      <td>signs (declatory or advertising artifacts)</td>\n",
       "      <td>300123013</td>\n",
       "      <td>1000123013</td>\n",
       "      <td>signs (declatory or advertising artifacts)</td>\n",
       "      <td>Box 7</td>\n",
       "      <td>blue</td>\n",
       "    </tr>\n",
       "    <tr>\n",
       "      <th>865</th>\n",
       "      <td>B-1 257</td>\n",
       "      <td>B-1_Arquin_007_0257.jpg</td>\n",
       "      <td>hospitals (institutions, health facility), bui...</td>\n",
       "      <td>Municipal Department of Health</td>\n",
       "      <td>anonymous people</td>\n",
       "      <td>300435316</td>\n",
       "      <td>1000809718</td>\n",
       "      <td>anonymous people</td>\n",
       "      <td>Box 7</td>\n",
       "      <td>blue</td>\n",
       "    </tr>\n",
       "  </tbody>\n",
       "</table>\n",
       "</div>"
      ],
      "text/plain": [
       "    identifier                    media  \\\n",
       "861    B-1 257  B-1_Arquin_007_0257.jpg   \n",
       "863    B-1 257  B-1_Arquin_007_0257.jpg   \n",
       "864    B-1 257  B-1_Arquin_007_0257.jpg   \n",
       "865    B-1 257  B-1_Arquin_007_0257.jpg   \n",
       "\n",
       "                                               subject  \\\n",
       "861  hospitals (institutions, health facility), bui...   \n",
       "863  hospitals (institutions, health facility), bui...   \n",
       "864  hospitals (institutions, health facility), bui...   \n",
       "865  hospitals (institutions, health facility), bui...   \n",
       "\n",
       "                              title  \\\n",
       "861  Municipal Department of Health   \n",
       "863  Municipal Department of Health   \n",
       "864  Municipal Department of Health   \n",
       "865  Municipal Department of Health   \n",
       "\n",
       "                                       subjects SUBJECT_ID_x     TERM_ID  \\\n",
       "861   hospitals (institutions, health facility)    300343473  1000460680   \n",
       "863                      buildings (structures)    300004792  1000004792   \n",
       "864  signs (declatory or advertising artifacts)    300123013  1000123013   \n",
       "865                            anonymous people    300435316  1000809718   \n",
       "\n",
       "                                   join_concept  BoxId color  \n",
       "861   hospitals (institutions, health facility)  Box 7  blue  \n",
       "863                      buildings (structures)  Box 7  blue  \n",
       "864  signs (declatory or advertising artifacts)  Box 7  blue  \n",
       "865                            anonymous people  Box 7  blue  "
      ]
     },
     "execution_count": 228,
     "metadata": {},
     "output_type": "execute_result"
    }
   ],
   "source": [
    "df.loc[df['media']== search_media][narrow_list]"
   ]
  }
 ],
 "metadata": {
  "kernelspec": {
   "display_name": "Python 3",
   "language": "python",
   "name": "python3"
  },
  "language_info": {
   "codemirror_mode": {
    "name": "ipython",
    "version": 3
   },
   "file_extension": ".py",
   "mimetype": "text/x-python",
   "name": "python",
   "nbconvert_exporter": "python",
   "pygments_lexer": "ipython3",
   "version": "3.8.8"
  }
 },
 "nbformat": 4,
 "nbformat_minor": 5
}
