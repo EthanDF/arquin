{
 "cells": [
  {
   "cell_type": "markdown",
   "id": "c75b89e1",
   "metadata": {},
   "source": [
    "# Create Concept / Term Maps \n",
    "this notebook will load the subjects and create a translation for subjects\n",
    "\n",
    "The relationships are based on common SUBJECT_IDs from the TERMS.out file, paired with the LANGUAGE_RELS.out files. The language codes are specified and limited. While TERMS do not have to be PREFERRED, the LANG_REL term_ids must be. \n",
    "\n",
    "The set created in this notebook are independent of the analysis performed in the Arquin project (although the lanugages selected are specific to the project)."
   ]
  },
  {
   "cell_type": "code",
   "execution_count": 1,
   "id": "6d6c7415",
   "metadata": {},
   "outputs": [],
   "source": [
    "# run functions\n",
    "%run functions.ipynb"
   ]
  },
  {
   "cell_type": "code",
   "execution_count": 2,
   "id": "82fdc82e",
   "metadata": {},
   "outputs": [],
   "source": [
    "# english\n",
    "english_code = ['70051','70052']\n",
    "spanish_code = '70641'\n",
    "portuguese_code = '70543'"
   ]
  },
  {
   "cell_type": "markdown",
   "id": "76a8200f",
   "metadata": {},
   "source": [
    "Load the subjects from Lang_Rels and Terms"
   ]
  },
  {
   "cell_type": "code",
   "execution_count": 3,
   "id": "d9a1ca4c",
   "metadata": {},
   "outputs": [
    {
     "name": "stderr",
     "output_type": "stream",
     "text": [
      "/Users/ethan.fenichel/opt/anaconda3/lib/python3.8/site-packages/IPython/core/interactiveshell.py:3437: DtypeWarning: Columns (4) have mixed types.Specify dtype option on import or set low_memory=False.\n",
      "  exec(code_obj, self.user_global_ns, self.user_ns)\n"
     ]
    }
   ],
   "source": [
    "terms, lang_rels = load_metadata(eng_only=False, return_concepts=False)"
   ]
  },
  {
   "cell_type": "code",
   "execution_count": 4,
   "id": "e9a27c60",
   "metadata": {},
   "outputs": [],
   "source": [
    "t = terms"
   ]
  },
  {
   "cell_type": "code",
   "execution_count": 5,
   "id": "854c8875",
   "metadata": {},
   "outputs": [],
   "source": [
    "l = lang_rels[lang_rels['PREFERRED']=='P']"
   ]
  },
  {
   "cell_type": "code",
   "execution_count": 6,
   "id": "99499b14",
   "metadata": {},
   "outputs": [],
   "source": [
    "# Example\n",
    "# t[t['TERM_ID']=='1000414052'][['SUBJECT_ID','TERM_ID']]"
   ]
  },
  {
   "cell_type": "code",
   "execution_count": 7,
   "id": "3b7eae4d",
   "metadata": {},
   "outputs": [],
   "source": [
    "headers = ['SUBJECT_ID_x', 'LANGUAGE_CODE', 'TERM', 'TERM_ID', 'QUALIFIER']"
   ]
  },
  {
   "cell_type": "code",
   "execution_count": 8,
   "id": "3d6216dc",
   "metadata": {},
   "outputs": [],
   "source": [
    "lang_headers = [\n",
    "    'SUBJECT_ID', 'term_english', 'term_id_english', 'qualifier_english',\n",
    "    'term_spanish', 'term_id_spanish', 'qualifier_spanish',\n",
    "    'term_port', 'term_id_port', 'qualifier_port'\n",
    "               ]"
   ]
  },
  {
   "cell_type": "markdown",
   "id": "390517f5",
   "metadata": {},
   "source": [
    "### English"
   ]
  },
  {
   "cell_type": "code",
   "execution_count": 9,
   "id": "d3ba546a",
   "metadata": {},
   "outputs": [],
   "source": [
    "l_english = l[(l['LANGUAGE_CODE'].isin(english_code)) & (l['PREFERRED']=='P')]"
   ]
  },
  {
   "cell_type": "code",
   "execution_count": 10,
   "id": "3ccea7ad",
   "metadata": {},
   "outputs": [],
   "source": [
    "# examples\n",
    "# l_english[l_english['SUBJECT_ID']=='300005268']"
   ]
  },
  {
   "cell_type": "code",
   "execution_count": 11,
   "id": "952f8390",
   "metadata": {},
   "outputs": [],
   "source": [
    "lt_english = pd.merge(t, l_english, on=('TERM_ID'))[headers]"
   ]
  },
  {
   "cell_type": "code",
   "execution_count": 12,
   "id": "2703dd32",
   "metadata": {},
   "outputs": [],
   "source": [
    "# lt_english"
   ]
  },
  {
   "cell_type": "code",
   "execution_count": 13,
   "id": "ec97907d",
   "metadata": {},
   "outputs": [],
   "source": [
    "lt_english = lt_english.rename(columns={'SUBJECT_ID_x': 'SUBJECT_ID', \n",
    "'TERM': 'term_english', \n",
    "'TERM_ID': 'term_id_english', \n",
    "'QUALIFIER': 'qualifier_english'\n",
    "                       }\n",
    "              )\n"
   ]
  },
  {
   "cell_type": "code",
   "execution_count": 14,
   "id": "463018dc",
   "metadata": {},
   "outputs": [],
   "source": [
    "# example\n",
    "# lt_english[lt_english['SUBJECT_ID'] == '300005268']"
   ]
  },
  {
   "cell_type": "markdown",
   "id": "ce2b5b21",
   "metadata": {},
   "source": [
    "### Spanish"
   ]
  },
  {
   "cell_type": "code",
   "execution_count": 15,
   "id": "7b92daef",
   "metadata": {},
   "outputs": [],
   "source": [
    "l_spanish = l[(l['LANGUAGE_CODE']==spanish_code) & (l['PREFERRED']=='P')]"
   ]
  },
  {
   "cell_type": "code",
   "execution_count": 16,
   "id": "c1f61dc4",
   "metadata": {},
   "outputs": [],
   "source": [
    "lt_spanish = pd.merge(t, l_spanish, on=('TERM_ID'))[headers]"
   ]
  },
  {
   "cell_type": "code",
   "execution_count": 17,
   "id": "dc956042",
   "metadata": {},
   "outputs": [],
   "source": [
    "# example\n",
    "# lt_spanish[lt_spanish['TERM_ID']=='1000414052']"
   ]
  },
  {
   "cell_type": "code",
   "execution_count": 18,
   "id": "b913e171",
   "metadata": {},
   "outputs": [],
   "source": [
    "# example\n",
    "# lang_rels[lang_rels['TERM_ID']=='1000414052']"
   ]
  },
  {
   "cell_type": "code",
   "execution_count": 19,
   "id": "64838cab",
   "metadata": {},
   "outputs": [],
   "source": [
    "lt_spanish = lt_spanish.rename(columns={'SUBJECT_ID_x': 'SUBJECT_ID', \n",
    "'TERM': 'term_spanish', \n",
    "'TERM_ID': 'term_id_spanish', \n",
    "'QUALIFIER': 'qualifier_spanish'\n",
    "                       }\n",
    "              )\n"
   ]
  },
  {
   "cell_type": "code",
   "execution_count": 20,
   "id": "85848ed9",
   "metadata": {},
   "outputs": [],
   "source": [
    "# lt_spanish"
   ]
  },
  {
   "cell_type": "code",
   "execution_count": 21,
   "id": "f0543ea5",
   "metadata": {},
   "outputs": [],
   "source": [
    "# example\n",
    "# lt_spanish[lt_spanish['SUBJECT_ID'] == '300005268']"
   ]
  },
  {
   "cell_type": "code",
   "execution_count": 22,
   "id": "668460e9",
   "metadata": {},
   "outputs": [],
   "source": [
    "l_port = l[(l['LANGUAGE_CODE']==portuguese_code) & (l['PREFERRED']=='P')]"
   ]
  },
  {
   "cell_type": "code",
   "execution_count": 23,
   "id": "5a3ebded",
   "metadata": {},
   "outputs": [],
   "source": [
    "lt_port = pd.merge(t, l_port, on=('TERM_ID'))"
   ]
  },
  {
   "cell_type": "code",
   "execution_count": 24,
   "id": "ac93f526",
   "metadata": {},
   "outputs": [],
   "source": [
    "lt_port = lt_port.rename(columns={'SUBJECT_ID_x': 'SUBJECT_ID', \n",
    "'TERM': 'term_port', \n",
    "'TERM_ID': 'term_id_port', \n",
    "'QUALIFIER': 'qualifier_port'\n",
    "                       }\n",
    "              )"
   ]
  },
  {
   "cell_type": "code",
   "execution_count": 25,
   "id": "868b2e20",
   "metadata": {},
   "outputs": [],
   "source": [
    "# # example\n",
    "# lt_port[lt_port['SUBJECT_ID']=='300005268']"
   ]
  },
  {
   "cell_type": "code",
   "execution_count": 26,
   "id": "deeec664",
   "metadata": {},
   "outputs": [],
   "source": [
    "# example\n",
    "# lt_port[lt_port['SUBJECT_ID']=='300005268']"
   ]
  },
  {
   "cell_type": "code",
   "execution_count": 27,
   "id": "7587ee71",
   "metadata": {},
   "outputs": [],
   "source": [
    "lt_first = pd.merge(lt_english, lt_spanish, on=['SUBJECT_ID'], how='outer')"
   ]
  },
  {
   "cell_type": "code",
   "execution_count": 29,
   "id": "4f03ae39",
   "metadata": {},
   "outputs": [],
   "source": [
    "lt_all = pd.merge(lt_first, lt_port, on=['SUBJECT_ID'], how='outer')"
   ]
  },
  {
   "cell_type": "code",
   "execution_count": 30,
   "id": "f4538b8f",
   "metadata": {},
   "outputs": [],
   "source": [
    "# lt_all.columns"
   ]
  },
  {
   "cell_type": "code",
   "execution_count": 31,
   "id": "8c0ff8d3",
   "metadata": {},
   "outputs": [],
   "source": [
    "# example\n",
    "# lt_all[lt_all['SUBJECT_ID']=='300005268'][lang_headers]"
   ]
  },
  {
   "cell_type": "code",
   "execution_count": 32,
   "id": "00ba19d9",
   "metadata": {},
   "outputs": [],
   "source": [
    "# example# lt_all[lt_all['term_id_spanish']=='1000414052']"
   ]
  },
  {
   "cell_type": "markdown",
   "id": "c8943d00",
   "metadata": {},
   "source": [
    "## Results"
   ]
  },
  {
   "cell_type": "markdown",
   "id": "771d022e",
   "metadata": {},
   "source": [
    "view the results that have all translations available "
   ]
  },
  {
   "cell_type": "code",
   "execution_count": 33,
   "id": "f2e9c78a",
   "metadata": {},
   "outputs": [
    {
     "data": {
      "text/html": [
       "<div>\n",
       "<style scoped>\n",
       "    .dataframe tbody tr th:only-of-type {\n",
       "        vertical-align: middle;\n",
       "    }\n",
       "\n",
       "    .dataframe tbody tr th {\n",
       "        vertical-align: top;\n",
       "    }\n",
       "\n",
       "    .dataframe thead th {\n",
       "        text-align: right;\n",
       "    }\n",
       "</style>\n",
       "<table border=\"1\" class=\"dataframe\">\n",
       "  <thead>\n",
       "    <tr style=\"text-align: right;\">\n",
       "      <th></th>\n",
       "      <th>SUBJECT_ID</th>\n",
       "      <th>LANGUAGE_CODE_x</th>\n",
       "      <th>term_english</th>\n",
       "      <th>term_id_english</th>\n",
       "      <th>qualifier_english</th>\n",
       "      <th>LANGUAGE_CODE_y</th>\n",
       "      <th>term_spanish</th>\n",
       "      <th>term_id_spanish</th>\n",
       "      <th>qualifier_spanish</th>\n",
       "      <th>AACR2_FLAG</th>\n",
       "      <th>...</th>\n",
       "      <th>term_port</th>\n",
       "      <th>term_id_port</th>\n",
       "      <th>VERNACULAR</th>\n",
       "      <th>LANGUAGE_CODE</th>\n",
       "      <th>PREFERRED_y</th>\n",
       "      <th>SUBJECT_ID_y</th>\n",
       "      <th>qualifier_port</th>\n",
       "      <th>TERM_TYPE</th>\n",
       "      <th>PART_OF_SPEECH</th>\n",
       "      <th>LANG_STAT</th>\n",
       "    </tr>\n",
       "  </thead>\n",
       "  <tbody>\n",
       "    <tr>\n",
       "      <th>57</th>\n",
       "      <td>300266304</td>\n",
       "      <td>70051</td>\n",
       "      <td>rare books</td>\n",
       "      <td>1000311405</td>\n",
       "      <td>NaN</td>\n",
       "      <td>70641</td>\n",
       "      <td>libros raros</td>\n",
       "      <td>1000536266</td>\n",
       "      <td>NaN</td>\n",
       "      <td>NaN</td>\n",
       "      <td>...</td>\n",
       "      <td>livros raros</td>\n",
       "      <td>1000884748</td>\n",
       "      <td>U</td>\n",
       "      <td>70543</td>\n",
       "      <td>P</td>\n",
       "      <td>300266304</td>\n",
       "      <td>NaN</td>\n",
       "      <td>D</td>\n",
       "      <td>PN</td>\n",
       "      <td>U</td>\n",
       "    </tr>\n",
       "    <tr>\n",
       "      <th>505</th>\n",
       "      <td>300027119</td>\n",
       "      <td>70051</td>\n",
       "      <td>lists</td>\n",
       "      <td>1000027119</td>\n",
       "      <td>document genres</td>\n",
       "      <td>70641</td>\n",
       "      <td>listas</td>\n",
       "      <td>1000426022</td>\n",
       "      <td>NaN</td>\n",
       "      <td>NaN</td>\n",
       "      <td>...</td>\n",
       "      <td>listas</td>\n",
       "      <td>1000426022</td>\n",
       "      <td>U</td>\n",
       "      <td>70543</td>\n",
       "      <td>P</td>\n",
       "      <td>300027119</td>\n",
       "      <td>NaN</td>\n",
       "      <td>D</td>\n",
       "      <td>PN</td>\n",
       "      <td>U</td>\n",
       "    </tr>\n",
       "    <tr>\n",
       "      <th>510</th>\n",
       "      <td>300026741</td>\n",
       "      <td>70051</td>\n",
       "      <td>calendars</td>\n",
       "      <td>1000026741</td>\n",
       "      <td>documents</td>\n",
       "      <td>70641</td>\n",
       "      <td>calendarios</td>\n",
       "      <td>1000425805</td>\n",
       "      <td>NaN</td>\n",
       "      <td>NaN</td>\n",
       "      <td>...</td>\n",
       "      <td>calendários</td>\n",
       "      <td>1000850251</td>\n",
       "      <td>U</td>\n",
       "      <td>70543</td>\n",
       "      <td>P</td>\n",
       "      <td>300026741</td>\n",
       "      <td>NaN</td>\n",
       "      <td>D</td>\n",
       "      <td>PN</td>\n",
       "      <td>NaN</td>\n",
       "    </tr>\n",
       "    <tr>\n",
       "      <th>557</th>\n",
       "      <td>300263683</td>\n",
       "      <td>70051</td>\n",
       "      <td>ikegobo</td>\n",
       "      <td>1000263683</td>\n",
       "      <td>NaN</td>\n",
       "      <td>70641</td>\n",
       "      <td>ikegobo</td>\n",
       "      <td>1000263683</td>\n",
       "      <td>NaN</td>\n",
       "      <td>NaN</td>\n",
       "      <td>...</td>\n",
       "      <td>ikegobo</td>\n",
       "      <td>1000263683</td>\n",
       "      <td>U</td>\n",
       "      <td>70543</td>\n",
       "      <td>P</td>\n",
       "      <td>300263683</td>\n",
       "      <td>NaN</td>\n",
       "      <td>D</td>\n",
       "      <td>B</td>\n",
       "      <td>U</td>\n",
       "    </tr>\n",
       "    <tr>\n",
       "      <th>561</th>\n",
       "      <td>300263722</td>\n",
       "      <td>70051</td>\n",
       "      <td>stained glass</td>\n",
       "      <td>1000263722</td>\n",
       "      <td>visual works</td>\n",
       "      <td>70641</td>\n",
       "      <td>vidriera de colores</td>\n",
       "      <td>1000456159</td>\n",
       "      <td>NaN</td>\n",
       "      <td>NaN</td>\n",
       "      <td>...</td>\n",
       "      <td>vitrais</td>\n",
       "      <td>1000866766</td>\n",
       "      <td>U</td>\n",
       "      <td>70543</td>\n",
       "      <td>P</td>\n",
       "      <td>300263722</td>\n",
       "      <td>obras visuais</td>\n",
       "      <td>D</td>\n",
       "      <td>PN</td>\n",
       "      <td>U</td>\n",
       "    </tr>\n",
       "    <tr>\n",
       "      <th>...</th>\n",
       "      <td>...</td>\n",
       "      <td>...</td>\n",
       "      <td>...</td>\n",
       "      <td>...</td>\n",
       "      <td>...</td>\n",
       "      <td>...</td>\n",
       "      <td>...</td>\n",
       "      <td>...</td>\n",
       "      <td>...</td>\n",
       "      <td>...</td>\n",
       "      <td>...</td>\n",
       "      <td>...</td>\n",
       "      <td>...</td>\n",
       "      <td>...</td>\n",
       "      <td>...</td>\n",
       "      <td>...</td>\n",
       "      <td>...</td>\n",
       "      <td>...</td>\n",
       "      <td>...</td>\n",
       "      <td>...</td>\n",
       "      <td>...</td>\n",
       "    </tr>\n",
       "    <tr>\n",
       "      <th>45958</th>\n",
       "      <td>300014907</td>\n",
       "      <td>70051</td>\n",
       "      <td>coating</td>\n",
       "      <td>1000014907</td>\n",
       "      <td>material</td>\n",
       "      <td>70641</td>\n",
       "      <td>revestimiento</td>\n",
       "      <td>1000419573</td>\n",
       "      <td>material</td>\n",
       "      <td>NaN</td>\n",
       "      <td>...</td>\n",
       "      <td>revestimentos</td>\n",
       "      <td>1000885091</td>\n",
       "      <td>U</td>\n",
       "      <td>70543</td>\n",
       "      <td>P</td>\n",
       "      <td>300014907</td>\n",
       "      <td>material</td>\n",
       "      <td>D</td>\n",
       "      <td>PN</td>\n",
       "      <td>U</td>\n",
       "    </tr>\n",
       "    <tr>\n",
       "      <th>45990</th>\n",
       "      <td>300028051</td>\n",
       "      <td>70051</td>\n",
       "      <td>books</td>\n",
       "      <td>1000028051</td>\n",
       "      <td>NaN</td>\n",
       "      <td>70641</td>\n",
       "      <td>libros</td>\n",
       "      <td>1000396483</td>\n",
       "      <td>NaN</td>\n",
       "      <td>NaN</td>\n",
       "      <td>...</td>\n",
       "      <td>livros</td>\n",
       "      <td>1000884742</td>\n",
       "      <td>U</td>\n",
       "      <td>70543</td>\n",
       "      <td>P</td>\n",
       "      <td>300028051</td>\n",
       "      <td>NaN</td>\n",
       "      <td>D</td>\n",
       "      <td>PN</td>\n",
       "      <td>U</td>\n",
       "    </tr>\n",
       "    <tr>\n",
       "      <th>46187</th>\n",
       "      <td>300033644</td>\n",
       "      <td>70051</td>\n",
       "      <td>mural paintings</td>\n",
       "      <td>1000033644</td>\n",
       "      <td>visual works</td>\n",
       "      <td>70641</td>\n",
       "      <td>pinturas murales</td>\n",
       "      <td>1000427689</td>\n",
       "      <td>NaN</td>\n",
       "      <td>NaN</td>\n",
       "      <td>...</td>\n",
       "      <td>murais</td>\n",
       "      <td>1000884839</td>\n",
       "      <td>U</td>\n",
       "      <td>70543</td>\n",
       "      <td>P</td>\n",
       "      <td>300033644</td>\n",
       "      <td>NaN</td>\n",
       "      <td>D</td>\n",
       "      <td>PN</td>\n",
       "      <td>U</td>\n",
       "    </tr>\n",
       "    <tr>\n",
       "      <th>46697</th>\n",
       "      <td>300026030</td>\n",
       "      <td>70051</td>\n",
       "      <td>documents</td>\n",
       "      <td>1000026030</td>\n",
       "      <td>object genre</td>\n",
       "      <td>70641</td>\n",
       "      <td>documentos</td>\n",
       "      <td>1000425365</td>\n",
       "      <td>NaN</td>\n",
       "      <td>NaN</td>\n",
       "      <td>...</td>\n",
       "      <td>documentos</td>\n",
       "      <td>1000425365</td>\n",
       "      <td>U</td>\n",
       "      <td>70543</td>\n",
       "      <td>P</td>\n",
       "      <td>300026030</td>\n",
       "      <td>NaN</td>\n",
       "      <td>D</td>\n",
       "      <td>PN</td>\n",
       "      <td>U</td>\n",
       "    </tr>\n",
       "    <tr>\n",
       "      <th>47396</th>\n",
       "      <td>300230899</td>\n",
       "      <td>70051</td>\n",
       "      <td>enslaved people</td>\n",
       "      <td>1000867672</td>\n",
       "      <td>NaN</td>\n",
       "      <td>70641</td>\n",
       "      <td>esclavos</td>\n",
       "      <td>1000537503</td>\n",
       "      <td>NaN</td>\n",
       "      <td>NaN</td>\n",
       "      <td>...</td>\n",
       "      <td>escravos</td>\n",
       "      <td>1000884416</td>\n",
       "      <td>U</td>\n",
       "      <td>70543</td>\n",
       "      <td>P</td>\n",
       "      <td>300230899</td>\n",
       "      <td>NaN</td>\n",
       "      <td>D</td>\n",
       "      <td>PN</td>\n",
       "      <td>U</td>\n",
       "    </tr>\n",
       "  </tbody>\n",
       "</table>\n",
       "<p>1439 rows × 28 columns</p>\n",
       "</div>"
      ],
      "text/plain": [
       "      SUBJECT_ID LANGUAGE_CODE_x     term_english term_id_english  \\\n",
       "57     300266304           70051       rare books      1000311405   \n",
       "505    300027119           70051            lists      1000027119   \n",
       "510    300026741           70051        calendars      1000026741   \n",
       "557    300263683           70051          ikegobo      1000263683   \n",
       "561    300263722           70051    stained glass      1000263722   \n",
       "...          ...             ...              ...             ...   \n",
       "45958  300014907           70051          coating      1000014907   \n",
       "45990  300028051           70051            books      1000028051   \n",
       "46187  300033644           70051  mural paintings      1000033644   \n",
       "46697  300026030           70051        documents      1000026030   \n",
       "47396  300230899           70051  enslaved people      1000867672   \n",
       "\n",
       "      qualifier_english LANGUAGE_CODE_y         term_spanish term_id_spanish  \\\n",
       "57                  NaN           70641         libros raros      1000536266   \n",
       "505     document genres           70641               listas      1000426022   \n",
       "510           documents           70641          calendarios      1000425805   \n",
       "557                 NaN           70641              ikegobo      1000263683   \n",
       "561        visual works           70641  vidriera de colores      1000456159   \n",
       "...                 ...             ...                  ...             ...   \n",
       "45958          material           70641        revestimiento      1000419573   \n",
       "45990               NaN           70641               libros      1000396483   \n",
       "46187      visual works           70641     pinturas murales      1000427689   \n",
       "46697      object genre           70641           documentos      1000425365   \n",
       "47396               NaN           70641             esclavos      1000537503   \n",
       "\n",
       "      qualifier_spanish AACR2_FLAG  ...      term_port term_id_port  \\\n",
       "57                  NaN        NaN  ...   livros raros   1000884748   \n",
       "505                 NaN        NaN  ...         listas   1000426022   \n",
       "510                 NaN        NaN  ...    calendários   1000850251   \n",
       "557                 NaN        NaN  ...        ikegobo   1000263683   \n",
       "561                 NaN        NaN  ...        vitrais   1000866766   \n",
       "...                 ...        ...  ...            ...          ...   \n",
       "45958          material        NaN  ...  revestimentos   1000885091   \n",
       "45990               NaN        NaN  ...         livros   1000884742   \n",
       "46187               NaN        NaN  ...         murais   1000884839   \n",
       "46697               NaN        NaN  ...     documentos   1000425365   \n",
       "47396               NaN        NaN  ...       escravos   1000884416   \n",
       "\n",
       "       VERNACULAR LANGUAGE_CODE PREFERRED_y SUBJECT_ID_y qualifier_port  \\\n",
       "57              U         70543           P    300266304            NaN   \n",
       "505             U         70543           P    300027119            NaN   \n",
       "510             U         70543           P    300026741            NaN   \n",
       "557             U         70543           P    300263683            NaN   \n",
       "561             U         70543           P    300263722  obras visuais   \n",
       "...           ...           ...         ...          ...            ...   \n",
       "45958           U         70543           P    300014907       material   \n",
       "45990           U         70543           P    300028051            NaN   \n",
       "46187           U         70543           P    300033644            NaN   \n",
       "46697           U         70543           P    300026030            NaN   \n",
       "47396           U         70543           P    300230899            NaN   \n",
       "\n",
       "       TERM_TYPE PART_OF_SPEECH LANG_STAT  \n",
       "57             D             PN         U  \n",
       "505            D             PN         U  \n",
       "510            D             PN       NaN  \n",
       "557            D              B         U  \n",
       "561            D             PN         U  \n",
       "...          ...            ...       ...  \n",
       "45958          D             PN         U  \n",
       "45990          D             PN         U  \n",
       "46187          D             PN         U  \n",
       "46697          D             PN         U  \n",
       "47396          D             PN         U  \n",
       "\n",
       "[1439 rows x 28 columns]"
      ]
     },
     "execution_count": 33,
     "metadata": {},
     "output_type": "execute_result"
    }
   ],
   "source": [
    "# lt_all[\n",
    "#     (lt_all['term_id_english'].notnull()) \n",
    "#     & (lt_all['term_id_spanish'].notnull()) \n",
    "#     & (lt_all['term_id_port'].notnull()) \n",
    "# ]"
   ]
  }
 ],
 "metadata": {
  "kernelspec": {
   "display_name": "Python 3",
   "language": "python",
   "name": "python3"
  },
  "language_info": {
   "codemirror_mode": {
    "name": "ipython",
    "version": 3
   },
   "file_extension": ".py",
   "mimetype": "text/x-python",
   "name": "python",
   "nbconvert_exporter": "python",
   "pygments_lexer": "ipython3",
   "version": "3.8.8"
  }
 },
 "nbformat": 4,
 "nbformat_minor": 5
}
