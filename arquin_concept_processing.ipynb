{
 "cells": [
  {
   "cell_type": "code",
   "execution_count": 1,
   "metadata": {
    "pycharm": {
     "name": "#%%\n"
    }
   },
   "outputs": [],
   "source": [
    "from IPython.display import clear_output\n",
    "import pandas as pd\n",
    "from pandas import Series\n",
    "import numpy as np\n",
    "import re\n",
    "import csv\n",
    "from gsheets import Sheets\n",
    "from datetime import datetime"
   ]
  },
  {
   "cell_type": "code",
   "execution_count": null,
   "metadata": {
    "pycharm": {
     "is_executing": true,
     "name": "#%%\n"
    }
   },
   "outputs": [],
   "source": [
    "# pd.set_option(\"display.max_rows\", 300)\n",
    "pd.set_option('display.max_colwidth', None)"
   ]
  },
  {
   "cell_type": "code",
   "execution_count": null,
   "metadata": {
    "pycharm": {
     "is_executing": true,
     "name": "#%%\n"
    }
   },
   "outputs": [],
   "source": [
    "url = 'https://docs.google.com/spreadsheets/d/1LRbios7yQRo3aqCh0Es2Wiae_dicg_OtL-_yqP-Tb8I/edit#gid=1718343431'"
   ]
  },
  {
   "cell_type": "code",
   "execution_count": null,
   "metadata": {
    "pycharm": {
     "name": "#%%\n"
    }
   },
   "outputs": [],
   "source": [
    "terms_header_list = [\"AACR2_FLAG\", \"DISPLAY_DATE\", \"DISPLAY_NAME\", \"DISPLAY_ORDER\", \"END_DATE\", \"HISTORIC_FLAG\", \"OTHER_FLAGS\", \"PREFERRED\", \"START_DATE\", \"SUBJECT_ID\", \"TERM\", \"TERM_ID\", \"VERNACULAR\"]\n",
    "terms_dtype = {'TERM_ID': str, 'SUBJECT_ID' : str}\n",
    "lang_rels_header_list = [\"LANGUAGE_CODE\", \"PREFERRED\", \"SUBJECT_ID\", \"TERM_ID\", \"QUALIFIER\", \"TERM_TYPE\", \"PART_OF_SPEECH\", \"LANG_STAT\"]\n",
    "lang_rel_dtype = {'TERM_ID': str, 'SUBJECT_ID' : str, 'LANGUAGE_CODE': str}\n",
    "spreadsheet = ['identifier', 'media', 'subject', 'title', 'subjects', 'join_concept']\n",
    "narrow_list = ['identifier', 'media', 'subject', 'title', 'subjects', 'SUBJECT_ID_x', 'TERM_ID', 'join_concept']\n",
    "concept_list = ['PREFERRED_x', 'SUBJECT_ID_x', 'TERM', 'TERM_ID', 'LANGUAGE_CODE', 'QUALIFIER', 'LANG_STAT', 'use_concept', 'join_concept']\n",
    "alt_lang_list = ['identifier', 'media', 'subjects', 'SUBJECT_ID_x', 'TERM_ID_x', 'use_concept_x', 'LANGUAGE_CODE_y', 'PREFERRED_y_y', 'SUBJECT_ID_y_y', 'TERM_ID_y', 'use_concept_y']"
   ]
  },
  {
   "cell_type": "code",
   "execution_count": null,
   "metadata": {
    "pycharm": {
     "name": "#%%\n"
    }
   },
   "outputs": [],
   "source": [
    "def read_aat_terms(file_path: str, names: list, data_types: dict) -> pd.DataFrame:\n",
    "    data = pd.read_csv(file_path\n",
    "                       , sep = '\\t'\n",
    "                       , warn_bad_lines=True\n",
    "                       , error_bad_lines=False\n",
    "                       , names=names\n",
    "                       , dtype=data_types)\n",
    "    return data"
   ]
  },
  {
   "cell_type": "code",
   "execution_count": null,
   "metadata": {
    "pycharm": {
     "name": "#%%\n"
    }
   },
   "outputs": [],
   "source": [
    "def format_column_names(df: pd.DataFrame) -> pd.DataFrame:\n",
    "    column_names = list(map(lambda x: x.strip().lower().replace(\"dcterms:\", \"\"), df.columns))\n",
    "    df = df.set_axis(column_names, axis=1, inplace=False)\n",
    "    return df"
   ]
  },
  {
   "cell_type": "code",
   "execution_count": null,
   "metadata": {
    "pycharm": {
     "name": "#%%\n"
    }
   },
   "outputs": [],
   "source": [
    "def get_unique_subjects(box_number: int=1) -> list:\n",
    "    subjects = []\n",
    "    single_list = []\n",
    "    box_id = f'Box {box_number}'\n",
    "    try:\n",
    "        df = s.find(box_id).to_frame()\n",
    "        df = format_column_names(df)\n",
    "        subjects = df['subject'].unique().tolist()\n",
    "        for term in subjects:\n",
    "            split_terms = str(term).split(',')\n",
    "            for ind_term in split_terms:\n",
    "                single_list.append(ind_term.strip())\n",
    "    except:\n",
    "        print(f'ParserError: could not access {box_id}')\n",
    "\n",
    "    return single_list"
   ]
  },
  {
   "cell_type": "code",
   "execution_count": null,
   "metadata": {
    "pycharm": {
     "name": "#%%\n"
    }
   },
   "outputs": [],
   "source": [
    "def combine_boxes(df1: pd.DataFrame, df2: pd.DataFrame) -> pd.DataFrame:\n",
    "    \"\"\"assuming df1 and df2 are dataframes with same schema, combines them and returns them\"\"\"\n",
    "    df_concat = pd.concat([df1, df2])\n",
    "    return df_concat"
   ]
  },
  {
   "cell_type": "code",
   "execution_count": null,
   "metadata": {
    "pycharm": {
     "name": "#%%\n"
    }
   },
   "outputs": [],
   "source": [
    "def split_df(df: pd.DataFrame) -> pd.DataFrame:\n",
    "    \"\"\"given a dataframe with multiple concepts specified, splits them and returns them \n",
    "    as one row per concept\n",
    "    \"\"\"\n",
    "    split_df = df['subject'].str.split(',', expand=True).apply(Series, 1).stack()\n",
    "    split_df.index = split_df.index.droplevel(-1)\n",
    "    split_df.name = 'subjects'\n",
    "#     del df['subjects']\n",
    "    x = df.join(split_df)\n",
    "    x['subjects'] = x['subjects'].str.strip()\n",
    "    x['join_concept'] = x['subjects'].str.lower()\n",
    "    \n",
    "#   put back the comma back where it was replaced with ∆ in the check_for_commas function\n",
    "    x['subject'] = x['subject'].str.replace('∆', ',')\n",
    "    x['subjects'] = x['subjects'].str.replace('∆', ',')\n",
    "    x['join_concept'] = x['join_concept'].str.replace('∆', ',')\n",
    "    \n",
    "    return x"
   ]
  },
  {
   "cell_type": "code",
   "execution_count": null,
   "metadata": {
    "pycharm": {
     "name": "#%%\n"
    }
   },
   "outputs": [],
   "source": [
    "def load_metadata() -> pd.DataFrame:\n",
    "    \"\"\"load the metadata that will be used\n",
    "    files were downloaded from: http://aatdownloads.getty.edu/\n",
    "    \"\"\"\n",
    "    terms = read_aat_terms('./AAT_Files/TERM.out', terms_header_list, terms_dtype)\n",
    "    lang_rels = read_aat_terms('./AAT_Files/LANGUAGE_RELS.out', lang_rels_header_list, lang_rel_dtype)\n",
    "    concepts = (pd.merge(terms, lang_rels, how = 'inner', on='TERM_ID'))\n",
    "    concepts['full_concept'] = (concepts.TERM + ' (' + concepts.QUALIFIER + ')')\n",
    "    concepts['use_concept'] = (concepts.full_concept.fillna(concepts.TERM))\n",
    "    concepts['join_concept'] = (concepts.use_concept.str.lower())\n",
    "\n",
    "    return concepts"
   ]
  },
  {
   "cell_type": "code",
   "execution_count": null,
   "metadata": {
    "pycharm": {
     "name": "#%%\n"
    }
   },
   "outputs": [],
   "source": [
    "def return_box(box_num: int) -> pd.DataFrame:\n",
    "    box_id = f'Box {str(box_num)}'\n",
    "    df = s.find(box_id).to_frame()\n",
    "    df = format_column_names(df)\n",
    "    return df"
   ]
  },
  {
   "cell_type": "code",
   "execution_count": null,
   "metadata": {
    "pycharm": {
     "name": "#%%\n"
    }
   },
   "outputs": [],
   "source": [
    "def check_for_commas(df: pd.DataFrame, box_number: int) -> pd.DataFrame:\n",
    "    '''\n",
    "    1. create a dictionary from the media and subjects for the indexes\n",
    "    2. cross reference the subjects of each box (df) to see if they contain any of the concepts that contain a comma (concepts_comma)\n",
    "    3. replace the internal comma of any of those concepts with a '∆'\n",
    "    4. replace the full concept for parsing by comma\n",
    "    5. later, during the parsing, replace any internal commas (now '∆') with a comma \n",
    "    '''\n",
    "    \n",
    "    comma_change_file = './log_files/comma_change_file_log.csv'\n",
    "    \n",
    "#     create a dictionary from the media and subject for the box (df)\n",
    "    df_media_subject = {}\n",
    "    df_media_subject = df.set_index('media').to_dict()['subject']\n",
    "    \n",
    "#   iterate through the df for each record in the concepts_comma list and replace ',' with ∆\n",
    "    log_list = []\n",
    "    for i, media in enumerate(df_media_subject):\n",
    "        clear_output(wait=True)\n",
    "        print(f'working on box: {box_number}, row {i+1}')\n",
    "\n",
    "        for j, conc in enumerate(concepts_comma):\n",
    "            clear_output(wait=True)\n",
    "            print(f'working on box: {box_number}, row {i+1}, concept: {j+1}')\n",
    "            found_conc = False\n",
    "            comma_conc = conc+','\n",
    "        \n",
    "            try:\n",
    "                search_within = df_media_subject[media]\n",
    "                re_conc = conc.replace('(', '\\(')\n",
    "                re_conc = re_conc.replace(')', '\\)')\n",
    "\n",
    "                if comma_conc in search_within:\n",
    "                    found_conc = True\n",
    "                if bool(re.search(f'{re_conc}$', search_within)):\n",
    "                    found_conc = True\n",
    "\n",
    "                if found_conc:\n",
    "                    now = datetime.now()\n",
    "                    current_time = now.strftime(\"%m-%d-%y %H:%M:%S\")\n",
    "\n",
    "                    log_list.append([f'{current_time}: {i}: {j}: {media} contains subject: {conc}'])\n",
    "        #                 print(f'{i}: {j}: {media} contains subject: {conc}')\n",
    "                    df_replace = df.loc[df['media'] == media]\n",
    "                    try:\n",
    "                        x = df_replace.to_numpy()[0][3]\n",
    "                        x = x.replace(conc, conc.replace(',', '∆'))\n",
    "                        df.loc[df['media'] == media, 'subject'] = x\n",
    "                    except IndexError:\n",
    "                        print(f'Index Error, media = {media}, subject = {x}')\n",
    "                        break\n",
    "            except TypeError:\n",
    "                continue\n",
    "        \n",
    "    with open(comma_change_file, 'a', newline= '') as myfile:\n",
    "        wr = csv.writer(myfile, quoting=csv.QUOTE_ALL)\n",
    "        wr.writerows(log_list)\n",
    "    \n",
    "    return(df)"
   ]
  },
  {
   "cell_type": "markdown",
   "metadata": {
    "pycharm": {
     "name": "#%% md\n"
    }
   },
   "source": [
    "## Load the spreadsheet information"
   ]
  },
  {
   "cell_type": "code",
   "execution_count": null,
   "metadata": {
    "pycharm": {
     "name": "#%%\n"
    }
   },
   "outputs": [],
   "source": [
    "# if HttpAccessTokenRefreshError, close everything and start over\n",
    "\n",
    "sheets = Sheets.from_files('~/client_secrets.json', '~/storage.json')\n",
    "s = sheets.get(url)"
   ]
  },
  {
   "cell_type": "markdown",
   "metadata": {
    "pycharm": {
     "name": "#%% md\n"
    }
   },
   "source": [
    "from the spreadsheet information, identify the sheets that start with 'Box' to define the boxes to be read into the dataframe"
   ]
  },
  {
   "cell_type": "code",
   "execution_count": null,
   "metadata": {
    "pycharm": {
     "name": "#%%\n"
    }
   },
   "outputs": [],
   "source": [
    "box_list = []\n",
    "box_list_sheets = s.sheets.titles()\n",
    "# box_list_sheets = ['Box 2','Box 3','Box 4','Box 5 ','Box 6','Box 7','Box 8','Box 9','Box 10','Box 11','Box 12','Box 13','Box 14','Box 19','Box 20','Box 21','Box 26','Box 27','Box 28','Box 35','Box 36','Box 37','Box 38','Box 39','Box 40','Box 41','Box 43','Box 44','Box 45','Box 46','Box 47','Box 48','Box 49','Box 50','Box 51','Box 52','Box 53','Box 54','Box 55','Box 56','Box 58','Box 59','Box 60','Box 61','Box 62','Box 63','Box 64','Box 65','Box 66','Box 67','Box 68','Box 69']\n",
    "\n",
    "for b in box_list_sheets:\n",
    "    if 'Box' in b:\n",
    "        box_list.append(int(b[4:]))"
   ]
  },
  {
   "cell_type": "markdown",
   "metadata": {
    "pycharm": {
     "name": "#%% md\n"
    }
   },
   "source": [
    "## Load the Metadata from Getty AAT"
   ]
  },
  {
   "cell_type": "code",
   "execution_count": null,
   "metadata": {
    "pycharm": {
     "name": "#%%\n"
    }
   },
   "outputs": [],
   "source": [
    "# get the metatadata\n",
    "concepts = load_metadata()"
   ]
  },
  {
   "cell_type": "code",
   "execution_count": null,
   "metadata": {
    "pycharm": {
     "name": "#%%\n"
    }
   },
   "outputs": [],
   "source": [
    "# review the metadata for concepts containing a comma and return those as a list\n",
    "concepts_drop = concepts[concepts['use_concept'].notna()]\n",
    "concepts_search = concepts_drop[concepts_drop['use_concept'].str.contains(',')]\n",
    "concepts_comma = concepts_search['use_concept'].to_list()"
   ]
  },
  {
   "cell_type": "markdown",
   "metadata": {
    "pycharm": {
     "name": "#%% md\n"
    }
   },
   "source": [
    "## Read the data from the spreadsheet into the local dataframe"
   ]
  },
  {
   "cell_type": "code",
   "execution_count": null,
   "metadata": {
    "pycharm": {
     "name": "#%%\n"
    }
   },
   "outputs": [],
   "source": [
    "for i, box_number in enumerate(box_list):\n",
    "    df = return_box(box_number)\n",
    "    clear_output(wait=True)\n",
    "    print(f\"working on Box {box_number}\")\n",
    "    df = check_for_commas(df, box_number)\n",
    "    try:\n",
    "        df = split_df(df)\n",
    "    except:\n",
    "        print(f'failed to split df for box number {box_number}')\n",
    "    if i+1 == 1:\n",
    "        df_combined = df\n",
    "    else:\n",
    "        df_combined = combine_boxes(df_combined, df)\n",
    "clear_output(wait=True)    \n",
    "print(f'complete, imported {i+1} boxes')"
   ]
  },
  {
   "cell_type": "code",
   "execution_count": null,
   "metadata": {
    "pycharm": {
     "name": "#%%\n"
    }
   },
   "outputs": [],
   "source": [
    "# get some basic metrics about the imported data\n",
    "\n",
    "items_with_subjects = len(df_combined[df_combined['subject'].notnull()])\n",
    "items_without_subjects = len(df_combined[df_combined['subject'].isnull()])\n",
    "total_items = len(df_combined)\n",
    "print(f'total items: {total_items}\\nitems with subjects {items_with_subjects}\\nitems without subjects {items_without_subjects}')\n",
    "unique_subjects = len(df_combined['subjects'].unique())\n",
    "print(f'there are {unique_subjects} unique subjects found')"
   ]
  },
  {
   "cell_type": "code",
   "execution_count": null,
   "metadata": {
    "pycharm": {
     "name": "#%%\n"
    }
   },
   "outputs": [],
   "source": [
    "# get the boxid\n",
    "df_combined['boxid_temp'] = df_combined['media'].str.extract(r\"(_0\\d+_)\")\n",
    "df_combined = df_combined[df_combined['media'].notna()]\n",
    "df_combined['boxid_temp'] = df_combined['boxid_temp'].str.replace(\"_\",\"\")\n",
    "df_combined['boxid_temp'] = pd.to_numeric(df_combined['boxid_temp'], errors='coerce')\n",
    "df_combined = df_combined.dropna(subset=['boxid_temp'])\n",
    "df_combined['boxid_temp'] = df_combined['boxid_temp'].astype('int')\n",
    "df_combined['boxid_temp'] = df_combined['boxid_temp'].astype('str')\n",
    "df_combined['BoxId'] = 'Box '+df_combined['boxid_temp']\n",
    "df_combined.drop('boxid_temp', inplace=True, axis=1)"
   ]
  },
  {
   "cell_type": "markdown",
   "metadata": {
    "pycharm": {
     "name": "#%% md\n"
    }
   },
   "source": [
    "## Add in Tab Color\n",
    "\n",
    "The colors of each tab are identified in 'get_spreadsheets_color.ipynb'. That script creates a CSV file and that is read in and added to the df_combined object"
   ]
  },
  {
   "cell_type": "markdown",
   "metadata": {
    "pycharm": {
     "name": "#%% md\n"
    }
   },
   "source": [
    "Read in the color match file created here:\n",
    "http://localhost:8888/notebooks/get_spreadsheets.ipynb\n",
    "\n",
    "use that to create the list of titles based on color of the tab"
   ]
  },
  {
   "cell_type": "code",
   "execution_count": null,
   "metadata": {
    "pycharm": {
     "name": "#%%\n"
    }
   },
   "outputs": [],
   "source": [
    "color_match_df = pd.read_csv('csv_files/color_match', sep='\\t')\n",
    "# color_match_df"
   ]
  },
  {
   "cell_type": "code",
   "execution_count": null,
   "metadata": {
    "pycharm": {
     "name": "#%%\n"
    }
   },
   "outputs": [],
   "source": [
    "df_combined_color = pd.merge(df_combined, color_match_df, on='BoxId')"
   ]
  },
  {
   "cell_type": "markdown",
   "metadata": {
    "pycharm": {
     "name": "#%% md\n"
    }
   },
   "source": [
    "## Analyze the Subject Matches\n",
    "\n",
    "The df_combined_color is the dataframe of parsed metadata from the spreadsheet\n",
    "The concepts object is the dataframe of parsed metadata from AAT\n",
    "\n",
    "The resulting merged dataframe is based on how they match against the \"join_concept\" or parsed indivdual subject being found in the AAT list"
   ]
  },
  {
   "cell_type": "code",
   "execution_count": null,
   "metadata": {
    "pycharm": {
     "name": "#%%\n"
    }
   },
   "outputs": [],
   "source": [
    "subjects_concat_merge = pd.merge(df_combined_color, concepts, how=\"left\", on='join_concept')"
   ]
  },
  {
   "cell_type": "code",
   "execution_count": null,
   "metadata": {
    "pycharm": {
     "name": "#%%\n"
    }
   },
   "outputs": [],
   "source": [
    "# pd.set_option(\"display.max_rows\", None, \"display.max_columns\", None)\n",
    "subjects_concat_merge[narrow_list]"
   ]
  },
  {
   "cell_type": "markdown",
   "metadata": {
    "pycharm": {
     "name": "#%% md\n"
    }
   },
   "source": [
    "## Display the Subjects that Aren't Matching an AAT Concept/Term"
   ]
  },
  {
   "cell_type": "markdown",
   "metadata": {
    "pycharm": {
     "name": "#%% md\n"
    }
   },
   "source": [
    "Identify unmatched concepts by identifying the ones that don't join on the TERM_ID"
   ]
  },
  {
   "cell_type": "code",
   "execution_count": null,
   "metadata": {
    "pycharm": {
     "name": "#%%\n"
    }
   },
   "outputs": [],
   "source": [
    "unmatched_concepts = subjects_concat_merge[subjects_concat_merge['TERM_ID'].isnull()][['color', 'subjects', 'media']]"
   ]
  },
  {
   "cell_type": "code",
   "execution_count": null,
   "metadata": {
    "pycharm": {
     "name": "#%%\n"
    }
   },
   "outputs": [],
   "source": [
    "# subjects_concat_merge.loc[:,['media', 'subjects']]"
   ]
  },
  {
   "cell_type": "code",
   "execution_count": null,
   "metadata": {
    "pycharm": {
     "name": "#%%\n"
    }
   },
   "outputs": [],
   "source": [
    "unmatched_concepts_by_color = unmatched_concepts.groupby(['color', 'subjects'])['media'].agg('count').reset_index()\n",
    "unmatched_concepts_by_color.to_csv('csv_files/unmatched_concepts_by_color.csv')\n",
    "# display(unmatched_concepts_by_color.sort_values('media', ascending=False))"
   ]
  },
  {
   "cell_type": "code",
   "execution_count": null,
   "metadata": {
    "pycharm": {
     "name": "#%%\n"
    }
   },
   "outputs": [],
   "source": [
    "# review examples of results\n",
    "\n",
    "sample = 'Inca'\n",
    "\n",
    "df_combined_color_drop = df_combined_color[df_combined_color['join_concept'].notna()]\n",
    "df_combined_color_drop = df_combined_color_drop[df_combined_color_drop['join_concept'].str.contains(sample)]\n",
    "df_combined_search = df_combined_color_drop[\n",
    "            ['media',\n",
    "            'subject',\n",
    "            'join_concept',\n",
    "            'BoxId',\n",
    "            'color']\n",
    "]\n",
    "df_combined_search\n"
   ]
  },
  {
   "cell_type": "markdown",
   "metadata": {
    "pycharm": {
     "name": "#%% md\n"
    }
   },
   "source": [
    "## Get translated Subjects from AAT Files"
   ]
  },
  {
   "cell_type": "code",
   "execution_count": null,
   "metadata": {
    "pycharm": {
     "name": "#%%\n"
    }
   },
   "outputs": [],
   "source": [
    "empty_term = subjects_concat_merge[subjects_concat_merge['TERM_ID'].isnull()]\n",
    "empty_term_n = empty_term[['subjects','media']].groupby(['subjects'])['media'] \\\n",
    "                                                .count() \\\n",
    "                                                .reset_index(name='count') \\\n",
    "                                                .sort_values(['count'], ascending=False)\n",
    "empty_term_n"
   ]
  },
  {
   "cell_type": "code",
   "execution_count": null,
   "metadata": {
    "pycharm": {
     "name": "#%%\n"
    }
   },
   "outputs": [],
   "source": [
    "alt_lang = (pd.merge(subjects_concat_merge, concepts, how='left', on='SUBJECT_ID_x'))\n",
    "alt_lang = alt_lang[\n",
    "    (alt_lang['PREFERRED_y_y'].isnull()) \n",
    "    | (alt_lang['PREFERRED_y_y'] == 'P')]"
   ]
  },
  {
   "cell_type": "code",
   "execution_count": null,
   "metadata": {
    "pycharm": {
     "name": "#%%\n"
    }
   },
   "outputs": [],
   "source": [
    "espanol_code = '70641'\n",
    "\n",
    "alt_lang_espanol = alt_lang[(alt_lang['LANGUAGE_CODE_y'] == espanol_code) \n",
    "                    | (alt_lang['LANGUAGE_CODE_y'].isnull())\n",
    "                   ]\n",
    "# alt_lang_espanol = alt_lang_espanol[alt_lang_espanol['media'] == 'A-2_Arquin_003_0349.jpg']\n",
    "alt_lang_espanol[alt_lang_list]"
   ]
  },
  {
   "cell_type": "markdown",
   "metadata": {
    "pycharm": {
     "name": "#%% md\n"
    }
   },
   "source": [
    "# Below is junk... "
   ]
  },
  {
   "cell_type": "markdown",
   "metadata": {
    "pycharm": {
     "name": "#%% md\n"
    }
   },
   "source": [
    "## Manipulate titles for translations"
   ]
  },
  {
   "cell_type": "markdown",
   "metadata": {
    "pycharm": {
     "name": "#%% md\n"
    }
   },
   "source": [
    "## Manipulate titles for translations"
   ]
  },
  {
   "cell_type": "code",
   "execution_count": null,
   "metadata": {
    "pycharm": {
     "name": "#%%\n"
    }
   },
   "outputs": [],
   "source": [
    "# get the count of unique titles\n",
    "count_of_titles = df_combined['title'].str.strip()\n",
    "count_of_titles = df_combined['title'].unique()\n",
    "count_of_titles = count_of_titles.tolist()\n",
    "len(count_of_titles)"
   ]
  },
  {
   "cell_type": "code",
   "execution_count": null,
   "metadata": {
    "pycharm": {
     "name": "#%%\n"
    }
   },
   "outputs": [],
   "source": [
    "# convert the list of unique titles to a dataframe and write to CSV so that they can be put into gSheet for translation\n",
    "count_of_titles_df = pd.DataFrame(count_of_titles)\n",
    "count_of_titles_df.to_csv('csv_files/titles.csv')"
   ]
  },
  {
   "cell_type": "markdown",
   "metadata": {
    "pycharm": {
     "name": "#%% md\n"
    }
   },
   "source": [
    "## Next Steps:\n",
    "\n",
    "1. ~~Generate list of unique titles (for Tuesday morning, June 14, 2022)~~\n",
    "1. Create an exceptions list for concepts containing commas (',') and reprocess accordingly\n",
    "1. ~~See if I can extract table label color and group by - otherwise, group exceptions list by box number~~\n",
    "1. Unmatched concepts list \n",
    "1. Unique subject list for translations\n",
    "\n",
    "## Meanwhile for Ethan\n",
    "\n",
    "1. Clean this up so that there is a load script\n",
    "1. Define a notebook that cleanly generates the things required from above\n",
    "\n",
    "## Where to work?\n",
    "\n",
    "1. Spreadsheet: Data Design: https://docs.google.com/spreadsheets/d/1LRbios7yQRo3aqCh0Es2Wiae_dicg_OtL-_yqP-Tb8I/edit#gid=1394255919\n",
    "\n"
   ]
  },
  {
   "cell_type": "code",
   "execution_count": null,
   "metadata": {
    "pycharm": {
     "name": "#%%\n"
    }
   },
   "outputs": [],
   "source": [
    "df_combined_color"
   ]
  },
  {
   "cell_type": "code",
   "execution_count": null,
   "metadata": {
    "pycharm": {
     "name": "#%%\n"
    }
   },
   "outputs": [],
   "source": [
    "df_combined_color = pd.merge(df_combined, color_match_df, on='BoxId')"
   ]
  },
  {
   "cell_type": "code",
   "execution_count": null,
   "metadata": {
    "pycharm": {
     "name": "#%%\n"
    }
   },
   "outputs": [],
   "source": [
    "df_combined_color"
   ]
  },
  {
   "cell_type": "markdown",
   "metadata": {
    "pycharm": {
     "name": "#%% md\n"
    }
   },
   "source": [
    "Experiment with splitting subjects that contain commas (',') e.g. \"serpent (general, animal)\" from box 61"
   ]
  },
  {
   "cell_type": "code",
   "execution_count": null,
   "metadata": {
    "pycharm": {
     "name": "#%%\n"
    }
   },
   "outputs": [],
   "source": [
    "df_combined_color_drop = df_combined_color[df_combined_color['join_concept'].notna()]\n",
    "df_combined_color_drop = df_combined_color_drop[df_combined_color_drop['join_concept'].str.contains('Inca \\(culture')]\n",
    "df_combined_search = df_combined_color_drop[\n",
    "            ['media',\n",
    "            'subject',\n",
    "            'join_concept',\n",
    "            'BoxId',\n",
    "            'color']\n",
    "]\n",
    "df_combined_search"
   ]
  },
  {
   "cell_type": "code",
   "execution_count": null,
   "metadata": {
    "pycharm": {
     "name": "#%%\n"
    }
   },
   "outputs": [],
   "source": [
    "test_string = 'serpents (general, animals)'"
   ]
  },
  {
   "cell_type": "code",
   "execution_count": null,
   "metadata": {
    "pycharm": {
     "name": "#%%\n"
    }
   },
   "outputs": [],
   "source": [
    "t = df_combined_search['subject'].to_list()[0]\n",
    "print(t)"
   ]
  },
  {
   "cell_type": "code",
   "execution_count": null,
   "metadata": {
    "pycharm": {
     "name": "#%%\n"
    }
   },
   "outputs": [],
   "source": [
    "test_string in t"
   ]
  },
  {
   "cell_type": "code",
   "execution_count": null,
   "metadata": {
    "pycharm": {
     "name": "#%%\n"
    }
   },
   "outputs": [],
   "source": []
  },
  {
   "cell_type": "code",
   "execution_count": null,
   "metadata": {
    "pycharm": {
     "name": "#%%\n"
    }
   },
   "outputs": [],
   "source": []
  },
  {
   "cell_type": "code",
   "execution_count": null,
   "metadata": {
    "pycharm": {
     "name": "#%%\n"
    }
   },
   "outputs": [],
   "source": [
    "for x in concepts_comma:\n",
    "    if x in t:\n",
    "        print(x)"
   ]
  },
  {
   "cell_type": "code",
   "execution_count": null,
   "metadata": {
    "pycharm": {
     "name": "#%%\n"
    }
   },
   "outputs": [],
   "source": [
    "media"
   ]
  },
  {
   "cell_type": "code",
   "execution_count": null,
   "metadata": {
    "pycharm": {
     "name": "#%%\n"
    }
   },
   "outputs": [],
   "source": [
    "\n",
    "\n",
    "df_replace = df.loc[df['media'] == 'G-4_Arquin_051_0379.jpg']\n",
    "x = df_replace.to_numpy()[0][3]\n",
    "x = x.replace(test_string, test_string.replace(',', '∆'))\n",
    "df.loc[df['media'] == 'G-4_Arquin_051_0379.jpg', 'subject'] = x"
   ]
  },
  {
   "cell_type": "code",
   "execution_count": null,
   "metadata": {
    "pycharm": {
     "name": "#%%\n"
    }
   },
   "outputs": [],
   "source": [
    "df2 = df\n",
    "df2.loc[df2[\"media\"] == \"G-4_Arquin_051_0379.jpg\", \"subject\"] = x"
   ]
  },
  {
   "cell_type": "code",
   "execution_count": null,
   "metadata": {
    "pycharm": {
     "name": "#%%\n"
    }
   },
   "outputs": [],
   "source": []
  },
  {
   "cell_type": "code",
   "execution_count": null,
   "metadata": {
    "pycharm": {
     "name": "#%%\n"
    }
   },
   "outputs": [],
   "source": [
    "df = "
   ]
  },
  {
   "cell_type": "code",
   "execution_count": null,
   "metadata": {
    "pycharm": {
     "name": "#%%\n"
    }
   },
   "outputs": [],
   "source": []
  },
  {
   "cell_type": "code",
   "execution_count": null,
   "metadata": {
    "pycharm": {
     "name": "#%%\n"
    }
   },
   "outputs": [],
   "source": [
    "for i, con in enumerate(concepts_comma):\n",
    "    if df['subject'].str.contains(con).any():\n",
    "        print(f'{i}: contains: {con}')"
   ]
  },
  {
   "cell_type": "code",
   "execution_count": null,
   "metadata": {
    "pycharm": {
     "name": "#%%\n"
    }
   },
   "outputs": [],
   "source": [
    "# concepts = concepts['use_concept']\n",
    "concepts_drop = concepts[concepts['use_concept'].notna()]"
   ]
  },
  {
   "cell_type": "markdown",
   "metadata": {
    "pycharm": {
     "name": "#%% md\n"
    }
   },
   "source": [
    "What's up with \"presidents' houses\"?"
   ]
  },
  {
   "cell_type": "code",
   "execution_count": null,
   "metadata": {
    "pycharm": {
     "name": "#%%\n"
    }
   },
   "outputs": [],
   "source": [
    "subjects_concat_merge"
   ]
  },
  {
   "cell_type": "code",
   "execution_count": null,
   "metadata": {
    "pycharm": {
     "name": "#%%\n"
    }
   },
   "outputs": [],
   "source": [
    "# df = df[df['Credit-Rating'].str.contains('Fair')]\n",
    "concepts_drop = concepts[concepts['use_concept'].notna()]\n",
    "concepts_drop = concepts_drop[concepts_drop['use_concept'].str.contains('presidents')]"
   ]
  },
  {
   "cell_type": "code",
   "execution_count": null,
   "metadata": {
    "pycharm": {
     "name": "#%%\n"
    }
   },
   "outputs": [],
   "source": [
    "df_combined_color_drop = df_combined_color[df_combined_color['join_concept'].notna()]\n",
    "df_combined_color_drop = df_combined_color_drop[df_combined_color_drop['join_concept'].str.contains('presidents')]\n",
    "df_combined_search = df_combined_color_drop[\n",
    "            ['media',\n",
    "            'subject',\n",
    "            'join_concept',\n",
    "            'BoxId',\n",
    "            'color']\n",
    "]\n",
    "df_combined_search."
   ]
  },
  {
   "cell_type": "markdown",
   "metadata": {
    "pycharm": {
     "name": "#%% md\n"
    }
   },
   "source": [
    "## Step through the process for replacing commas - for troubleshooting"
   ]
  },
  {
   "cell_type": "code",
   "execution_count": null,
   "metadata": {
    "pycharm": {
     "name": "#%%\n"
    }
   },
   "outputs": [],
   "source": [
    "df = return_box(51)"
   ]
  },
  {
   "cell_type": "code",
   "execution_count": null,
   "metadata": {
    "pycharm": {
     "name": "#%%\n"
    }
   },
   "outputs": [],
   "source": [
    "search_term = 'Inca (culture, general)'\n",
    "search_media = 'G-4_Arquin_051_0373.jpg'"
   ]
  },
  {
   "cell_type": "code",
   "execution_count": null,
   "metadata": {
    "pycharm": {
     "name": "#%%\n"
    }
   },
   "outputs": [],
   "source": [
    "x = df.loc[df['media'] == search_media]"
   ]
  },
  {
   "cell_type": "code",
   "execution_count": null,
   "metadata": {
    "pycharm": {
     "name": "#%%\n"
    }
   },
   "outputs": [],
   "source": [
    "# doesn't work for the example... \n",
    "y = check_for_commas(x)\n",
    "y = split_df(y)\n",
    "y"
   ]
  },
  {
   "cell_type": "code",
   "execution_count": null,
   "metadata": {
    "pycharm": {
     "name": "#%%\n"
    }
   },
   "outputs": [],
   "source": [
    "df_media_subject = {}\n",
    "df_media_subject = x.set_index('media').to_dict()['subject']\n",
    "df_media_subject"
   ]
  },
  {
   "cell_type": "code",
   "execution_count": null,
   "metadata": {
    "pycharm": {
     "name": "#%%\n"
    }
   },
   "outputs": [],
   "source": [
    "search_string = df_media_subject[search_media]\n",
    "search_string"
   ]
  },
  {
   "cell_type": "code",
   "execution_count": null,
   "metadata": {
    "pycharm": {
     "name": "#%%\n"
    }
   },
   "outputs": [],
   "source": [
    "search_term in concepts_comma"
   ]
  },
  {
   "cell_type": "code",
   "execution_count": null,
   "metadata": {
    "pycharm": {
     "name": "#%%\n"
    }
   },
   "outputs": [],
   "source": [
    "find_string = False\n",
    "\n",
    "comma_conc = search_term+','\n",
    "\n",
    "re_search_term = search_term.replace('(', '\\(')\n",
    "re_search_term = re_search_term.replace(')', '\\)')\n",
    "\n",
    "if re_conc in search_string:\n",
    "    find_string = True\n",
    "if bool(re.search(f'{re_search_term}$', search_string)):\n",
    "    find_string = True\n",
    "\n",
    "find_string"
   ]
  },
  {
   "cell_type": "code",
   "execution_count": null,
   "metadata": {
    "pycharm": {
     "name": "#%%\n"
    }
   },
   "outputs": [],
   "source": [
    "for i, media in enumerate(df_media_subject):\n",
    "    if media == search_media:\n",
    "        print(f'step 1: found media: {media})\n",
    "\n",
    "    for j, conc in enumerate(concepts_comma):\n",
    "        found_conc = False\n",
    "        comma_conc = conc+','\n",
    "    \n",
    "\n",
    "    try:\n",
    "        search_within = df_media_subject[media]\n",
    "        re_conc = conc.replace('(', '\\(')\n",
    "        re_conc = re_conc.replace(')', '\\)')\n",
    "\n",
    "        if comma_conc in search_within:\n",
    "            found_conc = True\n",
    "        if bool(re.search(f'{re_conc}$', search_within)):\n",
    "            found_conc = True\n",
    "\n",
    "        if found_conc:\n",
    "            now = datetime.now()\n",
    "            current_time = now.strftime(\"%m-%d-%y %H:%M:%S\")\n",
    "\n",
    "            log_list.append([f'{current_time}: {i}: {j}: {media} contains subject: {conc}'])\n",
    "#                 print(f'{i}: {j}: {media} contains subject: {conc}')\n",
    "            df_replace = df.loc[df['media'] == media]\n",
    "            try:\n",
    "                x = df_replace.to_numpy()[0][3]\n",
    "                x = x.replace(conc, conc.replace(',', '∆'))\n",
    "                df.loc[df['media'] == media, 'subject'] = x\n",
    "            except IndexError:\n",
    "                print(f'Index Error, media = {media}, subject = {x}')\n",
    "                break\n",
    "    except TypeError:\n",
    "        continue"
   ]
  },
  {
   "cell_type": "markdown",
   "metadata": {
    "pycharm": {
     "name": "#%% md\n"
    }
   },
   "source": [
    "Put the commas back"
   ]
  },
  {
   "cell_type": "code",
   "execution_count": null,
   "metadata": {
    "pycharm": {
     "name": "#%%\n"
    }
   },
   "outputs": [],
   "source": [
    "after_x = df.loc[df['media'] == search_media]\n",
    "after_x"
   ]
  },
  {
   "cell_type": "code",
   "execution_count": null,
   "metadata": {
    "pycharm": {
     "name": "#%%\n"
    }
   },
   "outputs": [],
   "source": [
    "search_within = df_media_subject[media]\n",
    "type(search_within)"
   ]
  },
  {
   "cell_type": "code",
   "execution_count": null,
   "metadata": {
    "pycharm": {
     "name": "#%%\n"
    }
   },
   "outputs": [],
   "source": [
    "y = check_for_commas(x)\n",
    "y = split_df(y)"
   ]
  },
  {
   "cell_type": "code",
   "execution_count": null,
   "metadata": {
    "pycharm": {
     "name": "#%%\n"
    }
   },
   "outputs": [],
   "source": [
    "y"
   ]
  },
  {
   "cell_type": "code",
   "execution_count": null,
   "metadata": {
    "pycharm": {
     "name": "#%%\n"
    }
   },
   "outputs": [],
   "source": [
    "z = y.loc[y['media'] == 'B-3_Arquin_010_0283.jpg']"
   ]
  }
 ],
 "metadata": {
  "kernelspec": {
   "display_name": "Python 3",
   "language": "python",
   "name": "python3"
  },
  "language_info": {
   "codemirror_mode": {
    "name": "ipython",
    "version": 3
   },
   "file_extension": ".py",
   "mimetype": "text/x-python",
   "name": "python",
   "nbconvert_exporter": "python",
   "pygments_lexer": "ipython3",
   "version": "3.8.8"
  }
 },
 "nbformat": 4,
 "nbformat_minor": 1
}