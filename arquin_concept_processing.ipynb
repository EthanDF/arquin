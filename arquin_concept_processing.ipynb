{
 "cells": [
  {
   "cell_type": "code",
   "execution_count": null,
   "metadata": {
    "pycharm": {
     "is_executing": true
    }
   },
   "outputs": [],
   "source": [
    "import pandas as pd\n",
    "from pandas import Series\n",
    "import numpy as np\n",
    "from gsheets import Sheets"
   ]
  },
  {
   "cell_type": "code",
   "execution_count": null,
   "metadata": {
    "pycharm": {
     "is_executing": true
    }
   },
   "outputs": [],
   "source": [
    "pd.set_option(\"display.max_rows\", 300)"
   ]
  },
  {
   "cell_type": "code",
   "execution_count": null,
   "metadata": {
    "pycharm": {
     "is_executing": true
    }
   },
   "outputs": [],
   "source": [
    "url = 'https://docs.google.com/spreadsheets/d/1LRbios7yQRo3aqCh0Es2Wiae_dicg_OtL-_yqP-Tb8I/edit#gid=1718343431'"
   ]
  },
  {
   "cell_type": "code",
   "execution_count": null,
   "metadata": {
    "pycharm": {
     "is_executing": true
    }
   },
   "outputs": [],
   "source": [
    "box_list = [1, 2, 3, 4, 5, 6, 7, 8, 9, 10, 11, 12, 13, 14, 15, 16, 17, 18, 19, 20, 21, 22, 23, 24, 25, 26, 40, 41, 42, 43, 51, 52, 53, 54, 55, 56, 58, 59, 60, 61, 62, 63, 64, 65, 69]\n",
    "# box_list = [3, 4]"
   ]
  },
  {
   "cell_type": "code",
   "execution_count": null,
   "metadata": {
    "pycharm": {
     "is_executing": true,
     "name": "#%%\n"
    }
   },
   "outputs": [],
   "source": [
    "terms_header_list = [\"AACR2_FLAG\", \"DISPLAY_DATE\", \"DISPLAY_NAME\", \"DISPLAY_ORDER\", \"END_DATE\", \"HISTORIC_FLAG\", \"OTHER_FLAGS\", \"PREFERRED\", \"START_DATE\", \"SUBJECT_ID\", \"TERM\", \"TERM_ID\", \"VERNACULAR\"]\n",
    "terms_dtype = {'TERM_ID': str, 'SUBJECT_ID' : str}\n",
    "lang_rels_header_list = [\"LANGUAGE_CODE\", \"PREFERRED\", \"SUBJECT_ID\", \"TERM_ID\", \"QUALIFIER\", \"TERM_TYPE\", \"PART_OF_SPEECH\", \"LANG_STAT\"]\n",
    "lang_rel_dtype = {'TERM_ID': str, 'SUBJECT_ID' : str, 'LANGUAGE_CODE': str}\n",
    "spreadsheet = ['identifier', 'media', 'subject', 'title', 'subjects', 'join_concept']\n",
    "narrow_list = ['identifier', 'media', 'subject', 'title', 'subjects', 'SUBJECT_ID_x', 'TERM_ID', 'join_concept']\n",
    "concept_list = ['PREFERRED_x', 'SUBJECT_ID_x', 'TERM', 'TERM_ID', 'LANGUAGE_CODE', 'QUALIFIER', 'LANG_STAT', 'use_concept', 'join_concept']\n",
    "alt_lang_list = ['identifier', 'media', 'subjects', 'SUBJECT_ID_x', 'TERM_ID_x', 'use_concept_x', 'LANGUAGE_CODE_y', 'PREFERRED_y_y', 'SUBJECT_ID_y_y', 'TERM_ID_y', 'use_concept_y']"
   ]
  },
  {
   "cell_type": "code",
   "execution_count": null,
   "metadata": {
    "pycharm": {
     "is_executing": true,
     "name": "#%%\n"
    }
   },
   "outputs": [],
   "source": [
    "def read_aat_terms(file_path: str, names: list, data_types: dict) -> pd.DataFrame:\n",
    "    data = pd.read_csv(file_path\n",
    "                       , sep = '\\t'\n",
    "                       , warn_bad_lines=True\n",
    "                       , error_bad_lines=False\n",
    "                       , names=names\n",
    "                       , dtype=data_types)\n",
    "    return data"
   ]
  },
  {
   "cell_type": "code",
   "execution_count": null,
   "metadata": {
    "pycharm": {
     "is_executing": true
    }
   },
   "outputs": [],
   "source": [
    "def format_column_names(df: pd.DataFrame) -> pd.DataFrame:\n",
    "    column_names = list(map(lambda x: x.strip().lower().replace(\"dcterms:\", \"\"), df.columns))\n",
    "    df = df.set_axis(column_names, axis=1, inplace=False)\n",
    "    return df"
   ]
  },
  {
   "cell_type": "code",
   "execution_count": null,
   "metadata": {
    "pycharm": {
     "is_executing": true
    }
   },
   "outputs": [],
   "source": [
    "def get_unique_subjects(box_number: int=1) -> list:\n",
    "    subjects = []\n",
    "    single_list = []\n",
    "    box_id = f'Box {box_number}'\n",
    "    try:\n",
    "        df = s.find(box_id).to_frame()\n",
    "        df = format_column_names(df)\n",
    "        subjects = df['subject'].unique().tolist()\n",
    "        for term in subjects:\n",
    "            split_terms = str(term).split(',')\n",
    "            for ind_term in split_terms:\n",
    "                single_list.append(ind_term.strip())\n",
    "    except:\n",
    "        print(f'ParserError: could not access {box_id}')\n",
    "\n",
    "    return single_list"
   ]
  },
  {
   "cell_type": "code",
   "execution_count": null,
   "metadata": {
    "pycharm": {
     "is_executing": true
    }
   },
   "outputs": [],
   "source": [
    "def combine_boxes(df1: pd.DataFrame, df2: pd.DataFrame) -> pd.DataFrame:\n",
    "    \"\"\"assuming df1 and df2 are dataframes with same schema, combines them and returns them\"\"\"\n",
    "    df_concat = pd.concat([df1, df2])\n",
    "    return df_concat"
   ]
  },
  {
   "cell_type": "code",
   "execution_count": null,
   "metadata": {
    "pycharm": {
     "is_executing": true
    }
   },
   "outputs": [],
   "source": [
    "def split_df(df: pd.DataFrame) -> pd.DataFrame:\n",
    "    \"\"\"given a dataframe with multiple concepts specified, splits them and returns them \n",
    "    as one row per concept\n",
    "    \"\"\"\n",
    "    split_df = df['subject'].str.split(',', expand=True).apply(Series, 1).stack()\n",
    "    split_df.index = split_df.index.droplevel(-1)\n",
    "    split_df.name = 'subjects'\n",
    "#     del df['subjects']\n",
    "    x = df.join(split_df)\n",
    "    x['subjects'] = x['subjects'].str.strip()\n",
    "    x['join_concept'] = x['subjects'].str.lower()\n",
    "    return x"
   ]
  },
  {
   "cell_type": "code",
   "execution_count": null,
   "metadata": {
    "pycharm": {
     "is_executing": true
    }
   },
   "outputs": [],
   "source": [
    "def load_metadata() -> pd.DataFrame:\n",
    "    \"\"\"load the metadata that will be used\"\"\"\n",
    "    terms = read_aat_terms('./AAT_Files/TERM.out', terms_header_list, terms_dtype)\n",
    "    lang_rels = read_aat_terms('./AAT_Files/LANGUAGE_RELS.out', lang_rels_header_list, lang_rel_dtype)\n",
    "    concepts = (pd.merge(terms, lang_rels, how = 'inner', on='TERM_ID'))\n",
    "    concepts['full_concept'] = (concepts.TERM + ' (' + concepts.QUALIFIER + ')')\n",
    "    concepts['use_concept'] = (concepts.full_concept.fillna(concepts.TERM))\n",
    "    concepts['join_concept'] = (concepts.use_concept.str.lower())\n",
    "    \n",
    "    \n",
    "    return concepts"
   ]
  },
  {
   "cell_type": "code",
   "execution_count": null,
   "metadata": {
    "pycharm": {
     "is_executing": true
    }
   },
   "outputs": [],
   "source": [
    "def return_box(box_num: int) -> pd.DataFrame:\n",
    "    box_id = f'Box {str(box_num)}'\n",
    "    df = s.find(box_id).to_frame()\n",
    "    df = format_column_names(df)\n",
    "    return df"
   ]
  },
  {
   "cell_type": "code",
   "execution_count": null,
   "metadata": {
    "pycharm": {
     "is_executing": true
    }
   },
   "outputs": [],
   "source": [
    "sheets = Sheets.from_files('~/client_secrets.json', '~/storage.json')\n",
    "s = sheets.get(url)"
   ]
  },
  {
   "cell_type": "code",
   "execution_count": null,
   "metadata": {
    "pycharm": {
     "is_executing": true
    }
   },
   "outputs": [],
   "source": [
    "for i, box_number in enumerate(box_list):\n",
    "    df = return_box(box_number)\n",
    "    try:\n",
    "        df = split_df(df)\n",
    "    except:\n",
    "        print(f'failed to split df for box number {box_number}')\n",
    "    if i+1 == 1:\n",
    "        df_combined = df\n",
    "    else:\n",
    "        df_combined = combine_boxes(df_combined, df)"
   ]
  },
  {
   "cell_type": "code",
   "execution_count": null,
   "metadata": {
    "pycharm": {
     "is_executing": true
    },
    "scrolled": true
   },
   "outputs": [],
   "source": [
    "items_with_subjects = len(df_combined[df_combined['subject'].notnull()])\n",
    "items_without_subjects = len(df_combined[df_combined['subject'].isnull()])\n",
    "total_items = len(df_combined)\n",
    "print(f'total items: {total_items}\\nitems with subjects {items_with_subjects}\\nitems without subjects {items_without_subjects}')\n",
    "unique_subjects = len(df_combined['subjects'].unique())\n",
    "print(f'there are {unique_subjects} unique subjects found')"
   ]
  },
  {
   "cell_type": "code",
   "execution_count": null,
   "metadata": {
    "pycharm": {
     "is_executing": true
    },
    "scrolled": true
   },
   "outputs": [],
   "source": [
    "df_combined[df_combined['media'] == 'Arquin_069_0026.jpg']"
   ]
  },
  {
   "cell_type": "code",
   "execution_count": null,
   "metadata": {
    "pycharm": {
     "is_executing": true
    }
   },
   "outputs": [],
   "source": [
    "len(df_combined[df_combined['media'] == 'A-2_Arquin_003_0349.jpg'])"
   ]
  },
  {
   "cell_type": "code",
   "execution_count": null,
   "metadata": {
    "pycharm": {
     "is_executing": true
    }
   },
   "outputs": [],
   "source": [
    "concepts = load_metadata()"
   ]
  },
  {
   "cell_type": "code",
   "execution_count": null,
   "metadata": {
    "pycharm": {
     "is_executing": true
    }
   },
   "outputs": [],
   "source": [
    "concepts.columns"
   ]
  },
  {
   "cell_type": "code",
   "execution_count": null,
   "metadata": {
    "pycharm": {
     "is_executing": true
    }
   },
   "outputs": [],
   "source": [
    "c = concepts[concepts['TERM'].notnull()][['TERM','SUBJECT_ID_x', 'TERM_ID', 'QUALIFIER', 'use_concept']]\n",
    "c[c['TERM_ID'].isin(['1000007466','1000290603'])]\n",
    "\n",
    "d = c[c['use_concept'] == 'churches (building)']\n",
    "d\n",
    "# d_item = d['use_concept'].item()\n",
    "# d_item\n",
    "# d"
   ]
  },
  {
   "cell_type": "code",
   "execution_count": null,
   "metadata": {
    "pycharm": {
     "is_executing": true
    }
   },
   "outputs": [],
   "source": []
  },
  {
   "cell_type": "code",
   "execution_count": null,
   "metadata": {
    "pycharm": {
     "is_executing": true
    }
   },
   "outputs": [],
   "source": [
    "subjects_concat_merge = pd.merge(df_combined, concepts, how=\"left\", on='join_concept')"
   ]
  },
  {
   "cell_type": "code",
   "execution_count": null,
   "metadata": {
    "pycharm": {
     "is_executing": true
    }
   },
   "outputs": [],
   "source": [
    "a = df_combined[df_combined['media']=='A-2_Arquin_003_0349.jpg']\n",
    "a_item = a[a['subjects'] == 'churches (building)']['subjects'].item()\n",
    "a_item"
   ]
  },
  {
   "cell_type": "code",
   "execution_count": null,
   "metadata": {
    "pycharm": {
     "is_executing": true
    }
   },
   "outputs": [],
   "source": [
    "d['use_concept'].item() == a[a['subjects'] == 'churches (building)']['subjects'].item()"
   ]
  },
  {
   "cell_type": "code",
   "execution_count": null,
   "metadata": {
    "pycharm": {
     "is_executing": true
    }
   },
   "outputs": [],
   "source": [
    "d_test = pd.merge(a, d, how='left', left_on='subjects', right_on='use_concept')\n",
    "d_test"
   ]
  },
  {
   "cell_type": "code",
   "execution_count": null,
   "metadata": {
    "pycharm": {
     "is_executing": true
    }
   },
   "outputs": [],
   "source": [
    "# pd.set_option(\"display.max_rows\", None, \"display.max_columns\", None)\n",
    "subjects_concat_merge[narrow_list]"
   ]
  },
  {
   "cell_type": "code",
   "execution_count": null,
   "metadata": {
    "pycharm": {
     "is_executing": true
    }
   },
   "outputs": [],
   "source": [
    "subjects_concat_merge[subjects_concat_merge['media']=='A-2_Arquin_003_0349.jpg'][narrow_list]"
   ]
  },
  {
   "cell_type": "code",
   "execution_count": null,
   "metadata": {
    "pycharm": {
     "is_executing": true
    }
   },
   "outputs": [],
   "source": [
    "unmatched_concepts = subjects_concat_merge[subjects_concat_merge['TERM_ID'].isnull()]['subjects']"
   ]
  },
  {
   "cell_type": "code",
   "execution_count": null,
   "metadata": {
    "pycharm": {
     "is_executing": true
    }
   },
   "outputs": [],
   "source": [
    "empty_term = subjects_concat_merge[subjects_concat_merge['TERM_ID'].isnull()]\n",
    "empty_term_n = empty_term[['subjects','media']].groupby(['subjects'])['media'] \\\n",
    "                                                .count() \\\n",
    "                                                .reset_index(name='count') \\\n",
    "                                                .sort_values(['count'], ascending=False)\n",
    "empty_term_n"
   ]
  },
  {
   "cell_type": "code",
   "execution_count": null,
   "metadata": {},
   "outputs": [],
   "source": [
    "alt_lang = (pd.merge(subjects_concat_merge, concepts, how='left', on='SUBJECT_ID_x'))\n",
    "alt_lang = alt_lang[\n",
    "    (alt_lang['PREFERRED_y_y'].isnull()) \n",
    "    | (alt_lang['PREFERRED_y_y'] == 'P')]"
   ]
  },
  {
   "cell_type": "code",
   "execution_count": null,
   "metadata": {},
   "outputs": [],
   "source": [
    "espanol_code = '70641'\n",
    "\n",
    "alt_lang_espanol = alt_lang[(alt_lang['LANGUAGE_CODE_y'] == espanol_code) \n",
    "                    | (alt_lang['LANGUAGE_CODE_y'].isnull())\n",
    "                   ]\n",
    "# alt_lang_espanol = alt_lang_espanol[alt_lang_espanol['media'] == 'A-2_Arquin_003_0349.jpg']\n",
    "alt_lang_espanol[alt_lang_list]"
   ]
  },
  {
   "cell_type": "code",
   "execution_count": null,
   "metadata": {},
   "outputs": [],
   "source": [
    "df_combined['title']"
   ]
  },
  {
   "cell_type": "code",
   "execution_count": null,
   "metadata": {},
   "outputs": [],
   "source": []
  }
 ],
 "metadata": {
  "kernelspec": {
   "display_name": "Python 3 (ipykernel)",
   "language": "python",
   "name": "python3"
  },
  "language_info": {
   "codemirror_mode": {
    "name": "ipython",
    "version": 3
   },
   "file_extension": ".py",
   "mimetype": "text/x-python",
   "name": "python",
   "nbconvert_exporter": "python",
   "pygments_lexer": "ipython3",
   "version": "3.9.7"
  }
 },
 "nbformat": 4,
 "nbformat_minor": 1
}